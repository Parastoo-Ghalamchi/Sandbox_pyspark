{
 "cells": [
  {
   "cell_type": "code",
   "execution_count": 16,
   "metadata": {},
   "outputs": [
    {
     "data": {
      "application/vnd.jupyter.widget-view+json": {
       "model_id": "21db947fb5a14e508df7bfeaf9a6fb5c",
       "version_major": 2,
       "version_minor": 0
      },
      "text/plain": [
       "VBox()"
      ]
     },
     "metadata": {},
     "output_type": "display_data"
    },
    {
     "data": {
      "application/vnd.jupyter.widget-view+json": {
       "model_id": "",
       "version_major": 2,
       "version_minor": 0
      },
      "text/plain": [
       "FloatProgress(value=0.0, bar_style='info', description='Progress:', layout=Layout(height='25px', width='50%'),…"
      ]
     },
     "metadata": {},
     "output_type": "display_data"
    }
   ],
   "source": [
    "from pyspark.sql import types as T\n",
    "from pyspark.sql import functions as F \n",
    "from pyspark.sql import DataFrame\n",
    "from pyspark.sql.functions import * \n",
    "from pyspark.sql.window import Window\n",
    "import sys"
   ]
  },
  {
   "cell_type": "code",
   "execution_count": null,
   "metadata": {},
   "outputs": [],
   "source": [
    "#steps:\n",
    "# Import the open, click, visit, unsubscribe and AIT for IJM, JA and WD at user level from Selligent through Sandbox (from 01-04-2020 until today)\n",
    "# Group the user level data on campaign type\n",
    "# visualize each group's KPIs in a comparative view"
   ]
  },
  {
   "cell_type": "code",
   "execution_count": 17,
   "metadata": {},
   "outputs": [
    {
     "data": {
      "application/vnd.jupyter.widget-view+json": {
       "model_id": "3dc01627535d48f5811d0c53b5d7ed81",
       "version_major": 2,
       "version_minor": 0
      },
      "text/plain": [
       "VBox()"
      ]
     },
     "metadata": {},
     "output_type": "display_data"
    },
    {
     "data": {
      "application/vnd.jupyter.widget-view+json": {
       "model_id": "",
       "version_major": 2,
       "version_minor": 0
      },
      "text/plain": [
       "FloatProgress(value=0.0, bar_style='info', description='Progress:', layout=Layout(height='25px', width='50%'),…"
      ]
     },
     "metadata": {},
     "output_type": "display_data"
    }
   ],
   "source": [
    "#email data \n",
    "#######################################################################################################################\n",
    "#selligent_df includes send, open, unique_open, click, unique_click from selligent for three campaigns IJM, JA, and WD\n",
    "    # date_trunc by 'week'---> change it to daily\n",
    "    # add JA click\n",
    "    \n",
    "#test the query for 3 days:\n",
    "# selligent_df.show(5)\n",
    "\n",
    "# +----------+-------+-------------+----+----------+-----------+------------+-------------+\n",
    "# |action_day|user_id|campaign_type|send|total_open|unique_open|total_clicks|unique_clicks|\n",
    "# +----------+-------+-------------+----+----------+-----------+------------+-------------+\n",
    "# |2020-08-25|5879114|       Others|   1|         0|          0|           0|            0|\n",
    "# |2020-08-25|3635261|       Others|   1|         0|          0|           0|            0|\n",
    "# |2020-08-25|7987656|       Others|   1|         0|          0|           0|            0|\n",
    "# |2020-08-25|5963783|           JA|   6|         0|          0|           0|            0|\n",
    "# |2020-08-25|5039172|           JA|   1|         1|          1|           0|            0|\n",
    "# +----------+-------+-------------+----+----------+-----------+------------+-------------+\n",
    "\n",
    "\n",
    "\n",
    "selligent_df = spark.sql(\"\"\"\n",
    "    SELECT\n",
    "        to_date(concat_ws('-', cast(year as string), cast(month as string), cast(day as string))) as action_day,\n",
    "        user_login_id as user_id,\n",
    "        campaign_type,\n",
    "        floor(sum(sent)) as send, \n",
    "        floor(sum(opened)) as total_open,\n",
    "        count(distinct case when opened > 0 then ditem_id end) as unique_open,\n",
    "        floor(sum(clicked)) as total_clicks,\n",
    "        count(distinct case when clicked > 0 then ditem_id end) as unique_clicks\n",
    "    FROM live_raw_selligent_de_stepstone.flags_enriched fe\n",
    "    WHERE  \n",
    "        (campaign_type in ('JA', 'IJM', 'WeeklyDigest')\n",
    "        or campaign_id in (95183, 95184)) \n",
    "        and year = 2020 \n",
    "        and month = 4\n",
    "        and day >= 1\n",
    "    GROUP BY action_day, campaign_type, user_id\"\"\").\\\n",
    "    union(spark.sql(\"\"\"\n",
    "    select\n",
    "        to_date(concat_ws('-', cast(year as string), cast(month as string), cast(day as string))) as action_day,\n",
    "        userlogin_id as user_id, \n",
    "        'JA' as campaign_type,\n",
    "        0 as send,\n",
    "        0 as total_open,\n",
    "        0 as unique_open,\n",
    "        count(*) as total_clicks,\n",
    "        count(distinct jaid) as unique_clicks\n",
    "    from stepstonede.jaclickofferid A\n",
    "    right join stepstonede.userlogin_jobuser B on A.jaid = B.jobuser_id\n",
    "    WHERE \n",
    "        year = 2020 \n",
    "        and month = 4\n",
    "        and day >= 1\n",
    "    group by action_day, campaign_type, user_id\n",
    "    \"\"\"))\n",
    "\n",
    "# selligent_df.show(5)\n",
    "# +----------+-------+-------------+----+----------+-----------+------------+-------------+\n",
    "# |action_day|user_id|campaign_type|send|total_open|unique_open|total_clicks|unique_clicks|\n",
    "# +----------+-------+-------------+----+----------+-----------+------------+-------------+\n",
    "# |2020-04-28|4629718|       Others|   0|         1|          1|           0|            0|\n",
    "# |2020-04-28|7990265|          IJM|   5|         0|          0|           0|            0|\n",
    "# |2020-04-28|8470140|          IJM|   3|         0|          0|           0|            0|\n",
    "# |2020-04-28|8878126|       Others|   1|         0|          0|           0|            0|\n",
    "# |2020-04-28|8336624|       Others|   1|         1|          1|           0|            0|\n",
    "# +----------+-------+-------------+----+----------+-----------+------------+-------------+\n"
   ]
  },
  {
   "cell_type": "code",
   "execution_count": 18,
   "metadata": {},
   "outputs": [
    {
     "data": {
      "application/vnd.jupyter.widget-view+json": {
       "model_id": "f7a76323d59143b68f677f8b2356bdeb",
       "version_major": 2,
       "version_minor": 0
      },
      "text/plain": [
       "VBox()"
      ]
     },
     "metadata": {},
     "output_type": "display_data"
    },
    {
     "data": {
      "application/vnd.jupyter.widget-view+json": {
       "model_id": "",
       "version_major": 2,
       "version_minor": 0
      },
      "text/plain": [
       "FloatProgress(value=0.0, bar_style='info', description='Progress:', layout=Layout(height='25px', width='50%'),…"
      ]
     },
     "metadata": {},
     "output_type": "display_data"
    }
   ],
   "source": [
    "#get unsubscribe data for url through presentation.hits_de\n",
    "    # Search for recognised_user_id in the table\n",
    "    # Filter on url\n",
    "###############################################################################################################################\n",
    "\n",
    "#unsubscribe data from website through presentation.hits_de, presentation.hits_android_global\n",
    "\n",
    "#notes:\n",
    "    #1.\n",
    "        #Internet irregularities, system irregularities, or the use of custom visitor IDs can rarely use \n",
    "        #the same visit_num values for different visits. Use visit_start_time_gmt when counting visits to make sure that these visits are counted.\n",
    "    #2.\n",
    "        #Count the number of rows where a value is in post_pagename or post_page_url\n",
    "        # Concatenate post_visid_high , post_visid_low , visit_num , and visit_start_time_gmt.\n",
    "        # Count the unique number of values.\n",
    "        \n",
    "        \n",
    "#1 add campaign dentifier: use post_campaign\n",
    "            # case when upper(AA.post_campaign) like 'JAJOB%' then 'JA' else\n",
    "            #             case when upper(AA.post_campaign) like 'IJM%' then 'IJM' else 'WeeklyDigest' end end as campaign_type  \n",
    "# 2. add AIT and listing view from hits_de: \n",
    "# 3: take a sample of users and check if they unsubscribed from what campaigns. \n",
    "        \n",
    "\n",
    "Website_unsub_visits_df = spark.sql(\"\"\"\n",
    "    select distinct \n",
    "          user_id, \n",
    "          user_hash, \n",
    "          job_agent_id, \n",
    "          to_date(visit_start_time_gmt) as visit_date\n",
    "    from presentation.hits_de AA\n",
    "    where (AA.p35_url like '%unsub%' or AA.p35_url like '%Unsub%')\n",
    "          and exclude_hit <= 0 \n",
    "          and year = 2020\n",
    "          and month >= 4\n",
    "          and day >= 1\n",
    "\n",
    "    union all\n",
    "\n",
    "    select distinct \n",
    "          user_id, \n",
    "          user_hash, \n",
    "          job_agent_id, \n",
    "          to_date(visit_start_time_gmt) as visit_date\n",
    "    from presentation.hits_android_global AA\n",
    "    where AA.job_site like '%-de' \n",
    "          and (AA.p35_url like '%unsub%' or AA.p35_url like '%Unsub%') \n",
    "          and exclude_hit <= 0 \n",
    "          and year = 2020\n",
    "          and month >= 4\n",
    "          and day >= 1\n",
    "\n",
    "    union all\n",
    "\n",
    "    select distinct \n",
    "          user_id, \n",
    "          user_hash, \n",
    "          job_agent_id, \n",
    "          to_date(visit_start_time_gmt) as visit_date\n",
    "    from presentation.hits_iphoneapp_global AA\n",
    "    where AA.job_site like '%-de' \n",
    "          and (AA.p35_url like '%unsub%' or AA.p35_url like '%Unsub%')\n",
    "          and exclude_hit <= 0 \n",
    "          and year = 2020\n",
    "          and month >= 4\n",
    "          and day >= 1\"\"\")\n",
    "\n",
    "# Website_unsub_visits_df.show(5)\n",
    "# +-------+--------------------+------------+----------+\n",
    "# |user_id|           user_hash|job_agent_id|visit_date|\n",
    "# +-------+--------------------+------------+----------+\n",
    "# |9418255|cb64310a-cb18-4ea...|        null|2020-08-27|\n",
    "# |9339154|8dfa7aa7-c837-4ea...|        null|2020-08-23|\n",
    "# |9378525|b80ef99f-cb7c-435...|        null|2020-08-23|\n",
    "# |7410858|67692f13-4b48-4a2...|    15461012|2020-08-23|\n",
    "# |4685972|e45a9f05-34d3-4cf...|    14469011|2020-08-23|\n",
    "# +-------+--------------------+------------+----------+\n",
    "\n",
    "\n",
    "Website_unsub_visits_df = Website_unsub_visits_df.groupBy(\"user_id\", \"visit_date\"). \\\n",
    "    agg(F.countDistinct(F.col(\"user_id\")).alias(\"recipient_unsub\"))\n",
    "\n",
    "\n",
    "#agg(F.countDistinct(F.col(\"user_id\"))\n",
    "#Website_unsub_visits_df.show(5)\n",
    "\n",
    "# +-------+----------+---------------+\n",
    "# |user_id|visit_date|recipient_unsub|\n",
    "# +-------+----------+---------------+\n",
    "# |3066967|2020-08-17|              1|\n",
    "# |5751319|2020-08-21|              1|\n",
    "# |8545543|2020-08-02|              1|\n",
    "# |2224437|2020-08-09|              1|\n",
    "# |8721124|2020-08-18|              1|\n",
    "# +-------+----------+---------------+"
   ]
  },
  {
   "cell_type": "code",
   "execution_count": 19,
   "metadata": {},
   "outputs": [
    {
     "data": {
      "application/vnd.jupyter.widget-view+json": {
       "model_id": "6658923d7197451b85bbbf826fb1dc12",
       "version_major": 2,
       "version_minor": 0
      },
      "text/plain": [
       "VBox()"
      ]
     },
     "metadata": {},
     "output_type": "display_data"
    },
    {
     "data": {
      "application/vnd.jupyter.widget-view+json": {
       "model_id": "",
       "version_major": 2,
       "version_minor": 0
      },
      "text/plain": [
       "FloatProgress(value=0.0, bar_style='info', description='Progress:', layout=Layout(height='25px', width='50%'),…"
      ]
     },
     "metadata": {},
     "output_type": "display_data"
    }
   ],
   "source": [
    "#visit and AIT data:\n",
    "#Visits\n",
    "    #Concatenate post_visid_high , post_visid_low , visit_num , and visit_start_time_gmt .\n",
    "    #Count the unique number of values.\n",
    "\n",
    "Website_visits_df = spark.sql(\"\"\"\n",
    "    select distinct \n",
    "          user_id, \n",
    "          user_hash, \n",
    "          job_agent_id, \n",
    "          to_date(visit_start_time_gmt) as visit_date,\n",
    "          visid_new as visit,\n",
    "          b2c_engaged_lv as AIT\n",
    "    from presentation.hits_de AA\n",
    "    where exclude_hit <= 0 \n",
    "          and year = 2020\n",
    "          and month >= 4\n",
    "          and day >= 1\n",
    "\n",
    "    union all\n",
    "\n",
    "    select distinct \n",
    "          user_id, \n",
    "          user_hash, \n",
    "          job_agent_id, \n",
    "          to_date(visit_start_time_gmt) as visit_date,\n",
    "          visid_new as visit,\n",
    "          b2c_engaged_lv as AIT\n",
    "    from presentation.hits_android_global AA\n",
    "    where AA.job_site like '%-de' \n",
    "          and exclude_hit <= 0 \n",
    "          and year = 2020\n",
    "          and month >= 4\n",
    "          and day >= 1\n",
    "\n",
    "    union all\n",
    "\n",
    "    select distinct \n",
    "          user_id, \n",
    "          user_hash, \n",
    "          job_agent_id, \n",
    "          to_date(visit_start_time_gmt) as visit_date,\n",
    "          visid_new as visit,\n",
    "          b2c_engaged_lv as AIT\n",
    "    from presentation.hits_iphoneapp_global AA\n",
    "    where AA.job_site like '%-de' \n",
    "          and exclude_hit <= 0 \n",
    "          and year = 2020\n",
    "          and month >= 4\n",
    "          and day >= 1\"\"\")\n",
    "\n",
    "#Website_visits_df.show(5)\n",
    "# +-------+--------------------+------------+----------+\n",
    "# |user_id|           user_hash|job_agent_id|visit_date|\n",
    "# +-------+--------------------+------------+----------+\n",
    "# |9418255|cb64310a-cb18-4ea...|        null|2020-08-27|\n",
    "# |9339154|8dfa7aa7-c837-4ea...|        null|2020-08-23|\n",
    "# |9378525|b80ef99f-cb7c-435...|        null|2020-08-23|\n",
    "# |7410858|67692f13-4b48-4a2...|    15461012|2020-08-23|\n",
    "# |4685972|e45a9f05-34d3-4cf...|    14469011|2020-08-23|\n",
    "# +-------+--------------------+------------+----------+\n",
    "\n",
    "\n",
    "Website_visits_df = Website_visits_df.groupBy(\"user_id\", \"visit\", \"visit_date\", \"AIT\"). \\\n",
    "    agg(F.countDistinct(F.col(\"visit\")).alias(\"visit_total\"))\n",
    "\n",
    "\n",
    "Website_visits_df = Website_visits_df.groupBy(\"user_id\", \"visit\", \"visit_date\", \"visit_total\", \"AIT\"). \\\n",
    "    agg(F.countDistinct(F.col(\"AIT\")).alias(\"AIT_total\"))\n",
    "\n",
    " \n",
    "\n",
    "#agg(F.countDistinct(F.col(\"user_id\"))\n",
    "# Website_visits_df.show(5)\n",
    "# +-------+-----+----------+-----------+-----+---------+\n",
    "# |user_id|visit|visit_date|visit_total|  AIT|AIT_total|\n",
    "# +-------+-----+----------+-----------+-----+---------+\n",
    "# |9422927|    0|2020-09-01|          1|false|        1|\n",
    "# |2721783|    0|2020-08-26|          1| true|        1|\n",
    "# |8925054|    0|2020-08-26|          1|false|        1|\n",
    "# |9325477|    0|2020-08-26|          1|false|        1|\n",
    "# |3059747|    0|2020-04-14|          1|false|        1|\n",
    "# +-------+-----+----------+-----------+-----+---------+"
   ]
  },
  {
   "cell_type": "code",
   "execution_count": 20,
   "metadata": {},
   "outputs": [
    {
     "data": {
      "application/vnd.jupyter.widget-view+json": {
       "model_id": "4b73e01ee31541e5a6da1f313ed6edec",
       "version_major": 2,
       "version_minor": 0
      },
      "text/plain": [
       "VBox()"
      ]
     },
     "metadata": {},
     "output_type": "display_data"
    },
    {
     "data": {
      "application/vnd.jupyter.widget-view+json": {
       "model_id": "",
       "version_major": 2,
       "version_minor": 0
      },
      "text/plain": [
       "FloatProgress(value=0.0, bar_style='info', description='Progress:', layout=Layout(height='25px', width='50%'),…"
      ]
     },
     "metadata": {},
     "output_type": "display_data"
    }
   ],
   "source": [
    "Website_visits_unsub_df = Website_visits_df.join(Website_unsub_visits_df, \"user_id\", \"left\").distinct()\n",
    "\n",
    "# Website_visits_unsub_df.show(5)\n",
    "# +-------+-----+----------+-----------+-----+---------+----------+---------------+\n",
    "# |user_id|visit|visit_date|visit_total|  AIT|AIT_total|visit_date|recipient_unsub|\n",
    "# +-------+-----+----------+-----------+-----+---------+----------+---------------+\n",
    "# | 100320|    1|2020-07-21|          1|false|        1|      null|           null|\n",
    "# |1005313|    1|2020-07-20|          1|false|        1|2020-06-16|              1|\n",
    "# |1005313|    0|2020-07-27|          1|false|        1|2020-06-16|              1|\n",
    "# |1005313|    1|2020-08-14|          1|false|        1|2020-06-16|              1|\n",
    "# |1005313|    0|2020-06-15|          1|false|        1|2020-06-16|              1|\n",
    "# +-------+-----+----------+-----------+-----+---------+----------+---------------+"
   ]
  },
  {
   "cell_type": "code",
   "execution_count": 39,
   "metadata": {},
   "outputs": [
    {
     "data": {
      "application/vnd.jupyter.widget-view+json": {
       "model_id": "3436cebb3bdb470a8166df87bfba9479",
       "version_major": 2,
       "version_minor": 0
      },
      "text/plain": [
       "VBox()"
      ]
     },
     "metadata": {},
     "output_type": "display_data"
    },
    {
     "data": {
      "application/vnd.jupyter.widget-view+json": {
       "model_id": "",
       "version_major": 2,
       "version_minor": 0
      },
      "text/plain": [
       "FloatProgress(value=0.0, bar_style='info', description='Progress:', layout=Layout(height='25px', width='50%'),…"
      ]
     },
     "metadata": {},
     "output_type": "display_data"
    },
    {
     "name": "stdout",
     "output_type": "stream",
     "text": [
      "+-------+----------+---------------+-----------+---------+-------------+----+-----------+-------------+---------+---------------------+-----------------------+\n",
      "|user_id|action_day|recipient_unsub|visit_total|AIT_total|campaign_type|send|unique_open|unique_clicks|recipient|recipient_unique_open|recipient_unique_clicks|\n",
      "+-------+----------+---------------+-----------+---------+-------------+----+-----------+-------------+---------+---------------------+-----------------------+\n",
      "|1005313|2020-04-03|              1|          1|        1|           JA|   1|          1|            0|       14|                   14|                      0|\n",
      "|1005313|2020-04-16|              1|          1|        1|           JA|   1|          1|            0|       14|                   14|                      0|\n",
      "|1005313|2020-04-01|              1|          1|        1|           JA|   1|          1|            0|       14|                   14|                      0|\n",
      "|1005313|2020-04-05|              1|          1|        1|           JA|   1|          1|            0|       14|                   14|                      0|\n",
      "|1005313|2020-04-13|              1|          1|        1|           JA|   1|          1|            0|       14|                   14|                      0|\n",
      "+-------+----------+---------------+-----------+---------+-------------+----+-----------+-------------+---------+---------------------+-----------------------+\n",
      "only showing top 5 rows"
     ]
    }
   ],
   "source": [
    "#join selligant and website traffic and groupby:\n",
    "\n",
    "selligant_website_recipient_df = selligent_df.join(Website_visits_unsub_df, \"user_id\", \"left\").distinct().\\\n",
    "    groupBy(\"user_id\", \"action_day\", \"recipient_unsub\", \"visit_total\", \"AIT_total\", \"campaign_type\", \"send\", \"unique_open\", \"unique_clicks\"). \\\n",
    "    agg(F.sum(F.col(\"send\")).alias(\"recipient\"),\n",
    "        F.sum(F.col(\"unique_open\")).alias(\"recipient_unique_open\"),\n",
    "        F.sum(F.col(\"unique_clicks\")).alias(\"recipient_unique_clicks\"))\n",
    "\n",
    "\n",
    "# selligant_website_recipient_df.show(5)\n",
    "# +-------+----------+---------------+-----------+---------+-------------+----+-----------+-------------+---------+---------------------+-----------------------+\n",
    "# |user_id|action_day|recipient_unsub|visit_total|AIT_total|campaign_type|send|unique_open|unique_clicks|recipient|recipient_unique_open|recipient_unique_clicks|\n",
    "# +-------+----------+---------------+-----------+---------+-------------+----+-----------+-------------+---------+---------------------+-----------------------+\n",
    "# |1005313|2020-04-03|              1|          1|        1|           JA|   1|          1|            0|       14|                   14|                      0|\n",
    "# |1005313|2020-04-16|              1|          1|        1|           JA|   1|          1|            0|       14|                   14|                      0|\n",
    "# |1005313|2020-04-01|              1|          1|        1|           JA|   1|          1|            0|       14|                   14|                      0|\n",
    "# |1005313|2020-04-05|              1|          1|        1|           JA|   1|          1|            0|       14|                   14|                      0|\n",
    "# |1005313|2020-04-13|              1|          1|        1|           JA|   1|          1|            0|       14|                   14|                      0|\n",
    "# +-------+----------+---------------+-----------+---------+-------------+----+-----------+-------------+---------+---------------------+-----------------------+\n"
   ]
  },
  {
   "cell_type": "code",
   "execution_count": 40,
   "metadata": {},
   "outputs": [
    {
     "data": {
      "application/vnd.jupyter.widget-view+json": {
       "model_id": "2449b039a024447c8d433572e2057c1e",
       "version_major": 2,
       "version_minor": 0
      },
      "text/plain": [
       "VBox()"
      ]
     },
     "metadata": {},
     "output_type": "display_data"
    },
    {
     "data": {
      "application/vnd.jupyter.widget-view+json": {
       "model_id": "",
       "version_major": 2,
       "version_minor": 0
      },
      "text/plain": [
       "FloatProgress(value=0.0, bar_style='info', description='Progress:', layout=Layout(height='25px', width='50%'),…"
      ]
     },
     "metadata": {},
     "output_type": "display_data"
    },
    {
     "name": "stdout",
     "output_type": "stream",
     "text": [
      "+-----------------------------+-------+--------+\n",
      "|campaign_type_recipient_unsub|      1|    null|\n",
      "+-----------------------------+-------+--------+\n",
      "|                           JA|2091415|26079529|\n",
      "|                          IJM|1554011|13348854|\n",
      "|                       Others|  97576|  816796|\n",
      "+-----------------------------+-------+--------+"
     ]
    }
   ],
   "source": [
    "#unsubscribe per recipient for compaign groups:\n",
    "selligant_website_recipient_df.crosstab(\"campaign_type\", \"recipient_unsub\").show()\n"
   ]
  },
  {
   "cell_type": "code",
   "execution_count": null,
   "metadata": {},
   "outputs": [],
   "source": []
  }
 ],
 "metadata": {
  "kernelspec": {
   "display_name": "PySpark",
   "language": "",
   "name": "pysparkkernel"
  },
  "language_info": {
   "codemirror_mode": {
    "name": "python",
    "version": 2
   },
   "mimetype": "text/x-python",
   "name": "pyspark",
   "pygments_lexer": "python2"
  }
 },
 "nbformat": 4,
 "nbformat_minor": 4
}
