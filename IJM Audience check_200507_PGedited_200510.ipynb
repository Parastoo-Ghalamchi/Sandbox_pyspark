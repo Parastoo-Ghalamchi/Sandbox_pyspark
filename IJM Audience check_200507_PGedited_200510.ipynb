{
 "cells": [
  {
   "cell_type": "code",
   "execution_count": 1,
   "metadata": {},
   "outputs": [
    {
     "data": {
      "application/vnd.jupyter.widget-view+json": {
       "model_id": "b38540c14bfa4f1aa501461bfcc7a9ce",
       "version_major": 2,
       "version_minor": 0
      },
      "text/plain": [
       "VBox()"
      ]
     },
     "metadata": {},
     "output_type": "display_data"
    },
    {
     "name": "stdout",
     "output_type": "stream",
     "text": [
      "Starting Spark application\n"
     ]
    },
    {
     "data": {
      "text/html": [
       "<table>\n",
       "<tr><th>ID</th><th>YARN Application ID</th><th>Kind</th><th>State</th><th>Spark UI</th><th>Driver log</th><th>Current session?</th></tr><tr><td>54</td><td>application_1588792046371_0175</td><td>pyspark</td><td>idle</td><td><a target=\"_blank\" href=\"http://ip-10-249-19-34.gc.stepstone.com:20888/proxy/application_1588792046371_0175/\">Link</a></td><td><a target=\"_blank\" href=\"http://ip-10-249-19-110.gc.stepstone.com:8042/node/containerlogs/container_e01_1588792046371_0175_01_000001/assumed-role_assume_role_DC_AWS_GC_DW_DATA_SCIENCE_BASIC_Parastoo_Ghalamchi_stepstone_com\">Link</a></td><td>✔</td></tr></table>"
      ],
      "text/plain": [
       "<IPython.core.display.HTML object>"
      ]
     },
     "metadata": {},
     "output_type": "display_data"
    },
    {
     "data": {
      "application/vnd.jupyter.widget-view+json": {
       "model_id": "",
       "version_major": 2,
       "version_minor": 0
      },
      "text/plain": [
       "FloatProgress(value=0.0, bar_style='info', description='Progress:', layout=Layout(height='25px', width='50%'),…"
      ]
     },
     "metadata": {},
     "output_type": "display_data"
    },
    {
     "name": "stdout",
     "output_type": "stream",
     "text": [
      "SparkSession available as 'spark'.\n"
     ]
    },
    {
     "data": {
      "application/vnd.jupyter.widget-view+json": {
       "model_id": "",
       "version_major": 2,
       "version_minor": 0
      },
      "text/plain": [
       "FloatProgress(value=0.0, bar_style='info', description='Progress:', layout=Layout(height='25px', width='50%'),…"
      ]
     },
     "metadata": {},
     "output_type": "display_data"
    }
   ],
   "source": [
    "from pyspark.sql import types as T\n",
    "from pyspark.sql import functions as F \n",
    "from pyspark.sql import DataFrame\n",
    "from pyspark.sql.functions import * \n",
    "from pyspark.sql.window import Window\n",
    "import sys\n",
    "\n",
    "# from pyspark.sql.types import IntegerType\n",
    "# from pyspark.sql.functions import first"
   ]
  },
  {
   "cell_type": "code",
   "execution_count": 2,
   "metadata": {},
   "outputs": [
    {
     "data": {
      "application/vnd.jupyter.widget-view+json": {
       "model_id": "739e665c7b4142f7b245b67ac09b697f",
       "version_major": 2,
       "version_minor": 0
      },
      "text/plain": [
       "VBox()"
      ]
     },
     "metadata": {},
     "output_type": "display_data"
    },
    {
     "data": {
      "application/vnd.jupyter.widget-view+json": {
       "model_id": "",
       "version_major": 2,
       "version_minor": 0
      },
      "text/plain": [
       "FloatProgress(value=0.0, bar_style='info', description='Progress:', layout=Layout(height='25px', width='50%'),…"
      ]
     },
     "metadata": {},
     "output_type": "display_data"
    }
   ],
   "source": [
    "# Table 1A+1B+2 \n",
    "registrations_raw = spark.sql(\"\"\"\n",
    "    select \n",
    "        UID.id as user_id\n",
    "        , to_date(dcreated) as reg_date\n",
    "        , passwordset\n",
    "        , subscriptionid\n",
    "        , to_date(subscriptiondate) as sub_date\n",
    "        , isactive\n",
    "        , manualunsubscribe\n",
    "        , to_date(logdatetime) as log_date\n",
    "        , logaction\n",
    "        , count(logdatetime) as n_events\n",
    "    from stepstonede.userlogin UID\n",
    "    left join stepstonede.subscription SUB\n",
    "    on UID.id = SUB.userlogin_id\n",
    "    left join stepstonede.logmystst LOG\n",
    "    on \n",
    "        UID.id = LOG.userloginid \n",
    "        and logaction in (\"MyStSt,AccountValidation\",\"AUM,AccountValidation\", \"AUM,confirmation\", \"IJM, subscription\", \"SIM_LastOpen\", \"IJM, autodeactivate\", \"IJM, autoactivate\", \n",
    "            \"IJM, Manual Deactivate\", \"IJM, activation\", \"IJM, unsubscription\", \"JA,activation\") --- added \"JA,activation\" and \"AUM,confirmation\" \n",
    "    where\n",
    "        dcreated >= '2020-01-01' \n",
    "    group by\n",
    "        UID.id \n",
    "        , reg_date\n",
    "        , passwordset\n",
    "        , subscriptionid\n",
    "        , sub_date\n",
    "        , isactive\n",
    "        , manualunsubscribe\n",
    "        , log_date\n",
    "        , logaction\n",
    "    order by reg_date, log_date\"\"\")\n",
    "\n",
    "\n",
    "#\"JA,activation\" added to logaction list"
   ]
  },
  {
   "cell_type": "code",
   "execution_count": null,
   "metadata": {},
   "outputs": [
    {
     "data": {
      "application/vnd.jupyter.widget-view+json": {
       "model_id": "cf4a055c88cb403fa192388e9cbc0290",
       "version_major": 2,
       "version_minor": 0
      },
      "text/plain": [
       "VBox()"
      ]
     },
     "metadata": {},
     "output_type": "display_data"
    },
    {
     "data": {
      "application/vnd.jupyter.widget-view+json": {
       "model_id": "c5e6d10812824592ae8e5821ff45a9b8",
       "version_major": 2,
       "version_minor": 0
      },
      "text/plain": [
       "FloatProgress(value=0.0, bar_style='info', description='Progress:', layout=Layout(height='25px', width='50%'),…"
      ]
     },
     "metadata": {},
     "output_type": "display_data"
    }
   ],
   "source": [
    "# New: these are the ratios i spoke about - count of distinct user id values\n",
    "registrations_raw.agg(F.countDistinct(\"user_id\").alias(\"registrations\"),\n",
    "                      F.countDistinct(F.when(F.col(\"logaction\").isin([\"MyStSt,AccountValidation\",\"AUM,AccountValidation\",\"JA, activation\",\"AUM,confirmation\"]), F.col(\"user_id\"))).alias(\"accountactivation\"),\n",
    "                      F.countDistinct(F.when(F.col(\"logaction\").isin([\"IJM, subscription\"]), F.col(\"user_id\"))).alias(\"IJMSubscription\"),\n",
    "                      F.countDistinct(F.when(F.col(\"logaction\").isin([\"IJM, unsubscription\"]), F.col(\"user_id\"))).alias(\"IJMunsubscribe\"),\n",
    "                      F.countDistinct(F.when(F.col(\"logaction\").isin([\"IJM, autoactivate\"]), F.col(\"user_id\"))).alias(\"IJMautoactivation\"),\n",
    "                      F.countDistinct(F.when(F.col(\"logaction\").isin([\"IJM, autodeactivate\"]), F.col(\"user_id\"))).alias(\"IJMautodeactivation\"),\n",
    "                      F.countDistinct(F.when(F.col(\"logaction\").isin([\"IJM, Manual Deactivate\"]), F.col(\"user_id\"))).alias(\"IJMManualDeactivation\"),\n",
    "                      F.countDistinct(F.when(F.col(\"logaction\").isin([\"IJM, activation\"]), F.col(\"user_id\"))).alias(\"IJMactivation\")).show()\n",
    "# from this we get ratios to validate:\n",
    "# - Account activations = 253000/400225 = 63% this seems to be OK\n",
    "# - IJMSubscriptions = 232952 / 400225 = this seems about right + check against subscription table\n",
    "# - IJMunsubscribe = 22 this number is much too low! This log doesnt seem to be written correctly\n",
    "# - IJMautoactivation = roughly 1/4 of registrations: seems very low\n",
    "# - IJMautodeactivation - similar magnitude as IJMautoactivation - does seem to make sense\n",
    "# - IJMactivation - does not seem to be used anymore"
   ]
  },
  {
   "cell_type": "code",
   "execution_count": 4,
   "metadata": {},
   "outputs": [
    {
     "data": {
      "application/vnd.jupyter.widget-view+json": {
       "model_id": "c06fb3a1ca004c3dbffecb4b57ad6fcd",
       "version_major": 2,
       "version_minor": 0
      },
      "text/plain": [
       "VBox()"
      ]
     },
     "metadata": {},
     "output_type": "display_data"
    },
    {
     "data": {
      "application/vnd.jupyter.widget-view+json": {
       "model_id": "",
       "version_major": 2,
       "version_minor": 0
      },
      "text/plain": [
       "FloatProgress(value=0.0, bar_style='info', description='Progress:', layout=Layout(height='25px', width='50%'),…"
      ]
     },
     "metadata": {},
     "output_type": "display_data"
    },
    {
     "name": "stdout",
     "output_type": "stream",
     "text": [
      "+-------------+-----------------+---------------+--------------+-----------------+-------------------+---------------------+-------------+\n",
      "|registrations|accountactivation|IJMSubscription|IJMunsubscribe|IJMautoactivation|IJMautodeactivation|IJMManualDeactivation|IJMactivation|\n",
      "+-------------+-----------------+---------------+--------------+-----------------+-------------------+---------------------+-------------+\n",
      "|       411564|           256165|         244069|         42723|            96508|              96458|                    0|            0|\n",
      "+-------------+-----------------+---------------+--------------+-----------------+-------------------+---------------------+-------------+"
     ]
    }
   ],
   "source": [
    "# here with changed logic for IJM subscription and IJMunsubscribe\n",
    "registrations_raw.agg(F.countDistinct(\"user_id\").alias(\"registrations\"),\n",
    "                      F.countDistinct(F.when(F.col(\"logaction\").isin([\"MyStSt,AccountValidation\",\"AUM,AccountValidation\",\"JA, activation\",\"AUM,confirmation\"]), F.col(\"user_id\"))).alias(\"accountactivation\"),\n",
    "                      F.countDistinct(F.when(F.col(\"subscriptionid\").isNotNull(), F.col(\"user_id\"))).alias(\"IJMSubscription\"),\n",
    "                      F.countDistinct(F.when(F.col(\"manualunsubscribe\") == True, F.col(\"user_id\"))).alias(\"IJMunsubscribe\"),\n",
    "                      F.countDistinct(F.when(F.col(\"logaction\").isin([\"IJM, autoactivate\"]), F.col(\"user_id\"))).alias(\"IJMautoactivation\"),\n",
    "                      F.countDistinct(F.when(F.col(\"logaction\").isin([\"IJM, autodeactivate\"]), F.col(\"user_id\"))).alias(\"IJMautodeactivation\"),\n",
    "                      F.countDistinct(F.when(F.col(\"logaction\").isin([\"IJM, Manual Deactivate\"]), F.col(\"user_id\"))).alias(\"IJMManualDeactivation\"),\n",
    "                      F.countDistinct(F.when(F.col(\"logaction\").isin([\"IJM, activation\"]), F.col(\"user_id\"))).alias(\"IJMactivation\")).show()\n",
    "# ijm subscription yields similar number as above - so both logmystst and subscription table seem to be ok to use\n",
    "# ijm unsubscription captured in subscription table - but not sure if we can find a timestamp for this? we know from another analysis that majority of unsubscribes are done on day 1 of receiving an email, \n",
    "# so we could use subscription date as the unsubscribe date"
   ]
  },
  {
   "cell_type": "code",
   "execution_count": 5,
   "metadata": {},
   "outputs": [
    {
     "data": {
      "application/vnd.jupyter.widget-view+json": {
       "model_id": "41b0843c29314e90a2de8d26f87bb7b5",
       "version_major": 2,
       "version_minor": 0
      },
      "text/plain": [
       "VBox()"
      ]
     },
     "metadata": {},
     "output_type": "display_data"
    },
    {
     "data": {
      "application/vnd.jupyter.widget-view+json": {
       "model_id": "",
       "version_major": 2,
       "version_minor": 0
      },
      "text/plain": [
       "FloatProgress(value=0.0, bar_style='info', description='Progress:', layout=Layout(height='25px', width='50%'),…"
      ]
     },
     "metadata": {},
     "output_type": "display_data"
    }
   ],
   "source": [
    "# Conclusions:\n",
    "# we assume account validation is stored correctly in logactions [\"MyStSt,AccountValidation\",\"AUM,AccountValidation\",\"JA, activation\",\"AUM,confirmation\"]\n",
    "# we take the IJM subscription information from logactions\n",
    "# we take the IJM unsubscribe action from the subscription table and assume the unsubscribe happens on the day of the subscription\n",
    "# we include ijmautoactivation and ijmdeactivation in the analysis"
   ]
  },
  {
   "cell_type": "code",
   "execution_count": 3,
   "metadata": {},
   "outputs": [
    {
     "data": {
      "application/vnd.jupyter.widget-view+json": {
       "model_id": "be6f0c6ea47447f990ce41a40680b638",
       "version_major": 2,
       "version_minor": 0
      },
      "text/plain": [
       "VBox()"
      ]
     },
     "metadata": {},
     "output_type": "display_data"
    },
    {
     "data": {
      "application/vnd.jupyter.widget-view+json": {
       "model_id": "",
       "version_major": 2,
       "version_minor": 0
      },
      "text/plain": [
       "FloatProgress(value=0.0, bar_style='info', description='Progress:', layout=Layout(height='25px', width='50%'),…"
      ]
     },
     "metadata": {},
     "output_type": "display_data"
    }
   ],
   "source": [
    "#UPDATED!!!\n",
    "# Table 2: validated accounts\n",
    "registration_df = registrations_raw.select(\"user_id\", \"reg_date\").distinct().\\\n",
    "    join(registrations_raw.select(\"user_id\", \"logaction\", \"log_date\"). \\\n",
    "        filter(F.col(\"logaction\").isin([\"MyStSt,AccountValidation\",\"AUM,AccountValidation\",\"JA, activation\",\"AUM,confirmation\"])). \\\n",
    "        groupBy(\"user_id\"). \\\n",
    "        agg(F.min(\"log_date\").alias(\"AccountValidation\")), \"user_id\", \"left\")\n"
   ]
  },
  {
   "cell_type": "code",
   "execution_count": 4,
   "metadata": {},
   "outputs": [
    {
     "data": {
      "application/vnd.jupyter.widget-view+json": {
       "model_id": "c4e874c68ebf4ce6a0eec8cdffb8cef5",
       "version_major": 2,
       "version_minor": 0
      },
      "text/plain": [
       "VBox()"
      ]
     },
     "metadata": {},
     "output_type": "display_data"
    },
    {
     "data": {
      "application/vnd.jupyter.widget-view+json": {
       "model_id": "",
       "version_major": 2,
       "version_minor": 0
      },
      "text/plain": [
       "FloatProgress(value=0.0, bar_style='info', description='Progress:', layout=Layout(height='25px', width='50%'),…"
      ]
     },
     "metadata": {},
     "output_type": "display_data"
    },
    {
     "name": "stdout",
     "output_type": "stream",
     "text": [
      "+------+------------------+\n",
      "|  regs|validated_accounts|\n",
      "+------+------------------+\n",
      "|430867|            260605|\n",
      "+------+------------------+"
     ]
    }
   ],
   "source": [
    "#CHECK!\n",
    "registration_df.agg(F.countDistinct(\"user_id\").alias(\"regs\"),\n",
    "                    F.countDistinct(F.when(F.col(\"AccountValidation\").isNotNull(), F.col(\"user_id\"))).alias(\"validated_accounts\")).show()"
   ]
  },
  {
   "cell_type": "code",
   "execution_count": 4,
   "metadata": {},
   "outputs": [
    {
     "data": {
      "application/vnd.jupyter.widget-view+json": {
       "model_id": "26cf37bd740041fcad8010e3a087ee2b",
       "version_major": 2,
       "version_minor": 0
      },
      "text/plain": [
       "VBox()"
      ]
     },
     "metadata": {},
     "output_type": "display_data"
    },
    {
     "data": {
      "application/vnd.jupyter.widget-view+json": {
       "model_id": "",
       "version_major": 2,
       "version_minor": 0
      },
      "text/plain": [
       "FloatProgress(value=0.0, bar_style='info', description='Progress:', layout=Layout(height='25px', width='50%'),…"
      ]
     },
     "metadata": {},
     "output_type": "display_data"
    }
   ],
   "source": [
    "# UPDATED!!!!\n",
    "# Table2A: Validated accounts & considered_dates\n",
    "# create DF with all dates from first day to last day per user\n",
    "# user_df =\n",
    "considered_date_df = registrations_raw.select(\"user_id\", \"reg_date\"). \\\n",
    "    distinct(). \\\n",
    "    withColumn(\"first_day\", F.to_date(F.col(\"reg_date\"))). \\\n",
    "    withColumn(\"last_day\", F.to_date(F.lit(registrations_raw.select(F.max(F.col(\"reg_date\")).alias(\"max_date\")).collect()[0][0]))). \\\n",
    "    withColumn(\"diffDays\",  F.datediff(\"last_day\", \"first_day\")). \\\n",
    "    withColumn(\"repeat\", F.expr(\"split(repeat(',', diffDays), ',')\")).\\\n",
    "    select(\"*\", F.posexplode(\"repeat\").alias(\"daycount\", \"val\")).\\\n",
    "    drop(\"repeat\", \"val\", \"diffDays\").\\\n",
    "    withColumn(\"considered_date\", F.expr(\"date_add(first_day, daycount)\")).\\\n",
    "    select(\"user_id\", \"considered_date\")\n",
    "\n",
    "validated_considered_df = registration_df.join(considered_date_df, \"user_id\", \"left\").\\\n",
    "    withColumn(\"validated_account\", F.when(F.col(\"AccountValidation\")<=F.col(\"considered_date\"), F.lit(1)).otherwise(F.lit(0))).\\\n",
    "    select(\"user_id\", \"reg_date\", \"considered_date\", \"validated_account\")\n"
   ]
  },
  {
   "cell_type": "code",
   "execution_count": 6,
   "metadata": {},
   "outputs": [
    {
     "data": {
      "application/vnd.jupyter.widget-view+json": {
       "model_id": "19c64fd1452e43ec83b879b8996a2605",
       "version_major": 2,
       "version_minor": 0
      },
      "text/plain": [
       "VBox()"
      ]
     },
     "metadata": {},
     "output_type": "display_data"
    },
    {
     "data": {
      "application/vnd.jupyter.widget-view+json": {
       "model_id": "",
       "version_major": 2,
       "version_minor": 0
      },
      "text/plain": [
       "FloatProgress(value=0.0, bar_style='info', description='Progress:', layout=Layout(height='25px', width='50%'),…"
      ]
     },
     "metadata": {},
     "output_type": "display_data"
    },
    {
     "name": "stdout",
     "output_type": "stream",
     "text": [
      "+---------------+-----+------------------+\n",
      "|considered_date| regs|validated_accounts|\n",
      "+---------------+-----+------------------+\n",
      "|     2020-01-01| 1450|               893|\n",
      "|     2020-01-02| 4698|              3039|\n",
      "|     2020-01-03| 7956|              5358|\n",
      "|     2020-01-04|10539|              7263|\n",
      "|     2020-01-05|13565|              9407|\n",
      "|     2020-01-06|17678|             12291|\n",
      "|     2020-01-07|21818|             15318|\n",
      "|     2020-01-08|25981|             18343|\n",
      "|     2020-01-09|29514|             20956|\n",
      "|     2020-01-10|32363|             23132|\n",
      "|     2020-01-11|34606|             24827|\n",
      "|     2020-01-12|37807|             27217|\n",
      "|     2020-01-13|41949|             30303|\n",
      "|     2020-01-14|46146|             33423|\n",
      "|     2020-01-15|49998|             36263|\n",
      "|     2020-01-16|53799|             39117|\n",
      "|     2020-01-17|56675|             41229|\n",
      "|     2020-01-18|58990|             42837|\n",
      "|     2020-01-19|61872|             44891|\n",
      "|     2020-01-20|66023|             47907|\n",
      "+---------------+-----+------------------+\n",
      "only showing top 20 rows"
     ]
    }
   ],
   "source": [
    "# CHECK!\n",
    "validated_considered_df.groupBy(\"considered_date\").\\\n",
    "    agg(F.countDistinct(\"user_id\").alias(\"regs\"),\n",
    "        F.countDistinct(F.when(F.col(\"validated_account\") == 1, F.col(\"user_id\"))).alias(\"validated_accounts\")).\\\n",
    "    sort(F.col(\"considered_date\")).show(20)"
   ]
  },
  {
   "cell_type": "code",
   "execution_count": 5,
   "metadata": {},
   "outputs": [
    {
     "data": {
      "application/vnd.jupyter.widget-view+json": {
       "model_id": "85481ce2009844d68fe792ebc15b90b9",
       "version_major": 2,
       "version_minor": 0
      },
      "text/plain": [
       "VBox()"
      ]
     },
     "metadata": {},
     "output_type": "display_data"
    },
    {
     "data": {
      "application/vnd.jupyter.widget-view+json": {
       "model_id": "",
       "version_major": 2,
       "version_minor": 0
      },
      "text/plain": [
       "FloatProgress(value=0.0, bar_style='info', description='Progress:', layout=Layout(height='25px', width='50%'),…"
      ]
     },
     "metadata": {},
     "output_type": "display_data"
    }
   ],
   "source": [
    "#UPDATED!!!\n",
    "# Table2B: IJM subscription \n",
    "IJM_subscription_df = registrations_raw. \\\n",
    "    filter(F.col(\"logaction\").isin([\"IJM, subscription\"])). \\\n",
    "    select(\"user_id\", \"log_date\", \"n_events\").\\\n",
    "    withColumn(\"n_events\", F.when(F.col(\"n_events\").isNull(), F.lit(0)).otherwise(F.col(\"n_events\")))"
   ]
  },
  {
   "cell_type": "code",
   "execution_count": 6,
   "metadata": {},
   "outputs": [
    {
     "data": {
      "application/vnd.jupyter.widget-view+json": {
       "model_id": "b990c1279b734a138c01984712219ff7",
       "version_major": 2,
       "version_minor": 0
      },
      "text/plain": [
       "VBox()"
      ]
     },
     "metadata": {},
     "output_type": "display_data"
    },
    {
     "data": {
      "application/vnd.jupyter.widget-view+json": {
       "model_id": "",
       "version_major": 2,
       "version_minor": 0
      },
      "text/plain": [
       "FloatProgress(value=0.0, bar_style='info', description='Progress:', layout=Layout(height='25px', width='50%'),…"
      ]
     },
     "metadata": {},
     "output_type": "display_data"
    }
   ],
   "source": [
    "#UPDATED!!!\n",
    "#Table3.1 (considered_subscribed_df): Join Table2a(validated_considered_df) and Table2B(IJM_subscription_df) \n",
    "#on User ID and considered_date = subscription date\n",
    "#join type: left (please confirm)\n",
    "\n",
    "#register intermidiate tables to be able to use sql\n",
    "validated_considered_df.registerTempTable(\"validated_considered_df\")\n",
    "IJM_subscription_df.registerTempTable(\"IJM_subscription_df\")\n",
    "\n",
    "#join Table2A (validated_considered_df) to Table2B (IJM_subscription_df) \n",
    "#on 'user_id' and considered_date = subscription date\n",
    "\n",
    "considered_subscribed_df1 = spark.sql(\"\"\"\n",
    "    select *\n",
    "    from validated_considered_df as df1\n",
    "    left join IJM_subscription_df as df2\n",
    "    on df1.user_id = df2.user_id\n",
    "    and df1.considered_date = df2.log_date\n",
    "    \"\"\"\n",
    ")\n",
    "\n",
    "considered_subscribed_df = considered_subscribed_df1.select(validated_considered_df.user_id,\n",
    "                                                            validated_considered_df.reg_date,\n",
    "                                                            'validated_account', \n",
    "                                                            'considered_date', \n",
    "                                                            col('n_events').alias('sub_events')).distinct()\n",
    "\n",
    "considered_subscribed_df = considered_subscribed_df.fillna({'sub_events':'0'})"
   ]
  },
  {
   "cell_type": "code",
   "execution_count": 67,
   "metadata": {},
   "outputs": [
    {
     "data": {
      "application/vnd.jupyter.widget-view+json": {
       "model_id": "ec200b17c77245e387121bb41abb23f9",
       "version_major": 2,
       "version_minor": 0
      },
      "text/plain": [
       "VBox()"
      ]
     },
     "metadata": {},
     "output_type": "display_data"
    },
    {
     "data": {
      "application/vnd.jupyter.widget-view+json": {
       "model_id": "",
       "version_major": 2,
       "version_minor": 0
      },
      "text/plain": [
       "FloatProgress(value=0.0, bar_style='info', description='Progress:', layout=Layout(height='25px', width='50%'),…"
      ]
     },
     "metadata": {},
     "output_type": "display_data"
    },
    {
     "name": "stdout",
     "output_type": "stream",
     "text": [
      "+---------------+-----+------------------+-----------------+\n",
      "|considered_date| regs|validated_accounts|new_subscriptions|\n",
      "+---------------+-----+------------------+-----------------+\n",
      "|     2020-01-01| 1450|               893|              674|\n",
      "|     2020-01-02| 4698|              3039|             1734|\n",
      "|     2020-01-03| 7956|              5358|             1907|\n",
      "|     2020-01-04|10539|              7263|             1508|\n",
      "|     2020-01-05|13565|              9407|             1699|\n",
      "|     2020-01-06|17678|             12291|             2346|\n",
      "|     2020-01-07|21817|             15317|             2537|\n",
      "|     2020-01-08|25980|             18342|             2581|\n",
      "|     2020-01-09|29512|             20955|             2303|\n",
      "|     2020-01-10|32361|             23131|             1873|\n",
      "|     2020-01-11|34604|             24826|             1441|\n",
      "|     2020-01-12|37805|             27216|             2021|\n",
      "|     2020-01-13|41947|             30302|             2756|\n",
      "|     2020-01-14|46144|             33422|             2793|\n",
      "|     2020-01-15|49995|             36261|             2481|\n",
      "|     2020-01-16|53796|             39115|             2526|\n",
      "|     2020-01-17|56671|             41227|             1894|\n",
      "|     2020-01-18|58985|             42835|             1408|\n",
      "|     2020-01-19|61867|             44889|             1819|\n",
      "|     2020-01-20|66018|             47905|             2769|\n",
      "+---------------+-----+------------------+-----------------+\n",
      "only showing top 20 rows"
     ]
    }
   ],
   "source": [
    "# CHECK!\n",
    "considered_subscribed_df.groupBy(\"considered_date\").\\\n",
    "    agg(F.countDistinct(\"user_id\").alias(\"regs\"),\n",
    "        F.countDistinct(F.when(F.col(\"validated_account\") == 1, F.col(\"user_id\"))).alias(\"validated_accounts\"),\n",
    "        F.countDistinct(F.when(F.col(\"sub_events\") >= 1, F.col(\"user_id\"))).alias(\"new_subscriptions\")).\\\n",
    "    sort(F.col(\"considered_date\")).show(20)"
   ]
  },
  {
   "cell_type": "code",
   "execution_count": 7,
   "metadata": {},
   "outputs": [
    {
     "data": {
      "application/vnd.jupyter.widget-view+json": {
       "model_id": "c48cc685782746a498df44af108e1374",
       "version_major": 2,
       "version_minor": 0
      },
      "text/plain": [
       "VBox()"
      ]
     },
     "metadata": {},
     "output_type": "display_data"
    },
    {
     "data": {
      "application/vnd.jupyter.widget-view+json": {
       "model_id": "",
       "version_major": 2,
       "version_minor": 0
      },
      "text/plain": [
       "FloatProgress(value=0.0, bar_style='info', description='Progress:', layout=Layout(height='25px', width='50%'),…"
      ]
     },
     "metadata": {},
     "output_type": "display_data"
    }
   ],
   "source": [
    "# UPDATED!!!\n",
    "#Table2C: (IJM_unsubscription_df)\n",
    "IJM_unsubscription_df = registrations_raw. \\\n",
    "    filter(F.col(\"manualunsubscribe\") == True). \\\n",
    "    select(\"user_id\", \"manualunsubscribe\").distinct()\n"
   ]
  },
  {
   "cell_type": "code",
   "execution_count": 8,
   "metadata": {},
   "outputs": [
    {
     "data": {
      "application/vnd.jupyter.widget-view+json": {
       "model_id": "9236b07c9715473fa09671b901fe449c",
       "version_major": 2,
       "version_minor": 0
      },
      "text/plain": [
       "VBox()"
      ]
     },
     "metadata": {},
     "output_type": "display_data"
    },
    {
     "data": {
      "application/vnd.jupyter.widget-view+json": {
       "model_id": "",
       "version_major": 2,
       "version_minor": 0
      },
      "text/plain": [
       "FloatProgress(value=0.0, bar_style='info', description='Progress:', layout=Layout(height='25px', width='50%'),…"
      ]
     },
     "metadata": {},
     "output_type": "display_data"
    }
   ],
   "source": [
    "# UPDATED!!! we use anti_join, since we dont have an unsubscribe timestamp, that means all users who ever unscrubscribed are removed from the data!\n",
    "#Table3.2 (considered_unsubscribed_df): Join Table3.1(considered_subscribed_df) and Table2C(IJM_unsubscription_df) \n",
    "#on User ID \n",
    "#subscribe the tables to be able to use sql to join them\n",
    "considered_subscribed_df.registerTempTable(\"considered_subscribed_df\")\n",
    "IJM_unsubscription_df.registerTempTable(\"IJM_unsubscription_df\")\n",
    "\n",
    "considered_unsubscribed_df = considered_subscribed_df.join(IJM_unsubscription_df, \"user_id\", \"left_anti\").\\\n",
    "    withColumn(\"sub_events\", F.when(F.col(\"sub_events\")>=1, F.lit(1)).otherwise(F.col(\"sub_events\"))).\\\n",
    "    select(\"user_id\", \"reg_date\", \"validated_account\", \"considered_date\", \"sub_events\")\n",
    "\n",
    "considered_unsubscribed_df = considered_unsubscribed_df.fillna({'sub_events':'0'})\n"
   ]
  },
  {
   "cell_type": "code",
   "execution_count": 9,
   "metadata": {},
   "outputs": [
    {
     "data": {
      "application/vnd.jupyter.widget-view+json": {
       "model_id": "6e61fa4110074be2b5909366d316c368",
       "version_major": 2,
       "version_minor": 0
      },
      "text/plain": [
       "VBox()"
      ]
     },
     "metadata": {},
     "output_type": "display_data"
    },
    {
     "data": {
      "application/vnd.jupyter.widget-view+json": {
       "model_id": "",
       "version_major": 2,
       "version_minor": 0
      },
      "text/plain": [
       "FloatProgress(value=0.0, bar_style='info', description='Progress:', layout=Layout(height='25px', width='50%'),…"
      ]
     },
     "metadata": {},
     "output_type": "display_data"
    }
   ],
   "source": [
    "# UPDATED!!!!\n",
    "#Table2D: IJM_autoactivate_df\n",
    "IJM_autoactivate_df = registrations_raw. \\\n",
    "    filter(F.col(\"logaction\").isin([\"IJM, autoactivate\"])). \\\n",
    "    select(\"user_id\", \"log_date\", \"n_events\").distinct()\n",
    "\n",
    "IJM_autoactivate_df = IJM_autoactivate_df.fillna({'n_events':'0'})\n",
    "\n",
    "#IJM_autoactivate_df.show(n=10)"
   ]
  },
  {
   "cell_type": "code",
   "execution_count": 10,
   "metadata": {},
   "outputs": [
    {
     "data": {
      "application/vnd.jupyter.widget-view+json": {
       "model_id": "0880b6b815ec47139a1f82ba80e7563a",
       "version_major": 2,
       "version_minor": 0
      },
      "text/plain": [
       "VBox()"
      ]
     },
     "metadata": {},
     "output_type": "display_data"
    },
    {
     "data": {
      "application/vnd.jupyter.widget-view+json": {
       "model_id": "",
       "version_major": 2,
       "version_minor": 0
      },
      "text/plain": [
       "FloatProgress(value=0.0, bar_style='info', description='Progress:', layout=Layout(height='25px', width='50%'),…"
      ]
     },
     "metadata": {},
     "output_type": "display_data"
    }
   ],
   "source": [
    "# UPDATED!!!\n",
    "# Table3.3 (considered_autoactivated_df): Join Table3.2(considered_unsubscribed_df) and Table2D(IJM_autoactivate_df) \n",
    "# on User ID and considered_date = autoactivation date\n",
    "    \n",
    "#subscribe the tables to be able to use sql to join them\n",
    "considered_unsubscribed_df.registerTempTable(\"considered_unsubscribed_df\")\n",
    "IJM_autoactivate_df.registerTempTable(\"IJM_autoactivate_df\")\n",
    "\n",
    "considered_autoactivated_df = spark.sql(\"\"\"\n",
    "    select df1.user_id, reg_date, validated_account, considered_date, sub_events, n_events as autoactivated_events\n",
    "    from considered_unsubscribed_df as df1\n",
    "    left join IJM_autoactivate_df as df2\n",
    "    on df1.user_id = df2.user_id\n",
    "    and df1.considered_date = df2.log_date\"\"\")\n",
    "\n",
    "considered_autoactivated_df = considered_autoactivated_df.fillna({'autoactivated_events':'0'})"
   ]
  },
  {
   "cell_type": "code",
   "execution_count": 11,
   "metadata": {},
   "outputs": [
    {
     "data": {
      "application/vnd.jupyter.widget-view+json": {
       "model_id": "c8fa36b15c6a4bbe9333a20830b478a3",
       "version_major": 2,
       "version_minor": 0
      },
      "text/plain": [
       "VBox()"
      ]
     },
     "metadata": {},
     "output_type": "display_data"
    },
    {
     "data": {
      "application/vnd.jupyter.widget-view+json": {
       "model_id": "",
       "version_major": 2,
       "version_minor": 0
      },
      "text/plain": [
       "FloatProgress(value=0.0, bar_style='info', description='Progress:', layout=Layout(height='25px', width='50%'),…"
      ]
     },
     "metadata": {},
     "output_type": "display_data"
    }
   ],
   "source": [
    "# UPDATED!!!\n",
    "#Table2E: IJM_autodeactivate_df\n",
    "IJM_autodeactivate_df = registrations_raw. \\\n",
    "    filter(F.col(\"logaction\").isin([\"IJM, autodeactivate\"])). \\\n",
    "    select(\"user_id\",\"log_date\", \"n_events\")\n",
    "\n",
    "IJM_autodeactivate_df = IJM_autodeactivate_df.fillna({'n_events':'0'})"
   ]
  },
  {
   "cell_type": "code",
   "execution_count": 12,
   "metadata": {},
   "outputs": [
    {
     "data": {
      "application/vnd.jupyter.widget-view+json": {
       "model_id": "e1fb2b7cf5b0473786139002f14b3145",
       "version_major": 2,
       "version_minor": 0
      },
      "text/plain": [
       "VBox()"
      ]
     },
     "metadata": {},
     "output_type": "display_data"
    },
    {
     "data": {
      "application/vnd.jupyter.widget-view+json": {
       "model_id": "",
       "version_major": 2,
       "version_minor": 0
      },
      "text/plain": [
       "FloatProgress(value=0.0, bar_style='info', description='Progress:', layout=Layout(height='25px', width='50%'),…"
      ]
     },
     "metadata": {},
     "output_type": "display_data"
    }
   ],
   "source": [
    "# UPDATED!!!\n",
    "# Table3.4 (considered_autodeactivated_df): Join Table3.3(considered_autoactivated_df) and Table2E(IJM_deautoactivate_df)\n",
    "# on User ID and considered_date = autodeactivate date\n",
    "# join type: left (please confirm)  \n",
    "    \n",
    "#subscribe the tables to be able to use sql to join them\n",
    "considered_autoactivated_df.registerTempTable(\"considered_autoactivated_df\")\n",
    "IJM_autodeactivate_df.registerTempTable(\"IJM_autodeactivate_df\")\n",
    "\n",
    "email_log_df = spark.sql(\"\"\"\n",
    "    select df1.user_id, reg_date, validated_account, considered_date, sub_events, autoactivated_events, n_events as autodeactivate_events\n",
    "    from considered_autoactivated_df as df1\n",
    "    left join IJM_autodeactivate_df as df2\n",
    "    on df1.user_id = df2.user_id\n",
    "    and df1.considered_date = df2.log_date\n",
    "\"\"\"\n",
    ")\n",
    "\n",
    "email_log_df = email_log_df.fillna({'autodeactivate_events':'0'})"
   ]
  },
  {
   "cell_type": "code",
   "execution_count": 13,
   "metadata": {},
   "outputs": [
    {
     "data": {
      "application/vnd.jupyter.widget-view+json": {
       "model_id": "47bc5e686f094252a59525c8b6d9b73d",
       "version_major": 2,
       "version_minor": 0
      },
      "text/plain": [
       "VBox()"
      ]
     },
     "metadata": {},
     "output_type": "display_data"
    },
    {
     "data": {
      "application/vnd.jupyter.widget-view+json": {
       "model_id": "",
       "version_major": 2,
       "version_minor": 0
      },
      "text/plain": [
       "FloatProgress(value=0.0, bar_style='info', description='Progress:', layout=Layout(height='25px', width='50%'),…"
      ]
     },
     "metadata": {},
     "output_type": "display_data"
    }
   ],
   "source": [
    "# UPDATED!!!\n",
    "#email_log_df: Add the cumulative sum of 'sub_sum'\n",
    "email_log_df = email_log_df.select(\"user_id\", \"reg_date\", \"validated_account\", \"considered_date\", \"sub_events\", \"autoactivated_events\", \"autodeactivate_events\"). \\\n",
    "    distinct(). \\\n",
    "    withColumn('sub_sum', F.sum(email_log_df.sub_events).over(Window.partitionBy('user_id'). \\\n",
    "        orderBy('considered_date').rowsBetween(-sys.maxsize, 0))) "
   ]
  },
  {
   "cell_type": "code",
   "execution_count": 14,
   "metadata": {},
   "outputs": [
    {
     "data": {
      "application/vnd.jupyter.widget-view+json": {
       "model_id": "2bf692aea30c4c859fedd2c1d1243999",
       "version_major": 2,
       "version_minor": 0
      },
      "text/plain": [
       "VBox()"
      ]
     },
     "metadata": {},
     "output_type": "display_data"
    },
    {
     "data": {
      "application/vnd.jupyter.widget-view+json": {
       "model_id": "",
       "version_major": 2,
       "version_minor": 0
      },
      "text/plain": [
       "FloatProgress(value=0.0, bar_style='info', description='Progress:', layout=Layout(height='25px', width='50%'),…"
      ]
     },
     "metadata": {},
     "output_type": "display_data"
    }
   ],
   "source": [
    "# UPDATED!!!\n",
    "#email_log_df: Add the cumulative sum of 'autoactivated_sum'\n",
    "email_log_df = email_log_df.select(\"user_id\", \"reg_date\", \"validated_account\", \"considered_date\", \"sub_events\", \"autoactivated_events\", \"autodeactivate_events\", \"sub_sum\"). \\\n",
    "    distinct(). \\\n",
    "    withColumn('autoactivated_sum', F.sum(email_log_df.autoactivated_events).over(Window.partitionBy('user_id'). \\\n",
    "        orderBy('considered_date').rowsBetween(-sys.maxsize, 0)))"
   ]
  },
  {
   "cell_type": "code",
   "execution_count": 15,
   "metadata": {},
   "outputs": [
    {
     "data": {
      "application/vnd.jupyter.widget-view+json": {
       "model_id": "b72d18a508fc4b289f0747a1f9e673dc",
       "version_major": 2,
       "version_minor": 0
      },
      "text/plain": [
       "VBox()"
      ]
     },
     "metadata": {},
     "output_type": "display_data"
    },
    {
     "data": {
      "application/vnd.jupyter.widget-view+json": {
       "model_id": "",
       "version_major": 2,
       "version_minor": 0
      },
      "text/plain": [
       "FloatProgress(value=0.0, bar_style='info', description='Progress:', layout=Layout(height='25px', width='50%'),…"
      ]
     },
     "metadata": {},
     "output_type": "display_data"
    }
   ],
   "source": [
    "# UPDATED!!!\n",
    "#email_log_df: Add the cumulative sum of 'autodeactivate_sum'\n",
    "email_log_df = email_log_df.select(\"user_id\", \"reg_date\", \"validated_account\", \"considered_date\", \"sub_events\", \"autoactivated_events\", \"autodeactivate_events\", \"sub_sum\", \"autoactivated_sum\"). \\\n",
    "    distinct(). \\\n",
    "    withColumn('autodeactivate_sum', F.sum(email_log_df.autodeactivate_events).over(Window.partitionBy('user_id'). \\\n",
    "        orderBy('considered_date').rowsBetween(-sys.maxsize, 0)))\n",
    "\n",
    "#email_log_df.show(n=5)"
   ]
  },
  {
   "cell_type": "code",
   "execution_count": 16,
   "metadata": {},
   "outputs": [
    {
     "data": {
      "application/vnd.jupyter.widget-view+json": {
       "model_id": "dd937b9ad9be48b887ebf5c792cdfc9e",
       "version_major": 2,
       "version_minor": 0
      },
      "text/plain": [
       "VBox()"
      ]
     },
     "metadata": {},
     "output_type": "display_data"
    },
    {
     "data": {
      "application/vnd.jupyter.widget-view+json": {
       "model_id": "",
       "version_major": 2,
       "version_minor": 0
      },
      "text/plain": [
       "FloatProgress(value=0.0, bar_style='info', description='Progress:', layout=Layout(height='25px', width='50%'),…"
      ]
     },
     "metadata": {},
     "output_type": "display_data"
    }
   ],
   "source": [
    "# UPDATED!!!\n",
    "email_log_df = email_log_df.withColumn(\"sub_state\", F.when(F.col(\"sub_sum\")>=1, F.lit(1)).otherwise(F.lit(0))).\\\n",
    "    withColumn('autoactivate_state', F.when((col(\"autoactivated_sum\")-col(\"autodeactivate_sum\")) <= 0,F.lit(0)).otherwise(F.lit(1)))"
   ]
  },
  {
   "cell_type": "code",
   "execution_count": 17,
   "metadata": {},
   "outputs": [
    {
     "data": {
      "application/vnd.jupyter.widget-view+json": {
       "model_id": "b37625447b1547b49869e5ecc4202efc",
       "version_major": 2,
       "version_minor": 0
      },
      "text/plain": [
       "VBox()"
      ]
     },
     "metadata": {},
     "output_type": "display_data"
    },
    {
     "data": {
      "application/vnd.jupyter.widget-view+json": {
       "model_id": "",
       "version_major": 2,
       "version_minor": 0
      },
      "text/plain": [
       "FloatProgress(value=0.0, bar_style='info', description='Progress:', layout=Layout(height='25px', width='50%'),…"
      ]
     },
     "metadata": {},
     "output_type": "display_data"
    }
   ],
   "source": [
    "\n",
    "email_log_df = email_log_df.select(\"user_id\", \"reg_date\", \"validated_account\", \"considered_date\", \"sub_sum\", \"autoactivated_sum\", \"autodeactivate_sum\", \"sub_state\"). \\\n",
    "    distinct(). \\\n",
    "    withColumn('FourtyFiveDaysAgo', F.date_sub('considered_date', 45))\n",
    "\n",
    "#email_log_df.show(n=5)"
   ]
  },
  {
   "cell_type": "code",
   "execution_count": 23,
   "metadata": {},
   "outputs": [
    {
     "data": {
      "application/vnd.jupyter.widget-view+json": {
       "model_id": "41641d0541b34f4f95398dd734ec1f54",
       "version_major": 2,
       "version_minor": 0
      },
      "text/plain": [
       "VBox()"
      ]
     },
     "metadata": {},
     "output_type": "display_data"
    },
    {
     "data": {
      "application/vnd.jupyter.widget-view+json": {
       "model_id": "",
       "version_major": 2,
       "version_minor": 0
      },
      "text/plain": [
       "FloatProgress(value=0.0, bar_style='info', description='Progress:', layout=Layout(height='25px', width='50%'),…"
      ]
     },
     "metadata": {},
     "output_type": "display_data"
    },
    {
     "name": "stdout",
     "output_type": "stream",
     "text": [
      "+---------------+-------------+------------------+-------------+--------------------------+-----------------------+\n",
      "|considered_date|registrations|validated_accounts|subscriptions|activated_subscriptions_v0|activated_subscriptions|\n",
      "+---------------+-------------+------------------+-------------+--------------------------+-----------------------+\n",
      "|     2020-01-01|         1260|               738|          519|                         0|                      0|\n",
      "|     2020-01-02|         4067|              2486|         1833|                         0|                      0|\n",
      "|     2020-01-03|         6823|              4361|         3262|                         0|                      0|\n",
      "|     2020-01-04|         9046|              5938|         4409|                         1|                      1|\n",
      "|     2020-01-05|        11652|              7686|         5669|                         1|                      1|\n",
      "|     2020-01-06|        15148|             10005|         7382|                         1|                      1|\n",
      "|     2020-01-07|        18647|             12438|         9255|                         2|                      2|\n",
      "|     2020-01-08|        22162|             14856|        11136|                         3|                      3|\n",
      "|     2020-01-09|        25116|             16927|        12785|                         3|                      3|\n",
      "|     2020-01-10|        27500|             18656|        14147|                         3|                      3|\n",
      "|     2020-01-11|        29362|             19995|        15177|                         3|                      3|\n",
      "|     2020-01-12|        32046|             21917|        16646|                         3|                      3|\n",
      "|     2020-01-13|        35488|             24349|        18630|                         3|                      3|\n",
      "|     2020-01-14|        39034|             26854|        20678|                         3|                      3|\n",
      "|     2020-01-15|        42314|             29130|        22490|                         3|                      3|\n",
      "|     2020-01-16|        45537|             31449|        24379|                         4|                      4|\n",
      "|     2020-01-17|        47992|             33158|        25775|                         4|                      4|\n",
      "|     2020-01-18|        49985|             34464|        26809|                         4|                      4|\n",
      "|     2020-01-19|        52432|             36127|        28146|                         4|                      4|\n",
      "|     2020-01-20|        55902|             38493|        30112|                         4|                      4|\n",
      "|     2020-01-21|        59226|             40782|        32086|                         5|                      5|\n",
      "|     2020-01-22|        62533|             43017|        33933|                         5|                      5|\n",
      "|     2020-01-23|        65713|             45159|        35657|                         6|                      6|\n",
      "|     2020-01-24|        68133|             46862|        37033|                         6|                      6|\n",
      "|     2020-01-25|        69994|             48107|        37996|                         6|                      6|\n",
      "|     2020-01-26|        72506|             49838|        39328|                         6|                      6|\n",
      "|     2020-01-27|        76073|             52233|        41245|                         7|                      7|\n",
      "|     2020-01-28|        79680|             54716|        43281|                         7|                      7|\n",
      "|     2020-01-29|        82901|             56942|        45129|                         7|                      7|\n",
      "|     2020-01-30|        85942|             59064|        46875|                         7|                      7|\n",
      "|     2020-01-31|        88243|             60707|        48202|                         7|                      7|\n",
      "|     2020-02-01|        90133|             62064|        49291|                         8|                      8|\n",
      "|     2020-02-02|        92756|             63876|        50719|                        46|                      8|\n",
      "|     2020-02-03|        96244|             66295|        52726|                       191|                      8|\n",
      "|     2020-02-04|        99635|             68752|        54754|                       365|                      9|\n",
      "|     2020-02-05|       103295|             71348|        56928|                       524|                      9|\n",
      "|     2020-02-06|       106242|             73475|        58703|                       686|                     10|\n",
      "|     2020-02-07|       108652|             75206|        60105|                       927|                     10|\n",
      "|     2020-02-08|       110455|             76491|        61065|                      1163|                     11|\n",
      "|     2020-02-09|       112823|             78164|        62339|                      1453|                     11|\n",
      "|     2020-02-10|       116053|             80431|        64213|                      1717|                     11|\n",
      "|     2020-02-11|       119675|             83013|        66384|                      1958|                     13|\n",
      "|     2020-02-12|       123009|             85396|        68421|                      2161|                     13|\n",
      "|     2020-02-13|       126981|             87746|        70408|                      2426|                     14|\n",
      "|     2020-02-14|       129633|             89354|        71718|                      2825|                     15|\n",
      "|     2020-02-15|       131753|             90612|        72695|                      3226|                     15|\n",
      "|     2020-02-16|       134650|             92321|        74046|                      3619|                     18|\n",
      "|     2020-02-17|       138713|             94724|        76040|                      4044|                     18|\n",
      "|     2020-02-18|       142753|             97068|        77984|                      4478|                     22|\n",
      "|     2020-02-19|       146518|             99386|        79941|                      4792|                     24|\n",
      "|     2020-02-20|       149985|            101479|        81680|                      5157|                     25|\n",
      "|     2020-02-21|       152631|            103049|        82987|                      5685|                     26|\n",
      "|     2020-02-22|       154590|            104280|        83975|                      6268|                     30|\n",
      "|     2020-02-23|       157360|            105949|        85300|                      6922|                     30|\n",
      "|     2020-02-24|       160904|            108105|        87088|                      7924|                     31|\n",
      "|     2020-02-25|       164798|            110371|        89046|                      8988|                     31|\n",
      "|     2020-02-26|       168569|            112575|        90903|                      9554|                     34|\n",
      "|     2020-02-27|       171843|            114576|        92591|                     10258|                     34|\n",
      "|     2020-02-28|       174364|            116176|        93892|                     11286|                     37|\n",
      "|     2020-02-29|       176464|            117429|        94928|                     12498|                     39|\n",
      "|     2020-03-01|       179411|            119176|        96378|                     13829|                     42|\n",
      "|     2020-03-02|       183424|            121473|        98302|                     15366|                     45|\n",
      "|     2020-03-03|       187735|            123927|       100403|                     16965|                     51|\n",
      "|     2020-03-04|       192097|            126404|       102538|                     18493|                     58|\n",
      "|     2020-03-05|       196142|            128731|       104504|                     20568|                     68|\n",
      "|     2020-03-06|       199266|            130509|       106009|                     26992|                     73|\n",
      "|     2020-03-07|       201570|            131775|       107029|                     30888|                     76|\n",
      "|     2020-03-08|       204394|            133387|       108376|                     32369|                     85|\n",
      "|     2020-03-09|       208559|            135751|       110422|                     33647|                     95|\n",
      "|     2020-03-10|       212940|            138158|       112560|                     34705|                    112|\n",
      "|     2020-03-11|       216616|            140339|       114473|                     35485|                    119|\n",
      "|     2020-03-12|       219749|            142166|       116079|                     36338|                    135|\n",
      "|     2020-03-13|       221762|            143397|       117136|                     37603|                    140|\n",
      "|     2020-03-14|       223254|            144271|       117858|                     39041|                    151|\n",
      "|     2020-03-15|       224919|            145280|       118704|                     40434|                    157|\n",
      "|     2020-03-16|       227014|            146453|       119742|                     41857|                    162|\n",
      "|     2020-03-17|       229147|            147672|       120794|                     42848|                    167|\n",
      "|     2020-03-18|       231289|            148912|       121864|                     43666|                    176|\n",
      "|     2020-03-19|       233413|            150159|       122973|                     44687|                    181|\n",
      "|     2020-03-20|       235020|            151117|       123808|                     46048|                    184|\n",
      "|     2020-03-21|       236545|            152046|       124521|                     47484|                    192|\n",
      "|     2020-03-22|       238129|            152970|       125287|                     48969|                    199|\n",
      "|     2020-03-23|       240625|            154418|       126545|                     50264|                    205|\n",
      "|     2020-03-24|       243182|            155821|       127732|                     51368|                    222|\n",
      "|     2020-03-25|       245883|            157301|       128972|                     52198|                    233|\n",
      "|     2020-03-26|       248527|            158740|       130208|                     53220|                    244|\n",
      "|     2020-03-27|       250747|            160029|       131326|                     54490|                    257|\n",
      "|     2020-03-28|       252544|            161050|       132201|                     55931|                    263|\n",
      "|     2020-03-29|       254790|            162285|       133246|                     57395|                    273|\n",
      "|     2020-03-30|       257909|            164008|       134805|                     58737|                    280|\n",
      "|     2020-03-31|       260766|            165565|       136207|                     59817|                    294|\n",
      "|     2020-04-01|       264614|            167432|       137978|                     60663|                    305|\n",
      "|     2020-04-02|       269048|            169367|       139853|                     61687|                    315|\n",
      "|     2020-04-03|       272464|            171032|       141443|                     63097|                    329|\n",
      "|     2020-04-04|       274819|            172181|       142530|                     64609|                    340|\n",
      "|     2020-04-05|       277439|            173470|       143711|                     66125|                    347|\n",
      "|     2020-04-06|       281465|            175300|       145498|                     67583|                    358|\n",
      "|     2020-04-07|       285425|            177156|       147296|                     68749|                    376|\n",
      "|     2020-04-08|       289168|            178991|       149030|                     69628|                    387|\n",
      "|     2020-04-09|       292202|            180495|       150448|                     70594|                    397|\n",
      "+---------------+-------------+------------------+-------------+--------------------------+-----------------------+\n",
      "only showing top 100 rows"
     ]
    }
   ],
   "source": [
    "#Output: Get rid of autoactivate_state and autoactivated_sum and instead add the UK_rule_considered(countDistinct of user_id if UK_rule_considered ==1 )\n",
    "\n",
    "email_log_df.groupBy(\"considered_date\").\\\n",
    "    agg(F.countDistinct(\"user_id\").alias(\"registrations\"),\n",
    "        F.countDistinct(F.when(F.col(\"validated_account\") >=1, F.col(\"user_id\"))).alias(\"validated_accounts\"),\n",
    "        F.countDistinct(F.when(F.col(\"sub_state\") >=1, F.col(\"user_id\"))).alias(\"subscriptions\"),\n",
    "        F.countDistinct(F.when(F.col(\"autoactivated_sum\") >=1, F.col(\"user_id\"))).alias(\"activated_subscriptions_v0\"),\n",
    "        F.countDistinct(F.when(F.col(\"autoactivate_state\") >=1, F.col(\"user_id\"))).alias(\"activated_subscriptions\")).\\\n",
    "    sort(\"considered_date\").show(100)"
   ]
  },
  {
   "cell_type": "code",
   "execution_count": 18,
   "metadata": {},
   "outputs": [
    {
     "data": {
      "application/vnd.jupyter.widget-view+json": {
       "model_id": "26ae99b77e494638852eff7da2cf0eed",
       "version_major": 2,
       "version_minor": 0
      },
      "text/plain": [
       "VBox()"
      ]
     },
     "metadata": {},
     "output_type": "display_data"
    },
    {
     "data": {
      "application/vnd.jupyter.widget-view+json": {
       "model_id": "",
       "version_major": 2,
       "version_minor": 0
      },
      "text/plain": [
       "FloatProgress(value=0.0, bar_style='info', description='Progress:', layout=Layout(height='25px', width='50%'),…"
      ]
     },
     "metadata": {},
     "output_type": "display_data"
    }
   ],
   "source": [
    "#Table3: Website_visits_df\n",
    "\n",
    "Website_visits_df = spark.sql(\"\"\"\n",
    "    select distinct user_id, user_hash, job_agent_id, to_date(visit_start_time_gmt) as visit_date\n",
    "    from presentation.hits_de\n",
    "    where exclude_hit <= 0\n",
    "\n",
    "    union all\n",
    "\n",
    "    select distinct user_id, user_hash, job_agent_id, to_date(visit_start_time_gmt) as visit_date\n",
    "    from presentation.hits_android_global AA\n",
    "    where AA.job_site like '%-de' and exclude_hit <= 0\n",
    "\n",
    "    union all\n",
    "\n",
    "    select distinct user_id, user_hash, job_agent_id, to_date(visit_start_time_gmt) as visit_date\n",
    "    from presentation.hits_iphoneapp_global AA\n",
    "    where AA.job_site like '%-de' and exclude_hit <= 0 \"\"\")\n",
    "\n",
    "#Website_visits_df.show(n=5)"
   ]
  },
  {
   "cell_type": "code",
   "execution_count": null,
   "metadata": {},
   "outputs": [],
   "source": [
    "\"\"\"\n",
    "Here some more details on the website visit data and why there is a high number of rows with a missing user_id.\n",
    "\n",
    "We essentially have 3 user identifiers in the website visit data:\n",
    "-\tUser_id: this is only available if the user is logged in – and often is not the case\n",
    "-\tJobagent_id: this is set, when a user lands on the website from the jobagent emails. Every jobagent_id can be linked to exactly \n",
    "one user_id. There is a table called stepstonede.userlogin_jobuser that stores this relationship. \n",
    "Here the userlogin_id is our user_id and the jobuser_id is our jobagent_id (https://eureka.stepstone.com/display/DBA/Userlogin_jobuser)\n",
    "-\tUserhash_id: this is a user id derived from the cookie in a device. This id cannot always be linke to exactly one user_id \n",
    "(it is essentially a m:n relationship). There is a table called presentation.adobe_user_id_hash_de which contains the relationships. \n",
    "You could query this table and look for user_hash_ids which are linked to exactly one user_id.\n",
    "\n",
    "So – to match more website visits we could prioritise these IDs as follows:\n",
    "1)\tIf there is a user_id in the data, use it.\n",
    "2)\tIf there is a jobagent_id, match that jobagent_id to a user_id\n",
    "3)\tIf there is only a user_hash_id then match it to a user_id only if that user_hash_id is used with only one user_id\n",
    "\n",
    "If this doesn’t help to match enough users, then we might also want to look at tables presentation.ssa_fact \n",
    "and presentation.ssa_user_id_mapping_dim. But I’d suggest we try to above first, and then look at these tables afterwards.\n",
    "\n",
    "\"\"\"\n",
    "#data information:\n",
    "#number of rows in Website_visits_df: 609,045,102\n",
    "#number of not null user_id in Website_visits_df: 468,626,019\n",
    "# Hence, we have 140,419,083 rows in Website_visits_df that the user_id is null\n",
    "#number of rows in jobuser_df: 13,034,505 (distinct)\n",
    "#number of rows in Userhash_df: 20,154,975\n",
    "# Hence, the best case scenario we can expect to fill 33,189,480 rows out of 140,419,083 null rows of Website_visits_df \n",
    "\n",
    "#Test the join result:\n",
    "#number of Not null rows in Website_visit_final_df would be around (468,626,019 - 33,189,480 = 435,436,539) \n",
    "#if all of the rows in jobuser_df and Userhash_df join successfully with Website_visits_df "
   ]
  },
  {
   "cell_type": "code",
   "execution_count": 19,
   "metadata": {},
   "outputs": [
    {
     "data": {
      "application/vnd.jupyter.widget-view+json": {
       "model_id": "47df7c3c988746e594fd044129c1a09c",
       "version_major": 2,
       "version_minor": 0
      },
      "text/plain": [
       "VBox()"
      ]
     },
     "metadata": {},
     "output_type": "display_data"
    },
    {
     "data": {
      "application/vnd.jupyter.widget-view+json": {
       "model_id": "",
       "version_major": 2,
       "version_minor": 0
      },
      "text/plain": [
       "FloatProgress(value=0.0, bar_style='info', description='Progress:', layout=Layout(height='25px', width='50%'),…"
      ]
     },
     "metadata": {},
     "output_type": "display_data"
    }
   ],
   "source": [
    "#To deal with null user_id in Website_visits_df we use Jobagent_id to match user_id from jobuser_df\n",
    "#Jobagent_id: match jobagent_id from stepstonede.userlogin_jobuser to user_id in Website_visits_df \n",
    "\n",
    "jobuser_original_df = spark.sql(\"\"\"\n",
    "    select distinct userlogin_id, jobuser_id as job_agent_id\n",
    "    from stepstonede.userlogin_jobuser\n",
    "    \"\"\")\n",
    "#So – to match more website visits we could prioritise these IDs as follows:\n",
    "#1)\tIf there is a user_id in the data, use it.\n",
    "#2)\tIf there is a jobagent_id, match that jobagent_id to a user_id\n",
    "\n",
    "# this can be simplified:\n",
    "jobuser_df = jobuser_original_df.join(Website_visits_df.filter(F.col(\"user_id\").isNull()).select(\"job_agent_id\").distinct(), \"job_agent_id\").distinct()\n",
    "\n",
    "#Website_visits_df.registerTempTable(\"Website_visits_df\")\n",
    "#jobuser_original_df.registerTempTable(\"jobuser_original_df\")\n",
    "\n",
    "#jobuser_df = spark.sql(\"\"\"\n",
    "#    WITH job_agent as (SELECT job_agent_id, userlogin_id FROM jobuser_original_df Group By job_agent_id, userlogin_id)\n",
    "#    SELECT distinct Website_visits_df.job_agent_id, job_agent.userlogin_id \n",
    "#    FROM Website_visits_df\n",
    "#    INNER JOIN job_agent ON Website_visits_df.job_agent_id = job_agent.job_agent_id and Website_visits_df.user_id is Null\n",
    "#\"\"\")\n",
    "\n",
    "#jobuser_df.show(n=5)\n"
   ]
  },
  {
   "cell_type": "code",
   "execution_count": 22,
   "metadata": {},
   "outputs": [
    {
     "data": {
      "application/vnd.jupyter.widget-view+json": {
       "model_id": "613759074991445080e55be127652837",
       "version_major": 2,
       "version_minor": 0
      },
      "text/plain": [
       "VBox()"
      ]
     },
     "metadata": {},
     "output_type": "display_data"
    },
    {
     "data": {
      "application/vnd.jupyter.widget-view+json": {
       "model_id": "",
       "version_major": 2,
       "version_minor": 0
      },
      "text/plain": [
       "FloatProgress(value=0.0, bar_style='info', description='Progress:', layout=Layout(height='25px', width='50%'),…"
      ]
     },
     "metadata": {},
     "output_type": "display_data"
    },
    {
     "name": "stdout",
     "output_type": "stream",
     "text": [
      "DataFrame[job_agent_id: int, userlogin_id: int]"
     ]
    }
   ],
   "source": [
    "jobuser_df"
   ]
  },
  {
   "cell_type": "code",
   "execution_count": 20,
   "metadata": {},
   "outputs": [
    {
     "data": {
      "application/vnd.jupyter.widget-view+json": {
       "model_id": "5f8e60090bc14d37b58364fe0bb3f319",
       "version_major": 2,
       "version_minor": 0
      },
      "text/plain": [
       "VBox()"
      ]
     },
     "metadata": {},
     "output_type": "display_data"
    },
    {
     "data": {
      "application/vnd.jupyter.widget-view+json": {
       "model_id": "",
       "version_major": 2,
       "version_minor": 0
      },
      "text/plain": [
       "FloatProgress(value=0.0, bar_style='info', description='Progress:', layout=Layout(height='25px', width='50%'),…"
      ]
     },
     "metadata": {},
     "output_type": "display_data"
    }
   ],
   "source": [
    "#Website_visits_jobuser_df: right join jobuser_df and Website_visits_df on job_agent_id to fill in the null user_id with user_id_updated\n",
    "# this can also be written as\n",
    "Website_visits_jobuser_df = Website_visits_df.join(jobuser_df, \"job_agent_id\", \"left\")\n",
    "\n",
    "\n",
    "#jobuser_df.registerTempTable(\"jobuser_df\")\n",
    "\n",
    "#Website_visits_jobuser_df = spark.sql(\"\"\"\n",
    "#    select *\n",
    "#    from jobuser_df\n",
    "#    right join Website_visits_df\n",
    "#    on\n",
    "#        jobuser_df.job_agent_id = Website_visits_df.job_agent_id\n",
    "#\"\"\"\n",
    "#)\n",
    "\n",
    "#Website_visits_jobuser_df.drop(\"user_id\")"
   ]
  },
  {
   "cell_type": "code",
   "execution_count": 21,
   "metadata": {},
   "outputs": [
    {
     "data": {
      "application/vnd.jupyter.widget-view+json": {
       "model_id": "6cbdefa3118e4fc7b9394fadbfbb90a0",
       "version_major": 2,
       "version_minor": 0
      },
      "text/plain": [
       "VBox()"
      ]
     },
     "metadata": {},
     "output_type": "display_data"
    },
    {
     "data": {
      "application/vnd.jupyter.widget-view+json": {
       "model_id": "",
       "version_major": 2,
       "version_minor": 0
      },
      "text/plain": [
       "FloatProgress(value=0.0, bar_style='info', description='Progress:', layout=Layout(height='25px', width='50%'),…"
      ]
     },
     "metadata": {},
     "output_type": "display_data"
    }
   ],
   "source": [
    "#3)\tIf there is only a user_hash_id then match it to a user_id only if that user_hash_id is used with only one user_id\n",
    "\n",
    "# take all user_ids that are only related to 1 user_id:\n",
    "# select user_hash_id, count(distinct user_id) from table\n",
    "# filter, where count(distinct user_id) = 1\n",
    "# take the resulting list of user_has_ids to join\n",
    "user_hash_df = spark.sql(\"\"\"\n",
    "    with hash_count as (\n",
    "        select user_hash, count(distinct user_id) as n_UID\n",
    "        from presentation.adobe_user_id_hash_de\n",
    "        group by user_hash)\n",
    "    select A.user_hash, A.user_id as user_id_hash\n",
    "    from presentation.adobe_user_id_hash_de A\n",
    "    right join hash_count B \n",
    "    on \n",
    "        A.user_hash = B.user_hash \n",
    "        and B.n_UID = 1\"\"\")\n",
    "\n",
    "#user_hash_df.show(n=5)"
   ]
  },
  {
   "cell_type": "code",
   "execution_count": 22,
   "metadata": {},
   "outputs": [
    {
     "data": {
      "application/vnd.jupyter.widget-view+json": {
       "model_id": "e37fccf59ac14047997dfe8c0f4da42a",
       "version_major": 2,
       "version_minor": 0
      },
      "text/plain": [
       "VBox()"
      ]
     },
     "metadata": {},
     "output_type": "display_data"
    },
    {
     "data": {
      "application/vnd.jupyter.widget-view+json": {
       "model_id": "",
       "version_major": 2,
       "version_minor": 0
      },
      "text/plain": [
       "FloatProgress(value=0.0, bar_style='info', description='Progress:', layout=Layout(height='25px', width='50%'),…"
      ]
     },
     "metadata": {},
     "output_type": "display_data"
    }
   ],
   "source": [
    "#Website_visits_df_final: it includes user_id from Website_visits_df, userlogin_id from jobuser_df and user_id_hash from user_hash_df\n",
    "# this can be simplified as:\n",
    "Website_visits_df_final = Website_visits_jobuser_df.join(user_hash_df, \"user_hash\", \"left\")\n",
    "\n",
    "# user_hash_df.registerTempTable(\"user_hash_df\")\n",
    "#Website_visits_jobuser_df.registerTempTable(\"Website_visits_jobuser_df\")\n",
    "\n",
    "#Website_visits_df_final = spark.sql(\"\"\"\n",
    "#    select *\n",
    "#    from Website_visits_jobuser_df\n",
    "#    left join user_hash_df\n",
    "#    on\n",
    "#        user_hash_df.user_hash = Website_visits_jobuser_df.user_hash\n",
    "#\"\"\")\n",
    "\n",
    "#Website_visits_df_final.show(n=5)"
   ]
  },
  {
   "cell_type": "code",
   "execution_count": 23,
   "metadata": {},
   "outputs": [
    {
     "data": {
      "application/vnd.jupyter.widget-view+json": {
       "model_id": "09d9d27b437346499f78908d010f00d6",
       "version_major": 2,
       "version_minor": 0
      },
      "text/plain": [
       "VBox()"
      ]
     },
     "metadata": {},
     "output_type": "display_data"
    },
    {
     "data": {
      "application/vnd.jupyter.widget-view+json": {
       "model_id": "",
       "version_major": 2,
       "version_minor": 0
      },
      "text/plain": [
       "FloatProgress(value=0.0, bar_style='info', description='Progress:', layout=Layout(height='25px', width='50%'),…"
      ]
     },
     "metadata": {},
     "output_type": "display_data"
    }
   ],
   "source": [
    "#from Website_visits_df_final map user_ids from user_hash_df and jobuser_df into Website_visits_df to fill null values\n",
    "#Note: mapping didn't work using several when/otherwise inside each other, so the code is written in seperated parts!\n",
    "\n",
    "# in pyspark notation without using spark.sql:\n",
    "Website_visits_df_final1 = Website_visits_df_final.select(\"user_id\", \"userlogin_id\", \"user_id_hash\", \"visit_date\")\n",
    "\n",
    "#Website_visits_df_final.registerTempTable(\"Website_visits_df_final\")\n",
    "#Website_visits_df_final1 = spark.sql(\"\"\"\n",
    "#    select \n",
    "#        user_id,\n",
    "#        userlogin_id,\n",
    "#        user_id_hash,\n",
    "#        visit_date\n",
    "#    from Website_visits_df_final\n",
    "#\"\"\")\n",
    "#Website_visits_df_final1.registerTempTable(\"Website_visits_df_final1\")\n",
    "\n",
    "Website_visits_df_final2 = Website_visits_df_final1.withColumn('new_user_id', \n",
    "                                                               F.when(F.col('user_id').isNotNull(), col('user_id')). \\\n",
    "                                                               otherwise(F.when(F.col('userlogin_id').isNotNull(), col('userlogin_id'))))\n",
    "\n",
    "Website_visits_df_final3 = Website_visits_df_final2.withColumn('new_user_id_1', \n",
    "                                                               F.when(F.col('new_user_id').isNotNull(), col('new_user_id')). \\\n",
    "                                                               otherwise(F.when(F.col('user_id_hash').isNotNull(), col('user_id_hash'))))\n",
    "\n",
    "Final_Website_visits_df = Website_visits_df_final3.filter(F.col(\"new_user_id_1\").isNotNull()).select(F.col(\"new_user_id_1\").alias(\"user_id\"), \"visit_date\")\n",
    "\n",
    "#Website_visits_df_final3.registerTempTable(\"Website_visits_df_final3\")\n",
    "#Filter null user ids from website visit data to speed up further joins\n",
    "#Final_Website_visits_df = spark.sql(\"\"\"\n",
    "#    select \n",
    "#        new_user_id_1 as user_id,\n",
    "#        visit_date\n",
    "#    from Website_visits_df_final3\n",
    "#    where new_user_id_1 IS NOT NULL\n",
    "#\"\"\")\n",
    "                                "
   ]
  },
  {
   "cell_type": "code",
   "execution_count": 28,
   "metadata": {},
   "outputs": [
    {
     "data": {
      "application/vnd.jupyter.widget-view+json": {
       "model_id": "8892abd07f3b4830b95b565e74302abd",
       "version_major": 2,
       "version_minor": 0
      },
      "text/plain": [
       "VBox()"
      ]
     },
     "metadata": {},
     "output_type": "display_data"
    },
    {
     "data": {
      "application/vnd.jupyter.widget-view+json": {
       "model_id": "",
       "version_major": 2,
       "version_minor": 0
      },
      "text/plain": [
       "FloatProgress(value=0.0, bar_style='info', description='Progress:', layout=Layout(height='25px', width='50%'),…"
      ]
     },
     "metadata": {},
     "output_type": "display_data"
    },
    {
     "name": "stdout",
     "output_type": "stream",
     "text": [
      "+-------+----------+\n",
      "|user_id|visit_date|\n",
      "+-------+----------+\n",
      "|2557149|2016-07-21|\n",
      "|6032768|2017-10-11|\n",
      "|6032768|2017-10-04|\n",
      "|6032768|2017-10-04|\n",
      "|6032768|2017-10-04|\n",
      "+-------+----------+\n",
      "only showing top 5 rows"
     ]
    }
   ],
   "source": [
    "#Final_Website_visits_df.show(n=5)"
   ]
  },
  {
   "cell_type": "code",
   "execution_count": 24,
   "metadata": {},
   "outputs": [
    {
     "data": {
      "application/vnd.jupyter.widget-view+json": {
       "model_id": "9c531fb9a4db406fb511c23c7aef6e22",
       "version_major": 2,
       "version_minor": 0
      },
      "text/plain": [
       "VBox()"
      ]
     },
     "metadata": {},
     "output_type": "display_data"
    },
    {
     "data": {
      "application/vnd.jupyter.widget-view+json": {
       "model_id": "",
       "version_major": 2,
       "version_minor": 0
      },
      "text/plain": [
       "FloatProgress(value=0.0, bar_style='info', description='Progress:', layout=Layout(height='25px', width='50%'),…"
      ]
     },
     "metadata": {},
     "output_type": "display_data"
    }
   ],
   "source": [
    "#Bring website visit (without null user_id) and email data frames together\n",
    "#web_email_df: Join Final_Website_visits_df table with email_log_df\n",
    "\n",
    "# again in pyspark notation without temp tables and sql\n",
    "web_email_df1 = email_log_df.join(Final_Website_visits_df, \"user_id\", \"left\")\n",
    "\n",
    "#Final_Website_visits_df.registerTempTable(\"Final_Website_visits_df\")\n",
    "#email_log_df.registerTempTable(\"email_log_df\")\n",
    "#web_email_df1 = spark.sql(\"\"\"\n",
    "#    select *\n",
    "#    from email_log_df as df1\n",
    "#    left join Final_Website_visits_df as df2\n",
    "#    on df1.user_id = df2.user_id\n",
    "#\"\"\")\n",
    "\n",
    "# select columns from the same table (i am not sure what your original select does)\n",
    "web_email_df1 = web_email_df1.select(\"user_id\", \"reg_date\", \"validated_account\", \"considered_date\",\"sub_state\",\"FourtyFiveDaysAgo\", \"visit_date\")\n",
    "#web_email_df1 = web_email_df1.select(email_log_df.user_id,\n",
    "#                                    email_log_df.reg_date,\n",
    "#                                    email_log_df.validated_account,\n",
    "#                                    email_log_df.considered_date,\n",
    "#                                    email_log_df.sub_state, \n",
    "#                                    email_log_df.FourtyFiveDaysAgo,\n",
    "#                                    Final_Website_visits_df.visit_date)\n",
    "\n",
    "# this shouldnt be replaced - even though there are probably no nulls in user_id: web_email_df1 = web_email_df1.fillna({'user_id':'0'})\n",
    "# this shouldnt be replaced - even though there are probably no nulls in reg_date: web_email_df1 = web_email_df1.fillna({'reg_date':'0'})\n",
    "# this shouldnt be replaced - even though there are probably no nulls in considered_date:web_email_df1 = web_email_df1.fillna({'considered_date':'0'})\n",
    "web_email_df1 = web_email_df1.fillna({'validated_account':'0'})\n",
    "web_email_df1 = web_email_df1.fillna({'sub_state':'0'})\n",
    "web_email_df1 = web_email_df1 = web_email_df1.fillna({'FourtyFiveDaysAgo':'0'})\n",
    "# this MUST NOT be replaced: web_email_df1 = web_email_df1.fillna({'visit_date':'0'})\n",
    "\n",
    "#web_email_df.show(n=5)"
   ]
  },
  {
   "cell_type": "code",
   "execution_count": 25,
   "metadata": {},
   "outputs": [
    {
     "data": {
      "application/vnd.jupyter.widget-view+json": {
       "model_id": "f3d774281478428fa4cb92699fcfa3a3",
       "version_major": 2,
       "version_minor": 0
      },
      "text/plain": [
       "VBox()"
      ]
     },
     "metadata": {},
     "output_type": "display_data"
    },
    {
     "data": {
      "application/vnd.jupyter.widget-view+json": {
       "model_id": "",
       "version_major": 2,
       "version_minor": 0
      },
      "text/plain": [
       "FloatProgress(value=0.0, bar_style='info', description='Progress:', layout=Layout(height='25px', width='50%'),…"
      ]
     },
     "metadata": {},
     "output_type": "display_data"
    }
   ],
   "source": [
    "# Updated: second UK rule, which also looks at account validation + existing subscription\n",
    "#ADD UK Rule considered:\n",
    "\n",
    "#Adding FourtyFiveVisits collumn to calculate UK_rule that is the number of website visits up to 45 days ago, \n",
    "#i.e. between 20/02/2020 and 5/04/2020 > did the user visit the website within the last 45 days\n",
    "\n",
    "#add date_difference which is 45 days before user visiting the website\n",
    "web_email_df1 = web_email_df1.select(\"user_id\", \"reg_date\", \"validated_account\", \"considered_date\", \"sub_state\", \"FourtyFiveDaysAgo\", \"visit_date\"). \\\n",
    "    distinct(). \\\n",
    "    withColumn('date_difference', datediff('FourtyFiveDaysAgo', 'visit_date'))\n",
    "\n",
    "#add UK_rull_considered based on date_difference\n",
    "web_email_df_UK1 = web_email_df1.select(\"user_id\", \"reg_date\", \"validated_account\", \"considered_date\", \"sub_state\", \"FourtyFiveDaysAgo\", \"visit_date\", \"date_difference\"). \\\n",
    "    distinct(). \\\n",
    "    groupBy(\"user_id\", \"reg_date\", \"validated_account\", \"considered_date\", \"sub_state\"). \\\n",
    "    agg(F.sum(F.when(F.col(\"date_difference\") <= 45, F.lit(1)).otherwise(0)).alias(\"FourtyFiveVisits\")). \\\n",
    "    withColumn('UK_rule_hasVisit', F.when(F.col('FourtyFiveVisits') >=  1, 1).otherwise(0)).\\\n",
    "    withColumn('UK_rule_hasVisitSubValidated_account', F.when((F.col('FourtyFiveVisits') >=  1) & (F.col(\"validated_account\") > 0) & (F.col(\"sub_state\") > 0), 1).otherwise(0))\n",
    "\n",
    "web_email_df_UK = web_email_df_UK1.select(\"user_id\", \"reg_date\", \"validated_account\", \"considered_date\", \"sub_state\",\"UK_rule_hasVisit\", \"UK_rule_hasVisitSubValidated_account\")\n"
   ]
  },
  {
   "cell_type": "code",
   "execution_count": 37,
   "metadata": {},
   "outputs": [
    {
     "data": {
      "application/vnd.jupyter.widget-view+json": {
       "model_id": "ca5f67ec06234007b5725429644e60db",
       "version_major": 2,
       "version_minor": 0
      },
      "text/plain": [
       "VBox()"
      ]
     },
     "metadata": {},
     "output_type": "display_data"
    },
    {
     "data": {
      "application/vnd.jupyter.widget-view+json": {
       "model_id": "",
       "version_major": 2,
       "version_minor": 0
      },
      "text/plain": [
       "FloatProgress(value=0.0, bar_style='info', description='Progress:', layout=Layout(height='25px', width='50%'),…"
      ]
     },
     "metadata": {},
     "output_type": "display_data"
    },
    {
     "name": "stdout",
     "output_type": "stream",
     "text": [
      "+---------------+-------------+------------------+-------------+-------------------+--------------------+\n",
      "|considered_date|registrations|validated_accounts|subscriptions|UK_rule_visits_only|UK_rule_visitsSubVal|\n",
      "+---------------+-------------+------------------+-------------+-------------------+--------------------+\n",
      "|     2020-01-01|         1258|               736|          517|               1146|                 416|\n",
      "|     2020-01-02|         4058|              2478|         1825|               3578|                1433|\n",
      "|     2020-01-03|         6808|              4348|         3248|               6072|                2562|\n",
      "|     2020-01-04|         9025|              5922|         4392|               8079|                3474|\n",
      "|     2020-01-05|        11626|              7666|         5648|              10443|                4467|\n",
      "|     2020-01-06|        15114|              9979|         7355|              13619|                5828|\n",
      "|     2020-01-07|        18609|             12405|         9221|              16748|                7335|\n",
      "|     2020-01-08|        22117|             14817|        11096|              19863|                8812|\n",
      "|     2020-01-09|        25068|             16887|        12744|              22470|               10086|\n",
      "|     2020-01-10|        27446|             18609|        14098|              24580|               11145|\n",
      "|     2020-01-11|        29303|             19943|        15124|              26252|               11949|\n",
      "|     2020-01-12|        31982|             21860|        16587|              28675|               13132|\n",
      "|     2020-01-13|        35416|             24287|        18566|              31696|               14667|\n",
      "|     2020-01-14|        38954|             26783|        20605|              34841|               16259|\n",
      "|     2020-01-15|        42228|             29054|        22412|              37650|               17647|\n",
      "|     2020-01-16|        45441|             31365|        24293|              40429|               19101|\n",
      "|     2020-01-17|        47887|             33068|        25682|              42605|               20172|\n",
      "|     2020-01-18|        49874|             34368|        26709|              44395|               20975|\n",
      "|     2020-01-19|        52313|             36021|        28036|              46603|               22022|\n",
      "|     2020-01-20|        55779|             38383|        29998|              49586|               23530|\n",
      "|     2020-01-21|        59095|             40666|        31966|              52480|               25041|\n",
      "|     2020-01-22|        62396|             42895|        33807|              55373|               26433|\n",
      "|     2020-01-23|        65571|             45029|        35523|              58153|               27746|\n",
      "|     2020-01-24|        67984|             46727|        36894|              60281|               28774|\n",
      "|     2020-01-25|        69845|             47972|        37857|              61952|               29511|\n",
      "|     2020-01-26|        72349|             49697|        39183|              64192|               30534|\n",
      "|     2020-01-27|        75905|             52083|        41090|              67306|               31995|\n",
      "|     2020-01-28|        79504|             54556|        43116|              70374|               33516|\n",
      "|     2020-01-29|        82717|             56776|        44958|              73147|               34922|\n",
      "|     2020-01-30|        85747|             58886|        46692|              75769|               36260|\n",
      "|     2020-01-31|        88045|             60526|        48017|              77791|               37276|\n",
      "|     2020-02-01|        89929|             61878|        49101|              79455|               38102|\n",
      "|     2020-02-02|        92547|             63684|        50523|              81813|               39221|\n",
      "|     2020-02-03|        96031|             66098|        52524|              84804|               40732|\n",
      "|     2020-02-04|        99410|             68542|        54539|              87670|               42241|\n",
      "|     2020-02-05|       103057|             71127|        56702|              90790|               43869|\n",
      "|     2020-02-06|       105996|             73245|        58467|              93321|               45195|\n",
      "|     2020-02-07|       108399|             74971|        59862|              95383|               46235|\n",
      "|     2020-02-08|       110193|             76248|        60813|              96981|               46977|\n",
      "|     2020-02-09|       112551|             77914|        62079|              99112|               48002|\n",
      "|     2020-02-10|       115770|             80168|        63939|             101941|               49445|\n",
      "|     2020-02-11|       119377|             82739|        66098|             105004|               51046|\n",
      "|     2020-02-12|       122708|             85120|        68131|             107805|               52562|\n",
      "|     2020-02-13|       126667|             87460|        70108|             110705|               54015|\n",
      "|     2020-02-14|       129307|             89058|        71406|             112680|               55001|\n",
      "|     2020-02-15|       131426|             90313|        72381|             114318|               55741|\n",
      "|     2020-02-16|       134319|             92019|        73729|             116622|               56777|\n",
      "|     2020-02-17|       138369|             94410|        75711|             119746|               58324|\n",
      "|     2020-02-18|       142397|             96743|        77645|             122772|               59786|\n",
      "|     2020-02-19|       146155|             99054|        79595|             125667|               61252|\n",
      "|     2020-02-20|       149617|            101144|        81331|             128254|               62599|\n",
      "|     2020-02-21|       152250|            102704|        82628|             130196|               63581|\n",
      "|     2020-02-22|       154204|            103930|        83612|             131675|               64326|\n",
      "|     2020-02-23|       156966|            105594|        84932|             133837|               65335|\n",
      "|     2020-02-24|       160497|            107736|        86706|             136536|               66690|\n",
      "|     2020-02-25|       164378|            109990|        88651|             139424|               68180|\n",
      "|     2020-02-26|       168134|            112182|        90496|             142194|               69503|\n",
      "|     2020-02-27|       171402|            114180|        92180|             144610|               70782|\n",
      "|     2020-02-28|       173918|            115774|        93476|             146536|               71794|\n",
      "|     2020-02-29|       176015|            117023|        94507|             148193|               72588|\n",
      "|     2020-03-01|       178950|            118760|        95948|             150435|               73677|\n",
      "|     2020-03-02|       182947|            121040|        97855|             153454|               75120|\n",
      "|     2020-03-03|       187244|            123482|        99943|             156621|               76695|\n",
      "|     2020-03-04|       191595|            125950|       102069|             159956|               78337|\n",
      "|     2020-03-05|       195622|            128261|       104018|             163044|               79839|\n",
      "|     2020-03-06|       198733|            130028|       105512|             165470|               81021|\n",
      "|     2020-03-07|       201023|            131282|       106519|             167316|               81798|\n",
      "|     2020-03-08|       203827|            132873|       107843|             169601|               82840|\n",
      "|     2020-03-09|       207975|            135222|       109872|             172867|               84421|\n",
      "|     2020-03-10|       212340|            137613|       111992|             176379|               86189|\n",
      "|     2020-03-11|       215995|            139775|       113885|             179383|               87821|\n",
      "|     2020-03-12|       219109|            141584|       115476|             181941|               89201|\n",
      "|     2020-03-13|       221111|            142805|       116522|             183612|               90104|\n",
      "|     2020-03-14|       222597|            143676|       117240|             184863|               90734|\n",
      "|     2020-03-15|       224250|            144674|       118075|             186272|               91470|\n",
      "|     2020-03-16|       226337|            145836|       119102|             187931|               92350|\n",
      "|     2020-03-17|       228460|            147046|       120144|             189709|               93290|\n",
      "|     2020-03-18|       230591|            148276|       121203|             191401|               94219|\n",
      "|     2020-03-19|       232700|            149507|       122295|             193113|               95159|\n",
      "|     2020-03-20|       234294|            150455|       123119|             194432|               95869|\n",
      "|     2020-03-21|       235814|            151375|       123826|             195749|               96512|\n",
      "|     2020-03-22|       237390|            152293|       124585|             197119|               97177|\n",
      "|     2020-03-23|       239866|            153724|       125825|             199138|               98271|\n",
      "|     2020-03-24|       242410|            155111|       126997|             201256|               99290|\n",
      "|     2020-03-25|       245099|            156579|       128225|             203462|              100362|\n",
      "|     2020-03-26|       247720|            157997|       129440|             205683|              101427|\n",
      "|     2020-03-27|       249927|            159276|       130547|             207568|              102409|\n",
      "|     2020-03-28|       251715|            160290|       131415|             209075|              103178|\n",
      "|     2020-03-29|       253947|            161513|       132446|             210962|              104096|\n",
      "|     2020-03-30|       257051|            163223|       133992|             213469|              105422|\n",
      "|     2020-03-31|       259883|            164759|       135374|             215779|              106607|\n",
      "|     2020-04-01|       263700|            166597|       137117|             218631|              108042|\n",
      "|     2020-04-02|       268101|            168501|       138957|             221620|              109473|\n",
      "|     2020-04-03|       271493|            170142|       140523|             223771|              110625|\n",
      "|     2020-04-04|       273831|            171274|       141593|             225095|              111376|\n",
      "|     2020-04-05|       276429|            172542|       142748|             226555|              112164|\n",
      "|     2020-04-06|       280426|            174346|       144509|             228780|              113316|\n",
      "|     2020-04-07|       284360|            176179|       146283|             231000|              114509|\n",
      "|     2020-04-08|       288083|            177988|       147990|             232969|              115615|\n",
      "|     2020-04-09|       291094|            179472|       149387|             234578|              116536|\n",
      "+---------------+-------------+------------------+-------------+-------------------+--------------------+\n",
      "only showing top 100 rows"
     ]
    }
   ],
   "source": [
    "#summary table: How many email audience is considered within UK rule per consider day\n",
    "Grouped_web_email_df_UK= web_email_df_UK.groupBy(\"considered_date\").\\\n",
    "    agg(F.countDistinct(\"user_id\").alias(\"registrations\"),\n",
    "        F.countDistinct(F.when(F.col(\"validated_account\") >=1, F.col(\"user_id\"))).alias(\"validated_accounts\"),\n",
    "        F.countDistinct(F.when(F.col(\"sub_state\") >=1, F.col(\"user_id\"))).alias(\"subscriptions\"),\n",
    "        F.countDistinct(F.when(F.col(\"UK_rule_hasVisit\") >=1, F.col(\"user_id\"))).alias(\"UK_rule_visits_only\"),\n",
    "        F.countDistinct(F.when(F.col(\"UK_rule_hasVisitSubValidated_account\") >=1, F.col(\"user_id\"))).alias(\"UK_rule_visitsSubVal\")).\\\n",
    "    sort(\"considered_date\").show(100)\n"
   ]
  },
  {
   "cell_type": "code",
   "execution_count": null,
   "metadata": {},
   "outputs": [],
   "source": [
    "# next steps: \n",
    "# 1) create output in excel (above table)\n",
    "# 2) compare outcome against state in subscription table (use e.g. hue to understand subscription table)\n",
    "# 3) user ssa data as alternative to website visits"
   ]
  },
  {
   "cell_type": "code",
   "execution_count": 26,
   "metadata": {},
   "outputs": [
    {
     "data": {
      "application/vnd.jupyter.widget-view+json": {
       "model_id": "ac56c9a53bdd4974ac66902133d3afd0",
       "version_major": 2,
       "version_minor": 0
      },
      "text/plain": [
       "VBox()"
      ]
     },
     "metadata": {},
     "output_type": "display_data"
    },
    {
     "data": {
      "application/vnd.jupyter.widget-view+json": {
       "model_id": "",
       "version_major": 2,
       "version_minor": 0
      },
      "text/plain": [
       "FloatProgress(value=0.0, bar_style='info', description='Progress:', layout=Layout(height='25px', width='50%'),…"
      ]
     },
     "metadata": {},
     "output_type": "display_data"
    }
   ],
   "source": [
    "# next steps: \n",
    "# 1) create output in excel (above table)\n",
    "Grouped_web_email_df_UK= web_email_df_UK.groupBy(\"considered_date\").\\\n",
    "    agg(F.countDistinct(\"user_id\").alias(\"registrations\"),\n",
    "        F.countDistinct(F.when(F.col(\"validated_account\") >=1, F.col(\"user_id\"))).alias(\"validated_accounts\"),\n",
    "        F.countDistinct(F.when(F.col(\"sub_state\") >=1, F.col(\"user_id\"))).alias(\"subscriptions\"),\n",
    "        F.countDistinct(F.when(F.col(\"UK_rule_hasVisit\") >=1, F.col(\"user_id\"))).alias(\"UK_rule_visits_only\"),\n",
    "        F.countDistinct(F.when(F.col(\"UK_rule_hasVisitSubValidated_account\") >=1, F.col(\"user_id\"))).alias(\"UK_rule_visitsSubVal\")).\\\n",
    "    sort(\"considered_date\")\n",
    "\n",
    "# Grouped_web_email_df_UK.repartition(1).write.format('com.databricks.spark.csv'). \\\n",
    "#                 option(\"header\", \"true\").mode('overwrite'). \\\n",
    "#                 save('s3://live-emr-notebooks-stst/Parastoo/e-70RUMRMNWLHH4YBMCBQ2PUXAB/web_email_df_UK.csv')\n"
   ]
  },
  {
   "cell_type": "code",
   "execution_count": 27,
   "metadata": {},
   "outputs": [
    {
     "data": {
      "application/vnd.jupyter.widget-view+json": {
       "model_id": "a543035bd9424c219ce76d16492212ce",
       "version_major": 2,
       "version_minor": 0
      },
      "text/plain": [
       "VBox()"
      ]
     },
     "metadata": {},
     "output_type": "display_data"
    },
    {
     "data": {
      "application/vnd.jupyter.widget-view+json": {
       "model_id": "",
       "version_major": 2,
       "version_minor": 0
      },
      "text/plain": [
       "FloatProgress(value=0.0, bar_style='info', description='Progress:', layout=Layout(height='25px', width='50%'),…"
      ]
     },
     "metadata": {},
     "output_type": "display_data"
    }
   ],
   "source": [
    "# 2) compare outcome against state in subscription table (use e.g. hue to understand subscription table)\n",
    "\n",
    "#2.1) Compare subscription table (left side) data and web_email_df_UK table (right side) on: \n",
    "#### 2.1.1) How many records found in subscriptiondate_df and the matched records from web_email_df_UK (left join): 286145\n",
    "#### 2.1.2) How many records found in web_email_df_UK and matched records from subscriptiondate_df when (right join): 383870*\n",
    "#### 2.1.3) How many common records found in both subscriptiondate_df and web_email_df_UK (inner join): 215613*\n",
    "\n",
    "#finding(s):\n",
    "    #1. There are 168257 (383870 - 215613) distinct users that are covered by our UK rule audience but are NOT in subscription table\n",
    "        #This counts for losing about 10k (i.e., 9897) distinct user-ids every week, if our udience rule is NOT implemented.\n",
    "\n",
    "    #2. There are 70532 (286145 - 215613) distinct users in subscription table that our UK_rule does NOT cover them. \n",
    "        # , reletively small number (70k in 17 weeks, about 4k per week), \n",
    "        # but the question is why? Should/How to optimise the audience rule to cover these users?\n",
    "\n",
    "#--------------------------------------------------------------------------------------------------------------------\n",
    "#2.2) sub_web_email_df_UK_lastDay: inner join subscription table and web_email_df_UK and filter for 2020-05-08:\n",
    "\n",
    "    # 2.2.1) number of distinct user_id in sub_web_email_df_UK_right on one day (2020-05-08)\n",
    "        # with registration: 383310* \n",
    "        # with registration + validated account (UK_rule_hasVisit): 277956\n",
    "        # with registration + validated account + subscription (UK_rule_visitsSubVal): 136702\n",
    "        \n",
    "    # 2.2.2) number of distinct user_id in sub_web_email_df_UK_inner on one day (2020-05-08)\n",
    "        # with registration: 215143*\n",
    "        # with registration + validated account (UK_rule_hasVisit): 171664\n",
    "        # with registration + validated account + subscription (UK_rule_hasVisitSubValidated): 136702\n",
    "\n",
    "#finding(s):\n",
    "    # UK_rule_hasVisitSubValidated generates similar number of distinct users (136702) in both inner and right joins on 2020-05-08\n",
    "    \n",
    "#Note: \n",
    "    #*550 users are not matched as registered. \n",
    "#--------------------------------------------------------------------------------------------------------------------        \n",
    "#2.3) Contingency table UK rule 1 vs. active (in subscription). and uk rule 2 vs. active (in subscription).\n",
    "# Note: I'm not sure about this logic. Pl check!\n",
    " \n",
    "    #2.3.1) Contingency table UK rule 1 vs. active (in subscription).\n",
    "        #nr of 1: 171664\n",
    "        #nr of 0: 43479\n",
    "    \n",
    "    #2.3.2) Contingency table uk rule 2 vs. active (in subscription).\n",
    "        #nr of 1: 136702\n",
    "        #nr of 0: 78441      "
   ]
  },
  {
   "cell_type": "code",
   "execution_count": 27,
   "metadata": {},
   "outputs": [
    {
     "data": {
      "application/vnd.jupyter.widget-view+json": {
       "model_id": "5bb9346b2d9c4fd89ae913421832ea34",
       "version_major": 2,
       "version_minor": 0
      },
      "text/plain": [
       "VBox()"
      ]
     },
     "metadata": {},
     "output_type": "display_data"
    },
    {
     "data": {
      "application/vnd.jupyter.widget-view+json": {
       "model_id": "",
       "version_major": 2,
       "version_minor": 0
      },
      "text/plain": [
       "FloatProgress(value=0.0, bar_style='info', description='Progress:', layout=Layout(height='25px', width='50%'),…"
      ]
     },
     "metadata": {},
     "output_type": "display_data"
    }
   ],
   "source": [
    "#2.1) subs_web_email_df_UK_finalDay: import data from subscription table and left join with web_email_df_UK_finalDay (last day in web_email_df_UK)\n",
    "subscriptiondate_df = spark.sql(\"\"\"\n",
    "    select \n",
    "        userlogin_id as user_id\n",
    "        , isactive \n",
    "        , to_date(subscriptiondate) as sub_date\n",
    "        , dailysentcounter\n",
    "        , frequency\n",
    "        , manualunsubscribe   \n",
    "    from stepstonede.subscription\n",
    "    where subscriptiondate >= '2020-01-01' \n",
    "    \"\"\")\n",
    "\n",
    "#subscriptiondate_df.show(n=10)\n"
   ]
  },
  {
   "cell_type": "code",
   "execution_count": 29,
   "metadata": {},
   "outputs": [
    {
     "data": {
      "application/vnd.jupyter.widget-view+json": {
       "model_id": "0cfdc639c0c14d889d1b1c0de52e9011",
       "version_major": 2,
       "version_minor": 0
      },
      "text/plain": [
       "VBox()"
      ]
     },
     "metadata": {},
     "output_type": "display_data"
    },
    {
     "data": {
      "application/vnd.jupyter.widget-view+json": {
       "model_id": "",
       "version_major": 2,
       "version_minor": 0
      },
      "text/plain": [
       "FloatProgress(value=0.0, bar_style='info', description='Progress:', layout=Layout(height='25px', width='50%'),…"
      ]
     },
     "metadata": {},
     "output_type": "display_data"
    }
   ],
   "source": [
    "#2.1.1) How many records found in the left side (subscriptiondate_df) and the common records found in web_email_df_UK (left join)\n",
    "\n",
    "#leftjoin subscriptiondate_df with web_email_df_UK:\n",
    "#to get all the records found in the left side (subscriptiondate_df) and the common records found in (web_email_df_UK) \n",
    "sub_web_email_df_UK_left = subscriptiondate_df.join(web_email_df_UK, \"user_id\", \"left\")"
   ]
  },
  {
   "cell_type": "code",
   "execution_count": 34,
   "metadata": {},
   "outputs": [
    {
     "data": {
      "application/vnd.jupyter.widget-view+json": {
       "model_id": "15852b9067b24011969f9aaeedd2c184",
       "version_major": 2,
       "version_minor": 0
      },
      "text/plain": [
       "VBox()"
      ]
     },
     "metadata": {},
     "output_type": "display_data"
    },
    {
     "data": {
      "application/vnd.jupyter.widget-view+json": {
       "model_id": "",
       "version_major": 2,
       "version_minor": 0
      },
      "text/plain": [
       "FloatProgress(value=0.0, bar_style='info', description='Progress:', layout=Layout(height='25px', width='50%'),…"
      ]
     },
     "metadata": {},
     "output_type": "display_data"
    },
    {
     "name": "stdout",
     "output_type": "stream",
     "text": [
      "+----------------------+\n",
      "|subscribed_constructed|\n",
      "+----------------------+\n",
      "|                286145|\n",
      "+----------------------+"
     ]
    }
   ],
   "source": [
    "#how many distinct user_id found in subscriptiondate_df and the common records found in web_email_df_UK?\n",
    "sub_web_email_df_UK_left.agg(F.countDistinct(\"user_id\").alias(\"subscribed_constructed\")).show()"
   ]
  },
  {
   "cell_type": "code",
   "execution_count": 28,
   "metadata": {},
   "outputs": [
    {
     "data": {
      "application/vnd.jupyter.widget-view+json": {
       "model_id": "763273f376854516948ee227c2e423b6",
       "version_major": 2,
       "version_minor": 0
      },
      "text/plain": [
       "VBox()"
      ]
     },
     "metadata": {},
     "output_type": "display_data"
    },
    {
     "data": {
      "application/vnd.jupyter.widget-view+json": {
       "model_id": "",
       "version_major": 2,
       "version_minor": 0
      },
      "text/plain": [
       "FloatProgress(value=0.0, bar_style='info', description='Progress:', layout=Layout(height='25px', width='50%'),…"
      ]
     },
     "metadata": {},
     "output_type": "display_data"
    }
   ],
   "source": [
    "#2.1.2) How many records found in web_email_df_UK and return data from subscriptiondate_df when it matches (right join)\n",
    "\n",
    "#to select all records from web_email_df_UK and return data from subscriptiondate_df when it matches\n",
    "sub_web_email_df_UK_right = subscriptiondate_df.join(web_email_df_UK, \"user_id\", \"right\")"
   ]
  },
  {
   "cell_type": "code",
   "execution_count": 32,
   "metadata": {},
   "outputs": [
    {
     "data": {
      "application/vnd.jupyter.widget-view+json": {
       "model_id": "8f31302daaf642cb999180c0057bdca9",
       "version_major": 2,
       "version_minor": 0
      },
      "text/plain": [
       "VBox()"
      ]
     },
     "metadata": {},
     "output_type": "display_data"
    },
    {
     "data": {
      "application/vnd.jupyter.widget-view+json": {
       "model_id": "",
       "version_major": 2,
       "version_minor": 0
      },
      "text/plain": [
       "FloatProgress(value=0.0, bar_style='info', description='Progress:', layout=Layout(height='25px', width='50%'),…"
      ]
     },
     "metadata": {},
     "output_type": "display_data"
    },
    {
     "name": "stdout",
     "output_type": "stream",
     "text": [
      "+----------------------+\n",
      "|constructed_rules_only|\n",
      "+----------------------+\n",
      "|                383870|\n",
      "+----------------------+"
     ]
    }
   ],
   "source": [
    "# how many distinct user_id found in web_email_df_UK and found in subscriptiondate_df\n",
    "sub_web_email_df_UK_right.agg(F.countDistinct(\"user_id\").alias(\"constructed_rule_only\")).show()"
   ]
  },
  {
   "cell_type": "code",
   "execution_count": 29,
   "metadata": {},
   "outputs": [
    {
     "data": {
      "application/vnd.jupyter.widget-view+json": {
       "model_id": "402df22697564082b8cd44782db77c29",
       "version_major": 2,
       "version_minor": 0
      },
      "text/plain": [
       "VBox()"
      ]
     },
     "metadata": {},
     "output_type": "display_data"
    },
    {
     "data": {
      "application/vnd.jupyter.widget-view+json": {
       "model_id": "",
       "version_major": 2,
       "version_minor": 0
      },
      "text/plain": [
       "FloatProgress(value=0.0, bar_style='info', description='Progress:', layout=Layout(height='25px', width='50%'),…"
      ]
     },
     "metadata": {},
     "output_type": "display_data"
    }
   ],
   "source": [
    "# 2.1.3) How many common records found in both subscriptiondate_df and web_email_df_UK (inner join)\n",
    "\n",
    "# the common records found in both subscriptiondate_df and web_email_df_UK\n",
    "sub_web_email_df_UK_inner = subscriptiondate_df.join(web_email_df_UK, \"user_id\", \"inner\")"
   ]
  },
  {
   "cell_type": "code",
   "execution_count": 31,
   "metadata": {},
   "outputs": [
    {
     "data": {
      "application/vnd.jupyter.widget-view+json": {
       "model_id": "ed53b6948ea2491eb91449556eb00408",
       "version_major": 2,
       "version_minor": 0
      },
      "text/plain": [
       "VBox()"
      ]
     },
     "metadata": {},
     "output_type": "display_data"
    },
    {
     "data": {
      "application/vnd.jupyter.widget-view+json": {
       "model_id": "",
       "version_major": 2,
       "version_minor": 0
      },
      "text/plain": [
       "FloatProgress(value=0.0, bar_style='info', description='Progress:', layout=Layout(height='25px', width='50%'),…"
      ]
     },
     "metadata": {},
     "output_type": "display_data"
    },
    {
     "name": "stdout",
     "output_type": "stream",
     "text": [
      "+--------------------------------+\n",
      "|similar_subscription_constructed|\n",
      "+--------------------------------+\n",
      "|                          215613|\n",
      "+--------------------------------+"
     ]
    }
   ],
   "source": [
    "# how many distinct user_id found in both web_email_df_UK and subscriptiondate_df\n",
    "sub_web_email_df_UK_inner.agg(F.countDistinct(\"user_id\").alias(\"common_users_subscription_constructed\")).show()"
   ]
  },
  {
   "cell_type": "code",
   "execution_count": null,
   "metadata": {},
   "outputs": [],
   "source": [
    "#2.1) Compare subscription table data and our UK_rule audience logic in this script:\n",
    "\n",
    "#Findings from the data that is retrieved between (2020-01-01, 2020-05-08) a period of 4 months and 1 week:\n",
    "# 2.1.1) There are 215613 common distinct user_id in subscription table and UK_rule audience (inner join)\n",
    "# 2.1.2) There are 383870 records that include all of UK_rule audience and the matched users in subscription table (right join)\n",
    "# 2.1.3) There are 286145 records that include all of subscription table and the matched users in UK_rule audience (left join)\n",
    "\n",
    "# 2 Conclusions: \n",
    "#1. There are 168257 (383870 - 215613) distinct users that are covered by our UK rule audience but are NOT in subscription table\n",
    "#   This counts for losing about 10k (i.e., 9897) distinct user-ids on average every week, if the udience rule is NOT implemented.\n",
    "\n",
    "#2. There are 70532 (286145 - 215613) distinct users in subscription table that our UK_rule does NOT cover them. \n",
    "    # Reletively small number (70k in 17 weeks, about 4k per week) but the question is why? \n",
    "    # How to optimise the audience rule to cover these users?"
   ]
  },
  {
   "cell_type": "code",
   "execution_count": 30,
   "metadata": {},
   "outputs": [
    {
     "data": {
      "application/vnd.jupyter.widget-view+json": {
       "model_id": "14c403151fdd4741832fceccaf60e2f4",
       "version_major": 2,
       "version_minor": 0
      },
      "text/plain": [
       "VBox()"
      ]
     },
     "metadata": {},
     "output_type": "display_data"
    },
    {
     "data": {
      "application/vnd.jupyter.widget-view+json": {
       "model_id": "",
       "version_major": 2,
       "version_minor": 0
      },
      "text/plain": [
       "FloatProgress(value=0.0, bar_style='info', description='Progress:', layout=Layout(height='25px', width='50%'),…"
      ]
     },
     "metadata": {},
     "output_type": "display_data"
    }
   ],
   "source": [
    "# 2.3. Compare subscription table data and our UK_rule audience logic in one day ('2020-05-08')\n",
    "\n",
    "# 2.3.1.) 2020-05-08: all of the users in web_email_df_UK and the matched users from subscription table \n",
    "#filter sub_web_email_df_UK_right to show only last subscirbed date (i.e., '2020-05-08')\n",
    "sub_web_email_df_UK_right_lastDay = sub_web_email_df_UK_right.filter(F.col(\"considered_date\") == '2020-05-08')"
   ]
  },
  {
   "cell_type": "code",
   "execution_count": 34,
   "metadata": {},
   "outputs": [
    {
     "data": {
      "application/vnd.jupyter.widget-view+json": {
       "model_id": "6833e940d7804231af062db4dad54aca",
       "version_major": 2,
       "version_minor": 0
      },
      "text/plain": [
       "VBox()"
      ]
     },
     "metadata": {},
     "output_type": "display_data"
    },
    {
     "data": {
      "application/vnd.jupyter.widget-view+json": {
       "model_id": "",
       "version_major": 2,
       "version_minor": 0
      },
      "text/plain": [
       "FloatProgress(value=0.0, bar_style='info', description='Progress:', layout=Layout(height='25px', width='50%'),…"
      ]
     },
     "metadata": {},
     "output_type": "display_data"
    },
    {
     "name": "stdout",
     "output_type": "stream",
     "text": [
      "+---------------+-------------+------------------+-------------+-------------------+--------------------+\n",
      "|considered_date|registrations|validated_accounts|subscriptions|UK_rule_visits_only|UK_rule_visitsSubVal|\n",
      "+---------------+-------------+------------------+-------------+-------------------+--------------------+\n",
      "|     2020-05-08|       383310|            218032|       214974|             277956|              136702|\n",
      "+---------------+-------------+------------------+-------------+-------------------+--------------------+"
     ]
    }
   ],
   "source": [
    "# number of distinct user_id in sub_web_email_df_UK_right on one day (2020-05-08)\n",
    "    # with registration: 383310\n",
    "    # with registration + validated account (UK_rule_hasVisit): 277956\n",
    "    # with registration + validated account + subscription (UK_rule_visitsSubVal): 136702\n",
    "\n",
    "sub_web_email_df_UK_lastDay_right= sub_web_email_df_UK_right_lastDay.groupBy(\"considered_date\").\\\n",
    "    agg(F.countDistinct(\"user_id\").alias(\"registrations\"),\n",
    "        F.countDistinct(F.when(F.col(\"validated_account\") >=1, F.col(\"user_id\"))).alias(\"validated_accounts\"),\n",
    "        F.countDistinct(F.when(F.col(\"sub_state\") >=1, F.col(\"user_id\"))).alias(\"subscriptions\"),\n",
    "        F.countDistinct(F.when(F.col(\"UK_rule_hasVisit\") >=1, F.col(\"user_id\"))).alias(\"UK_rule_visits_only\"),\n",
    "        F.countDistinct(F.when(F.col(\"UK_rule_hasVisitSubValidated_account\") >=1, F.col(\"user_id\"))).alias(\"UK_rule_visitsSubVal\")).\\\n",
    "    sort(\"considered_date\").show()"
   ]
  },
  {
   "cell_type": "code",
   "execution_count": 37,
   "metadata": {},
   "outputs": [
    {
     "data": {
      "application/vnd.jupyter.widget-view+json": {
       "model_id": "d164d3f7d7aa4e7b848acc61bebdd3c9",
       "version_major": 2,
       "version_minor": 0
      },
      "text/plain": [
       "VBox()"
      ]
     },
     "metadata": {},
     "output_type": "display_data"
    },
    {
     "data": {
      "application/vnd.jupyter.widget-view+json": {
       "model_id": "",
       "version_major": 2,
       "version_minor": 0
      },
      "text/plain": [
       "FloatProgress(value=0.0, bar_style='info', description='Progress:', layout=Layout(height='25px', width='50%'),…"
      ]
     },
     "metadata": {},
     "output_type": "display_data"
    }
   ],
   "source": [
    "# 2.3.2) 2020-05-08: only matched users in web_email_df_UK and subscription table \n",
    "#filter sub_web_email_df_UK_right to show only last subscirbed date (i.e., '2020-05-08')\n",
    "sub_web_email_df_UK_inner_lastDay = sub_web_email_df_UK_inner.filter(F.col(\"considered_date\") == '2020-05-08')"
   ]
  },
  {
   "cell_type": "code",
   "execution_count": 38,
   "metadata": {},
   "outputs": [
    {
     "data": {
      "application/vnd.jupyter.widget-view+json": {
       "model_id": "8b3651fff25645a1a88819a8b37b5dee",
       "version_major": 2,
       "version_minor": 0
      },
      "text/plain": [
       "VBox()"
      ]
     },
     "metadata": {},
     "output_type": "display_data"
    },
    {
     "data": {
      "application/vnd.jupyter.widget-view+json": {
       "model_id": "",
       "version_major": 2,
       "version_minor": 0
      },
      "text/plain": [
       "FloatProgress(value=0.0, bar_style='info', description='Progress:', layout=Layout(height='25px', width='50%'),…"
      ]
     },
     "metadata": {},
     "output_type": "display_data"
    },
    {
     "name": "stdout",
     "output_type": "stream",
     "text": [
      "+---------------+-------------+------------------+-------------+-------------------+--------------------+\n",
      "|considered_date|registrations|validated_accounts|subscriptions|UK_rule_visits_only|UK_rule_visitsSubVal|\n",
      "+---------------+-------------+------------------+-------------+-------------------+--------------------+\n",
      "|     2020-05-08|       215143|            175198|       214974|             171664|              136702|\n",
      "+---------------+-------------+------------------+-------------+-------------------+--------------------+"
     ]
    }
   ],
   "source": [
    "#2.3) Contingency table UK rule 1 vs. active (in subscription). and uk rule 2 vs. active\n",
    "\n",
    "sub_web_email_df_UK_lastDay_inner = sub_web_email_df_UK_inner_lastDay.groupBy(\"user_id\").\\\n",
    "    agg(F.countDistinct(\"user_id\").alias(\"registrations\"),\n",
    "        F.countDistinct(F.when(F.col(\"validated_account\") >=1, F.col(\"user_id\"))).alias(\"validated_accounts\"),\n",
    "        F.countDistinct(F.when(F.col(\"sub_state\") >=1, F.col(\"user_id\"))).alias(\"subscriptions\"),\n",
    "        F.countDistinct(F.when(F.col(\"UK_rule_hasVisit\") >=1, F.col(\"user_id\"))).alias(\"UK_rule_visits_only\"),\n",
    "        F.countDistinct(F.when(F.col(\"UK_rule_hasVisitSubValidated_account\") >=1, F.col(\"user_id\"))).alias(\"UK_rule_visitsSubVal\")).show()"
   ]
  },
  {
   "cell_type": "code",
   "execution_count": 46,
   "metadata": {},
   "outputs": [
    {
     "data": {
      "application/vnd.jupyter.widget-view+json": {
       "model_id": "db6d2daf2d7a4367a590fb8dfacfa934",
       "version_major": 2,
       "version_minor": 0
      },
      "text/plain": [
       "VBox()"
      ]
     },
     "metadata": {},
     "output_type": "display_data"
    },
    {
     "data": {
      "application/vnd.jupyter.widget-view+json": {
       "model_id": "",
       "version_major": 2,
       "version_minor": 0
      },
      "text/plain": [
       "FloatProgress(value=0.0, bar_style='info', description='Progress:', layout=Layout(height='25px', width='50%'),…"
      ]
     },
     "metadata": {},
     "output_type": "display_data"
    },
    {
     "name": "stdout",
     "output_type": "stream",
     "text": [
      "+---------------------------------+-----+------+\n",
      "|UK_rule_hasVisit_UK_rule_hasVisit|    0|     1|\n",
      "+---------------------------------+-----+------+\n",
      "|                                1|    0|171664|\n",
      "|                                0|43479|     0|\n",
      "+---------------------------------+-----+------+"
     ]
    }
   ],
   "source": [
    "#2.3) Contingency table UK rule 1 vs. active (in subscription). and uk rule 2 vs. active\n",
    "\n",
    "#2.3.1) Contingency table UK rule 1 vs. active (in subscription).\n",
    "    #nr of 1: 171664\n",
    "    #nr of 0: 43479\n",
    "sub_web_email_df_UK_lastDay_inner_cont_1st_rule = sub_web_email_df_UK_inner_lastDay.stat.crosstab(\"UK_rule_hasVisit\", \"UK_rule_hasVisit\").show()"
   ]
  },
  {
   "cell_type": "code",
   "execution_count": 47,
   "metadata": {},
   "outputs": [
    {
     "data": {
      "application/vnd.jupyter.widget-view+json": {
       "model_id": "3cd6c17d403648948537c64f2320e88e",
       "version_major": 2,
       "version_minor": 0
      },
      "text/plain": [
       "VBox()"
      ]
     },
     "metadata": {},
     "output_type": "display_data"
    },
    {
     "data": {
      "application/vnd.jupyter.widget-view+json": {
       "model_id": "",
       "version_major": 2,
       "version_minor": 0
      },
      "text/plain": [
       "FloatProgress(value=0.0, bar_style='info', description='Progress:', layout=Layout(height='25px', width='50%'),…"
      ]
     },
     "metadata": {},
     "output_type": "display_data"
    },
    {
     "name": "stdout",
     "output_type": "stream",
     "text": [
      "+-------------------------------------------------------------------------+-----+------+\n",
      "|UK_rule_hasVisitSubValidated_account_UK_rule_hasVisitSubValidated_account|    0|     1|\n",
      "+-------------------------------------------------------------------------+-----+------+\n",
      "|                                                                        1|    0|136702|\n",
      "|                                                                        0|78441|     0|\n",
      "+-------------------------------------------------------------------------+-----+------+"
     ]
    }
   ],
   "source": [
    "#2.3.2) Contingency table uk rule 2 vs. active (in subscription).\n",
    "    #nr of 1: 136702\n",
    "    #nr of 0: 78441\n",
    "sub_web_email_df_UK_lastDay_inner_cont_1st_rule = sub_web_email_df_UK_inner_lastDay.stat.crosstab(\"UK_rule_hasVisitSubValidated_account\", \"UK_rule_hasVisitSubValidated_account\").show()"
   ]
  },
  {
   "cell_type": "code",
   "execution_count": null,
   "metadata": {},
   "outputs": [],
   "source": [
    "#extra analysis:\n",
    "# what nr of considered users at some point in time ( say, last friday) , have had no activity in the past:\n",
    "    #1-3 days\n",
    "    #3-14 days\n",
    "    #14-42 days\n",
    "    #42-84 days\n",
    "    #84-191 days\n",
    "    #> 191 days\n",
    "    "
   ]
  },
  {
   "cell_type": "code",
   "execution_count": null,
   "metadata": {},
   "outputs": [],
   "source": [
    "# 3) user ssa data as alternative to website visits"
   ]
  }
 ],
 "metadata": {
  "kernelspec": {
   "display_name": "PySpark",
   "language": "",
   "name": "pysparkkernel"
  },
  "language_info": {
   "codemirror_mode": {
    "name": "python",
    "version": 2
   },
   "mimetype": "text/x-python",
   "name": "pyspark",
   "pygments_lexer": "python2"
  }
 },
 "nbformat": 4,
 "nbformat_minor": 4
}
