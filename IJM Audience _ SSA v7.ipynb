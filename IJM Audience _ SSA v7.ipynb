{
 "cells": [
  {
   "cell_type": "code",
   "execution_count": 1,
   "metadata": {},
   "outputs": [
    {
     "data": {
      "application/vnd.jupyter.widget-view+json": {
       "model_id": "b8477a7eafdc4870a7bf7dafb090a686",
       "version_major": 2,
       "version_minor": 0
      },
      "text/plain": [
       "VBox()"
      ]
     },
     "metadata": {},
     "output_type": "display_data"
    },
    {
     "name": "stdout",
     "output_type": "stream",
     "text": [
      "Starting Spark application\n"
     ]
    },
    {
     "data": {
      "text/html": [
       "<table>\n",
       "<tr><th>ID</th><th>YARN Application ID</th><th>Kind</th><th>State</th><th>Spark UI</th><th>Driver log</th><th>Current session?</th></tr><tr><td>226</td><td>application_1590480489834_0096</td><td>pyspark</td><td>idle</td><td><a target=\"_blank\" href=\"http://ip-10-249-19-172.gc.stepstone.com:20888/proxy/application_1590480489834_0096/\">Link</a></td><td><a target=\"_blank\" href=\"http://ip-10-249-19-115.gc.stepstone.com:8042/node/containerlogs/container_e03_1590480489834_0096_01_000002/assumed-role_assume_role_DC_AWS_GC_DW_DATA_SCIENCE_BASIC_Parastoo_Ghalamchi_stepstone_com\">Link</a></td><td>✔</td></tr></table>"
      ],
      "text/plain": [
       "<IPython.core.display.HTML object>"
      ]
     },
     "metadata": {},
     "output_type": "display_data"
    },
    {
     "data": {
      "application/vnd.jupyter.widget-view+json": {
       "model_id": "",
       "version_major": 2,
       "version_minor": 0
      },
      "text/plain": [
       "FloatProgress(value=0.0, bar_style='info', description='Progress:', layout=Layout(height='25px', width='50%'),…"
      ]
     },
     "metadata": {},
     "output_type": "display_data"
    },
    {
     "name": "stdout",
     "output_type": "stream",
     "text": [
      "SparkSession available as 'spark'.\n"
     ]
    },
    {
     "data": {
      "application/vnd.jupyter.widget-view+json": {
       "model_id": "",
       "version_major": 2,
       "version_minor": 0
      },
      "text/plain": [
       "FloatProgress(value=0.0, bar_style='info', description='Progress:', layout=Layout(height='25px', width='50%'),…"
      ]
     },
     "metadata": {},
     "output_type": "display_data"
    }
   ],
   "source": [
    "from pyspark.sql import types as T\n",
    "from pyspark.sql import functions as F \n",
    "from pyspark.sql import DataFrame\n",
    "from pyspark.sql.functions import * \n",
    "from pyspark.sql.window import Window\n",
    "import sys\n",
    "\n",
    "# from pyspark.sql.types import IntegerType\n",
    "# from pyspark.sql.functions import first"
   ]
  },
  {
   "cell_type": "code",
   "execution_count": null,
   "metadata": {},
   "outputs": [],
   "source": [
    "#Version6\n",
    "#Aim: applying the new rule (i.e., changes in version5) group X should be bigger and Z smaller, comparing with version4. \n",
    "             \n",
    "# a) click OR open OR registration in last 60 day\n",
    "# b) click OR open OR registration in last 60 days OR soft-login OR login in last 60 days (take login dates from registration table not events from logmystst)\n",
    "# c) click OR open OR registration in last 60 days OR soft-login OR login in last 60 days OR any SSA event ListingView \n",
    "    #in last 60 days OR any SSA event Search last 60 days\n",
    "\n",
    "#===================================================================\n",
    "#Version6:\n",
    "#- Previous rule: open_click_60d rule for 44days: \n",
    "        #X: isactive == 1 & open_60d rule ==1: 358,690 \n",
    "        #Z: isactive == 1 & open_60d rule ==0: 943,183\n",
    "        #N: isactive == 0 & open_60d rule ==1: 11,353\n",
    "        #M: isactive == 0 & open_60d rule ==0: 4,626,202\n",
    "        \n",
    "        #===================================================================================================\n",
    "        #New Rule1: withColumn('Rule1_subVal_hasAnyOpenClick_reg_60d', F.when(((F.col('open') >=  1) | (F.col('click') >=  1) | \n",
    "                               #(F.col('registration') >=  1)) & (F.col(\"validated_account\") > 0) & (F.col(\"sub_state\") > 0), 1).otherwise(0)).\\\n",
    "        \n",
    "        #X': isactive == 1 & open_60d rule ==1: 560,581 (190k increase from Previous rule) \n",
    "        #Z': isactive == 1 & open_60d rule ==0: 858,719 (85k decrease from Previous rule)\n",
    "        #N': isactive == 0 & open_60d rule ==1: 27,009\n",
    "        #M': isactive == 0 & open_60d rule ==0: 4,637,518\n",
    "        #==================================================================================================\n",
    "        ##New Rule2: withColumn('Rule2_subVal_hasAnyOpenClick_ssa_reg_60d', F.when(((F.col('open') >=  1) | (F.col('click') >=  1) |\n",
    "                                 #(F.col('SSA_any_60d') >=  1) | (F.col('registration') >=  1))& (F.col(\"validated_account\") > 0) & (F.col(\"sub_state\") > 0), 1).otherwise(0)).\\\n",
    "        \n",
    "        #X': isactive == 1 & open_60d rule ==1: 552,758 (195k increase from Previous rule)\n",
    "        #Z': isactive == 1 & open_60d rule ==0: 714,527 (200k decrease from Previous rule)\n",
    "        #N': isactive == 0 & open_60d rule ==1: 27,321\n",
    "        #M': isactive == 0 & open_60d rule ==0: 4,634,992\n",
    "        #===========================================================================================================\n",
    "        #New Rule3: withColumn('Rule3_subVal_hasAnyOpenClick_ssa_login_reg_60d', F.when(((F.col('open') >=  1) | (F.col('click') >=  1) | (F.col('SSA_any_60d') >=  1) \n",
    "                              #| (F.col('login') >=  1) | (F.col('soft_login') >=  1) | (F.col('registration') >=  1))\n",
    "                              # & (F.col(\"validated_account\") > 0) & (F.col(\"sub_state\") > 0), 1).otherwise(0))\n",
    "        #X': isactive == 1 & open_60d rule ==1: 559,378 (200k increase from Previous rule)\n",
    "        #Z': isactive == 1 & open_60d rule ==0: 714,527 (228k decrease from Previous rule)\n",
    "        #N': isactive == 0 & open_60d rule ==1: 27,438\n",
    "        #M': isactive == 0 & open_60d rule ==0: 4,634,992\n",
    "        \n",
    "#updates on source of data:==================================================================================================================\n",
    "#ssa events 1st and 3rd to be added\n",
    "\n",
    "#+------------------------------+------+\n",
    "#|event_name                    |users |\n",
    "#+------------------------------+------+\n",
    "#|ListingView*                   |185858|\n",
    "#|RecommenderListingsDisplayed  |171086|\n",
    "#|Search*                        |94757 |\n",
    "#|ListingOAFClicked            |67075 |\n",
    "#|RecommenderListingClicked    |41666 |\n",
    "#|SearchPaging                |22607 |\n",
    "#|ListingOAFSent                |19223 |\n",
    "\n"
   ]
  },
  {
   "cell_type": "code",
   "execution_count": 2,
   "metadata": {},
   "outputs": [
    {
     "data": {
      "application/vnd.jupyter.widget-view+json": {
       "model_id": "f7e4e037b9f449a8a9f903e734c44346",
       "version_major": 2,
       "version_minor": 0
      },
      "text/plain": [
       "VBox()"
      ]
     },
     "metadata": {},
     "output_type": "display_data"
    },
    {
     "data": {
      "application/vnd.jupyter.widget-view+json": {
       "model_id": "",
       "version_major": 2,
       "version_minor": 0
      },
      "text/plain": [
       "FloatProgress(value=0.0, bar_style='info', description='Progress:', layout=Layout(height='25px', width='50%'),…"
      ]
     },
     "metadata": {},
     "output_type": "display_data"
    }
   ],
   "source": [
    "#Version5.\n",
    "## not logaction in ('IJM, autodeactivate', 'IJM, autoactivate')\n",
    "    #excluding ('IJM, autodeactivate', 'IJM, autoactivate') from the list. Is that enough?\n",
    "\n",
    "#===========================\n",
    "\n",
    "# Table 1A+1B+2 \n",
    "registrations_raw = spark.sql(\"\"\"\n",
    "    select \n",
    "        UID.id as user_id\n",
    "        , to_date(dcreated) as reg_date\n",
    "        , passwordset\n",
    "        , subscriptionid\n",
    "        , to_date(subscriptiondate) as sub_date\n",
    "        , isactive\n",
    "        , active as AccountValidation\n",
    "        , manualunsubscribe\n",
    "        , to_date(datelastsoftlogin) as last_softlog\n",
    "        , to_date(dlastlogin) as last_login\n",
    "        , to_date(logdatetime) as log_date\n",
    "        , logaction\n",
    "        , count(logdatetime) as n_events\n",
    "    from stepstonede.userlogin UID\n",
    "    left join stepstonede.subscription SUB\n",
    "    on UID.id = SUB.userlogin_id\n",
    "    left join stepstonede.logmystst LOG\n",
    "    on \n",
    "        UID.id = LOG.userloginid \n",
    "        and not logaction in ('IJM, autodeactivate', 'IJM, autoactivate')\n",
    "    where\n",
    "        dcreated >= '2018-01-01'\n",
    "    group by\n",
    "        UID.id \n",
    "        , reg_date\n",
    "        , passwordset\n",
    "        , subscriptionid\n",
    "        , sub_date\n",
    "        , isactive\n",
    "        , active\n",
    "        , manualunsubscribe\n",
    "        , last_softlog\n",
    "        , last_login\n",
    "        , log_date\n",
    "        , logaction\n",
    "    order by reg_date, log_date\"\"\")\n",
    "#  or subscriptiondate >= '2020-04-01'\n",
    "\n"
   ]
  },
  {
   "cell_type": "code",
   "execution_count": 3,
   "metadata": {},
   "outputs": [
    {
     "data": {
      "application/vnd.jupyter.widget-view+json": {
       "model_id": "4c15bfe180b44345b8098609fdaa2cb9",
       "version_major": 2,
       "version_minor": 0
      },
      "text/plain": [
       "VBox()"
      ]
     },
     "metadata": {},
     "output_type": "display_data"
    },
    {
     "data": {
      "application/vnd.jupyter.widget-view+json": {
       "model_id": "",
       "version_major": 2,
       "version_minor": 0
      },
      "text/plain": [
       "FloatProgress(value=0.0, bar_style='info', description='Progress:', layout=Layout(height='25px', width='50%'),…"
      ]
     },
     "metadata": {},
     "output_type": "display_data"
    }
   ],
   "source": [
    "#Version6 update:\n",
    "# last_login\", \"last_softlog\", \"log_date\" \n",
    "    \n",
    "#Version4B update:\n",
    "# Create registration dataframe by AccountValidation\n",
    "registration_df = registrations_raw.select(\"user_id\", \"reg_date\", \"AccountValidation\", \"last_login\", \"last_softlog\", \"log_date\").distinct().\\\n",
    "    withColumn(\"considered_date\", F.to_date(F.lit(registrations_raw.select(F.max(F.col(\"reg_date\")).alias(\"max_date\")).collect()[0][0])))\n",
    "    "
   ]
  },
  {
   "cell_type": "code",
   "execution_count": 29,
   "metadata": {},
   "outputs": [
    {
     "data": {
      "application/vnd.jupyter.widget-view+json": {
       "model_id": "e419ed82753a4556a2d9847cf4e0df01",
       "version_major": 2,
       "version_minor": 0
      },
      "text/plain": [
       "VBox()"
      ]
     },
     "metadata": {},
     "output_type": "display_data"
    },
    {
     "data": {
      "application/vnd.jupyter.widget-view+json": {
       "model_id": "",
       "version_major": 2,
       "version_minor": 0
      },
      "text/plain": [
       "FloatProgress(value=0.0, bar_style='info', description='Progress:', layout=Layout(height='25px', width='50%'),…"
      ]
     },
     "metadata": {},
     "output_type": "display_data"
    }
   ],
   "source": [
    "#check registration_df for one user (user_id == 8482301)\n",
    "#registration_df.filter(F.col(\"user_id\") == \"8482301\").show()\n",
    "\n",
    "#Not:\n",
    "#1. Registration event in last 44 days: \n",
    "    # considered_date is much after registration date, because considered_date == Maximum of reg_date. so, for anyone who is considered on \n",
    "    # a given day (e.g., 2020-05-26), we definitely have them registered at some point in the past. \n",
    "    # So, for any rule we define, users are considered have been definitely registered. So, the registration within 1-60 days is true in the new rule. \n",
    "    \n",
    "#2. login and soft login events in last 44 days:\n",
    "    # accordingly, based on the table bellow, the login_state and soft_login_state are defined as:\n",
    "    #withColumn(\"login_state\", F.when(F.col(\"last_login\") <= F.col(\"considered_date\"), F.lit(1)).otherwise(F.lit(0)))\n",
    "    #withColumn(\"soft_login_state\", F.when(F.col(\"last_softlog\") <= F.col(\"considered_date\"), F.lit(1)).otherwise(F.lit(0))) \n",
    "    \n",
    "# +-------+----------+-----------------+----------+------------+----------+---------------+\n",
    "# |user_id|  reg_date|AccountValidation|last_login|last_softlog|  log_date|considered_date|\n",
    "# +-------+----------+-----------------+----------+------------+----------+---------------+\n",
    "# |8482301|2019-10-31|             true|2020-05-23|  2020-05-14|2019-10-31|     2020-05-26|\n",
    "# |8482301|2019-10-31|             true|2020-05-23|  2020-05-14|2019-11-01|     2020-05-26|\n",
    "# |8482301|2019-10-31|             true|2020-05-23|  2020-05-14|2019-11-07|     2020-05-26|\n",
    "# |8482301|2019-10-31|             true|2020-05-23|  2020-05-14|2019-11-08|     2020-05-26|\n"
   ]
  },
  {
   "cell_type": "code",
   "execution_count": 4,
   "metadata": {},
   "outputs": [
    {
     "data": {
      "application/vnd.jupyter.widget-view+json": {
       "model_id": "7bc8ab514cbe4a94bf8cbf1f82abdd9d",
       "version_major": 2,
       "version_minor": 0
      },
      "text/plain": [
       "VBox()"
      ]
     },
     "metadata": {},
     "output_type": "display_data"
    },
    {
     "data": {
      "application/vnd.jupyter.widget-view+json": {
       "model_id": "",
       "version_major": 2,
       "version_minor": 0
      },
      "text/plain": [
       "FloatProgress(value=0.0, bar_style='info', description='Progress:', layout=Layout(height='25px', width='50%'),…"
      ]
     },
     "metadata": {},
     "output_type": "display_data"
    }
   ],
   "source": [
    "#Version6 update: \n",
    "# create login_state and soft_login_state based on \"last_login\", \"last_softlog\", \"log_date\"\n",
    "    #withColumn(\"login_state\", F.when(F.col(\"last_login\") <= F.col(\"considered_date\"), F.lit(1)).otherwise(F.lit(0)))\n",
    "    #withColumn(\"soft_login_state\", F.when(F.col(\"last_softlog\") <= F.col(\"considered_date\"), F.lit(1)).otherwise(F.lit(0))) \n",
    "\n",
    "#=========================================================================================\n",
    "#Version4B update: withColumn(\"validated_account\", F.when(F.col(\"AccountValidation\") == True , F.lit(1)).otherwise(F.lit(0))).\n",
    "# add IJM subscription date to registration data frame and remove unsubscribed users from registation data frame\n",
    "\n",
    "IJM_subscription_df = registrations_raw. \\\n",
    "    filter(F.col(\"logaction\").isin([\"IJM, subscription\"])).groupBy(\"user_id\").agg(F.min(F.col(\"log_date\")).alias(\"sub_date\"))\n",
    "    \n",
    "registration_df = registration_df.join(IJM_subscription_df, \"user_id\", \"left\")\n",
    "\n",
    "IJM_unsubscription_df = registrations_raw. \\\n",
    "    filter(F.col(\"manualunsubscribe\") == True). \\\n",
    "    select(\"user_id\", \"manualunsubscribe\").distinct()\n",
    "\n",
    "registration_df = registration_df.join(IJM_unsubscription_df, \"user_id\", \"left_anti\").\\\n",
    "    withColumn(\"validated_account\", F.when(F.col(\"AccountValidation\") == True , F.lit(1)).otherwise(F.lit(0))).\\\n",
    "    withColumn(\"sub_state\", F.when(F.col(\"sub_date\") <= F.col(\"considered_date\"), F.lit(1)).otherwise(F.lit(0))).\\\n",
    "    withColumn(\"login_state\", F.when(F.col(\"last_login\") <= F.col(\"considered_date\"), F.lit(1)).otherwise(F.lit(0))).\\\n",
    "    withColumn(\"soft_login_state\", F.when(F.col(\"last_softlog\") <= F.col(\"considered_date\"), F.lit(1)).otherwise(F.lit(0))).\\\n",
    "    select(\"user_id\", \"reg_date\", \"validated_account\", \"sub_state\", \"considered_date\", \"sub_date\", \"log_date\", \"login_state\", \"soft_login_state\")\n",
    "\n",
    "# registration_df.show(10)"
   ]
  },
  {
   "cell_type": "code",
   "execution_count": 32,
   "metadata": {},
   "outputs": [
    {
     "data": {
      "application/vnd.jupyter.widget-view+json": {
       "model_id": "732c3edb52c344d797fcfa35ab2a4186",
       "version_major": 2,
       "version_minor": 0
      },
      "text/plain": [
       "VBox()"
      ]
     },
     "metadata": {},
     "output_type": "display_data"
    },
    {
     "data": {
      "application/vnd.jupyter.widget-view+json": {
       "model_id": "",
       "version_major": 2,
       "version_minor": 0
      },
      "text/plain": [
       "FloatProgress(value=0.0, bar_style='info', description='Progress:', layout=Layout(height='25px', width='50%'),…"
      ]
     },
     "metadata": {},
     "output_type": "display_data"
    }
   ],
   "source": [
    "#check registration_df for one user (user_id == 8482301)\n",
    "#registration_df.filter(F.col(\"user_id\") == \"8482301\").show()\n",
    "\n",
    "# +-------+----------+-----------------+---------+---------------+----------+----------+-----------+----------------+\n",
    "# |user_id|  reg_date|validated_account|sub_state|considered_date|  sub_date|  log_date|login_state|soft_login_state|\n",
    "# +-------+----------+-----------------+---------+---------------+----------+----------+-----------+----------------+\n",
    "# |8482301|2019-10-31|                1|        1|     2020-05-26|2019-10-31|2020-03-22|          1|               1|\n",
    "# |8482301|2019-10-31|                1|        1|     2020-05-26|2019-10-31|2020-03-24|          1|               1|\n",
    "# |8482301|2019-10-31|                1|        1|     2020-05-26|2019-10-31|2020-03-30|          1|               1|\n",
    "# |8482301|2019-10-31|                1|        1|     2020-05-26|2019-10-31|2020-04-02|          1|               1|\n",
    "#"
   ]
  },
  {
   "cell_type": "code",
   "execution_count": 5,
   "metadata": {},
   "outputs": [
    {
     "data": {
      "application/vnd.jupyter.widget-view+json": {
       "model_id": "a6d9d66bda844349ab7ef060b5144e14",
       "version_major": 2,
       "version_minor": 0
      },
      "text/plain": [
       "VBox()"
      ]
     },
     "metadata": {},
     "output_type": "display_data"
    },
    {
     "data": {
      "application/vnd.jupyter.widget-view+json": {
       "model_id": "",
       "version_major": 2,
       "version_minor": 0
      },
      "text/plain": [
       "FloatProgress(value=0.0, bar_style='info', description='Progress:', layout=Layout(height='25px', width='50%'),…"
      ]
     },
     "metadata": {},
     "output_type": "display_data"
    }
   ],
   "source": [
    "#Table3: Website_visits_df\n",
    "Website_visits_df = spark.sql(\"\"\"\n",
    "    select distinct user_id, user_hash, job_agent_id, to_date(visit_start_time_gmt) as visit_date\n",
    "    from presentation.hits_de\n",
    "    where exclude_hit <= 0 and year = 2020\n",
    "\n",
    "    union all\n",
    "\n",
    "    select distinct user_id, user_hash, job_agent_id, to_date(visit_start_time_gmt) as visit_date\n",
    "    from presentation.hits_android_global AA\n",
    "    where AA.job_site like '%-de' and exclude_hit <= 0 and year = 2020\n",
    "\n",
    "    union all\n",
    "\n",
    "    select distinct user_id, user_hash, job_agent_id, to_date(visit_start_time_gmt) as visit_date\n",
    "    from presentation.hits_iphoneapp_global AA\n",
    "    where AA.job_site like '%-de' and exclude_hit <= 0 and year = 2020\"\"\")"
   ]
  },
  {
   "cell_type": "code",
   "execution_count": 52,
   "metadata": {},
   "outputs": [
    {
     "data": {
      "application/vnd.jupyter.widget-view+json": {
       "model_id": "cd51fa9a160c4bcea8daab6c3028bd7f",
       "version_major": 2,
       "version_minor": 0
      },
      "text/plain": [
       "VBox()"
      ]
     },
     "metadata": {},
     "output_type": "display_data"
    },
    {
     "data": {
      "application/vnd.jupyter.widget-view+json": {
       "model_id": "",
       "version_major": 2,
       "version_minor": 0
      },
      "text/plain": [
       "FloatProgress(value=0.0, bar_style='info', description='Progress:', layout=Layout(height='25px', width='50%'),…"
      ]
     },
     "metadata": {},
     "output_type": "display_data"
    }
   ],
   "source": [
    "#E. how many website visit per day? about 100k (Max number of distinct users with website visit: 109,223)\n",
    "\n",
    "#Website_visits_df = Website_visits_df.groupBy('visit_date').agg(F.countDistinct(F.col(\"user_id\")).alias(\"userCount_visits_Perday\")).sort(desc(\"userCount_visits_Perday\")).show()\n",
    "\n",
    "#+----------+-----------------------+\n",
    "#|visit_date|userCount_visits_Perday|\n",
    "#+----------+-----------------------+\n",
    "#|2020-05-19|                 109223|\n",
    "#|2020-04-28|                 108139|\n",
    "#|2020-05-12|                 106296|\n",
    "#|2020-05-06|                 103219|\n",
    "#|2020-05-13|                 102728|\n",
    "#|2020-05-11|                 101208|\n",
    "#|2020-03-11|                 100194|\n",
    "#|2020-05-04|                  99195|\n",
    "#|2020-05-18|                  97960|\n",
    "#|2020-05-05|                  97763|\n",
    "#|2020-05-14|                  96560|\n",
    "#|2020-04-29|                  95653|\n",
    "#|2020-04-20|                  94894|\n",
    "#|2020-04-21|                  93818|\n",
    "#|2020-05-07|                  93008|\n",
    "#|2020-03-12|                  92912|\n",
    "#|2020-04-27|                  92317|\n",
    "#|2020-05-20|                  90976|\n",
    "#|2020-05-15|                  90356|\n",
    "#|2020-04-30|                  90220|\n",
    "#+----------+-----------------------+\n",
    "                                "
   ]
  },
  {
   "cell_type": "code",
   "execution_count": 6,
   "metadata": {},
   "outputs": [
    {
     "data": {
      "application/vnd.jupyter.widget-view+json": {
       "model_id": "64d418957bb7437dbc3b097287de8ced",
       "version_major": 2,
       "version_minor": 0
      },
      "text/plain": [
       "VBox()"
      ]
     },
     "metadata": {},
     "output_type": "display_data"
    },
    {
     "data": {
      "application/vnd.jupyter.widget-view+json": {
       "model_id": "",
       "version_major": 2,
       "version_minor": 0
      },
      "text/plain": [
       "FloatProgress(value=0.0, bar_style='info', description='Progress:', layout=Layout(height='25px', width='50%'),…"
      ]
     },
     "metadata": {},
     "output_type": "display_data"
    }
   ],
   "source": [
    "#Jobagent_id: match jobagent_id from stepstonede.userlogin_jobuser to user_id in Website_visits_df\n",
    "\n",
    "jobuser_original_df = spark.sql(\"\"\"\n",
    "    select distinct userlogin_id, jobuser_id as job_agent_id\n",
    "    from stepstonede.userlogin_jobuser\n",
    "    \"\"\")\n",
    "Website_visits_jobuser_df = Website_visits_df.join(jobuser_original_df, \"job_agent_id\", \"left\")\n",
    "\n",
    "#If there is only a user_hash_id then match it to a user_id only if that user_hash_id is used with only one user_id\n",
    "user_hash_df = spark.sql(\"\"\"\n",
    "    with hash_count as (\n",
    "        select user_hash, count(distinct user_id) as n_UID\n",
    "        from presentation.adobe_user_id_hash_de\n",
    "        group by user_hash)\n",
    "    select A.user_hash, A.user_id as user_id_hash\n",
    "    from presentation.adobe_user_id_hash_de A\n",
    "    right join hash_count B \n",
    "    on \n",
    "        A.user_hash = B.user_hash \n",
    "        and B.n_UID = 1\"\"\")\n",
    "Website_visits_df = Website_visits_jobuser_df.join(user_hash_df, \"user_hash\", \"left\")\n",
    "\n",
    "#from Website_visits_df_final map user_ids from user_hash_df and jobuser_df into Website_visits_df to fill null values\n",
    "Website_visits_df = Website_visits_df.select(\"user_id\", \"userlogin_id\", \"user_id_hash\", \"visit_date\")\n",
    "\n",
    "\n",
    "Website_visits_df = Website_visits_df.withColumn('new_user_id', \n",
    "                                                               F.when(F.col('user_id').isNotNull(), col('user_id')). \\\n",
    "                                                               otherwise(F.when(F.col('userlogin_id').isNotNull(), col('userlogin_id'))))\n",
    "\n",
    "Website_visits_df = Website_visits_df.withColumn('new_user_id_1', \n",
    "                                                               F.when(F.col('new_user_id').isNotNull(), col('new_user_id')). \\\n",
    "                                                               otherwise(F.when(F.col('user_id_hash').isNotNull(), col('user_id_hash'))))\n",
    "\n",
    "Website_visits_df = Website_visits_df.filter(F.col(\"new_user_id_1\").isNotNull()).select(F.col(\"new_user_id_1\").alias(\"user_id\"), \"visit_date\")\n",
    "\n",
    "#Bring website visit (without null user_id) and email data frames together\n",
    "#web_email_df: Join Final_Website_visits_df table with email_log_df\n",
    "simulation_visits_df = registration_df.join(Website_visits_df, \"user_id\", \"left\")\n",
    "simulation_visits_df = simulation_visits_df.select(\"user_id\", \"reg_date\", \"validated_account\", \"considered_date\",\"sub_state\", \"visit_date\", \n",
    "                                                   \"sub_date\", \"log_date\", \"login_state\", \"soft_login_state\")\n"
   ]
  },
  {
   "cell_type": "code",
   "execution_count": 7,
   "metadata": {},
   "outputs": [
    {
     "data": {
      "application/vnd.jupyter.widget-view+json": {
       "model_id": "07bf95b68775411c911f3ae43e4e19c4",
       "version_major": 2,
       "version_minor": 0
      },
      "text/plain": [
       "VBox()"
      ]
     },
     "metadata": {},
     "output_type": "display_data"
    },
    {
     "data": {
      "application/vnd.jupyter.widget-view+json": {
       "model_id": "",
       "version_major": 2,
       "version_minor": 0
      },
      "text/plain": [
       "FloatProgress(value=0.0, bar_style='info', description='Progress:', layout=Layout(height='25px', width='50%'),…"
      ]
     },
     "metadata": {},
     "output_type": "display_data"
    }
   ],
   "source": [
    "#updates: \n",
    "#3. change date range from 0-60 to 1-60\n",
    "#2. Add date_difference_sub\n",
    "#1. Add considered rule based on website visits:\n",
    "\n",
    "simulation_visits_df = simulation_visits_df.\\\n",
    "    withColumn('date_difference', datediff('considered_date', 'visit_date')).\\\n",
    "    groupBy(\"user_id\", \"reg_date\", \"validated_account\", \"considered_date\", \"sub_state\", \"sub_date\", \"log_date\", \"login_state\", \"soft_login_state\"). \\\n",
    "    agg(F.sum(F.when((F.col(\"date_difference\") <= 60) & (F.col(\"date_difference\") >= 1), F.lit(1)).otherwise(0)).alias(\"visits_60d\")). \\\n",
    "    withColumn('hasVisit_60d', F.when(F.col('visits_60d') >=  1, 1).otherwise(0)).\\\n",
    "    withColumn('subVal_hasVisit_60d', F.when((F.col('visits_60d') >=  1) & (F.col(\"validated_account\") > 0) & (F.col(\"sub_state\") > 0), 1).otherwise(0))\n",
    "\n",
    "# simulation_visits_df.show(10)\n"
   ]
  },
  {
   "cell_type": "code",
   "execution_count": 79,
   "metadata": {},
   "outputs": [
    {
     "data": {
      "application/vnd.jupyter.widget-view+json": {
       "model_id": "08470852c57d4c199dd52ceb830bc2b2",
       "version_major": 2,
       "version_minor": 0
      },
      "text/plain": [
       "VBox()"
      ]
     },
     "metadata": {},
     "output_type": "display_data"
    },
    {
     "data": {
      "application/vnd.jupyter.widget-view+json": {
       "model_id": "",
       "version_major": 2,
       "version_minor": 0
      },
      "text/plain": [
       "FloatProgress(value=0.0, bar_style='info', description='Progress:', layout=Layout(height='25px', width='50%'),…"
      ]
     },
     "metadata": {},
     "output_type": "display_data"
    }
   ],
   "source": [
    "#check_visits_rule.crosstab(\"SubVal_hasVisit\", \"isactive\").show()\n",
    "\n",
    "#Initaial finding:\n",
    "# There are about K900 (937867) active user_id in subscription tables from 2020-01-01 (5 months and 2 weeks) but only about 20% (208643) recieve emails that accounts for about 80% (643673) of users out of reach.\n",
    "#Question: What is the reasons behind this missmatch?\n",
    "#+------------------------+------+------+\n",
    "#|SubVal_hasVisit_isactive|  null|  true|\n",
    "#+------------------------+------+------+\n",
    "#|                       1|  5079|208643|\n",
    "#|                       0|541613|643673|\n",
    "#|                    null|     0| 85551|\n",
    "#+------------------------+------+------+"
   ]
  },
  {
   "cell_type": "code",
   "execution_count": 40,
   "metadata": {},
   "outputs": [
    {
     "data": {
      "application/vnd.jupyter.widget-view+json": {
       "model_id": "a929504dcf764be2b2d15672671bdb9c",
       "version_major": 2,
       "version_minor": 0
      },
      "text/plain": [
       "VBox()"
      ]
     },
     "metadata": {},
     "output_type": "display_data"
    },
    {
     "data": {
      "application/vnd.jupyter.widget-view+json": {
       "model_id": "",
       "version_major": 2,
       "version_minor": 0
      },
      "text/plain": [
       "FloatProgress(value=0.0, bar_style='info', description='Progress:', layout=Layout(height='25px', width='50%'),…"
      ]
     },
     "metadata": {},
     "output_type": "display_data"
    }
   ],
   "source": [
    "# Observations: \n",
    "# many with active subscriptions do not seem to have website visits\n",
    "# small number of users with inactive subscriptions have website visits\n",
    "# quite a few users with active subscriptions are not contained in our dataset\n",
    "# next try SSA data for activitiy"
   ]
  },
  {
   "cell_type": "code",
   "execution_count": 8,
   "metadata": {},
   "outputs": [
    {
     "data": {
      "application/vnd.jupyter.widget-view+json": {
       "model_id": "15c1986a844b4e869d7ea90fd4dcb06a",
       "version_major": 2,
       "version_minor": 0
      },
      "text/plain": [
       "VBox()"
      ]
     },
     "metadata": {},
     "output_type": "display_data"
    },
    {
     "data": {
      "application/vnd.jupyter.widget-view+json": {
       "model_id": "",
       "version_major": 2,
       "version_minor": 0
      },
      "text/plain": [
       "FloatProgress(value=0.0, bar_style='info', description='Progress:', layout=Layout(height='25px', width='50%'),…"
      ]
     },
     "metadata": {},
     "output_type": "display_data"
    }
   ],
   "source": [
    "#Version6.\n",
    "#Add 1st and 3rd ssa events only, because they are the most representative events for audiance rule. why? not exactly clear to me. \n",
    "\n",
    "\n",
    "#+------------------------------+------+\n",
    "#|event_name                    |users |\n",
    "#+------------------------------+------+\n",
    "#|ListingView*                   |185858|\n",
    "#|RecommenderListingsDisplayed*  |171086|\n",
    "#|Search*                        |94757 |\n",
    "#|ListingOAFClicked             |67075 |\n",
    "\n",
    "\n",
    "#==================================\n",
    "#Note: add tracking_id that contains the same user id (same integer), but it is for not logged in identified users \n",
    "\n",
    "\n",
    "ssa_log_df = spark.sql(\"\"\"\n",
    "    select distinct\n",
    "        to_date(log_date) as ssa_date\n",
    "        , event_name\n",
    "        , tracking_my_stepstone_id as user_id\n",
    "        , case when event_name = 'ListingView' then 1 else 0 end as listing_view\n",
    "        , 1 as any_ssa\n",
    "    from presentation.ssa_fact \n",
    "    Where year >= 2020 and month >= 3 and country = 'DE' and \n",
    "          event_name in ('ListingView', \n",
    "                         'Search') \"\"\")\n"
   ]
  },
  {
   "cell_type": "code",
   "execution_count": 11,
   "metadata": {},
   "outputs": [
    {
     "data": {
      "application/vnd.jupyter.widget-view+json": {
       "model_id": "75c080cad5c04a89b06a5748ba2da14a",
       "version_major": 2,
       "version_minor": 0
      },
      "text/plain": [
       "VBox()"
      ]
     },
     "metadata": {},
     "output_type": "display_data"
    },
    {
     "data": {
      "application/vnd.jupyter.widget-view+json": {
       "model_id": "",
       "version_major": 2,
       "version_minor": 0
      },
      "text/plain": [
       "FloatProgress(value=0.0, bar_style='info', description='Progress:', layout=Layout(height='25px', width='50%'),…"
      ]
     },
     "metadata": {},
     "output_type": "display_data"
    }
   ],
   "source": [
    "#email data before the rules\n",
    "selligent_df = spark.sql(\"\"\"\n",
    "    SELECT\n",
    "        to_date(concat_ws('-', cast(year as string), cast(month as string), cast(day as string))) as action_day,\n",
    "        user_login_id as user_id, \n",
    "        floor(sum(sent)) as send, \n",
    "        floor(sum(opened)) as total_open,\n",
    "        count(distinct case when opened > 0 then ditem_id end) as unique_open,\n",
    "        floor(sum(clicked)) as total_clicks,\n",
    "        count(distinct case when clicked > 0 then ditem_id end) as unique_clicks\n",
    "    FROM live_raw_selligent_de_stepstone.flags_enriched fe\n",
    "    GROUP BY action_day, user_id\"\"\").\\\n",
    "    union(spark.sql(\"\"\"\n",
    "    select\n",
    "        to_date(concat_ws('-', cast(year as string), cast(month as string), cast(day as string))) as action_day,\n",
    "        userlogin_id as user_id, \n",
    "        0 as send,\n",
    "        0 as total_open,\n",
    "        0 as unique_open,\n",
    "        count(*) as total_clicks,\n",
    "        count(distinct jaid) as unique_clicks\n",
    "    from stepstonede.jaclickofferid A\n",
    "    right join stepstonede.userlogin_jobuser B on A.jaid = B.jobuser_id\n",
    "    group by action_day, user_id\n",
    "    \"\"\"))"
   ]
  },
  {
   "cell_type": "code",
   "execution_count": null,
   "metadata": {},
   "outputs": [
    {
     "data": {
      "application/vnd.jupyter.widget-view+json": {
       "model_id": "54e7867d28de431991d44842aab66cf9",
       "version_major": 2,
       "version_minor": 0
      },
      "text/plain": [
       "VBox()"
      ]
     },
     "metadata": {},
     "output_type": "display_data"
    },
    {
     "data": {
      "application/vnd.jupyter.widget-view+json": {
       "model_id": "9540b9c60cb741ed987410beb3aa3d5b",
       "version_major": 2,
       "version_minor": 0
      },
      "text/plain": [
       "FloatProgress(value=0.0, bar_style='info', description='Progress:', layout=Layout(height='25px', width='50%'),…"
      ]
     },
     "metadata": {},
     "output_type": "display_data"
    }
   ],
   "source": [
    "selligent_df.show(n=5)"
   ]
  },
  {
   "cell_type": "code",
   "execution_count": 56,
   "metadata": {},
   "outputs": [
    {
     "data": {
      "application/vnd.jupyter.widget-view+json": {
       "model_id": "a0f554ec16914d899fc9b2466a3d93f4",
       "version_major": 2,
       "version_minor": 0
      },
      "text/plain": [
       "VBox()"
      ]
     },
     "metadata": {},
     "output_type": "display_data"
    },
    {
     "data": {
      "application/vnd.jupyter.widget-view+json": {
       "model_id": "",
       "version_major": 2,
       "version_minor": 0
      },
      "text/plain": [
       "FloatProgress(value=0.0, bar_style='info', description='Progress:', layout=Layout(height='25px', width='50%'),…"
      ]
     },
     "metadata": {},
     "output_type": "display_data"
    }
   ],
   "source": [
    "#Version6:\n",
    "#Question: Where in this funnel out new audience rule is located?\n",
    "    #when a user is considered (which is the last day a user registered)\n",
    "    #So:\n",
    "    # A: size of possible considered audiance for a given date is total of disctinct users on each considered date\n",
    "    # B: size of cosidered audiance within each rule is total of distinct users that are considered in that rule.\n",
    "    #Note=============================================================================================\n",
    "    # A is always bigger than B, because we send email to only to specific users with specific interactions (e.g., those who opened or clicked on previouse emails in 44 days ago) with the system.\n",
    "\n",
    "#checking:\n",
    "    #before the rule:\n",
    "    #how many users-send email per day? Max=4,179,658 (between 2M to 4M)\n",
    "    #How many \"opens\" per day? Max 241 per day\n",
    "    #How many \"clicks\" per day? Max 307 per day\n",
    "    #How many \"send\" per day? Max 331\n",
    "    \n",
    "#=================================================================================\n",
    "#before the rule:\n",
    "#how many users-send email per day? between 2M to 4M Max=4,179,658 to 1,684,718\n",
    "\n",
    "# selligent_df.groupBy(\"action_day\").agg(F.countDistinct(F.col(\"user_id\")).alias(\"user_perday\")).sort(desc(\"user_perday\")).show()\n",
    "\n",
    "# +----------+-----------+\n",
    "# |action_day|user_perday|\n",
    "# +----------+-----------+\n",
    "# |2019-07-15|    4179658|\n",
    "# |      null|    3533942|\n",
    "\n",
    "\n",
    "#======================================\n",
    "\n",
    "#How many \"opens\" per day? Max 241 per day\n",
    "\n",
    "# selligent_df.groupBy(\"action_day\").agg(F.countDistinct(F.col(\"total_open\")).alias(\"open_perday\")).sort(desc(\"open_perday\")).show()\n",
    "\n",
    "# +----------+-----------+\n",
    "# |action_day|open_perday|\n",
    "# +----------+-----------+\n",
    "# |2018-06-18|        241|\n",
    "# |2018-06-19|        239|\n",
    "# |2018-06-25|        237|\n",
    "\n",
    "# +----------+-----------+\n",
    "\n",
    "#==========================================\n",
    "\n",
    "#How many \"clicks\" per day? Max 307 per day\n",
    "\n",
    "# selligent_df.groupBy(\"action_day\").agg(F.countDistinct(F.col(\"total_clicks\")).alias(\"click_perday\")).sort(desc(\"click_perday\")).show()\n",
    "\n",
    "# +----------+------------+\n",
    "# |action_day|click_perday|\n",
    "# +----------+------------+\n",
    "# |      null|         307|\n",
    "# |2018-12-21|         191|\n",
    "# |2018-12-20|         155|\n",
    "# \n",
    "\n",
    "#======================================================\n",
    "#How many \"send\" per day? Max 331\n",
    "# selligent_df.groupBy(\"action_day\").agg(F.countDistinct(F.col(\"send\")).alias(\"send_perday\")).sort(desc(\"send_perday\")).show()\n",
    "# +----------+-----------+\n",
    "# |action_day|send_perday|\n",
    "# +----------+-----------+\n",
    "# |2019-03-25|        331|\n",
    "# |2019-03-26|        309|\n",
    "# |2019-03-28|        308|\n",
    "# |2019-03-27|        300|\n",
    "# |2019-03-24|        294|\n",
    "# |\n",
    "# +----------+-----------+\n"
   ]
  },
  {
   "cell_type": "code",
   "execution_count": 12,
   "metadata": {},
   "outputs": [
    {
     "data": {
      "application/vnd.jupyter.widget-view+json": {
       "model_id": "6a65bf9a563c456287d56d9020367381",
       "version_major": 2,
       "version_minor": 0
      },
      "text/plain": [
       "VBox()"
      ]
     },
     "metadata": {},
     "output_type": "display_data"
    },
    {
     "data": {
      "application/vnd.jupyter.widget-view+json": {
       "model_id": "",
       "version_major": 2,
       "version_minor": 0
      },
      "text/plain": [
       "FloatProgress(value=0.0, bar_style='info', description='Progress:', layout=Layout(height='25px', width='50%'),…"
      ]
     },
     "metadata": {},
     "output_type": "display_data"
    }
   ],
   "source": [
    "#1.1. left join selligent_df with simulation_visits_df\n",
    "simulation_visits_selligent_df = selligent_df.join(simulation_visits_df, \"user_id\", \"left\")"
   ]
  },
  {
   "cell_type": "code",
   "execution_count": 45,
   "metadata": {},
   "outputs": [
    {
     "data": {
      "application/vnd.jupyter.widget-view+json": {
       "model_id": "eec5b3a71e6b44b08839df15cfb00990",
       "version_major": 2,
       "version_minor": 0
      },
      "text/plain": [
       "VBox()"
      ]
     },
     "metadata": {},
     "output_type": "display_data"
    },
    {
     "data": {
      "application/vnd.jupyter.widget-view+json": {
       "model_id": "",
       "version_major": 2,
       "version_minor": 0
      },
      "text/plain": [
       "FloatProgress(value=0.0, bar_style='info', description='Progress:', layout=Layout(height='25px', width='50%'),…"
      ]
     },
     "metadata": {},
     "output_type": "display_data"
    }
   ],
   "source": [
    "# simulation_visits_selligent_df.filter(F.col(\"user_id\") == 8482301).show()\n",
    "\n",
    "# user_id|action_day|send|total_open|unique_open|total_clicks|unique_clicks|  reg_date|validated_account|considered_date|sub_state|  sub_date|  log_date|login_state|soft_login_state|visits_60d|hasVisit_60d|subVal_hasVisit_60d|\n",
    "# +-------+----------+----+----------+-----------+------------+-------------+----------+-----------------+---------------+---------+----------+----------+-----------+----------------+----------+------------+-------------------+\n",
    "# |8482301|2020-04-20|   6|         7|          7|           1|            1|2019-10-31|                1|     2020-05-26|        1|2019-10-31|2019-10-31|          1|               1|        50|           1|                  1|"
   ]
  },
  {
   "cell_type": "code",
   "execution_count": 13,
   "metadata": {},
   "outputs": [
    {
     "data": {
      "application/vnd.jupyter.widget-view+json": {
       "model_id": "591cde36fc3a42e69fcebc314c3808a0",
       "version_major": 2,
       "version_minor": 0
      },
      "text/plain": [
       "VBox()"
      ]
     },
     "metadata": {},
     "output_type": "display_data"
    },
    {
     "data": {
      "application/vnd.jupyter.widget-view+json": {
       "model_id": "",
       "version_major": 2,
       "version_minor": 0
      },
      "text/plain": [
       "FloatProgress(value=0.0, bar_style='info', description='Progress:', layout=Layout(height='25px', width='50%'),…"
      ]
     },
     "metadata": {},
     "output_type": "display_data"
    }
   ],
   "source": [
    "#Version6:\n",
    "\n",
    "# a) click OR open OR registration in last 60 days\n",
    "# b) click OR open OR registration in last 60 days OR soft-login OR login in last 60 days (take login dates from registration table not events from logmystst)\n",
    "# c) click OR open OR registration in last 60 days OR soft-login OR login in last 60 days OR any SSA event ListingView \n",
    "    #in last 60 days OR any SSA event Search last 60 days\n",
    "#groupby \n",
    "    # user_id|action_day|send|total_open|unique_open|total_clicks|unique_clicks|  \n",
    "    #reg_date|validated_account|considered_date|sub_state|  sub_date|  \n",
    "    #log_date|login_state|soft_login_state|visits_60d|hasVisit_60d|subVal_hasVisit_60d|\n",
    "\n",
    "simulation_visits_selligent_ssa_df = simulation_visits_selligent_df.join(ssa_log_df, \"user_id\", \"left\").\\\n",
    "    withColumn('date_difference_reg', datediff('considered_date', 'reg_date')). \\\n",
    "    withColumn('date_difference_sub', datediff('considered_date', 'sub_date')). \\\n",
    "    withColumn('date_difference_ssa', datediff('considered_date', 'ssa_date')).\\\n",
    "    withColumn('date_difference_log', datediff('considered_date', 'log_date')).\\\n",
    "    withColumn('date_difference_actionDay', datediff('considered_date', 'action_day')). \\\n",
    "    groupBy(\"user_id\", \"action_day\", \"reg_date\", \"validated_account\", \"considered_date\", \"sub_state\", \"log_date\", \"login_state\", \"soft_login_state\", \"hasVisit_60d\", \"subVal_hasVisit_60d\"). \\\n",
    "    agg(F.sum(F.when((F.col(\"date_difference_ssa\") <= 60) & (F.col(\"date_difference_ssa\") >= 1) & (F.col('any_ssa') > 0), F.lit(1)).otherwise(0)).alias(\"SSA_any_60d\"),\n",
    "        F.sum(F.when((F.col(\"date_difference_log\") <= 60) & (F.col(\"date_difference_log\") >= 1) & (F.col('login_state') > 0), F.lit(1)).otherwise(0)).alias(\"login\"),\n",
    "        F.sum(F.when((F.col(\"date_difference_log\") <= 60) & (F.col(\"date_difference_log\") >= 1) & (F.col('soft_login_state') > 0), F.lit(1)).otherwise(0)).alias(\"soft_login\"),\n",
    "        F.sum(F.when((F.col(\"date_difference_actionDay\") <= 60) & (F.col(\"date_difference_actionDay\") >= 1) & (F.col('total_open') > 0), F.lit(1)).otherwise(0)).alias(\"open\"),\n",
    "        F.sum(F.when((F.col(\"date_difference_actionDay\") <= 60) & (F.col(\"date_difference_actionDay\") >= 1) & (F.col('total_clicks') > 0), F.lit(1)).otherwise(0)).alias(\"click\"),\n",
    "        F.sum(F.when((F.col(\"date_difference_reg\") <= 60) & (F.col(\"date_difference_reg\") >= 1), F.lit(1)).otherwise(0)).alias(\"registration\")).\\\n",
    "    withColumn('subVal_hasAnySSA_reg_60d', F.when(((F.col('SSA_any_60d') >=  1) | (F.col('registration') >=  1)) & (F.col(\"validated_account\") > 0) & (F.col(\"sub_state\") > 0), 1).otherwise(0)).\\\n",
    "    withColumn('subVal_hasAnyLogin_reg_60d', F.when(((F.col('login_state') >=  1) | (F.col('registration') >=  1))& (F.col(\"validated_account\") > 0) & (F.col(\"sub_state\") > 0), 1).otherwise(0)).\\\n",
    "    withColumn('subVal_hasAnySoftLogin_reg_60d', F.when(((F.col('soft_login_state') >=  1) | (F.col('registration') >=  1))& (F.col(\"validated_account\") > 0) & (F.col(\"sub_state\") > 0), 1).otherwise(0)).\\\n",
    "    withColumn('subVal_hasAnyLogin_SoftLogin_reg_60d', F.when(((F.col('login') >=  1) | (F.col('soft_login') >=  1) | (F.col('registration') >=  1))\n",
    "                                                          & (F.col(\"validated_account\") > 0) & (F.col(\"sub_state\") > 0), 1).otherwise(0)).\\\n",
    "    withColumn('Rule1_subVal_hasAnyOpenClick_reg_60d', F.when(((F.col('open') >=  1) | (F.col('click') >=  1) | (F.col('registration') >=  1))\n",
    "                                                          & (F.col(\"validated_account\") > 0) & (F.col(\"sub_state\") > 0), 1).otherwise(0)).\\\n",
    "    withColumn('Rule2_subVal_hasAnyOpenClick_ssa_reg_60d', F.when(((F.col('open') >=  1) | (F.col('click') >=  1) | (F.col('SSA_any_60d') >=  1) | (F.col('registration') >=  1))\n",
    "                                                          & (F.col(\"validated_account\") > 0) & (F.col(\"sub_state\") > 0), 1).otherwise(0)).\\\n",
    "    withColumn('Rule3_subVal_hasAnyOpenClick_ssa_login_reg_60d', F.when(((F.col('open') >=  1) | (F.col('click') >=  1) | (F.col('SSA_any_60d') >=  1) \n",
    "                                                               | (F.col('login') >=  1) | (F.col('soft_login') >=  1) | (F.col('registration') >=  1))\n",
    "                                                               & (F.col(\"validated_account\") > 0) & (F.col(\"sub_state\") > 0), 1).otherwise(0))"
   ]
  },
  {
   "cell_type": "code",
   "execution_count": 14,
   "metadata": {},
   "outputs": [
    {
     "data": {
      "application/vnd.jupyter.widget-view+json": {
       "model_id": "676d8092066041ac8ad375f1d1a9db32",
       "version_major": 2,
       "version_minor": 0
      },
      "text/plain": [
       "VBox()"
      ]
     },
     "metadata": {},
     "output_type": "display_data"
    },
    {
     "data": {
      "application/vnd.jupyter.widget-view+json": {
       "model_id": "",
       "version_major": 2,
       "version_minor": 0
      },
      "text/plain": [
       "FloatProgress(value=0.0, bar_style='info', description='Progress:', layout=Layout(height='25px', width='50%'),…"
      ]
     },
     "metadata": {},
     "output_type": "display_data"
    }
   ],
   "source": [
    "# check SSA simulation result against state of subscription table\n",
    "subs_df = spark.sql(\"\"\"\n",
    "    select userlogin_id as user_id, subscriptiondate, isactive, manualunsubscribe\n",
    "    from stepstonede.subscription\n",
    "    where isactive == 1 and \n",
    "    (manualunsubscribe is null or not manualunsubscribe)\n",
    "    and subscriptiondate >= '2018-01-01' \n",
    "    \"\"\")\n",
    "\n",
    "\n",
    "#and subscriptiondate >= '2018-01-01'\n",
    "# roughly half of users cannot be mapped > why is that? missmatch in user_id"
   ]
  },
  {
   "cell_type": "code",
   "execution_count": 15,
   "metadata": {},
   "outputs": [
    {
     "data": {
      "application/vnd.jupyter.widget-view+json": {
       "model_id": "7066f47e81f941a8bb441b6a139526d5",
       "version_major": 2,
       "version_minor": 0
      },
      "text/plain": [
       "VBox()"
      ]
     },
     "metadata": {},
     "output_type": "display_data"
    },
    {
     "data": {
      "application/vnd.jupyter.widget-view+json": {
       "model_id": "",
       "version_major": 2,
       "version_minor": 0
      },
      "text/plain": [
       "FloatProgress(value=0.0, bar_style='info', description='Progress:', layout=Layout(height='25px', width='50%'),…"
      ]
     },
     "metadata": {},
     "output_type": "display_data"
    }
   ],
   "source": [
    "#left join seligent+simulation table with subscription table \n",
    "simulation_visits_selligent_ssa_sub_df = simulation_visits_selligent_ssa_df.join(subs_df, \"user_id\", \"left\")\n"
   ]
  },
  {
   "cell_type": "code",
   "execution_count": 16,
   "metadata": {},
   "outputs": [
    {
     "data": {
      "application/vnd.jupyter.widget-view+json": {
       "model_id": "0ddd73fc99594b7dbfbc182440c3dc95",
       "version_major": 2,
       "version_minor": 0
      },
      "text/plain": [
       "VBox()"
      ]
     },
     "metadata": {},
     "output_type": "display_data"
    },
    {
     "data": {
      "application/vnd.jupyter.widget-view+json": {
       "model_id": "",
       "version_major": 2,
       "version_minor": 0
      },
      "text/plain": [
       "FloatProgress(value=0.0, bar_style='info', description='Progress:', layout=Layout(height='25px', width='50%'),…"
      ]
     },
     "metadata": {},
     "output_type": "display_data"
    },
    {
     "name": "stdout",
     "output_type": "stream",
     "text": [
      "+--------+------------------------------------+-----------------------+\n",
      "|isactive|Rule1_subVal_hasAnyOpenClick_reg_60d|count(DISTINCT user_id)|\n",
      "+--------+------------------------------------+-----------------------+\n",
      "|    true|                                   0|                 846655|\n",
      "|    null|                                   1|                  38704|\n",
      "|    true|                                   1|                 538275|\n",
      "|    null|                                   0|                4655601|\n",
      "+--------+------------------------------------+-----------------------+"
     ]
    }
   ],
   "source": [
    "#Version5:(range date has increased to 60days + \"jaclockofferid.jaid = userlogin_jobuser.id\")\n",
    "#- Previouse rule: open_click_60d rule for 60days: \n",
    "        #X: isactive == 1 & open_60d rule ==1: 358,690 \n",
    "        #Z: isactive == 1 & open_60d rule ==0: 943,183\n",
    "        #N: isactive == 0 & open_60d rule ==1: 11,353\n",
    "        #M: isactive == 0 & open_60d rule ==0: 4,626,202\n",
    "        \n",
    "\n",
    "#===================================================================================================\n",
    "#New Rule1: withColumn('Rule1_subVal_hasAnyOpenClick_reg_60d', F.when(((F.col('open') >=  1) | (F.col('click') >=  1) | (F.col('registration') >=  1))\n",
    "#                                                         & (F.col(\"validated_account\") > 0) & (F.col(\"sub_state\") > 0), 1).otherwise(0)).\\\n",
    "        #X': isactive == 1 & open_60d rule ==1: 538,275 (150k increase) \n",
    "        #Z': isactive == 1 & open_60d rule ==0: 846655 (100k decrease)\n",
    "        #N': isactive == 0 & open_60d rule ==1: 38704\n",
    "        #M': isactive == 0 & open_60d rule ==0: 4655601\n",
    "\n",
    "    \n",
    "\n",
    "simulation_visits_selligent_ssa_sub_df.groupBy('isactive', 'Rule1_subVal_hasAnyOpenClick_reg_60d').agg(F.countDistinct(F.col(\"user_id\"))).show()\n"
   ]
  },
  {
   "cell_type": "code",
   "execution_count": 17,
   "metadata": {},
   "outputs": [
    {
     "data": {
      "application/vnd.jupyter.widget-view+json": {
       "model_id": "85eb5564c6f04445b83503c01134ae1a",
       "version_major": 2,
       "version_minor": 0
      },
      "text/plain": [
       "VBox()"
      ]
     },
     "metadata": {},
     "output_type": "display_data"
    },
    {
     "data": {
      "application/vnd.jupyter.widget-view+json": {
       "model_id": "",
       "version_major": 2,
       "version_minor": 0
      },
      "text/plain": [
       "FloatProgress(value=0.0, bar_style='info', description='Progress:', layout=Layout(height='25px', width='50%'),…"
      ]
     },
     "metadata": {},
     "output_type": "display_data"
    },
    {
     "name": "stdout",
     "output_type": "stream",
     "text": [
      "+--------+----------------------------------------+-----------------------+\n",
      "|isactive|Rule2_subVal_hasAnyOpenClick_ssa_reg_60d|count(DISTINCT user_id)|\n",
      "+--------+----------------------------------------+-----------------------+\n",
      "|    true|                                       0|                 677537|\n",
      "|    null|                                       1|                  39017|\n",
      "|    true|                                       1|                 544784|\n",
      "|    null|                                       0|                4652235|\n",
      "+--------+----------------------------------------+-----------------------+"
     ]
    }
   ],
   "source": [
    "#Version5:(range date has increased to 60days + \"jaclockofferid.jaid = userlogin_jobuser.id\")\n",
    "#- Previouse rule: open_click_60d rule for 44days: \n",
    "        #X: isactive == 1 & open_60d rule ==1: 358,690 \n",
    "        #Z: isactive == 1 & open_60d rule ==0: 943,183\n",
    "        #N: isactive == 0 & open_60d rule ==1: 11,353\n",
    "        #M: isactive == 0 & open_60d rule ==0: 4,626,202\n",
    "        \n",
    "\n",
    "#===================================================================================================\n",
    "#44days\n",
    "#New Rule2: withColumn('Rule2_subVal_hasAnyOpenClick_ssa_reg_45d', F.when(((F.col('open') >=  1) | (F.col('click') >=  1) | (F.col('SSA_any_60d') >=  1) | (F.col('registration') >=  1))\n",
    "#                                                           & (F.col(\"validated_account\") > 0) & (F.col(\"sub_state\") > 0), 1).otherwise(0)).\\\n",
    "        #X': isactive == 1 & open_60d rule ==1: 552,758\n",
    "        #Z': isactive == 1 & open_60d rule ==0: 714,527\n",
    "        #N': isactive == 0 & open_60d rule ==1: 27,321\n",
    "        #M': isactive == 0 & open_60d rule ==0: 4,634,992\n",
    "        \n",
    "#===========================================================\n",
    "#59 days\n",
    "#New Rule2: withColumn('Rule2_subVal_hasAnyOpenClick_ssa_reg_60d', F.when(((F.col('open') >=  1) | (F.col('click') >=  1) | (F.col('SSA_any_60d') >=  1) | (F.col('registration') >=  1))\n",
    "#                                                           & (F.col(\"validated_account\") > 0) & (F.col(\"sub_state\") > 0), 1).otherwise(0)).\\\n",
    "        #X': isactive == 1 & open_60d rule ==1: 579,904\n",
    "        #Z': isactive == 1 & open_60d rule ==0: 683,784\n",
    "        #N': isactive == 0 & open_60d rule ==1: 30372\n",
    "        #M': isactive == 0 & open_60d rule ==0: 4636545\n",
    "    \n",
    "simulation_visits_selligent_ssa_sub_df.groupBy('isactive', 'Rule2_subVal_hasAnyOpenClick_ssa_reg_60d').agg(F.countDistinct(F.col(\"user_id\"))).show()\n",
    "\n",
    "#conclusion:\n",
    "#For 20days increase in data time we have about 50k improvement in groupZ"
   ]
  },
  {
   "cell_type": "code",
   "execution_count": 18,
   "metadata": {},
   "outputs": [
    {
     "data": {
      "application/vnd.jupyter.widget-view+json": {
       "model_id": "551791e531f74c66a469f0deb2f6aba7",
       "version_major": 2,
       "version_minor": 0
      },
      "text/plain": [
       "VBox()"
      ]
     },
     "metadata": {},
     "output_type": "display_data"
    },
    {
     "data": {
      "application/vnd.jupyter.widget-view+json": {
       "model_id": "",
       "version_major": 2,
       "version_minor": 0
      },
      "text/plain": [
       "FloatProgress(value=0.0, bar_style='info', description='Progress:', layout=Layout(height='25px', width='50%'),…"
      ]
     },
     "metadata": {},
     "output_type": "display_data"
    },
    {
     "name": "stdout",
     "output_type": "stream",
     "text": [
      "+--------+----------------------------------------------+-----------------------+\n",
      "|isactive|Rule3_subVal_hasAnyOpenClick_ssa_login_reg_60d|count(DISTINCT user_id)|\n",
      "+--------+----------------------------------------------+-----------------------+\n",
      "|    true|                                             0|                 677549|\n",
      "|    null|                                             1|                  39229|\n",
      "|    true|                                             1|                 553086|\n",
      "|    null|                                             0|                4652427|\n",
      "+--------+----------------------------------------------+-----------------------+"
     ]
    }
   ],
   "source": [
    "#Version5:(range date has increased to 60days + \"jaclockofferid.jaid = userlogin_jobuser.id\")\n",
    "#- Previouse rule: open_click_60d rule for 44days: \n",
    "        #X: isactive == 1 & open_60d rule ==1: 358,690 \n",
    "        #Z: isactive == 1 & open_60d rule ==0: 943,183\n",
    "        #N: isactive == 0 & open_60d rule ==1: 11,353\n",
    "        #M: isactive == 0 & open_60d rule ==0: 4,626,202\n",
    "        \n",
    "\n",
    "#===================================================================================================\n",
    "#New Rule3: withColumn('Rule3_subVal_hasAnyOpenClick_ssa_login_reg_45d', F.when(((F.col('open') >=  1) | (F.col('click') >=  1) | (F.col('SSA_any_60d') >=  1) \n",
    "#                                                                | (F.col('login') >=  1) | (F.col('soft_login') >=  1) | (F.col('registration') >=  1))\n",
    "#                                                                & (F.col(\"validated_account\") > 0) & (F.col(\"sub_state\") > 0), 1).otherwise(0))\n",
    "        #X': isactive == 1 & open_60d rule ==1: 559,378\n",
    "        #Z': isactive == 1 & open_60d rule ==0: 714,527\n",
    "        #N': isactive == 0 & open_60d rule ==1: 27,438\n",
    "        #M': isactive == 0 & open_60d rule ==0: 4,634,992\n",
    "        \n",
    "#===========================================================\n",
    "#59 days\n",
    "#New Rule2: withColumn('Rule2_subVal_hasAnyOpenClick_ssa_reg_60d', F.when(((F.col('open') >=  1) | (F.col('click') >=  1) | (F.col('SSA_any_60d') >=  1) | (F.col('registration') >=  1))\n",
    "#                                                           & (F.col(\"validated_account\") > 0) & (F.col(\"sub_state\") > 0), 1).otherwise(0)).\\\n",
    "        #X': isactive == 1 & open_60d rule ==1: \n",
    "        #Z': isactive == 1 & open_60d rule ==0: \n",
    "        #N': isactive == 0 & open_60d rule ==1: \n",
    "        #M': isactive == 0 & open_60d rule ==0: \n",
    "    \n",
    "\n",
    "    \n",
    "simulation_visits_selligent_ssa_sub_df.groupBy('isactive', 'Rule3_subVal_hasAnyOpenClick_ssa_login_reg_60d').agg(F.countDistinct(F.col(\"user_id\"))).show()"
   ]
  },
  {
   "cell_type": "code",
   "execution_count": 19,
   "metadata": {},
   "outputs": [
    {
     "data": {
      "application/vnd.jupyter.widget-view+json": {
       "model_id": "9b1003df2cda4594accbe2c8c9ce4339",
       "version_major": 2,
       "version_minor": 0
      },
      "text/plain": [
       "VBox()"
      ]
     },
     "metadata": {},
     "output_type": "display_data"
    },
    {
     "data": {
      "application/vnd.jupyter.widget-view+json": {
       "model_id": "",
       "version_major": 2,
       "version_minor": 0
      },
      "text/plain": [
       "FloatProgress(value=0.0, bar_style='info', description='Progress:', layout=Layout(height='25px', width='50%'),…"
      ]
     },
     "metadata": {},
     "output_type": "display_data"
    },
    {
     "name": "stdout",
     "output_type": "stream",
     "text": [
      "+--------+-----------------+---------+-----------------------+\n",
      "|isactive|validated_account|sub_state|count(DISTINCT user_id)|\n",
      "+--------+-----------------+---------+-----------------------+\n",
      "|    null|                1|        0|                 301725|\n",
      "|    null|             null|     null|                4113904|\n",
      "|    true|             null|     null|                  82974|\n",
      "|    true|                0|        1|                  12119|\n",
      "|    null|                1|        1|                  80982|\n",
      "|    true|                1|        1|                 855066|\n",
      "|    null|                0|        0|                 166213|\n",
      "|    true|                0|        0|                     43|\n",
      "|    true|                1|        0|                   3495|\n",
      "|    null|                0|        1|                   1783|\n",
      "+--------+-----------------+---------+-----------------------+"
     ]
    }
   ],
   "source": [
    "#Updates from this cell to out code: using validation account in registration table  \n",
    "\n",
    "# Q: how important are validate_account and sub_state? is there any error in our logic?\n",
    "# here we see we have to do some cleaning up of \"validated account\" and \"sub_state\"\n",
    "simulation_visits_selligent_ssa_sub_df.groupBy('isactive', 'validated_account', \"sub_state\").agg(F.countDistinct(F.col(\"user_id\"))).show()\n",
    "\n",
    "#Version5\n",
    "# +--------+-----------------+---------+-----------------------+\n",
    "# |isactive|validated_account|sub_state|count(DISTINCT user_id)|\n",
    "# +--------+-----------------+---------+-----------------------+\n",
    "# |    null|                1|        0|                 301523|*** :) incread\n",
    "# |    null|             null|     null|                4102505|\n",
    "# |    true|             null|     null|                  82585|* Not changed! :(\n",
    "# |    true|                0|        1|                  13187|** :)\n",
    "# |    null|                1|        1|                  68160|*increased :)\n",
    "# |    true|                1|        1|                 844106|\n",
    "# |    null|                0|        0|                 164307|\n",
    "# |    true|                0|        0|                     60|\n",
    "# |    true|                1|        0|                   3558|\n",
    "# |    null|                0|        1|                    859|\n",
    "# +--------+-----------------+---------+-----------------------+\n",
    "\n",
    "\n",
    "#============================================================================\n",
    "\n",
    "#version4:\n",
    "#+--------+-----------------+---------+-----------------------+\n",
    "#|isactive|validated_account|sub_state|count(DISTINCT user_id)|\n",
    "#+--------+-----------------+---------+-----------------------+\n",
    "#|    null|                1|        0|                 258236| TO LOOK AT LATER: that may be an opportunity - to look at later\n",
    "#|    null|             null|     null|                4098988| ALEX_find out: who are these users? why to they appear in our dataset?\n",
    "#|    true|             null|     null|                  82726| IMPORTANT: why aren't thos people in our dataset? \n",
    "#|    true|                0|        1|                  62429| SOLVED: is our \"validated_account\" logic ok? include \"active\" field from userlogin table in registration df and compare\n",
    "#|    null|                1|        1|                  61876| TO LOOK AT LATER: this is an opportunity - no need to look into further\n",
    "#|    true|                1|        1|                 796026| OK\n",
    "#|    null|                0|        0|                 206784| OK\n",
    "#|    true|                0|        0|                   3433| OK - too small\n",
    "#|    true|                1|        0|                    260| OK - too small\n",
    "#|    null|                0|        1|                    363| OK - too small\n",
    "#+--------+-----------------+---------+-----------------------+\n"
   ]
  },
  {
   "cell_type": "code",
   "execution_count": null,
   "metadata": {},
   "outputs": [],
   "source": [
    "#version5: (range date has increased to 60days + \"jaclockofferid.jaid = userlogin_jobuser.id\")\n",
    "#Activities of GroupZ in 60 days\n",
    "    #total number of sends \n",
    "    #total number of clicks \n",
    "    #total number of opens \n",
    "    #total number of registrations \n",
    "    #total number of login  \n",
    "    #total number of ssa actions \n"
   ]
  },
  {
   "cell_type": "code",
   "execution_count": 20,
   "metadata": {},
   "outputs": [
    {
     "data": {
      "application/vnd.jupyter.widget-view+json": {
       "model_id": "0152c2907be349f4b64073ad0b847b09",
       "version_major": 2,
       "version_minor": 0
      },
      "text/plain": [
       "VBox()"
      ]
     },
     "metadata": {},
     "output_type": "display_data"
    },
    {
     "data": {
      "application/vnd.jupyter.widget-view+json": {
       "model_id": "",
       "version_major": 2,
       "version_minor": 0
      },
      "text/plain": [
       "FloatProgress(value=0.0, bar_style='info', description='Progress:', layout=Layout(height='25px', width='50%'),…"
      ]
     },
     "metadata": {},
     "output_type": "display_data"
    },
    {
     "name": "stderr",
     "output_type": "stream",
     "text": [
      "\"cannot resolve '`send`' given input columns: [subVal_hasAnyLogin_SoftLogin_reg_60d, soft_login, reg_date, open, stepstonede.subscription.subscriptiondate, subVal_hasAnySSA_reg_60d, user_id, considered_date, login_state, registration, Rule2_subVal_hasAnyOpenClick_ssa_reg_60d, hasVisit_60d, log_date, stepstonede.subscription.manualunsubscribe, sub_state, soft_login_state, action_day, Rule1_subVal_hasAnyOpenClick_reg_60d, SSA_any_60d, subVal_hasVisit_60d, subVal_hasAnyLogin_reg_60d, click, login, validated_account, Rule3_subVal_hasAnyOpenClick_ssa_login_reg_60d, stepstonede.subscription.isactive, subVal_hasAnySoftLogin_reg_60d];;\\n'Aggregate [isactive#2967], [isactive#2967, sum(count(distinct 'send)) AS total_send_perUser#3415, sum(count(distinct 'total_open)) AS total_open_perUser#3418, sum(count(distinct 'total_clicks)) AS total_click_perUser#3421, sum(count(distinct registration#2792L)) AS total_registration_perUser#3424L, sum(count(distinct login#2784L)) AS total_Login_perUser#3427L, sum(count(distinct soft_login#2786L)) AS total_SoftLogin_perUser#3430L, sum(count(distinct SSA_any_60d#2782L)) AS total_ssa_perUser#3433L]\\n+- Filter (isactive#2967 && (Rule1_subVal_hasAnyOpenClick_reg_60d#2892 = 0))\\n   +- Project [user_id#2496, action_day#2495, reg_date#1, validated_account#263, considered_date#204, sub_state#273, log_date#6, login_state#284, soft_login_state#296, hasVisit_60d#2211, subVal_hasVisit_60d#2223, SSA_any_60d#2782L, login#2784L, soft_login#2786L, open#2788L, click#2790L, registration#2792L, subVal_hasAnySSA_reg_60d#2810, subVal_hasAnyLogin_reg_60d#2829, subVal_hasAnySoftLogin_reg_60d#2849, subVal_hasAnyLogin_SoftLogin_reg_60d#2870, Rule1_subVal_hasAnyOpenClick_reg_60d#2892, Rule2_subVal_hasAnyOpenClick_ssa_reg_60d#2915, Rule3_subVal_hasAnyOpenClick_ssa_login_reg_60d#2939, ... 3 more fields]\\n      +- Join LeftOuter, (cast(user_id#2496 as int) = user_id#2964)\\n         :- Project [user_id#2496, action_day#2495, reg_date#1, validated_account#263, considered_date#204, sub_state#273, log_date#6, login_state#284, soft_login_state#296, hasVisit_60d#2211, subVal_hasVisit_60d#2223, SSA_any_60d#2782L, login#2784L, soft_login#2786L, open#2788L, click#2790L, registration#2792L, subVal_hasAnySSA_reg_60d#2810, subVal_hasAnyLogin_reg_60d#2829, subVal_hasAnySoftLogin_reg_60d#2849, subVal_hasAnyLogin_SoftLogin_reg_60d#2870, Rule1_subVal_hasAnyOpenClick_reg_60d#2892, Rule2_subVal_hasAnyOpenClick_ssa_reg_60d#2915, CASE WHEN ((((((((open#2788L >= cast(1 as bigint)) || (click#2790L >= cast(1 as bigint))) || (SSA_any_60d#2782L >= cast(1 as bigint))) || (login#2784L >= cast(1 as bigint))) || (soft_login#2786L >= cast(1 as bigint))) || (registration#2792L >= cast(1 as bigint))) && (validated_account#263 > 0)) && (sub_state#273 > 0)) THEN 1 ELSE 0 END AS Rule3_subVal_hasAnyOpenClick_ssa_login_reg_60d#2939]\\n         :  +- Project [user_id#2496, action_day#2495, reg_date#1, validated_account#263, considered_date#204, sub_state#273, log_date#6, login_state#284, soft_login_state#296, hasVisit_60d#2211, subVal_hasVisit_60d#2223, SSA_any_60d#2782L, login#2784L, soft_login#2786L, open#2788L, click#2790L, registration#2792L, subVal_hasAnySSA_reg_60d#2810, subVal_hasAnyLogin_reg_60d#2829, subVal_hasAnySoftLogin_reg_60d#2849, subVal_hasAnyLogin_SoftLogin_reg_60d#2870, Rule1_subVal_hasAnyOpenClick_reg_60d#2892, CASE WHEN ((((((open#2788L >= cast(1 as bigint)) || (click#2790L >= cast(1 as bigint))) || (SSA_any_60d#2782L >= cast(1 as bigint))) || (registration#2792L >= cast(1 as bigint))) && (validated_account#263 > 0)) && (sub_state#273 > 0)) THEN 1 ELSE 0 END AS Rule2_subVal_hasAnyOpenClick_ssa_reg_60d#2915]\\n         :     +- Project [user_id#2496, action_day#2495, reg_date#1, validated_account#263, considered_date#204, sub_state#273, log_date#6, login_state#284, soft_login_state#296, hasVisit_60d#2211, subVal_hasVisit_60d#2223, SSA_any_60d#2782L, login#2784L, soft_login#2786L, open#2788L, click#2790L, registration#2792L, subVal_hasAnySSA_reg_60d#2810, subVal_hasAnyLogin_reg_60d#2829, subVal_hasAnySoftLogin_reg_60d#2849, subVal_hasAnyLogin_SoftLogin_reg_60d#2870, CASE WHEN (((((open#2788L >= cast(1 as bigint)) || (click#2790L >= cast(1 as bigint))) || (registration#2792L >= cast(1 as bigint))) && (validated_account#263 > 0)) && (sub_state#273 > 0)) THEN 1 ELSE 0 END AS Rule1_subVal_hasAnyOpenClick_reg_60d#2892]\\n         :        +- Project [user_id#2496, action_day#2495, reg_date#1, validated_account#263, considered_date#204, sub_state#273, log_date#6, login_state#284, soft_login_state#296, hasVisit_60d#2211, subVal_hasVisit_60d#2223, SSA_any_60d#2782L, login#2784L, soft_login#2786L, open#2788L, click#2790L, registration#2792L, subVal_hasAnySSA_reg_60d#2810, subVal_hasAnyLogin_reg_60d#2829, subVal_hasAnySoftLogin_reg_60d#2849, CASE WHEN (((((login#2784L >= cast(1 as bigint)) || (soft_login#2786L >= cast(1 as bigint))) || (registration#2792L >= cast(1 as bigint))) && (validated_account#263 > 0)) && (sub_state#273 > 0)) THEN 1 ELSE 0 END AS subVal_hasAnyLogin_SoftLogin_reg_60d#2870]\\n         :           +- Project [user_id#2496, action_day#2495, reg_date#1, validated_account#263, considered_date#204, sub_state#273, log_date#6, login_state#284, soft_login_state#296, hasVisit_60d#2211, subVal_hasVisit_60d#2223, SSA_any_60d#2782L, login#2784L, soft_login#2786L, open#2788L, click#2790L, registration#2792L, subVal_hasAnySSA_reg_60d#2810, subVal_hasAnyLogin_reg_60d#2829, CASE WHEN ((((soft_login_state#296 >= 1) || (registration#2792L >= cast(1 as bigint))) && (validated_account#263 > 0)) && (sub_state#273 > 0)) THEN 1 ELSE 0 END AS subVal_hasAnySoftLogin_reg_60d#2849]\\n         :              +- Project [user_id#2496, action_day#2495, reg_date#1, validated_account#263, considered_date#204, sub_state#273, log_date#6, login_state#284, soft_login_state#296, hasVisit_60d#2211, subVal_hasVisit_60d#2223, SSA_any_60d#2782L, login#2784L, soft_login#2786L, open#2788L, click#2790L, registration#2792L, subVal_hasAnySSA_reg_60d#2810, CASE WHEN ((((login_state#284 >= 1) || (registration#2792L >= cast(1 as bigint))) && (validated_account#263 > 0)) && (sub_state#273 > 0)) THEN 1 ELSE 0 END AS subVal_hasAnyLogin_reg_60d#2829]\\n         :                 +- Project [user_id#2496, action_day#2495, reg_date#1, validated_account#263, considered_date#204, sub_state#273, log_date#6, login_state#284, soft_login_state#296, hasVisit_60d#2211, subVal_hasVisit_60d#2223, SSA_any_60d#2782L, login#2784L, soft_login#2786L, open#2788L, click#2790L, registration#2792L, CASE WHEN ((((SSA_any_60d#2782L >= cast(1 as bigint)) || (registration#2792L >= cast(1 as bigint))) && (validated_account#263 > 0)) && (sub_state#273 > 0)) THEN 1 ELSE 0 END AS subVal_hasAnySSA_reg_60d#2810]\\n         :                    +- Aggregate [user_id#2496, action_day#2495, reg_date#1, validated_account#263, considered_date#204, sub_state#273, log_date#6, login_state#284, soft_login_state#296, hasVisit_60d#2211, subVal_hasVisit_60d#2223], [user_id#2496, action_day#2495, reg_date#1, validated_account#263, considered_date#204, sub_state#273, log_date#6, login_state#284, soft_login_state#296, hasVisit_60d#2211, subVal_hasVisit_60d#2223, sum(cast(CASE WHEN (((date_difference_ssa#2673 <= 60) && (date_difference_ssa#2673 >= 1)) && (any_ssa#2239 > 0)) THEN 1 ELSE 0 END as bigint)) AS SSA_any_60d#2782L, sum(cast(CASE WHEN (((date_difference_log#2699 <= 60) && (date_difference_log#2699 >= 1)) && (login_state#284 > 0)) THEN 1 ELSE 0 END as bigint)) AS login#2784L, sum(cast(CASE WHEN (((date_difference_log#2699 <= 60) && (date_difference_log#2699 >= 1)) && (soft_login_state#296 > 0)) THEN 1 ELSE 0 END as bigint)) AS soft_login#2786L, sum(cast(CASE WHEN (((date_difference_actionDay#2726 <= 60) && (date_difference_actionDay#2726 >= 1)) && (total_open#2498L > cast(0 as bigint))) THEN 1 ELSE 0 END as bigint)) AS open#2788L, sum(cast(CASE WHEN (((date_difference_actionDay#2726 <= 60) && (date_difference_actionDay#2726 >= 1)) && (total_clicks#2500L > cast(0 as bigint))) THEN 1 ELSE 0 END as bigint)) AS click#2790L, sum(cast(CASE WHEN ((date_difference_reg#2624 <= 60) && (date_difference_reg#2624 >= 1)) THEN 1 ELSE 0 END as bigint)) AS registration#2792L]\\n         :                       +- Project [user_id#2496, action_day#2495, send#2497L, total_open#2498L, unique_open#2499L, total_clicks#2500L, unique_clicks#2501L, reg_date#1, validated_account#263, considered_date#204, sub_state#273, sub_date#226, log_date#6, login_state#284, soft_login_state#296, visits_60d#2200L, hasVisit_60d#2211, subVal_hasVisit_60d#2223, ssa_date#2236, event_name#2241, listing_view#2238, any_ssa#2239, date_difference_reg#2624, date_difference_sub#2648, ... 3 more fields]\\n         :                          +- Project [user_id#2496, action_day#2495, send#2497L, total_open#2498L, unique_open#2499L, total_clicks#2500L, unique_clicks#2501L, reg_date#1, validated_account#263, considered_date#204, sub_state#273, sub_date#226, log_date#6, login_state#284, soft_login_state#296, visits_60d#2200L, hasVisit_60d#2211, subVal_hasVisit_60d#2223, ssa_date#2236, event_name#2241, listing_view#2238, any_ssa#2239, date_difference_reg#2624, date_difference_sub#2648, ... 2 more fields]\\n         :                             +- Project [user_id#2496, action_day#2495, send#2497L, total_open#2498L, unique_open#2499L, total_clicks#2500L, unique_clicks#2501L, reg_date#1, validated_account#263, considered_date#204, sub_state#273, sub_date#226, log_date#6, login_state#284, soft_login_state#296, visits_60d#2200L, hasVisit_60d#2211, subVal_hasVisit_60d#2223, ssa_date#2236, event_name#2241, listing_view#2238, any_ssa#2239, date_difference_reg#2624, date_difference_sub#2648, datediff(considered_date#204, ssa_date#2236) AS date_difference_ssa#2673]\\n         :                                +- Project [user_id#2496, action_day#2495, send#2497L, total_open#2498L, unique_open#2499L, total_clicks#2500L, unique_clicks#2501L, reg_date#1, validated_account#263, considered_date#204, sub_state#273, sub_date#226, log_date#6, login_state#284, soft_login_state#296, visits_60d#2200L, hasVisit_60d#2211, subVal_hasVisit_60d#2223, ssa_date#2236, event_name#2241, listing_view#2238, any_ssa#2239, date_difference_reg#2624, datediff(considered_date#204, sub_date#226) AS date_difference_sub#2648]\\n         :                                   +- Project [user_id#2496, action_day#2495, send#2497L, total_open#2498L, unique_open#2499L, total_clicks#2500L, unique_clicks#2501L, reg_date#1, validated_account#263, considered_date#204, sub_state#273, sub_date#226, log_date#6, login_state#284, soft_login_state#296, visits_60d#2200L, hasVisit_60d#2211, subVal_hasVisit_60d#2223, ssa_date#2236, event_name#2241, listing_view#2238, any_ssa#2239, datediff(considered_date#204, reg_date#1) AS date_difference_reg#2624]\\n         :                                      +- Project [user_id#2496, action_day#2495, send#2497L, total_open#2498L, unique_open#2499L, total_clicks#2500L, unique_clicks#2501L, reg_date#1, validated_account#263, considered_date#204, sub_state#273, sub_date#226, log_date#6, login_state#284, soft_login_state#296, visits_60d#2200L, hasVisit_60d#2211, subVal_hasVisit_60d#2223, ssa_date#2236, event_name#2241, listing_view#2238, any_ssa#2239]\\n         :                                         +- Join LeftOuter, (user_id#2496 = user_id#2237)\\n         :                                            :- Project [user_id#2496, action_day#2495, send#2497L, total_open#2498L, unique_open#2499L, total_clicks#2500L, unique_clicks#2501L, reg_date#1, validated_account#263, considered_date#204, sub_state#273, sub_date#226, log_date#6, login_state#284, soft_login_state#296, visits_60d#2200L, hasVisit_60d#2211, subVal_hasVisit_60d#2223]\\n         :                                            :  +- Join LeftOuter, (cast(user_id#2496 as int) = user_id#0)\\n         :                                            :     :- Union\\n         :                                            :     :  :- Project [action_day#2495, user_id#2496, send#2497L, total_open#2498L, unique_open#2499L, total_clicks#2500L, unique_clicks#2501L]\\n         :                                            :     :  :  +- Aggregate [to_date(concat_ws(-, cast(year#2523 as string), cast(month#2524 as string), cast(day#2525 as string)), None), user_login_id#2505], [to_date(concat_ws(-, cast(year#2523 as string), cast(month#2524 as string), cast(day#2525 as string)), None) AS action_day#2495, user_login_id#2505 AS user_id#2496, FLOOR(sum(cast(sent#2511 as double))) AS send#2497L, FLOOR(sum(cast(opened#2514 as double))) AS total_open#2498L, count(distinct CASE WHEN (cast(opened#2514 as int) > 0) THEN ditem_id#2521 END) AS unique_open#2499L, FLOOR(sum(cast(clicked#2515 as double))) AS total_clicks#2500L, count(distinct CASE WHEN (cast(clicked#2515 as int) > 0) THEN ditem_id#2521 END) AS unique_clicks#2501L]\\n         :                                            :     :  :     +- SubqueryAlias `fe`\\n         :                                            :     :  :        +- SubqueryAlias `live_raw_selligent_de_stepstone`.`flags_enriched`\\n         :                                            :     :  :           +- HiveTableRelation `live_raw_selligent_de_stepstone`.`flags_enriched`, org.apache.hadoop.hive.serde2.lazy.LazySimpleSerDe, [brand#2502, country#2503, campaign_type#2504, user_login_id#2505, date_of_action_creation#2506, delivery_date#2507, campaign_id#2508, action_id#2509, probe_id#2510, sent#2511, delivered#2512, probe_id_description#2513, opened#2514, clicked#2515, unsubscribed#2516, clicks_apply#2517, clicks_inside_content#2518, state#2519, description_of_state#2520, ditem_id#2521, ja_id#2522], [year#2523, month#2524, day#2525]\\n         :                                            :     :  +- Project [action_day#2538, cast(user_id#2539 as string) AS user_id#2573, cast(send#2540 as bigint) AS send#2574L, cast(total_open#2541 as bigint) AS total_open#2575L, cast(unique_open#2542 as bigint) AS unique_open#2576L, total_clicks#2543L, unique_clicks#2544L]\\n         :                                            :     :     +- Aggregate [to_date(concat_ws(-, cast(year#2554 as string), cast(month#2555 as string), cast(day#2556 as string)), None), userlogin_id#2558], [to_date(concat_ws(-, cast(year#2554 as string), cast(month#2555 as string), cast(day#2556 as string)), None) AS action_day#2538, userlogin_id#2558 AS user_id#2539, 0 AS send#2540, 0 AS total_open#2541, 0 AS unique_open#2542, count(1) AS total_clicks#2543L, count(distinct jaid#2549) AS unique_clicks#2544L]\\n         :                                            :     :        +- Join RightOuter, (jaid#2549 = jobuser_id#2559)\\n         :                                            :     :           :- SubqueryAlias `A`\\n         :                                            :     :           :  +- SubqueryAlias `stepstonede`.`jaclickofferid`\\n         :                                            :     :           :     +- Relation[guid#2546,channel#2547,offerid#2548,jaid#2549,nctid#2550,lang#2551,hostname#2552,datetime#2553,year#2554,month#2555,day#2556] parquet\\n         :                                            :     :           +- SubqueryAlias `B`\\n         :                                            :     :              +- SubqueryAlias `stepstonede`.`userlogin_jobuser`\\n         :                                            :     :                 +- Relation[id#2557,userlogin_id#2558,jobuser_id#2559,type#2560,item_name#2561,pbid#2562,exctpe#2563,is_automatic_name#2564] parquet\\n         :                                            :     +- Project [user_id#0, reg_date#1, validated_account#263, considered_date#204, sub_state#273, sub_date#226, log_date#6, login_state#284, soft_login_state#296, visits_60d#2200L, hasVisit_60d#2211, CASE WHEN (((visits_60d#2200L >= cast(1 as bigint)) && (validated_account#263 > 0)) && (sub_state#273 > 0)) THEN 1 ELSE 0 END AS subVal_hasVisit_60d#2223]\\n         :                                            :        +- Project [user_id#0, reg_date#1, validated_account#263, considered_date#204, sub_state#273, sub_date#226, log_date#6, login_state#284, soft_login_state#296, visits_60d#2200L, CASE WHEN (visits_60d#2200L >= cast(1 as bigint)) THEN 1 ELSE 0 END AS hasVisit_60d#2211]\\n         :                                            :           +- Aggregate [user_id#0, reg_date#1, validated_account#263, considered_date#204, sub_state#273, sub_date#226, log_date#6, login_state#284, soft_login_state#296], [user_id#0, reg_date#1, validated_account#263, considered_date#204, sub_state#273, sub_date#226, log_date#6, login_state#284, soft_login_state#296, sum(cast(CASE WHEN ((date_difference#2176 <= 60) && (date_difference#2176 >= 1)) THEN 1 ELSE 0 END as bigint)) AS visits_60d#2200L]\\n         :                                            :              +- Project [user_id#0, reg_date#1, validated_account#263, considered_date#204, sub_state#273, visit_date#318, sub_date#226, log_date#6, login_state#284, soft_login_state#296, datediff(considered_date#204, visit_date#318) AS date_difference#2176]\\n         :                                            :                 +- Project [user_id#0, reg_date#1, validated_account#263, considered_date#204, sub_state#273, visit_date#318, sub_date#226, log_date#6, login_state#284, soft_login_state#296]\\n         :                                            :                    +- Project [user_id#0, reg_date#1, validated_account#263, sub_state#273, considered_date#204, sub_date#226, log_date#6, login_state#284, soft_login_state#296, visit_date#318]\\n         :                                            :                       +- Join LeftOuter, (user_id#0 = cast(user_id#2153 as int))\\n         :                                            :                          :- Project [user_id#0, reg_date#1, validated_account#263, sub_state#273, considered_date#204, sub_date#226, log_date#6, login_state#284, soft_login_state#296]\\n         :                                            :                          :  +- Project [user_id#0, reg_date#1, AccountValidation#3, last_login#5, last_softlog#4, log_date#6, considered_date#204, sub_date#226, validated_account#263, sub_state#273, login_state#284, CASE WHEN (last_softlog#4 <= considered_date#204) THEN 1 ELSE 0 END AS soft_login_state#296]\\n         :                                            :                          :     +- Project [user_id#0, reg_date#1, AccountValidation#3, last_login#5, last_softlog#4, log_date#6, considered_date#204, sub_date#226, validated_account#263, sub_state#273, CASE WHEN (last_login#5 <= considered_date#204) THEN 1 ELSE 0 END AS login_state#284]\\n         :                                            :                          :        +- Project [user_id#0, reg_date#1, AccountValidation#3, last_login#5, last_softlog#4, log_date#6, considered_date#204, sub_date#226, validated_account#263, CASE WHEN (sub_date#226 <= considered_date#204) THEN 1 ELSE 0 END AS sub_state#273]\\n         :                                            :                          :           +- Project [user_id#0, reg_date#1, AccountValidation#3, last_login#5, last_softlog#4, log_date#6, considered_date#204, sub_date#226, CASE WHEN (AccountValidation#3 = true) THEN 1 ELSE 0 END AS validated_account#263]\\n         :                                            :                          :              +- Project [user_id#0, reg_date#1, AccountValidation#3, last_login#5, last_softlog#4, log_date#6, considered_date#204, sub_date#226]\\n         :                                            :                          :                 +- Join LeftAnti, (user_id#0 = user_id#247)\\n         :                                            :                          :                    :- Project [user_id#0, reg_date#1, AccountValidation#3, last_login#5, last_softlog#4, log_date#6, considered_date#204, sub_date#226]\\n         :                                            :                          :                    :  +- Join LeftOuter, (user_id#0 = user_id#229)\\n         :                                            :                          :                    :     :- Project [user_id#0, reg_date#1, AccountValidation#3, last_login#5, last_softlog#4, log_date#6, to_date(18421, None) AS considered_date#204]\\n         :                                            :                          :                    :     :  +- Deduplicate [reg_date#1, last_softlog#4, user_id#0, AccountValidation#3, log_date#6, last_login#5]\\n         :                                            :                          :                    :     :     +- Project [user_id#0, reg_date#1, AccountValidation#3, last_login#5, last_softlog#4, log_date#6]\\n         :                                            :                          :                    :     :        +- Sort [reg_date#1 ASC NULLS FIRST, log_date#6 ASC NULLS FIRST], true\\n         :                                            :                          :                    :     :           +- Aggregate [id#8, to_date(dcreated#21, None), passwordset#47, subscriptionid#65, to_date(subscriptiondate#68, None), isactive#67, active#36, manualunsubscribe#73, to_date(datelastsoftlogin#50, None), to_date(dlastlogin#22, None), to_date(logdatetime#79, None), logaction#78], [id#8 AS user_id#0, to_date(dcreated#21, None) AS reg_date#1, passwordset#47, subscriptionid#65, to_date(subscriptiondate#68, None) AS sub_date#2, isactive#67, active#36 AS AccountValidation#3, manualunsubscribe#73, to_date(datelastsoftlogin#50, None) AS last_softlog#4, to_date(dlastlogin#22, None) AS last_login#5, to_date(logdatetime#79, None) AS log_date#6, logaction#78, count(logdatetime#79) AS n_events#7L]\\n         :                                            :                          :                    :     :              +- Filter (cast(dcreated#21 as string) >= 2018-01-01)\\n         :                                            :                          :                    :     :                 +- Join LeftOuter, ((id#8 = userloginid#76) && NOT logaction#78 IN (IJM, autodeactivate,IJM, autoactivate))\\n         :                                            :                          :                    :     :                    :- Join LeftOuter, (id#8 = userlogin_id#66)\\n         :                                            :                          :                    :     :                    :  :- SubqueryAlias `UID`\\n         :                                            :                          :                    :     :                    :  :  +- SubqueryAlias `stepstonede`.`userlogin`\\n         :                                            :                          :                    :     :                    :  :     +- Relation[id#8,login#9,pwd#10,lang#11,email#12,emailtype#13,firstname#14,lastname#15,gender#16,ddateofbirth#17,postalcode#18,locked#19,online#20,dcreated#21,dlastlogin#22,secret_question#23,secret_answer#24,mailbox_id#25,nationality#26,streetname#27,streetnumber#28,city#29,country#30,telephone#31,... 33 more fields] parquet\\n         :                                            :                          :                    :     :                    :  +- SubqueryAlias `SUB`\\n         :                                            :                          :                    :     :                    :     +- SubqueryAlias `stepstonede`.`subscription`\\n         :                                            :                          :                    :     :                    :        +- Relation[subscriptionid#65,userlogin_id#66,isactive#67,subscriptiondate#68,dailysentcounter#69,frequency#70,preferredlanguage#71,acceptablelanguages#72,manualunsubscribe#73,testandvariant#74] parquet\\n         :                                            :                          :                    :     :                    +- SubqueryAlias `LOG`\\n         :                                            :                          :                    :     :                       +- SubqueryAlias `stepstonede`.`logmystst`\\n         :                                            :                          :                    :     :                          +- Relation[id#75,userloginid#76,jobuserid#77,logaction#78,logdatetime#79,emailold#80,emailnew#81,ipaddress#82,comment#83,channel#84,doneby#85,ref_userdomain_id#86,year#87,month#88,day#89] parquet\\n         :                                            :                          :                    :     +- Aggregate [user_id#229], [user_id#229, min(log_date#235) AS sub_date#226]\\n         :                                            :                          :                    :        +- Filter logaction#78 IN (IJM, subscription)\\n         :                                            :                          :                    :           +- Sort [reg_date#230 ASC NULLS FIRST, log_date#235 ASC NULLS FIRST], true\\n         :                                            :                          :                    :              +- Aggregate [id#8, to_date(dcreated#21, None), passwordset#47, subscriptionid#65, to_date(subscriptiondate#68, None), isactive#67, active#36, manualunsubscribe#73, to_date(datelastsoftlogin#50, None), to_date(dlastlogin#22, None), to_date(logdatetime#79, None), logaction#78], [id#8 AS user_id#229, to_date(dcreated#21, None) AS reg_date#230, passwordset#47, subscriptionid#65, to_date(subscriptiondate#68, None) AS sub_date#231, isactive#67, active#36 AS AccountValidation#232, manualunsubscribe#73, to_date(datelastsoftlogin#50, None) AS last_softlog#233, to_date(dlastlogin#22, None) AS last_login#234, to_date(logdatetime#79, None) AS log_date#235, logaction#78, count(logdatetime#79) AS n_events#236L]\\n         :                                            :                          :                    :                 +- Filter (cast(dcreated#21 as string) >= 2018-01-01)\\n         :                                            :                          :                    :                    +- Join LeftOuter, ((id#8 = userloginid#76) && NOT logaction#78 IN (IJM, autodeactivate,IJM, autoactivate))\\n         :                                            :                          :                    :                       :- Join LeftOuter, (id#8 = userlogin_id#66)\\n         :                                            :                          :                    :                       :  :- SubqueryAlias `UID`\\n         :                                            :                          :                    :                       :  :  +- SubqueryAlias `stepstonede`.`userlogin`\\n         :                                            :                          :                    :                       :  :     +- Relation[id#8,login#9,pwd#10,lang#11,email#12,emailtype#13,firstname#14,lastname#15,gender#16,ddateofbirth#17,postalcode#18,locked#19,online#20,dcreated#21,dlastlogin#22,secret_question#23,secret_answer#24,mailbox_id#25,nationality#26,streetname#27,streetnumber#28,city#29,country#30,telephone#31,... 33 more fields] parquet\\n         :                                            :                          :                    :                       :  +- SubqueryAlias `SUB`\\n         :                                            :                          :                    :                       :     +- SubqueryAlias `stepstonede`.`subscription`\\n         :                                            :                          :                    :                       :        +- Relation[subscriptionid#65,userlogin_id#66,isactive#67,subscriptiondate#68,dailysentcounter#69,frequency#70,preferredlanguage#71,acceptablelanguages#72,manualunsubscribe#73,testandvariant#74] parquet\\n         :                                            :                          :                    :                       +- SubqueryAlias `LOG`\\n         :                                            :                          :                    :                          +- SubqueryAlias `stepstonede`.`logmystst`\\n         :                                            :                          :                    :                             +- Relation[id#75,userloginid#76,jobuserid#77,logaction#78,logdatetime#79,emailold#80,emailnew#81,ipaddress#82,comment#83,channel#84,doneby#85,ref_userdomain_id#86,year#87,month#88,day#89] parquet\\n         :                                            :                          :                    +- Deduplicate [user_id#247, manualunsubscribe#73]\\n         :                                            :                          :                       +- Project [user_id#247, manualunsubscribe#73]\\n         :                                            :                          :                          +- Filter (manualunsubscribe#73 = true)\\n         :                                            :                          :                             +- Sort [reg_date#248 ASC NULLS FIRST, log_date#253 ASC NULLS FIRST], true\\n         :                                            :                          :                                +- Aggregate [id#8, to_date(dcreated#21, None), passwordset#47, subscriptionid#65, to_date(subscriptiondate#68, None), isactive#67, active#36, manualunsubscribe#73, to_date(datelastsoftlogin#50, None), to_date(dlastlogin#22, None), to_date(logdatetime#79, None), logaction#78], [id#8 AS user_id#247, to_date(dcreated#21, None) AS reg_date#248, passwordset#47, subscriptionid#65, to_date(subscriptiondate#68, None) AS sub_date#249, isactive#67, active#36 AS AccountValidation#250, manualunsubscribe#73, to_date(datelastsoftlogin#50, None) AS last_softlog#251, to_date(dlastlogin#22, None) AS last_login#252, to_date(logdatetime#79, None) AS log_date#253, logaction#78, count(logdatetime#79) AS n_events#254L]\\n         :                                            :                          :                                   +- Filter (cast(dcreated#21 as string) >= 2018-01-01)\\n         :                                            :                          :                                      +- Join LeftOuter, ((id#8 = userloginid#76) && NOT logaction#78 IN (IJM, autodeactivate,IJM, autoactivate))\\n         :                                            :                          :                                         :- Join LeftOuter, (id#8 = userlogin_id#66)\\n         :                                            :                          :                                         :  :- SubqueryAlias `UID`\\n         :                                            :                          :                                         :  :  +- SubqueryAlias `stepstonede`.`userlogin`\\n         :                                            :                          :                                         :  :     +- Relation[id#8,login#9,pwd#10,lang#11,email#12,emailtype#13,firstname#14,lastname#15,gender#16,ddateofbirth#17,postalcode#18,locked#19,online#20,dcreated#21,dlastlogin#22,secret_question#23,secret_answer#24,mailbox_id#25,nationality#26,streetname#27,streetnumber#28,city#29,country#30,telephone#31,... 33 more fields] parquet\\n         :                                            :                          :                                         :  +- SubqueryAlias `SUB`\\n         :                                            :                          :                                         :     +- SubqueryAlias `stepstonede`.`subscription`\\n         :                                            :                          :                                         :        +- Relation[subscriptionid#65,userlogin_id#66,isactive#67,subscriptiondate#68,dailysentcounter#69,frequency#70,preferredlanguage#71,acceptablelanguages#72,manualunsubscribe#73,testandvariant#74] parquet\\n         :                                            :                          :                                         +- SubqueryAlias `LOG`\\n         :                                            :                          :                                            +- SubqueryAlias `stepstonede`.`logmystst`\\n         :                                            :                          :                                               +- Relation[id#75,userloginid#76,jobuserid#77,logaction#78,logdatetime#79,emailold#80,emailnew#81,ipaddress#82,comment#83,channel#84,doneby#85,ref_userdomain_id#86,year#87,month#88,day#89] parquet\\n         :                                            :                          +- Project [new_user_id_1#2146 AS user_id#2153, visit_date#318]\\n         :                                            :                             +- Filter isnotnull(new_user_id_1#2146)\\n         :                                            :                                +- Project [user_id#413, userlogin_id#2097, user_id_hash#2119, visit_date#318, new_user_id#2140, CASE WHEN isnotnull(new_user_id#2140) THEN new_user_id#2140 ELSE CASE WHEN isnotnull(user_id_hash#2119) THEN user_id_hash#2119 END END AS new_user_id_1#2146]\\n         :                                            :                                   +- Project [user_id#413, userlogin_id#2097, user_id_hash#2119, visit_date#318, CASE WHEN isnotnull(user_id#413) THEN user_id#413 ELSE cast(CASE WHEN isnotnull(userlogin_id#2097) THEN userlogin_id#2097 END as string) END AS new_user_id#2140]\\n         :                                            :                                      +- Project [user_id#413, userlogin_id#2097, user_id_hash#2119, visit_date#318]\\n         :                                            :                                         +- Project [user_hash#414, job_agent_id#366, user_id#413, visit_date#318, userlogin_id#2097, user_id_hash#2119]\\n         :                                            :                                            +- Join LeftOuter, (user_hash#414 = user_hash#2127)\\n         :                                            :                                               :- Project [job_agent_id#366, user_id#413, user_hash#414, visit_date#318, userlogin_id#2097]\\n         :                                            :                                               :  +- Join LeftOuter, (job_agent_id#366 = job_agent_id#2095)\\n         :                                            :                                               :     :- Union\\n         :                                            :                                               :     :  :- Union\\n         :                                            :                                               :     :  :  :- Distinct\\n         :                                            :                                               :     :  :  :  +- Project [user_id#413, user_hash#414, job_agent_id#366, to_date(visit_start_time_gmt#562, None) AS visit_date#318]\\n         :                                            :                                               :     :  :  :     +- Filter ((cast(exclude_hit#330 as int) <= 0) && (year#633 = 2020))\\n         :                                            :                                               :     :  :  :        +- SubqueryAlias `presentation`.`hits_de`\\n         :                                            :                                               :     :  :  :           +- Relation[browser_id#321L,browser_name#322,code_ver#323,connection_type#324,country#325,daily_visitor#326,date_time#327,domain#328,bot#329,exclude_hit#330,first_hit_page_url#331,first_hit_pagename#332,first_hit_referrer#333,first_hit_date#334,geo_city#335,geo_country#336,geo_region#337,hit_time_gmt#338,hitid_high#339L,hitid_low#340L,homepage#341,hourly_visitor#342,language_id#343,language#344,... 291 more fields] parquet\\n         :                                            :                                               :     :  :  +- Distinct\\n         :                                            :                                               :     :  :     +- Project [user_id#728, user_hash#729, job_agent_id#681, to_date(visit_start_time_gmt#877, None) AS visit_date#319]\\n         :                                            :                                               :     :  :        +- Filter ((job_site#889 LIKE %-de && (cast(exclude_hit#645 as int) <= 0)) && (year#918 = 2020))\\n         :                                            :                                               :     :  :           +- SubqueryAlias `AA`\\n         :                                            :                                               :     :  :              +- SubqueryAlias `presentation`.`hits_android_global`\\n         :                                            :                                               :     :  :                 +- Relation[browser_id#636L,browser_name#637,code_ver#638,connection_type#639,country#640,daily_visitor#641,date_time#642,domain#643,bot#644,exclude_hit#645,first_hit_page_url#646,first_hit_pagename#647,first_hit_referrer#648,first_hit_date#649,geo_city#650,geo_country#651,geo_region#652,hit_time_gmt#653,hitid_high#654L,hitid_low#655L,homepage#656,hourly_visitor#657,language_id#658,language#659,... 261 more fields] parquet\\n         :                                            :                                               :     :  +- Distinct\\n         :                                            :                                               :     :     +- Project [user_id#1013, user_hash#1014, job_agent_id#966, to_date(visit_start_time_gmt#1162, None) AS visit_date#320]\\n         :                                            :                                               :     :        +- Filter ((job_site#1174 LIKE %-de && (cast(exclude_hit#930 as int) <= 0)) && (year#1203 = 2020))\\n         :                                            :                                               :     :           +- SubqueryAlias `AA`\\n         :                                            :                                               :     :              +- SubqueryAlias `presentation`.`hits_iphoneapp_global`\\n         :                                            :                                               :     :                 +- Relation[browser_id#921L,browser_name#922,code_ver#923,connection_type#924,country#925,daily_visitor#926,date_time#927,domain#928,bot#929,exclude_hit#930,first_hit_page_url#931,first_hit_pagename#932,first_hit_referrer#933,first_hit_date#934,geo_city#935,geo_country#936,geo_region#937,hit_time_gmt#938,hitid_high#939L,hitid_low#940L,homepage#941,hourly_visitor#942,language_id#943,language#944,... 261 more fields] parquet\\n         :                                            :                                               :     +- Distinct\\n         :                                            :                                               :        +- Project [userlogin_id#2097, jobuser_id#2098 AS job_agent_id#2095]\\n         :                                            :                                               :           +- SubqueryAlias `stepstonede`.`userlogin_jobuser`\\n         :                                            :                                               :              +- Relation[id#2096,userlogin_id#2097,jobuser_id#2098,type#2099,item_name#2100,pbid#2101,exctpe#2102,is_automatic_name#2103] parquet\\n         :                                            :                                               +- Project [user_hash#2127, user_id#2126 AS user_id_hash#2119]\\n         :                                            :                                                  +- Join RightOuter, ((user_hash#2127 = user_hash#2122) && (n_UID#2120L = cast(1 as bigint)))\\n         :                                            :                                                     :- SubqueryAlias `A`\\n         :                                            :                                                     :  +- SubqueryAlias `presentation`.`adobe_user_id_hash_de`\\n         :                                            :                                                     :     +- Relation[user_id#2126,user_hash#2127] parquet\\n         :                                            :                                                     +- SubqueryAlias `B`\\n         :                                            :                                                        +- SubqueryAlias `hash_count`\\n         :                                            :                                                           +- Aggregate [user_hash#2122], [user_hash#2122, count(distinct user_id#2121) AS n_UID#2120L]\\n         :                                            :                                                              +- SubqueryAlias `presentation`.`adobe_user_id_hash_de`\\n         :                                            :                                                                 +- Relation[user_id#2121,user_hash#2122] parquet\\n         :                                            +- Distinct\\n         :                                               +- Project [to_date(log_date#2242, None) AS ssa_date#2236, event_name#2241, tracking_my_stepstone_id#2293 AS user_id#2237, CASE WHEN (event_name#2241 = ListingView) THEN 1 ELSE 0 END AS listing_view#2238, 1 AS any_ssa#2239]\\n         :                                                  +- Filter (((year#2312 >= 2020) && (month#2313 >= 3)) && ((country#2311 = DE) && event_name#2241 IN (ListingView,Search)))\\n         :                                                     +- SubqueryAlias `presentation`.`ssa_fact`\\n         :                                                        +- Relation[session_id#2240,event_name#2241,log_date#2242,log_date_epoch#2243L,raw_json_content#2244,added_widgets#2245,algorithm#2246,analysed_query_type#2247,bot#2248,browse_city_id#2249,browse_company_id#2250,browse_function#2251,browse_region_id#2252,browse_url#2253,categories#2254,cid#2255,company_id#2256,distil#2257,fuzzy_behaviour#2258,geo_city_id#2259,geo_widget_id#2260,highlighted_listing_ids#2261,is_highlighted#2262,jobagent_id#2263,... 51 more fields] parquet\\n         +- Project [userlogin_id#2966 AS user_id#2964, subscriptiondate#2968, isactive#2967, manualunsubscribe#2973]\\n            +- Filter ((isactive#2967 && (isnull(manualunsubscribe#2973) || NOT manualunsubscribe#2973)) && (cast(subscriptiondate#2968 as string) >= 2018-01-01))\\n               +- SubqueryAlias `stepstonede`.`subscription`\\n                  +- Relation[subscriptionid#2965,userlogin_id#2966,isactive#2967,subscriptiondate#2968,dailysentcounter#2969,frequency#2970,preferredlanguage#2971,acceptablelanguages#2972,manualunsubscribe#2973,testandvariant#2974] parquet\\n\"\n",
      "Traceback (most recent call last):\n",
      "  File \"/mnt/yarn/usercache/assumed-role_assume_role_DC_AWS_GC_DW_DATA_SCIENCE_BASIC_Parastoo_Ghalamchi_stepstone_com/appcache/application_1590480489834_0096/container_e03_1590480489834_0096_01_000002/pyspark.zip/pyspark/sql/group.py\", line 115, in agg\n",
      "    _to_seq(self.sql_ctx._sc, [c._jc for c in exprs[1:]]))\n",
      "  File \"/mnt/yarn/usercache/assumed-role_assume_role_DC_AWS_GC_DW_DATA_SCIENCE_BASIC_Parastoo_Ghalamchi_stepstone_com/appcache/application_1590480489834_0096/container_e03_1590480489834_0096_01_000002/py4j-0.10.7-src.zip/py4j/java_gateway.py\", line 1257, in __call__\n",
      "    answer, self.gateway_client, self.target_id, self.name)\n",
      "  File \"/mnt/yarn/usercache/assumed-role_assume_role_DC_AWS_GC_DW_DATA_SCIENCE_BASIC_Parastoo_Ghalamchi_stepstone_com/appcache/application_1590480489834_0096/container_e03_1590480489834_0096_01_000002/pyspark.zip/pyspark/sql/utils.py\", line 69, in deco\n",
      "    raise AnalysisException(s.split(': ', 1)[1], stackTrace)\n",
      "pyspark.sql.utils.AnalysisException: \"cannot resolve '`send`' given input columns: [subVal_hasAnyLogin_SoftLogin_reg_60d, soft_login, reg_date, open, stepstonede.subscription.subscriptiondate, subVal_hasAnySSA_reg_60d, user_id, considered_date, login_state, registration, Rule2_subVal_hasAnyOpenClick_ssa_reg_60d, hasVisit_60d, log_date, stepstonede.subscription.manualunsubscribe, sub_state, soft_login_state, action_day, Rule1_subVal_hasAnyOpenClick_reg_60d, SSA_any_60d, subVal_hasVisit_60d, subVal_hasAnyLogin_reg_60d, click, login, validated_account, Rule3_subVal_hasAnyOpenClick_ssa_login_reg_60d, stepstonede.subscription.isactive, subVal_hasAnySoftLogin_reg_60d];;\\n'Aggregate [isactive#2967], [isactive#2967, sum(count(distinct 'send)) AS total_send_perUser#3415, sum(count(distinct 'total_open)) AS total_open_perUser#3418, sum(count(distinct 'total_clicks)) AS total_click_perUser#3421, sum(count(distinct registration#2792L)) AS total_registration_perUser#3424L, sum(count(distinct login#2784L)) AS total_Login_perUser#3427L, sum(count(distinct soft_login#2786L)) AS total_SoftLogin_perUser#3430L, sum(count(distinct SSA_any_60d#2782L)) AS total_ssa_perUser#3433L]\\n+- Filter (isactive#2967 && (Rule1_subVal_hasAnyOpenClick_reg_60d#2892 = 0))\\n   +- Project [user_id#2496, action_day#2495, reg_date#1, validated_account#263, considered_date#204, sub_state#273, log_date#6, login_state#284, soft_login_state#296, hasVisit_60d#2211, subVal_hasVisit_60d#2223, SSA_any_60d#2782L, login#2784L, soft_login#2786L, open#2788L, click#2790L, registration#2792L, subVal_hasAnySSA_reg_60d#2810, subVal_hasAnyLogin_reg_60d#2829, subVal_hasAnySoftLogin_reg_60d#2849, subVal_hasAnyLogin_SoftLogin_reg_60d#2870, Rule1_subVal_hasAnyOpenClick_reg_60d#2892, Rule2_subVal_hasAnyOpenClick_ssa_reg_60d#2915, Rule3_subVal_hasAnyOpenClick_ssa_login_reg_60d#2939, ... 3 more fields]\\n      +- Join LeftOuter, (cast(user_id#2496 as int) = user_id#2964)\\n         :- Project [user_id#2496, action_day#2495, reg_date#1, validated_account#263, considered_date#204, sub_state#273, log_date#6, login_state#284, soft_login_state#296, hasVisit_60d#2211, subVal_hasVisit_60d#2223, SSA_any_60d#2782L, login#2784L, soft_login#2786L, open#2788L, click#2790L, registration#2792L, subVal_hasAnySSA_reg_60d#2810, subVal_hasAnyLogin_reg_60d#2829, subVal_hasAnySoftLogin_reg_60d#2849, subVal_hasAnyLogin_SoftLogin_reg_60d#2870, Rule1_subVal_hasAnyOpenClick_reg_60d#2892, Rule2_subVal_hasAnyOpenClick_ssa_reg_60d#2915, CASE WHEN ((((((((open#2788L >= cast(1 as bigint)) || (click#2790L >= cast(1 as bigint))) || (SSA_any_60d#2782L >= cast(1 as bigint))) || (login#2784L >= cast(1 as bigint))) || (soft_login#2786L >= cast(1 as bigint))) || (registration#2792L >= cast(1 as bigint))) && (validated_account#263 > 0)) && (sub_state#273 > 0)) THEN 1 ELSE 0 END AS Rule3_subVal_hasAnyOpenClick_ssa_login_reg_60d#2939]\\n         :  +- Project [user_id#2496, action_day#2495, reg_date#1, validated_account#263, considered_date#204, sub_state#273, log_date#6, login_state#284, soft_login_state#296, hasVisit_60d#2211, subVal_hasVisit_60d#2223, SSA_any_60d#2782L, login#2784L, soft_login#2786L, open#2788L, click#2790L, registration#2792L, subVal_hasAnySSA_reg_60d#2810, subVal_hasAnyLogin_reg_60d#2829, subVal_hasAnySoftLogin_reg_60d#2849, subVal_hasAnyLogin_SoftLogin_reg_60d#2870, Rule1_subVal_hasAnyOpenClick_reg_60d#2892, CASE WHEN ((((((open#2788L >= cast(1 as bigint)) || (click#2790L >= cast(1 as bigint))) || (SSA_any_60d#2782L >= cast(1 as bigint))) || (registration#2792L >= cast(1 as bigint))) && (validated_account#263 > 0)) && (sub_state#273 > 0)) THEN 1 ELSE 0 END AS Rule2_subVal_hasAnyOpenClick_ssa_reg_60d#2915]\\n         :     +- Project [user_id#2496, action_day#2495, reg_date#1, validated_account#263, considered_date#204, sub_state#273, log_date#6, login_state#284, soft_login_state#296, hasVisit_60d#2211, subVal_hasVisit_60d#2223, SSA_any_60d#2782L, login#2784L, soft_login#2786L, open#2788L, click#2790L, registration#2792L, subVal_hasAnySSA_reg_60d#2810, subVal_hasAnyLogin_reg_60d#2829, subVal_hasAnySoftLogin_reg_60d#2849, subVal_hasAnyLogin_SoftLogin_reg_60d#2870, CASE WHEN (((((open#2788L >= cast(1 as bigint)) || (click#2790L >= cast(1 as bigint))) || (registration#2792L >= cast(1 as bigint))) && (validated_account#263 > 0)) && (sub_state#273 > 0)) THEN 1 ELSE 0 END AS Rule1_subVal_hasAnyOpenClick_reg_60d#2892]\\n         :        +- Project [user_id#2496, action_day#2495, reg_date#1, validated_account#263, considered_date#204, sub_state#273, log_date#6, login_state#284, soft_login_state#296, hasVisit_60d#2211, subVal_hasVisit_60d#2223, SSA_any_60d#2782L, login#2784L, soft_login#2786L, open#2788L, click#2790L, registration#2792L, subVal_hasAnySSA_reg_60d#2810, subVal_hasAnyLogin_reg_60d#2829, subVal_hasAnySoftLogin_reg_60d#2849, CASE WHEN (((((login#2784L >= cast(1 as bigint)) || (soft_login#2786L >= cast(1 as bigint))) || (registration#2792L >= cast(1 as bigint))) && (validated_account#263 > 0)) && (sub_state#273 > 0)) THEN 1 ELSE 0 END AS subVal_hasAnyLogin_SoftLogin_reg_60d#2870]\\n         :           +- Project [user_id#2496, action_day#2495, reg_date#1, validated_account#263, considered_date#204, sub_state#273, log_date#6, login_state#284, soft_login_state#296, hasVisit_60d#2211, subVal_hasVisit_60d#2223, SSA_any_60d#2782L, login#2784L, soft_login#2786L, open#2788L, click#2790L, registration#2792L, subVal_hasAnySSA_reg_60d#2810, subVal_hasAnyLogin_reg_60d#2829, CASE WHEN ((((soft_login_state#296 >= 1) || (registration#2792L >= cast(1 as bigint))) && (validated_account#263 > 0)) && (sub_state#273 > 0)) THEN 1 ELSE 0 END AS subVal_hasAnySoftLogin_reg_60d#2849]\\n         :              +- Project [user_id#2496, action_day#2495, reg_date#1, validated_account#263, considered_date#204, sub_state#273, log_date#6, login_state#284, soft_login_state#296, hasVisit_60d#2211, subVal_hasVisit_60d#2223, SSA_any_60d#2782L, login#2784L, soft_login#2786L, open#2788L, click#2790L, registration#2792L, subVal_hasAnySSA_reg_60d#2810, CASE WHEN ((((login_state#284 >= 1) || (registration#2792L >= cast(1 as bigint))) && (validated_account#263 > 0)) && (sub_state#273 > 0)) THEN 1 ELSE 0 END AS subVal_hasAnyLogin_reg_60d#2829]\\n         :                 +- Project [user_id#2496, action_day#2495, reg_date#1, validated_account#263, considered_date#204, sub_state#273, log_date#6, login_state#284, soft_login_state#296, hasVisit_60d#2211, subVal_hasVisit_60d#2223, SSA_any_60d#2782L, login#2784L, soft_login#2786L, open#2788L, click#2790L, registration#2792L, CASE WHEN ((((SSA_any_60d#2782L >= cast(1 as bigint)) || (registration#2792L >= cast(1 as bigint))) && (validated_account#263 > 0)) && (sub_state#273 > 0)) THEN 1 ELSE 0 END AS subVal_hasAnySSA_reg_60d#2810]\\n         :                    +- Aggregate [user_id#2496, action_day#2495, reg_date#1, validated_account#263, considered_date#204, sub_state#273, log_date#6, login_state#284, soft_login_state#296, hasVisit_60d#2211, subVal_hasVisit_60d#2223], [user_id#2496, action_day#2495, reg_date#1, validated_account#263, considered_date#204, sub_state#273, log_date#6, login_state#284, soft_login_state#296, hasVisit_60d#2211, subVal_hasVisit_60d#2223, sum(cast(CASE WHEN (((date_difference_ssa#2673 <= 60) && (date_difference_ssa#2673 >= 1)) && (any_ssa#2239 > 0)) THEN 1 ELSE 0 END as bigint)) AS SSA_any_60d#2782L, sum(cast(CASE WHEN (((date_difference_log#2699 <= 60) && (date_difference_log#2699 >= 1)) && (login_state#284 > 0)) THEN 1 ELSE 0 END as bigint)) AS login#2784L, sum(cast(CASE WHEN (((date_difference_log#2699 <= 60) && (date_difference_log#2699 >= 1)) && (soft_login_state#296 > 0)) THEN 1 ELSE 0 END as bigint)) AS soft_login#2786L, sum(cast(CASE WHEN (((date_difference_actionDay#2726 <= 60) && (date_difference_actionDay#2726 >= 1)) && (total_open#2498L > cast(0 as bigint))) THEN 1 ELSE 0 END as bigint)) AS open#2788L, sum(cast(CASE WHEN (((date_difference_actionDay#2726 <= 60) && (date_difference_actionDay#2726 >= 1)) && (total_clicks#2500L > cast(0 as bigint))) THEN 1 ELSE 0 END as bigint)) AS click#2790L, sum(cast(CASE WHEN ((date_difference_reg#2624 <= 60) && (date_difference_reg#2624 >= 1)) THEN 1 ELSE 0 END as bigint)) AS registration#2792L]\\n         :                       +- Project [user_id#2496, action_day#2495, send#2497L, total_open#2498L, unique_open#2499L, total_clicks#2500L, unique_clicks#2501L, reg_date#1, validated_account#263, considered_date#204, sub_state#273, sub_date#226, log_date#6, login_state#284, soft_login_state#296, visits_60d#2200L, hasVisit_60d#2211, subVal_hasVisit_60d#2223, ssa_date#2236, event_name#2241, listing_view#2238, any_ssa#2239, date_difference_reg#2624, date_difference_sub#2648, ... 3 more fields]\\n         :                          +- Project [user_id#2496, action_day#2495, send#2497L, total_open#2498L, unique_open#2499L, total_clicks#2500L, unique_clicks#2501L, reg_date#1, validated_account#263, considered_date#204, sub_state#273, sub_date#226, log_date#6, login_state#284, soft_login_state#296, visits_60d#2200L, hasVisit_60d#2211, subVal_hasVisit_60d#2223, ssa_date#2236, event_name#2241, listing_view#2238, any_ssa#2239, date_difference_reg#2624, date_difference_sub#2648, ... 2 more fields]\\n         :                             +- Project [user_id#2496, action_day#2495, send#2497L, total_open#2498L, unique_open#2499L, total_clicks#2500L, unique_clicks#2501L, reg_date#1, validated_account#263, considered_date#204, sub_state#273, sub_date#226, log_date#6, login_state#284, soft_login_state#296, visits_60d#2200L, hasVisit_60d#2211, subVal_hasVisit_60d#2223, ssa_date#2236, event_name#2241, listing_view#2238, any_ssa#2239, date_difference_reg#2624, date_difference_sub#2648, datediff(considered_date#204, ssa_date#2236) AS date_difference_ssa#2673]\\n         :                                +- Project [user_id#2496, action_day#2495, send#2497L, total_open#2498L, unique_open#2499L, total_clicks#2500L, unique_clicks#2501L, reg_date#1, validated_account#263, considered_date#204, sub_state#273, sub_date#226, log_date#6, login_state#284, soft_login_state#296, visits_60d#2200L, hasVisit_60d#2211, subVal_hasVisit_60d#2223, ssa_date#2236, event_name#2241, listing_view#2238, any_ssa#2239, date_difference_reg#2624, datediff(considered_date#204, sub_date#226) AS date_difference_sub#2648]\\n         :                                   +- Project [user_id#2496, action_day#2495, send#2497L, total_open#2498L, unique_open#2499L, total_clicks#2500L, unique_clicks#2501L, reg_date#1, validated_account#263, considered_date#204, sub_state#273, sub_date#226, log_date#6, login_state#284, soft_login_state#296, visits_60d#2200L, hasVisit_60d#2211, subVal_hasVisit_60d#2223, ssa_date#2236, event_name#2241, listing_view#2238, any_ssa#2239, datediff(considered_date#204, reg_date#1) AS date_difference_reg#2624]\\n         :                                      +- Project [user_id#2496, action_day#2495, send#2497L, total_open#2498L, unique_open#2499L, total_clicks#2500L, unique_clicks#2501L, reg_date#1, validated_account#263, considered_date#204, sub_state#273, sub_date#226, log_date#6, login_state#284, soft_login_state#296, visits_60d#2200L, hasVisit_60d#2211, subVal_hasVisit_60d#2223, ssa_date#2236, event_name#2241, listing_view#2238, any_ssa#2239]\\n         :                                         +- Join LeftOuter, (user_id#2496 = user_id#2237)\\n         :                                            :- Project [user_id#2496, action_day#2495, send#2497L, total_open#2498L, unique_open#2499L, total_clicks#2500L, unique_clicks#2501L, reg_date#1, validated_account#263, considered_date#204, sub_state#273, sub_date#226, log_date#6, login_state#284, soft_login_state#296, visits_60d#2200L, hasVisit_60d#2211, subVal_hasVisit_60d#2223]\\n         :                                            :  +- Join LeftOuter, (cast(user_id#2496 as int) = user_id#0)\\n         :                                            :     :- Union\\n         :                                            :     :  :- Project [action_day#2495, user_id#2496, send#2497L, total_open#2498L, unique_open#2499L, total_clicks#2500L, unique_clicks#2501L]\\n         :                                            :     :  :  +- Aggregate [to_date(concat_ws(-, cast(year#2523 as string), cast(month#2524 as string), cast(day#2525 as string)), None), user_login_id#2505], [to_date(concat_ws(-, cast(year#2523 as string), cast(month#2524 as string), cast(day#2525 as string)), None) AS action_day#2495, user_login_id#2505 AS user_id#2496, FLOOR(sum(cast(sent#2511 as double))) AS send#2497L, FLOOR(sum(cast(opened#2514 as double))) AS total_open#2498L, count(distinct CASE WHEN (cast(opened#2514 as int) > 0) THEN ditem_id#2521 END) AS unique_open#2499L, FLOOR(sum(cast(clicked#2515 as double))) AS total_clicks#2500L, count(distinct CASE WHEN (cast(clicked#2515 as int) > 0) THEN ditem_id#2521 END) AS unique_clicks#2501L]\\n         :                                            :     :  :     +- SubqueryAlias `fe`\\n         :                                            :     :  :        +- SubqueryAlias `live_raw_selligent_de_stepstone`.`flags_enriched`\\n         :                                            :     :  :           +- HiveTableRelation `live_raw_selligent_de_stepstone`.`flags_enriched`, org.apache.hadoop.hive.serde2.lazy.LazySimpleSerDe, [brand#2502, country#2503, campaign_type#2504, user_login_id#2505, date_of_action_creation#2506, delivery_date#2507, campaign_id#2508, action_id#2509, probe_id#2510, sent#2511, delivered#2512, probe_id_description#2513, opened#2514, clicked#2515, unsubscribed#2516, clicks_apply#2517, clicks_inside_content#2518, state#2519, description_of_state#2520, ditem_id#2521, ja_id#2522], [year#2523, month#2524, day#2525]\\n         :                                            :     :  +- Project [action_day#2538, cast(user_id#2539 as string) AS user_id#2573, cast(send#2540 as bigint) AS send#2574L, cast(total_open#2541 as bigint) AS total_open#2575L, cast(unique_open#2542 as bigint) AS unique_open#2576L, total_clicks#2543L, unique_clicks#2544L]\\n         :                                            :     :     +- Aggregate [to_date(concat_ws(-, cast(year#2554 as string), cast(month#2555 as string), cast(day#2556 as string)), None), userlogin_id#2558], [to_date(concat_ws(-, cast(year#2554 as string), cast(month#2555 as string), cast(day#2556 as string)), None) AS action_day#2538, userlogin_id#2558 AS user_id#2539, 0 AS send#2540, 0 AS total_open#2541, 0 AS unique_open#2542, count(1) AS total_clicks#2543L, count(distinct jaid#2549) AS unique_clicks#2544L]\\n         :                                            :     :        +- Join RightOuter, (jaid#2549 = jobuser_id#2559)\\n         :                                            :     :           :- SubqueryAlias `A`\\n         :                                            :     :           :  +- SubqueryAlias `stepstonede`.`jaclickofferid`\\n         :                                            :     :           :     +- Relation[guid#2546,channel#2547,offerid#2548,jaid#2549,nctid#2550,lang#2551,hostname#2552,datetime#2553,year#2554,month#2555,day#2556] parquet\\n         :                                            :     :           +- SubqueryAlias `B`\\n         :                                            :     :              +- SubqueryAlias `stepstonede`.`userlogin_jobuser`\\n         :                                            :     :                 +- Relation[id#2557,userlogin_id#2558,jobuser_id#2559,type#2560,item_name#2561,pbid#2562,exctpe#2563,is_automatic_name#2564] parquet\\n         :                                            :     +- Project [user_id#0, reg_date#1, validated_account#263, considered_date#204, sub_state#273, sub_date#226, log_date#6, login_state#284, soft_login_state#296, visits_60d#2200L, hasVisit_60d#2211, CASE WHEN (((visits_60d#2200L >= cast(1 as bigint)) && (validated_account#263 > 0)) && (sub_state#273 > 0)) THEN 1 ELSE 0 END AS subVal_hasVisit_60d#2223]\\n         :                                            :        +- Project [user_id#0, reg_date#1, validated_account#263, considered_date#204, sub_state#273, sub_date#226, log_date#6, login_state#284, soft_login_state#296, visits_60d#2200L, CASE WHEN (visits_60d#2200L >= cast(1 as bigint)) THEN 1 ELSE 0 END AS hasVisit_60d#2211]\\n         :                                            :           +- Aggregate [user_id#0, reg_date#1, validated_account#263, considered_date#204, sub_state#273, sub_date#226, log_date#6, login_state#284, soft_login_state#296], [user_id#0, reg_date#1, validated_account#263, considered_date#204, sub_state#273, sub_date#226, log_date#6, login_state#284, soft_login_state#296, sum(cast(CASE WHEN ((date_difference#2176 <= 60) && (date_difference#2176 >= 1)) THEN 1 ELSE 0 END as bigint)) AS visits_60d#2200L]\\n         :                                            :              +- Project [user_id#0, reg_date#1, validated_account#263, considered_date#204, sub_state#273, visit_date#318, sub_date#226, log_date#6, login_state#284, soft_login_state#296, datediff(considered_date#204, visit_date#318) AS date_difference#2176]\\n         :                                            :                 +- Project [user_id#0, reg_date#1, validated_account#263, considered_date#204, sub_state#273, visit_date#318, sub_date#226, log_date#6, login_state#284, soft_login_state#296]\\n         :                                            :                    +- Project [user_id#0, reg_date#1, validated_account#263, sub_state#273, considered_date#204, sub_date#226, log_date#6, login_state#284, soft_login_state#296, visit_date#318]\\n         :                                            :                       +- Join LeftOuter, (user_id#0 = cast(user_id#2153 as int))\\n         :                                            :                          :- Project [user_id#0, reg_date#1, validated_account#263, sub_state#273, considered_date#204, sub_date#226, log_date#6, login_state#284, soft_login_state#296]\\n         :                                            :                          :  +- Project [user_id#0, reg_date#1, AccountValidation#3, last_login#5, last_softlog#4, log_date#6, considered_date#204, sub_date#226, validated_account#263, sub_state#273, login_state#284, CASE WHEN (last_softlog#4 <= considered_date#204) THEN 1 ELSE 0 END AS soft_login_state#296]\\n         :                                            :                          :     +- Project [user_id#0, reg_date#1, AccountValidation#3, last_login#5, last_softlog#4, log_date#6, considered_date#204, sub_date#226, validated_account#263, sub_state#273, CASE WHEN (last_login#5 <= considered_date#204) THEN 1 ELSE 0 END AS login_state#284]\\n         :                                            :                          :        +- Project [user_id#0, reg_date#1, AccountValidation#3, last_login#5, last_softlog#4, log_date#6, considered_date#204, sub_date#226, validated_account#263, CASE WHEN (sub_date#226 <= considered_date#204) THEN 1 ELSE 0 END AS sub_state#273]\\n         :                                            :                          :           +- Project [user_id#0, reg_date#1, AccountValidation#3, last_login#5, last_softlog#4, log_date#6, considered_date#204, sub_date#226, CASE WHEN (AccountValidation#3 = true) THEN 1 ELSE 0 END AS validated_account#263]\\n         :                                            :                          :              +- Project [user_id#0, reg_date#1, AccountValidation#3, last_login#5, last_softlog#4, log_date#6, considered_date#204, sub_date#226]\\n         :                                            :                          :                 +- Join LeftAnti, (user_id#0 = user_id#247)\\n         :                                            :                          :                    :- Project [user_id#0, reg_date#1, AccountValidation#3, last_login#5, last_softlog#4, log_date#6, considered_date#204, sub_date#226]\\n         :                                            :                          :                    :  +- Join LeftOuter, (user_id#0 = user_id#229)\\n         :                                            :                          :                    :     :- Project [user_id#0, reg_date#1, AccountValidation#3, last_login#5, last_softlog#4, log_date#6, to_date(18421, None) AS considered_date#204]\\n         :                                            :                          :                    :     :  +- Deduplicate [reg_date#1, last_softlog#4, user_id#0, AccountValidation#3, log_date#6, last_login#5]\\n         :                                            :                          :                    :     :     +- Project [user_id#0, reg_date#1, AccountValidation#3, last_login#5, last_softlog#4, log_date#6]\\n         :                                            :                          :                    :     :        +- Sort [reg_date#1 ASC NULLS FIRST, log_date#6 ASC NULLS FIRST], true\\n         :                                            :                          :                    :     :           +- Aggregate [id#8, to_date(dcreated#21, None), passwordset#47, subscriptionid#65, to_date(subscriptiondate#68, None), isactive#67, active#36, manualunsubscribe#73, to_date(datelastsoftlogin#50, None), to_date(dlastlogin#22, None), to_date(logdatetime#79, None), logaction#78], [id#8 AS user_id#0, to_date(dcreated#21, None) AS reg_date#1, passwordset#47, subscriptionid#65, to_date(subscriptiondate#68, None) AS sub_date#2, isactive#67, active#36 AS AccountValidation#3, manualunsubscribe#73, to_date(datelastsoftlogin#50, None) AS last_softlog#4, to_date(dlastlogin#22, None) AS last_login#5, to_date(logdatetime#79, None) AS log_date#6, logaction#78, count(logdatetime#79) AS n_events#7L]\\n         :                                            :                          :                    :     :              +- Filter (cast(dcreated#21 as string) >= 2018-01-01)\\n         :                                            :                          :                    :     :                 +- Join LeftOuter, ((id#8 = userloginid#76) && NOT logaction#78 IN (IJM, autodeactivate,IJM, autoactivate))\\n         :                                            :                          :                    :     :                    :- Join LeftOuter, (id#8 = userlogin_id#66)\\n         :                                            :                          :                    :     :                    :  :- SubqueryAlias `UID`\\n         :                                            :                          :                    :     :                    :  :  +- SubqueryAlias `stepstonede`.`userlogin`\\n         :                                            :                          :                    :     :                    :  :     +- Relation[id#8,login#9,pwd#10,lang#11,email#12,emailtype#13,firstname#14,lastname#15,gender#16,ddateofbirth#17,postalcode#18,locked#19,online#20,dcreated#21,dlastlogin#22,secret_question#23,secret_answer#24,mailbox_id#25,nationality#26,streetname#27,streetnumber#28,city#29,country#30,telephone#31,... 33 more fields] parquet\\n         :                                            :                          :                    :     :                    :  +- SubqueryAlias `SUB`\\n         :                                            :                          :                    :     :                    :     +- SubqueryAlias `stepstonede`.`subscription`\\n         :                                            :                          :                    :     :                    :        +- Relation[subscriptionid#65,userlogin_id#66,isactive#67,subscriptiondate#68,dailysentcounter#69,frequency#70,preferredlanguage#71,acceptablelanguages#72,manualunsubscribe#73,testandvariant#74] parquet\\n         :                                            :                          :                    :     :                    +- SubqueryAlias `LOG`\\n         :                                            :                          :                    :     :                       +- SubqueryAlias `stepstonede`.`logmystst`\\n         :                                            :                          :                    :     :                          +- Relation[id#75,userloginid#76,jobuserid#77,logaction#78,logdatetime#79,emailold#80,emailnew#81,ipaddress#82,comment#83,channel#84,doneby#85,ref_userdomain_id#86,year#87,month#88,day#89] parquet\\n         :                                            :                          :                    :     +- Aggregate [user_id#229], [user_id#229, min(log_date#235) AS sub_date#226]\\n         :                                            :                          :                    :        +- Filter logaction#78 IN (IJM, subscription)\\n         :                                            :                          :                    :           +- Sort [reg_date#230 ASC NULLS FIRST, log_date#235 ASC NULLS FIRST], true\\n         :                                            :                          :                    :              +- Aggregate [id#8, to_date(dcreated#21, None), passwordset#47, subscriptionid#65, to_date(subscriptiondate#68, None), isactive#67, active#36, manualunsubscribe#73, to_date(datelastsoftlogin#50, None), to_date(dlastlogin#22, None), to_date(logdatetime#79, None), logaction#78], [id#8 AS user_id#229, to_date(dcreated#21, None) AS reg_date#230, passwordset#47, subscriptionid#65, to_date(subscriptiondate#68, None) AS sub_date#231, isactive#67, active#36 AS AccountValidation#232, manualunsubscribe#73, to_date(datelastsoftlogin#50, None) AS last_softlog#233, to_date(dlastlogin#22, None) AS last_login#234, to_date(logdatetime#79, None) AS log_date#235, logaction#78, count(logdatetime#79) AS n_events#236L]\\n         :                                            :                          :                    :                 +- Filter (cast(dcreated#21 as string) >= 2018-01-01)\\n         :                                            :                          :                    :                    +- Join LeftOuter, ((id#8 = userloginid#76) && NOT logaction#78 IN (IJM, autodeactivate,IJM, autoactivate))\\n         :                                            :                          :                    :                       :- Join LeftOuter, (id#8 = userlogin_id#66)\\n         :                                            :                          :                    :                       :  :- SubqueryAlias `UID`\\n         :                                            :                          :                    :                       :  :  +- SubqueryAlias `stepstonede`.`userlogin`\\n         :                                            :                          :                    :                       :  :     +- Relation[id#8,login#9,pwd#10,lang#11,email#12,emailtype#13,firstname#14,lastname#15,gender#16,ddateofbirth#17,postalcode#18,locked#19,online#20,dcreated#21,dlastlogin#22,secret_question#23,secret_answer#24,mailbox_id#25,nationality#26,streetname#27,streetnumber#28,city#29,country#30,telephone#31,... 33 more fields] parquet\\n         :                                            :                          :                    :                       :  +- SubqueryAlias `SUB`\\n         :                                            :                          :                    :                       :     +- SubqueryAlias `stepstonede`.`subscription`\\n         :                                            :                          :                    :                       :        +- Relation[subscriptionid#65,userlogin_id#66,isactive#67,subscriptiondate#68,dailysentcounter#69,frequency#70,preferredlanguage#71,acceptablelanguages#72,manualunsubscribe#73,testandvariant#74] parquet\\n         :                                            :                          :                    :                       +- SubqueryAlias `LOG`\\n         :                                            :                          :                    :                          +- SubqueryAlias `stepstonede`.`logmystst`\\n         :                                            :                          :                    :                             +- Relation[id#75,userloginid#76,jobuserid#77,logaction#78,logdatetime#79,emailold#80,emailnew#81,ipaddress#82,comment#83,channel#84,doneby#85,ref_userdomain_id#86,year#87,month#88,day#89] parquet\\n         :                                            :                          :                    +- Deduplicate [user_id#247, manualunsubscribe#73]\\n         :                                            :                          :                       +- Project [user_id#247, manualunsubscribe#73]\\n         :                                            :                          :                          +- Filter (manualunsubscribe#73 = true)\\n         :                                            :                          :                             +- Sort [reg_date#248 ASC NULLS FIRST, log_date#253 ASC NULLS FIRST], true\\n         :                                            :                          :                                +- Aggregate [id#8, to_date(dcreated#21, None), passwordset#47, subscriptionid#65, to_date(subscriptiondate#68, None), isactive#67, active#36, manualunsubscribe#73, to_date(datelastsoftlogin#50, None), to_date(dlastlogin#22, None), to_date(logdatetime#79, None), logaction#78], [id#8 AS user_id#247, to_date(dcreated#21, None) AS reg_date#248, passwordset#47, subscriptionid#65, to_date(subscriptiondate#68, None) AS sub_date#249, isactive#67, active#36 AS AccountValidation#250, manualunsubscribe#73, to_date(datelastsoftlogin#50, None) AS last_softlog#251, to_date(dlastlogin#22, None) AS last_login#252, to_date(logdatetime#79, None) AS log_date#253, logaction#78, count(logdatetime#79) AS n_events#254L]\\n         :                                            :                          :                                   +- Filter (cast(dcreated#21 as string) >= 2018-01-01)\\n         :                                            :                          :                                      +- Join LeftOuter, ((id#8 = userloginid#76) && NOT logaction#78 IN (IJM, autodeactivate,IJM, autoactivate))\\n         :                                            :                          :                                         :- Join LeftOuter, (id#8 = userlogin_id#66)\\n         :                                            :                          :                                         :  :- SubqueryAlias `UID`\\n         :                                            :                          :                                         :  :  +- SubqueryAlias `stepstonede`.`userlogin`\\n         :                                            :                          :                                         :  :     +- Relation[id#8,login#9,pwd#10,lang#11,email#12,emailtype#13,firstname#14,lastname#15,gender#16,ddateofbirth#17,postalcode#18,locked#19,online#20,dcreated#21,dlastlogin#22,secret_question#23,secret_answer#24,mailbox_id#25,nationality#26,streetname#27,streetnumber#28,city#29,country#30,telephone#31,... 33 more fields] parquet\\n         :                                            :                          :                                         :  +- SubqueryAlias `SUB`\\n         :                                            :                          :                                         :     +- SubqueryAlias `stepstonede`.`subscription`\\n         :                                            :                          :                                         :        +- Relation[subscriptionid#65,userlogin_id#66,isactive#67,subscriptiondate#68,dailysentcounter#69,frequency#70,preferredlanguage#71,acceptablelanguages#72,manualunsubscribe#73,testandvariant#74] parquet\\n         :                                            :                          :                                         +- SubqueryAlias `LOG`\\n         :                                            :                          :                                            +- SubqueryAlias `stepstonede`.`logmystst`\\n         :                                            :                          :                                               +- Relation[id#75,userloginid#76,jobuserid#77,logaction#78,logdatetime#79,emailold#80,emailnew#81,ipaddress#82,comment#83,channel#84,doneby#85,ref_userdomain_id#86,year#87,month#88,day#89] parquet\\n         :                                            :                          +- Project [new_user_id_1#2146 AS user_id#2153, visit_date#318]\\n         :                                            :                             +- Filter isnotnull(new_user_id_1#2146)\\n         :                                            :                                +- Project [user_id#413, userlogin_id#2097, user_id_hash#2119, visit_date#318, new_user_id#2140, CASE WHEN isnotnull(new_user_id#2140) THEN new_user_id#2140 ELSE CASE WHEN isnotnull(user_id_hash#2119) THEN user_id_hash#2119 END END AS new_user_id_1#2146]\\n         :                                            :                                   +- Project [user_id#413, userlogin_id#2097, user_id_hash#2119, visit_date#318, CASE WHEN isnotnull(user_id#413) THEN user_id#413 ELSE cast(CASE WHEN isnotnull(userlogin_id#2097) THEN userlogin_id#2097 END as string) END AS new_user_id#2140]\\n         :                                            :                                      +- Project [user_id#413, userlogin_id#2097, user_id_hash#2119, visit_date#318]\\n         :                                            :                                         +- Project [user_hash#414, job_agent_id#366, user_id#413, visit_date#318, userlogin_id#2097, user_id_hash#2119]\\n         :                                            :                                            +- Join LeftOuter, (user_hash#414 = user_hash#2127)\\n         :                                            :                                               :- Project [job_agent_id#366, user_id#413, user_hash#414, visit_date#318, userlogin_id#2097]\\n         :                                            :                                               :  +- Join LeftOuter, (job_agent_id#366 = job_agent_id#2095)\\n         :                                            :                                               :     :- Union\\n         :                                            :                                               :     :  :- Union\\n         :                                            :                                               :     :  :  :- Distinct\\n         :                                            :                                               :     :  :  :  +- Project [user_id#413, user_hash#414, job_agent_id#366, to_date(visit_start_time_gmt#562, None) AS visit_date#318]\\n         :                                            :                                               :     :  :  :     +- Filter ((cast(exclude_hit#330 as int) <= 0) && (year#633 = 2020))\\n         :                                            :                                               :     :  :  :        +- SubqueryAlias `presentation`.`hits_de`\\n         :                                            :                                               :     :  :  :           +- Relation[browser_id#321L,browser_name#322,code_ver#323,connection_type#324,country#325,daily_visitor#326,date_time#327,domain#328,bot#329,exclude_hit#330,first_hit_page_url#331,first_hit_pagename#332,first_hit_referrer#333,first_hit_date#334,geo_city#335,geo_country#336,geo_region#337,hit_time_gmt#338,hitid_high#339L,hitid_low#340L,homepage#341,hourly_visitor#342,language_id#343,language#344,... 291 more fields] parquet\\n         :                                            :                                               :     :  :  +- Distinct\\n         :                                            :                                               :     :  :     +- Project [user_id#728, user_hash#729, job_agent_id#681, to_date(visit_start_time_gmt#877, None) AS visit_date#319]\\n         :                                            :                                               :     :  :        +- Filter ((job_site#889 LIKE %-de && (cast(exclude_hit#645 as int) <= 0)) && (year#918 = 2020))\\n         :                                            :                                               :     :  :           +- SubqueryAlias `AA`\\n         :                                            :                                               :     :  :              +- SubqueryAlias `presentation`.`hits_android_global`\\n         :                                            :                                               :     :  :                 +- Relation[browser_id#636L,browser_name#637,code_ver#638,connection_type#639,country#640,daily_visitor#641,date_time#642,domain#643,bot#644,exclude_hit#645,first_hit_page_url#646,first_hit_pagename#647,first_hit_referrer#648,first_hit_date#649,geo_city#650,geo_country#651,geo_region#652,hit_time_gmt#653,hitid_high#654L,hitid_low#655L,homepage#656,hourly_visitor#657,language_id#658,language#659,... 261 more fields] parquet\\n         :                                            :                                               :     :  +- Distinct\\n         :                                            :                                               :     :     +- Project [user_id#1013, user_hash#1014, job_agent_id#966, to_date(visit_start_time_gmt#1162, None) AS visit_date#320]\\n         :                                            :                                               :     :        +- Filter ((job_site#1174 LIKE %-de && (cast(exclude_hit#930 as int) <= 0)) && (year#1203 = 2020))\\n         :                                            :                                               :     :           +- SubqueryAlias `AA`\\n         :                                            :                                               :     :              +- SubqueryAlias `presentation`.`hits_iphoneapp_global`\\n         :                                            :                                               :     :                 +- Relation[browser_id#921L,browser_name#922,code_ver#923,connection_type#924,country#925,daily_visitor#926,date_time#927,domain#928,bot#929,exclude_hit#930,first_hit_page_url#931,first_hit_pagename#932,first_hit_referrer#933,first_hit_date#934,geo_city#935,geo_country#936,geo_region#937,hit_time_gmt#938,hitid_high#939L,hitid_low#940L,homepage#941,hourly_visitor#942,language_id#943,language#944,... 261 more fields] parquet\\n         :                                            :                                               :     +- Distinct\\n         :                                            :                                               :        +- Project [userlogin_id#2097, jobuser_id#2098 AS job_agent_id#2095]\\n         :                                            :                                               :           +- SubqueryAlias `stepstonede`.`userlogin_jobuser`\\n         :                                            :                                               :              +- Relation[id#2096,userlogin_id#2097,jobuser_id#2098,type#2099,item_name#2100,pbid#2101,exctpe#2102,is_automatic_name#2103] parquet\\n         :                                            :                                               +- Project [user_hash#2127, user_id#2126 AS user_id_hash#2119]\\n         :                                            :                                                  +- Join RightOuter, ((user_hash#2127 = user_hash#2122) && (n_UID#2120L = cast(1 as bigint)))\\n         :                                            :                                                     :- SubqueryAlias `A`\\n         :                                            :                                                     :  +- SubqueryAlias `presentation`.`adobe_user_id_hash_de`\\n         :                                            :                                                     :     +- Relation[user_id#2126,user_hash#2127] parquet\\n         :                                            :                                                     +- SubqueryAlias `B`\\n         :                                            :                                                        +- SubqueryAlias `hash_count`\\n         :                                            :                                                           +- Aggregate [user_hash#2122], [user_hash#2122, count(distinct user_id#2121) AS n_UID#2120L]\\n         :                                            :                                                              +- SubqueryAlias `presentation`.`adobe_user_id_hash_de`\\n         :                                            :                                                                 +- Relation[user_id#2121,user_hash#2122] parquet\\n         :                                            +- Distinct\\n         :                                               +- Project [to_date(log_date#2242, None) AS ssa_date#2236, event_name#2241, tracking_my_stepstone_id#2293 AS user_id#2237, CASE WHEN (event_name#2241 = ListingView) THEN 1 ELSE 0 END AS listing_view#2238, 1 AS any_ssa#2239]\\n         :                                                  +- Filter (((year#2312 >= 2020) && (month#2313 >= 3)) && ((country#2311 = DE) && event_name#2241 IN (ListingView,Search)))\\n         :                                                     +- SubqueryAlias `presentation`.`ssa_fact`\\n         :                                                        +- Relation[session_id#2240,event_name#2241,log_date#2242,log_date_epoch#2243L,raw_json_content#2244,added_widgets#2245,algorithm#2246,analysed_query_type#2247,bot#2248,browse_city_id#2249,browse_company_id#2250,browse_function#2251,browse_region_id#2252,browse_url#2253,categories#2254,cid#2255,company_id#2256,distil#2257,fuzzy_behaviour#2258,geo_city_id#2259,geo_widget_id#2260,highlighted_listing_ids#2261,is_highlighted#2262,jobagent_id#2263,... 51 more fields] parquet\\n         +- Project [userlogin_id#2966 AS user_id#2964, subscriptiondate#2968, isactive#2967, manualunsubscribe#2973]\\n            +- Filter ((isactive#2967 && (isnull(manualunsubscribe#2973) || NOT manualunsubscribe#2973)) && (cast(subscriptiondate#2968 as string) >= 2018-01-01))\\n               +- SubqueryAlias `stepstonede`.`subscription`\\n                  +- Relation[subscriptionid#2965,userlogin_id#2966,isactive#2967,subscriptiondate#2968,dailysentcounter#2969,frequency#2970,preferredlanguage#2971,acceptablelanguages#2972,manualunsubscribe#2973,testandvariant#2974] parquet\\n\"\n",
      "\n"
     ]
    }
   ],
   "source": [
    "#Activities of groupZ against Rule1_subVal_hasAnyOpenClick_reg_60d\n",
    "simulation_visits_selligent_ssa_sub_GroupZ_df = simulation_visits_selligent_ssa_sub_df.filter((subs_df.isactive ==1) & \n",
    "                                                                                              (simulation_visits_selligent_ssa_df.Rule1_subVal_hasAnyOpenClick_reg_60d == 0)).\\\n",
    "                                                                                              groupBy('isactive').\\\n",
    "                                                                                              agg(F.sum(F.countDistinct(F.col(\"send\"))).alias(\"total_send_perUser\"),\n",
    "                                                                                                  F.sum(F.countDistinct(F.col(\"total_open\"))).alias(\"total_open_perUser\"),\n",
    "                                                                                                  F.sum(F.countDistinct(F.col(\"total_clicks\"))).alias(\"total_click_perUser\"),\n",
    "                                                                                                  F.sum(F.countDistinct(F.col(\"registration\"))).alias(\"total_registration_perUser\"),\n",
    "                                                                                                  F.sum(F.countDistinct(F.col(\"login\"))).alias(\"total_Login_perUser\"),\n",
    "                                                                                                  F.sum(F.countDistinct(F.col(\"soft_login\"))).alias(\"total_SoftLogin_perUser\"),\n",
    "                                                                                                  F.sum(F.countDistinct(F.col(\"SSA_any_60d\"))).alias(\"total_ssa_perUser\"))"
   ]
  },
  {
   "cell_type": "code",
   "execution_count": 21,
   "metadata": {},
   "outputs": [
    {
     "data": {
      "application/vnd.jupyter.widget-view+json": {
       "model_id": "727371f3ac034934af8038966cbe00e4",
       "version_major": 2,
       "version_minor": 0
      },
      "text/plain": [
       "VBox()"
      ]
     },
     "metadata": {},
     "output_type": "display_data"
    },
    {
     "data": {
      "application/vnd.jupyter.widget-view+json": {
       "model_id": "",
       "version_major": 2,
       "version_minor": 0
      },
      "text/plain": [
       "FloatProgress(value=0.0, bar_style='info', description='Progress:', layout=Layout(height='25px', width='50%'),…"
      ]
     },
     "metadata": {},
     "output_type": "display_data"
    },
    {
     "name": "stderr",
     "output_type": "stream",
     "text": [
      "\"cannot resolve '`send`' given input columns: [subVal_hasAnyLogin_SoftLogin_reg_60d, soft_login, reg_date, open, stepstonede.subscription.subscriptiondate, subVal_hasAnySSA_reg_60d, user_id, considered_date, login_state, registration, Rule2_subVal_hasAnyOpenClick_ssa_reg_60d, hasVisit_60d, log_date, stepstonede.subscription.manualunsubscribe, sub_state, soft_login_state, action_day, Rule1_subVal_hasAnyOpenClick_reg_60d, SSA_any_60d, subVal_hasVisit_60d, subVal_hasAnyLogin_reg_60d, click, login, validated_account, Rule3_subVal_hasAnyOpenClick_ssa_login_reg_60d, stepstonede.subscription.isactive, subVal_hasAnySoftLogin_reg_60d];;\\n'Aggregate [isactive#2967], [isactive#2967, sum(count(distinct 'send)) AS total_send_perUser#3463, sum(count(distinct 'total_open)) AS total_open_perUser#3466, sum(count(distinct 'total_clicks)) AS total_click_perUser#3469, sum(count(distinct registration#2792L)) AS total_registration_perUser#3472L, sum(count(distinct login#2784L)) AS total_Login_perUser#3475L, sum(count(distinct soft_login#2786L)) AS total_SoftLogin_perUser#3478L, sum(count(distinct SSA_any_60d#2782L)) AS total_ssa_perUser#3481L]\\n+- Filter (isactive#2967 && (Rule2_subVal_hasAnyOpenClick_ssa_reg_60d#2915 = 0))\\n   +- Project [user_id#2496, action_day#2495, reg_date#1, validated_account#263, considered_date#204, sub_state#273, log_date#6, login_state#284, soft_login_state#296, hasVisit_60d#2211, subVal_hasVisit_60d#2223, SSA_any_60d#2782L, login#2784L, soft_login#2786L, open#2788L, click#2790L, registration#2792L, subVal_hasAnySSA_reg_60d#2810, subVal_hasAnyLogin_reg_60d#2829, subVal_hasAnySoftLogin_reg_60d#2849, subVal_hasAnyLogin_SoftLogin_reg_60d#2870, Rule1_subVal_hasAnyOpenClick_reg_60d#2892, Rule2_subVal_hasAnyOpenClick_ssa_reg_60d#2915, Rule3_subVal_hasAnyOpenClick_ssa_login_reg_60d#2939, ... 3 more fields]\\n      +- Join LeftOuter, (cast(user_id#2496 as int) = user_id#2964)\\n         :- Project [user_id#2496, action_day#2495, reg_date#1, validated_account#263, considered_date#204, sub_state#273, log_date#6, login_state#284, soft_login_state#296, hasVisit_60d#2211, subVal_hasVisit_60d#2223, SSA_any_60d#2782L, login#2784L, soft_login#2786L, open#2788L, click#2790L, registration#2792L, subVal_hasAnySSA_reg_60d#2810, subVal_hasAnyLogin_reg_60d#2829, subVal_hasAnySoftLogin_reg_60d#2849, subVal_hasAnyLogin_SoftLogin_reg_60d#2870, Rule1_subVal_hasAnyOpenClick_reg_60d#2892, Rule2_subVal_hasAnyOpenClick_ssa_reg_60d#2915, CASE WHEN ((((((((open#2788L >= cast(1 as bigint)) || (click#2790L >= cast(1 as bigint))) || (SSA_any_60d#2782L >= cast(1 as bigint))) || (login#2784L >= cast(1 as bigint))) || (soft_login#2786L >= cast(1 as bigint))) || (registration#2792L >= cast(1 as bigint))) && (validated_account#263 > 0)) && (sub_state#273 > 0)) THEN 1 ELSE 0 END AS Rule3_subVal_hasAnyOpenClick_ssa_login_reg_60d#2939]\\n         :  +- Project [user_id#2496, action_day#2495, reg_date#1, validated_account#263, considered_date#204, sub_state#273, log_date#6, login_state#284, soft_login_state#296, hasVisit_60d#2211, subVal_hasVisit_60d#2223, SSA_any_60d#2782L, login#2784L, soft_login#2786L, open#2788L, click#2790L, registration#2792L, subVal_hasAnySSA_reg_60d#2810, subVal_hasAnyLogin_reg_60d#2829, subVal_hasAnySoftLogin_reg_60d#2849, subVal_hasAnyLogin_SoftLogin_reg_60d#2870, Rule1_subVal_hasAnyOpenClick_reg_60d#2892, CASE WHEN ((((((open#2788L >= cast(1 as bigint)) || (click#2790L >= cast(1 as bigint))) || (SSA_any_60d#2782L >= cast(1 as bigint))) || (registration#2792L >= cast(1 as bigint))) && (validated_account#263 > 0)) && (sub_state#273 > 0)) THEN 1 ELSE 0 END AS Rule2_subVal_hasAnyOpenClick_ssa_reg_60d#2915]\\n         :     +- Project [user_id#2496, action_day#2495, reg_date#1, validated_account#263, considered_date#204, sub_state#273, log_date#6, login_state#284, soft_login_state#296, hasVisit_60d#2211, subVal_hasVisit_60d#2223, SSA_any_60d#2782L, login#2784L, soft_login#2786L, open#2788L, click#2790L, registration#2792L, subVal_hasAnySSA_reg_60d#2810, subVal_hasAnyLogin_reg_60d#2829, subVal_hasAnySoftLogin_reg_60d#2849, subVal_hasAnyLogin_SoftLogin_reg_60d#2870, CASE WHEN (((((open#2788L >= cast(1 as bigint)) || (click#2790L >= cast(1 as bigint))) || (registration#2792L >= cast(1 as bigint))) && (validated_account#263 > 0)) && (sub_state#273 > 0)) THEN 1 ELSE 0 END AS Rule1_subVal_hasAnyOpenClick_reg_60d#2892]\\n         :        +- Project [user_id#2496, action_day#2495, reg_date#1, validated_account#263, considered_date#204, sub_state#273, log_date#6, login_state#284, soft_login_state#296, hasVisit_60d#2211, subVal_hasVisit_60d#2223, SSA_any_60d#2782L, login#2784L, soft_login#2786L, open#2788L, click#2790L, registration#2792L, subVal_hasAnySSA_reg_60d#2810, subVal_hasAnyLogin_reg_60d#2829, subVal_hasAnySoftLogin_reg_60d#2849, CASE WHEN (((((login#2784L >= cast(1 as bigint)) || (soft_login#2786L >= cast(1 as bigint))) || (registration#2792L >= cast(1 as bigint))) && (validated_account#263 > 0)) && (sub_state#273 > 0)) THEN 1 ELSE 0 END AS subVal_hasAnyLogin_SoftLogin_reg_60d#2870]\\n         :           +- Project [user_id#2496, action_day#2495, reg_date#1, validated_account#263, considered_date#204, sub_state#273, log_date#6, login_state#284, soft_login_state#296, hasVisit_60d#2211, subVal_hasVisit_60d#2223, SSA_any_60d#2782L, login#2784L, soft_login#2786L, open#2788L, click#2790L, registration#2792L, subVal_hasAnySSA_reg_60d#2810, subVal_hasAnyLogin_reg_60d#2829, CASE WHEN ((((soft_login_state#296 >= 1) || (registration#2792L >= cast(1 as bigint))) && (validated_account#263 > 0)) && (sub_state#273 > 0)) THEN 1 ELSE 0 END AS subVal_hasAnySoftLogin_reg_60d#2849]\\n         :              +- Project [user_id#2496, action_day#2495, reg_date#1, validated_account#263, considered_date#204, sub_state#273, log_date#6, login_state#284, soft_login_state#296, hasVisit_60d#2211, subVal_hasVisit_60d#2223, SSA_any_60d#2782L, login#2784L, soft_login#2786L, open#2788L, click#2790L, registration#2792L, subVal_hasAnySSA_reg_60d#2810, CASE WHEN ((((login_state#284 >= 1) || (registration#2792L >= cast(1 as bigint))) && (validated_account#263 > 0)) && (sub_state#273 > 0)) THEN 1 ELSE 0 END AS subVal_hasAnyLogin_reg_60d#2829]\\n         :                 +- Project [user_id#2496, action_day#2495, reg_date#1, validated_account#263, considered_date#204, sub_state#273, log_date#6, login_state#284, soft_login_state#296, hasVisit_60d#2211, subVal_hasVisit_60d#2223, SSA_any_60d#2782L, login#2784L, soft_login#2786L, open#2788L, click#2790L, registration#2792L, CASE WHEN ((((SSA_any_60d#2782L >= cast(1 as bigint)) || (registration#2792L >= cast(1 as bigint))) && (validated_account#263 > 0)) && (sub_state#273 > 0)) THEN 1 ELSE 0 END AS subVal_hasAnySSA_reg_60d#2810]\\n         :                    +- Aggregate [user_id#2496, action_day#2495, reg_date#1, validated_account#263, considered_date#204, sub_state#273, log_date#6, login_state#284, soft_login_state#296, hasVisit_60d#2211, subVal_hasVisit_60d#2223], [user_id#2496, action_day#2495, reg_date#1, validated_account#263, considered_date#204, sub_state#273, log_date#6, login_state#284, soft_login_state#296, hasVisit_60d#2211, subVal_hasVisit_60d#2223, sum(cast(CASE WHEN (((date_difference_ssa#2673 <= 60) && (date_difference_ssa#2673 >= 1)) && (any_ssa#2239 > 0)) THEN 1 ELSE 0 END as bigint)) AS SSA_any_60d#2782L, sum(cast(CASE WHEN (((date_difference_log#2699 <= 60) && (date_difference_log#2699 >= 1)) && (login_state#284 > 0)) THEN 1 ELSE 0 END as bigint)) AS login#2784L, sum(cast(CASE WHEN (((date_difference_log#2699 <= 60) && (date_difference_log#2699 >= 1)) && (soft_login_state#296 > 0)) THEN 1 ELSE 0 END as bigint)) AS soft_login#2786L, sum(cast(CASE WHEN (((date_difference_actionDay#2726 <= 60) && (date_difference_actionDay#2726 >= 1)) && (total_open#2498L > cast(0 as bigint))) THEN 1 ELSE 0 END as bigint)) AS open#2788L, sum(cast(CASE WHEN (((date_difference_actionDay#2726 <= 60) && (date_difference_actionDay#2726 >= 1)) && (total_clicks#2500L > cast(0 as bigint))) THEN 1 ELSE 0 END as bigint)) AS click#2790L, sum(cast(CASE WHEN ((date_difference_reg#2624 <= 60) && (date_difference_reg#2624 >= 1)) THEN 1 ELSE 0 END as bigint)) AS registration#2792L]\\n         :                       +- Project [user_id#2496, action_day#2495, send#2497L, total_open#2498L, unique_open#2499L, total_clicks#2500L, unique_clicks#2501L, reg_date#1, validated_account#263, considered_date#204, sub_state#273, sub_date#226, log_date#6, login_state#284, soft_login_state#296, visits_60d#2200L, hasVisit_60d#2211, subVal_hasVisit_60d#2223, ssa_date#2236, event_name#2241, listing_view#2238, any_ssa#2239, date_difference_reg#2624, date_difference_sub#2648, ... 3 more fields]\\n         :                          +- Project [user_id#2496, action_day#2495, send#2497L, total_open#2498L, unique_open#2499L, total_clicks#2500L, unique_clicks#2501L, reg_date#1, validated_account#263, considered_date#204, sub_state#273, sub_date#226, log_date#6, login_state#284, soft_login_state#296, visits_60d#2200L, hasVisit_60d#2211, subVal_hasVisit_60d#2223, ssa_date#2236, event_name#2241, listing_view#2238, any_ssa#2239, date_difference_reg#2624, date_difference_sub#2648, ... 2 more fields]\\n         :                             +- Project [user_id#2496, action_day#2495, send#2497L, total_open#2498L, unique_open#2499L, total_clicks#2500L, unique_clicks#2501L, reg_date#1, validated_account#263, considered_date#204, sub_state#273, sub_date#226, log_date#6, login_state#284, soft_login_state#296, visits_60d#2200L, hasVisit_60d#2211, subVal_hasVisit_60d#2223, ssa_date#2236, event_name#2241, listing_view#2238, any_ssa#2239, date_difference_reg#2624, date_difference_sub#2648, datediff(considered_date#204, ssa_date#2236) AS date_difference_ssa#2673]\\n         :                                +- Project [user_id#2496, action_day#2495, send#2497L, total_open#2498L, unique_open#2499L, total_clicks#2500L, unique_clicks#2501L, reg_date#1, validated_account#263, considered_date#204, sub_state#273, sub_date#226, log_date#6, login_state#284, soft_login_state#296, visits_60d#2200L, hasVisit_60d#2211, subVal_hasVisit_60d#2223, ssa_date#2236, event_name#2241, listing_view#2238, any_ssa#2239, date_difference_reg#2624, datediff(considered_date#204, sub_date#226) AS date_difference_sub#2648]\\n         :                                   +- Project [user_id#2496, action_day#2495, send#2497L, total_open#2498L, unique_open#2499L, total_clicks#2500L, unique_clicks#2501L, reg_date#1, validated_account#263, considered_date#204, sub_state#273, sub_date#226, log_date#6, login_state#284, soft_login_state#296, visits_60d#2200L, hasVisit_60d#2211, subVal_hasVisit_60d#2223, ssa_date#2236, event_name#2241, listing_view#2238, any_ssa#2239, datediff(considered_date#204, reg_date#1) AS date_difference_reg#2624]\\n         :                                      +- Project [user_id#2496, action_day#2495, send#2497L, total_open#2498L, unique_open#2499L, total_clicks#2500L, unique_clicks#2501L, reg_date#1, validated_account#263, considered_date#204, sub_state#273, sub_date#226, log_date#6, login_state#284, soft_login_state#296, visits_60d#2200L, hasVisit_60d#2211, subVal_hasVisit_60d#2223, ssa_date#2236, event_name#2241, listing_view#2238, any_ssa#2239]\\n         :                                         +- Join LeftOuter, (user_id#2496 = user_id#2237)\\n         :                                            :- Project [user_id#2496, action_day#2495, send#2497L, total_open#2498L, unique_open#2499L, total_clicks#2500L, unique_clicks#2501L, reg_date#1, validated_account#263, considered_date#204, sub_state#273, sub_date#226, log_date#6, login_state#284, soft_login_state#296, visits_60d#2200L, hasVisit_60d#2211, subVal_hasVisit_60d#2223]\\n         :                                            :  +- Join LeftOuter, (cast(user_id#2496 as int) = user_id#0)\\n         :                                            :     :- Union\\n         :                                            :     :  :- Project [action_day#2495, user_id#2496, send#2497L, total_open#2498L, unique_open#2499L, total_clicks#2500L, unique_clicks#2501L]\\n         :                                            :     :  :  +- Aggregate [to_date(concat_ws(-, cast(year#2523 as string), cast(month#2524 as string), cast(day#2525 as string)), None), user_login_id#2505], [to_date(concat_ws(-, cast(year#2523 as string), cast(month#2524 as string), cast(day#2525 as string)), None) AS action_day#2495, user_login_id#2505 AS user_id#2496, FLOOR(sum(cast(sent#2511 as double))) AS send#2497L, FLOOR(sum(cast(opened#2514 as double))) AS total_open#2498L, count(distinct CASE WHEN (cast(opened#2514 as int) > 0) THEN ditem_id#2521 END) AS unique_open#2499L, FLOOR(sum(cast(clicked#2515 as double))) AS total_clicks#2500L, count(distinct CASE WHEN (cast(clicked#2515 as int) > 0) THEN ditem_id#2521 END) AS unique_clicks#2501L]\\n         :                                            :     :  :     +- SubqueryAlias `fe`\\n         :                                            :     :  :        +- SubqueryAlias `live_raw_selligent_de_stepstone`.`flags_enriched`\\n         :                                            :     :  :           +- HiveTableRelation `live_raw_selligent_de_stepstone`.`flags_enriched`, org.apache.hadoop.hive.serde2.lazy.LazySimpleSerDe, [brand#2502, country#2503, campaign_type#2504, user_login_id#2505, date_of_action_creation#2506, delivery_date#2507, campaign_id#2508, action_id#2509, probe_id#2510, sent#2511, delivered#2512, probe_id_description#2513, opened#2514, clicked#2515, unsubscribed#2516, clicks_apply#2517, clicks_inside_content#2518, state#2519, description_of_state#2520, ditem_id#2521, ja_id#2522], [year#2523, month#2524, day#2525]\\n         :                                            :     :  +- Project [action_day#2538, cast(user_id#2539 as string) AS user_id#2573, cast(send#2540 as bigint) AS send#2574L, cast(total_open#2541 as bigint) AS total_open#2575L, cast(unique_open#2542 as bigint) AS unique_open#2576L, total_clicks#2543L, unique_clicks#2544L]\\n         :                                            :     :     +- Aggregate [to_date(concat_ws(-, cast(year#2554 as string), cast(month#2555 as string), cast(day#2556 as string)), None), userlogin_id#2558], [to_date(concat_ws(-, cast(year#2554 as string), cast(month#2555 as string), cast(day#2556 as string)), None) AS action_day#2538, userlogin_id#2558 AS user_id#2539, 0 AS send#2540, 0 AS total_open#2541, 0 AS unique_open#2542, count(1) AS total_clicks#2543L, count(distinct jaid#2549) AS unique_clicks#2544L]\\n         :                                            :     :        +- Join RightOuter, (jaid#2549 = jobuser_id#2559)\\n         :                                            :     :           :- SubqueryAlias `A`\\n         :                                            :     :           :  +- SubqueryAlias `stepstonede`.`jaclickofferid`\\n         :                                            :     :           :     +- Relation[guid#2546,channel#2547,offerid#2548,jaid#2549,nctid#2550,lang#2551,hostname#2552,datetime#2553,year#2554,month#2555,day#2556] parquet\\n         :                                            :     :           +- SubqueryAlias `B`\\n         :                                            :     :              +- SubqueryAlias `stepstonede`.`userlogin_jobuser`\\n         :                                            :     :                 +- Relation[id#2557,userlogin_id#2558,jobuser_id#2559,type#2560,item_name#2561,pbid#2562,exctpe#2563,is_automatic_name#2564] parquet\\n         :                                            :     +- Project [user_id#0, reg_date#1, validated_account#263, considered_date#204, sub_state#273, sub_date#226, log_date#6, login_state#284, soft_login_state#296, visits_60d#2200L, hasVisit_60d#2211, CASE WHEN (((visits_60d#2200L >= cast(1 as bigint)) && (validated_account#263 > 0)) && (sub_state#273 > 0)) THEN 1 ELSE 0 END AS subVal_hasVisit_60d#2223]\\n         :                                            :        +- Project [user_id#0, reg_date#1, validated_account#263, considered_date#204, sub_state#273, sub_date#226, log_date#6, login_state#284, soft_login_state#296, visits_60d#2200L, CASE WHEN (visits_60d#2200L >= cast(1 as bigint)) THEN 1 ELSE 0 END AS hasVisit_60d#2211]\\n         :                                            :           +- Aggregate [user_id#0, reg_date#1, validated_account#263, considered_date#204, sub_state#273, sub_date#226, log_date#6, login_state#284, soft_login_state#296], [user_id#0, reg_date#1, validated_account#263, considered_date#204, sub_state#273, sub_date#226, log_date#6, login_state#284, soft_login_state#296, sum(cast(CASE WHEN ((date_difference#2176 <= 60) && (date_difference#2176 >= 1)) THEN 1 ELSE 0 END as bigint)) AS visits_60d#2200L]\\n         :                                            :              +- Project [user_id#0, reg_date#1, validated_account#263, considered_date#204, sub_state#273, visit_date#318, sub_date#226, log_date#6, login_state#284, soft_login_state#296, datediff(considered_date#204, visit_date#318) AS date_difference#2176]\\n         :                                            :                 +- Project [user_id#0, reg_date#1, validated_account#263, considered_date#204, sub_state#273, visit_date#318, sub_date#226, log_date#6, login_state#284, soft_login_state#296]\\n         :                                            :                    +- Project [user_id#0, reg_date#1, validated_account#263, sub_state#273, considered_date#204, sub_date#226, log_date#6, login_state#284, soft_login_state#296, visit_date#318]\\n         :                                            :                       +- Join LeftOuter, (user_id#0 = cast(user_id#2153 as int))\\n         :                                            :                          :- Project [user_id#0, reg_date#1, validated_account#263, sub_state#273, considered_date#204, sub_date#226, log_date#6, login_state#284, soft_login_state#296]\\n         :                                            :                          :  +- Project [user_id#0, reg_date#1, AccountValidation#3, last_login#5, last_softlog#4, log_date#6, considered_date#204, sub_date#226, validated_account#263, sub_state#273, login_state#284, CASE WHEN (last_softlog#4 <= considered_date#204) THEN 1 ELSE 0 END AS soft_login_state#296]\\n         :                                            :                          :     +- Project [user_id#0, reg_date#1, AccountValidation#3, last_login#5, last_softlog#4, log_date#6, considered_date#204, sub_date#226, validated_account#263, sub_state#273, CASE WHEN (last_login#5 <= considered_date#204) THEN 1 ELSE 0 END AS login_state#284]\\n         :                                            :                          :        +- Project [user_id#0, reg_date#1, AccountValidation#3, last_login#5, last_softlog#4, log_date#6, considered_date#204, sub_date#226, validated_account#263, CASE WHEN (sub_date#226 <= considered_date#204) THEN 1 ELSE 0 END AS sub_state#273]\\n         :                                            :                          :           +- Project [user_id#0, reg_date#1, AccountValidation#3, last_login#5, last_softlog#4, log_date#6, considered_date#204, sub_date#226, CASE WHEN (AccountValidation#3 = true) THEN 1 ELSE 0 END AS validated_account#263]\\n         :                                            :                          :              +- Project [user_id#0, reg_date#1, AccountValidation#3, last_login#5, last_softlog#4, log_date#6, considered_date#204, sub_date#226]\\n         :                                            :                          :                 +- Join LeftAnti, (user_id#0 = user_id#247)\\n         :                                            :                          :                    :- Project [user_id#0, reg_date#1, AccountValidation#3, last_login#5, last_softlog#4, log_date#6, considered_date#204, sub_date#226]\\n         :                                            :                          :                    :  +- Join LeftOuter, (user_id#0 = user_id#229)\\n         :                                            :                          :                    :     :- Project [user_id#0, reg_date#1, AccountValidation#3, last_login#5, last_softlog#4, log_date#6, to_date(18421, None) AS considered_date#204]\\n         :                                            :                          :                    :     :  +- Deduplicate [reg_date#1, last_softlog#4, user_id#0, AccountValidation#3, log_date#6, last_login#5]\\n         :                                            :                          :                    :     :     +- Project [user_id#0, reg_date#1, AccountValidation#3, last_login#5, last_softlog#4, log_date#6]\\n         :                                            :                          :                    :     :        +- Sort [reg_date#1 ASC NULLS FIRST, log_date#6 ASC NULLS FIRST], true\\n         :                                            :                          :                    :     :           +- Aggregate [id#8, to_date(dcreated#21, None), passwordset#47, subscriptionid#65, to_date(subscriptiondate#68, None), isactive#67, active#36, manualunsubscribe#73, to_date(datelastsoftlogin#50, None), to_date(dlastlogin#22, None), to_date(logdatetime#79, None), logaction#78], [id#8 AS user_id#0, to_date(dcreated#21, None) AS reg_date#1, passwordset#47, subscriptionid#65, to_date(subscriptiondate#68, None) AS sub_date#2, isactive#67, active#36 AS AccountValidation#3, manualunsubscribe#73, to_date(datelastsoftlogin#50, None) AS last_softlog#4, to_date(dlastlogin#22, None) AS last_login#5, to_date(logdatetime#79, None) AS log_date#6, logaction#78, count(logdatetime#79) AS n_events#7L]\\n         :                                            :                          :                    :     :              +- Filter (cast(dcreated#21 as string) >= 2018-01-01)\\n         :                                            :                          :                    :     :                 +- Join LeftOuter, ((id#8 = userloginid#76) && NOT logaction#78 IN (IJM, autodeactivate,IJM, autoactivate))\\n         :                                            :                          :                    :     :                    :- Join LeftOuter, (id#8 = userlogin_id#66)\\n         :                                            :                          :                    :     :                    :  :- SubqueryAlias `UID`\\n         :                                            :                          :                    :     :                    :  :  +- SubqueryAlias `stepstonede`.`userlogin`\\n         :                                            :                          :                    :     :                    :  :     +- Relation[id#8,login#9,pwd#10,lang#11,email#12,emailtype#13,firstname#14,lastname#15,gender#16,ddateofbirth#17,postalcode#18,locked#19,online#20,dcreated#21,dlastlogin#22,secret_question#23,secret_answer#24,mailbox_id#25,nationality#26,streetname#27,streetnumber#28,city#29,country#30,telephone#31,... 33 more fields] parquet\\n         :                                            :                          :                    :     :                    :  +- SubqueryAlias `SUB`\\n         :                                            :                          :                    :     :                    :     +- SubqueryAlias `stepstonede`.`subscription`\\n         :                                            :                          :                    :     :                    :        +- Relation[subscriptionid#65,userlogin_id#66,isactive#67,subscriptiondate#68,dailysentcounter#69,frequency#70,preferredlanguage#71,acceptablelanguages#72,manualunsubscribe#73,testandvariant#74] parquet\\n         :                                            :                          :                    :     :                    +- SubqueryAlias `LOG`\\n         :                                            :                          :                    :     :                       +- SubqueryAlias `stepstonede`.`logmystst`\\n         :                                            :                          :                    :     :                          +- Relation[id#75,userloginid#76,jobuserid#77,logaction#78,logdatetime#79,emailold#80,emailnew#81,ipaddress#82,comment#83,channel#84,doneby#85,ref_userdomain_id#86,year#87,month#88,day#89] parquet\\n         :                                            :                          :                    :     +- Aggregate [user_id#229], [user_id#229, min(log_date#235) AS sub_date#226]\\n         :                                            :                          :                    :        +- Filter logaction#78 IN (IJM, subscription)\\n         :                                            :                          :                    :           +- Sort [reg_date#230 ASC NULLS FIRST, log_date#235 ASC NULLS FIRST], true\\n         :                                            :                          :                    :              +- Aggregate [id#8, to_date(dcreated#21, None), passwordset#47, subscriptionid#65, to_date(subscriptiondate#68, None), isactive#67, active#36, manualunsubscribe#73, to_date(datelastsoftlogin#50, None), to_date(dlastlogin#22, None), to_date(logdatetime#79, None), logaction#78], [id#8 AS user_id#229, to_date(dcreated#21, None) AS reg_date#230, passwordset#47, subscriptionid#65, to_date(subscriptiondate#68, None) AS sub_date#231, isactive#67, active#36 AS AccountValidation#232, manualunsubscribe#73, to_date(datelastsoftlogin#50, None) AS last_softlog#233, to_date(dlastlogin#22, None) AS last_login#234, to_date(logdatetime#79, None) AS log_date#235, logaction#78, count(logdatetime#79) AS n_events#236L]\\n         :                                            :                          :                    :                 +- Filter (cast(dcreated#21 as string) >= 2018-01-01)\\n         :                                            :                          :                    :                    +- Join LeftOuter, ((id#8 = userloginid#76) && NOT logaction#78 IN (IJM, autodeactivate,IJM, autoactivate))\\n         :                                            :                          :                    :                       :- Join LeftOuter, (id#8 = userlogin_id#66)\\n         :                                            :                          :                    :                       :  :- SubqueryAlias `UID`\\n         :                                            :                          :                    :                       :  :  +- SubqueryAlias `stepstonede`.`userlogin`\\n         :                                            :                          :                    :                       :  :     +- Relation[id#8,login#9,pwd#10,lang#11,email#12,emailtype#13,firstname#14,lastname#15,gender#16,ddateofbirth#17,postalcode#18,locked#19,online#20,dcreated#21,dlastlogin#22,secret_question#23,secret_answer#24,mailbox_id#25,nationality#26,streetname#27,streetnumber#28,city#29,country#30,telephone#31,... 33 more fields] parquet\\n         :                                            :                          :                    :                       :  +- SubqueryAlias `SUB`\\n         :                                            :                          :                    :                       :     +- SubqueryAlias `stepstonede`.`subscription`\\n         :                                            :                          :                    :                       :        +- Relation[subscriptionid#65,userlogin_id#66,isactive#67,subscriptiondate#68,dailysentcounter#69,frequency#70,preferredlanguage#71,acceptablelanguages#72,manualunsubscribe#73,testandvariant#74] parquet\\n         :                                            :                          :                    :                       +- SubqueryAlias `LOG`\\n         :                                            :                          :                    :                          +- SubqueryAlias `stepstonede`.`logmystst`\\n         :                                            :                          :                    :                             +- Relation[id#75,userloginid#76,jobuserid#77,logaction#78,logdatetime#79,emailold#80,emailnew#81,ipaddress#82,comment#83,channel#84,doneby#85,ref_userdomain_id#86,year#87,month#88,day#89] parquet\\n         :                                            :                          :                    +- Deduplicate [user_id#247, manualunsubscribe#73]\\n         :                                            :                          :                       +- Project [user_id#247, manualunsubscribe#73]\\n         :                                            :                          :                          +- Filter (manualunsubscribe#73 = true)\\n         :                                            :                          :                             +- Sort [reg_date#248 ASC NULLS FIRST, log_date#253 ASC NULLS FIRST], true\\n         :                                            :                          :                                +- Aggregate [id#8, to_date(dcreated#21, None), passwordset#47, subscriptionid#65, to_date(subscriptiondate#68, None), isactive#67, active#36, manualunsubscribe#73, to_date(datelastsoftlogin#50, None), to_date(dlastlogin#22, None), to_date(logdatetime#79, None), logaction#78], [id#8 AS user_id#247, to_date(dcreated#21, None) AS reg_date#248, passwordset#47, subscriptionid#65, to_date(subscriptiondate#68, None) AS sub_date#249, isactive#67, active#36 AS AccountValidation#250, manualunsubscribe#73, to_date(datelastsoftlogin#50, None) AS last_softlog#251, to_date(dlastlogin#22, None) AS last_login#252, to_date(logdatetime#79, None) AS log_date#253, logaction#78, count(logdatetime#79) AS n_events#254L]\\n         :                                            :                          :                                   +- Filter (cast(dcreated#21 as string) >= 2018-01-01)\\n         :                                            :                          :                                      +- Join LeftOuter, ((id#8 = userloginid#76) && NOT logaction#78 IN (IJM, autodeactivate,IJM, autoactivate))\\n         :                                            :                          :                                         :- Join LeftOuter, (id#8 = userlogin_id#66)\\n         :                                            :                          :                                         :  :- SubqueryAlias `UID`\\n         :                                            :                          :                                         :  :  +- SubqueryAlias `stepstonede`.`userlogin`\\n         :                                            :                          :                                         :  :     +- Relation[id#8,login#9,pwd#10,lang#11,email#12,emailtype#13,firstname#14,lastname#15,gender#16,ddateofbirth#17,postalcode#18,locked#19,online#20,dcreated#21,dlastlogin#22,secret_question#23,secret_answer#24,mailbox_id#25,nationality#26,streetname#27,streetnumber#28,city#29,country#30,telephone#31,... 33 more fields] parquet\\n         :                                            :                          :                                         :  +- SubqueryAlias `SUB`\\n         :                                            :                          :                                         :     +- SubqueryAlias `stepstonede`.`subscription`\\n         :                                            :                          :                                         :        +- Relation[subscriptionid#65,userlogin_id#66,isactive#67,subscriptiondate#68,dailysentcounter#69,frequency#70,preferredlanguage#71,acceptablelanguages#72,manualunsubscribe#73,testandvariant#74] parquet\\n         :                                            :                          :                                         +- SubqueryAlias `LOG`\\n         :                                            :                          :                                            +- SubqueryAlias `stepstonede`.`logmystst`\\n         :                                            :                          :                                               +- Relation[id#75,userloginid#76,jobuserid#77,logaction#78,logdatetime#79,emailold#80,emailnew#81,ipaddress#82,comment#83,channel#84,doneby#85,ref_userdomain_id#86,year#87,month#88,day#89] parquet\\n         :                                            :                          +- Project [new_user_id_1#2146 AS user_id#2153, visit_date#318]\\n         :                                            :                             +- Filter isnotnull(new_user_id_1#2146)\\n         :                                            :                                +- Project [user_id#413, userlogin_id#2097, user_id_hash#2119, visit_date#318, new_user_id#2140, CASE WHEN isnotnull(new_user_id#2140) THEN new_user_id#2140 ELSE CASE WHEN isnotnull(user_id_hash#2119) THEN user_id_hash#2119 END END AS new_user_id_1#2146]\\n         :                                            :                                   +- Project [user_id#413, userlogin_id#2097, user_id_hash#2119, visit_date#318, CASE WHEN isnotnull(user_id#413) THEN user_id#413 ELSE cast(CASE WHEN isnotnull(userlogin_id#2097) THEN userlogin_id#2097 END as string) END AS new_user_id#2140]\\n         :                                            :                                      +- Project [user_id#413, userlogin_id#2097, user_id_hash#2119, visit_date#318]\\n         :                                            :                                         +- Project [user_hash#414, job_agent_id#366, user_id#413, visit_date#318, userlogin_id#2097, user_id_hash#2119]\\n         :                                            :                                            +- Join LeftOuter, (user_hash#414 = user_hash#2127)\\n         :                                            :                                               :- Project [job_agent_id#366, user_id#413, user_hash#414, visit_date#318, userlogin_id#2097]\\n         :                                            :                                               :  +- Join LeftOuter, (job_agent_id#366 = job_agent_id#2095)\\n         :                                            :                                               :     :- Union\\n         :                                            :                                               :     :  :- Union\\n         :                                            :                                               :     :  :  :- Distinct\\n         :                                            :                                               :     :  :  :  +- Project [user_id#413, user_hash#414, job_agent_id#366, to_date(visit_start_time_gmt#562, None) AS visit_date#318]\\n         :                                            :                                               :     :  :  :     +- Filter ((cast(exclude_hit#330 as int) <= 0) && (year#633 = 2020))\\n         :                                            :                                               :     :  :  :        +- SubqueryAlias `presentation`.`hits_de`\\n         :                                            :                                               :     :  :  :           +- Relation[browser_id#321L,browser_name#322,code_ver#323,connection_type#324,country#325,daily_visitor#326,date_time#327,domain#328,bot#329,exclude_hit#330,first_hit_page_url#331,first_hit_pagename#332,first_hit_referrer#333,first_hit_date#334,geo_city#335,geo_country#336,geo_region#337,hit_time_gmt#338,hitid_high#339L,hitid_low#340L,homepage#341,hourly_visitor#342,language_id#343,language#344,... 291 more fields] parquet\\n         :                                            :                                               :     :  :  +- Distinct\\n         :                                            :                                               :     :  :     +- Project [user_id#728, user_hash#729, job_agent_id#681, to_date(visit_start_time_gmt#877, None) AS visit_date#319]\\n         :                                            :                                               :     :  :        +- Filter ((job_site#889 LIKE %-de && (cast(exclude_hit#645 as int) <= 0)) && (year#918 = 2020))\\n         :                                            :                                               :     :  :           +- SubqueryAlias `AA`\\n         :                                            :                                               :     :  :              +- SubqueryAlias `presentation`.`hits_android_global`\\n         :                                            :                                               :     :  :                 +- Relation[browser_id#636L,browser_name#637,code_ver#638,connection_type#639,country#640,daily_visitor#641,date_time#642,domain#643,bot#644,exclude_hit#645,first_hit_page_url#646,first_hit_pagename#647,first_hit_referrer#648,first_hit_date#649,geo_city#650,geo_country#651,geo_region#652,hit_time_gmt#653,hitid_high#654L,hitid_low#655L,homepage#656,hourly_visitor#657,language_id#658,language#659,... 261 more fields] parquet\\n         :                                            :                                               :     :  +- Distinct\\n         :                                            :                                               :     :     +- Project [user_id#1013, user_hash#1014, job_agent_id#966, to_date(visit_start_time_gmt#1162, None) AS visit_date#320]\\n         :                                            :                                               :     :        +- Filter ((job_site#1174 LIKE %-de && (cast(exclude_hit#930 as int) <= 0)) && (year#1203 = 2020))\\n         :                                            :                                               :     :           +- SubqueryAlias `AA`\\n         :                                            :                                               :     :              +- SubqueryAlias `presentation`.`hits_iphoneapp_global`\\n         :                                            :                                               :     :                 +- Relation[browser_id#921L,browser_name#922,code_ver#923,connection_type#924,country#925,daily_visitor#926,date_time#927,domain#928,bot#929,exclude_hit#930,first_hit_page_url#931,first_hit_pagename#932,first_hit_referrer#933,first_hit_date#934,geo_city#935,geo_country#936,geo_region#937,hit_time_gmt#938,hitid_high#939L,hitid_low#940L,homepage#941,hourly_visitor#942,language_id#943,language#944,... 261 more fields] parquet\\n         :                                            :                                               :     +- Distinct\\n         :                                            :                                               :        +- Project [userlogin_id#2097, jobuser_id#2098 AS job_agent_id#2095]\\n         :                                            :                                               :           +- SubqueryAlias `stepstonede`.`userlogin_jobuser`\\n         :                                            :                                               :              +- Relation[id#2096,userlogin_id#2097,jobuser_id#2098,type#2099,item_name#2100,pbid#2101,exctpe#2102,is_automatic_name#2103] parquet\\n         :                                            :                                               +- Project [user_hash#2127, user_id#2126 AS user_id_hash#2119]\\n         :                                            :                                                  +- Join RightOuter, ((user_hash#2127 = user_hash#2122) && (n_UID#2120L = cast(1 as bigint)))\\n         :                                            :                                                     :- SubqueryAlias `A`\\n         :                                            :                                                     :  +- SubqueryAlias `presentation`.`adobe_user_id_hash_de`\\n         :                                            :                                                     :     +- Relation[user_id#2126,user_hash#2127] parquet\\n         :                                            :                                                     +- SubqueryAlias `B`\\n         :                                            :                                                        +- SubqueryAlias `hash_count`\\n         :                                            :                                                           +- Aggregate [user_hash#2122], [user_hash#2122, count(distinct user_id#2121) AS n_UID#2120L]\\n         :                                            :                                                              +- SubqueryAlias `presentation`.`adobe_user_id_hash_de`\\n         :                                            :                                                                 +- Relation[user_id#2121,user_hash#2122] parquet\\n         :                                            +- Distinct\\n         :                                               +- Project [to_date(log_date#2242, None) AS ssa_date#2236, event_name#2241, tracking_my_stepstone_id#2293 AS user_id#2237, CASE WHEN (event_name#2241 = ListingView) THEN 1 ELSE 0 END AS listing_view#2238, 1 AS any_ssa#2239]\\n         :                                                  +- Filter (((year#2312 >= 2020) && (month#2313 >= 3)) && ((country#2311 = DE) && event_name#2241 IN (ListingView,Search)))\\n         :                                                     +- SubqueryAlias `presentation`.`ssa_fact`\\n         :                                                        +- Relation[session_id#2240,event_name#2241,log_date#2242,log_date_epoch#2243L,raw_json_content#2244,added_widgets#2245,algorithm#2246,analysed_query_type#2247,bot#2248,browse_city_id#2249,browse_company_id#2250,browse_function#2251,browse_region_id#2252,browse_url#2253,categories#2254,cid#2255,company_id#2256,distil#2257,fuzzy_behaviour#2258,geo_city_id#2259,geo_widget_id#2260,highlighted_listing_ids#2261,is_highlighted#2262,jobagent_id#2263,... 51 more fields] parquet\\n         +- Project [userlogin_id#2966 AS user_id#2964, subscriptiondate#2968, isactive#2967, manualunsubscribe#2973]\\n            +- Filter ((isactive#2967 && (isnull(manualunsubscribe#2973) || NOT manualunsubscribe#2973)) && (cast(subscriptiondate#2968 as string) >= 2018-01-01))\\n               +- SubqueryAlias `stepstonede`.`subscription`\\n                  +- Relation[subscriptionid#2965,userlogin_id#2966,isactive#2967,subscriptiondate#2968,dailysentcounter#2969,frequency#2970,preferredlanguage#2971,acceptablelanguages#2972,manualunsubscribe#2973,testandvariant#2974] parquet\\n\"\n",
      "Traceback (most recent call last):\n",
      "  File \"/mnt/yarn/usercache/assumed-role_assume_role_DC_AWS_GC_DW_DATA_SCIENCE_BASIC_Parastoo_Ghalamchi_stepstone_com/appcache/application_1590480489834_0096/container_e03_1590480489834_0096_01_000002/pyspark.zip/pyspark/sql/group.py\", line 115, in agg\n",
      "    _to_seq(self.sql_ctx._sc, [c._jc for c in exprs[1:]]))\n",
      "  File \"/mnt/yarn/usercache/assumed-role_assume_role_DC_AWS_GC_DW_DATA_SCIENCE_BASIC_Parastoo_Ghalamchi_stepstone_com/appcache/application_1590480489834_0096/container_e03_1590480489834_0096_01_000002/py4j-0.10.7-src.zip/py4j/java_gateway.py\", line 1257, in __call__\n",
      "    answer, self.gateway_client, self.target_id, self.name)\n",
      "  File \"/mnt/yarn/usercache/assumed-role_assume_role_DC_AWS_GC_DW_DATA_SCIENCE_BASIC_Parastoo_Ghalamchi_stepstone_com/appcache/application_1590480489834_0096/container_e03_1590480489834_0096_01_000002/pyspark.zip/pyspark/sql/utils.py\", line 69, in deco\n",
      "    raise AnalysisException(s.split(': ', 1)[1], stackTrace)\n",
      "pyspark.sql.utils.AnalysisException: \"cannot resolve '`send`' given input columns: [subVal_hasAnyLogin_SoftLogin_reg_60d, soft_login, reg_date, open, stepstonede.subscription.subscriptiondate, subVal_hasAnySSA_reg_60d, user_id, considered_date, login_state, registration, Rule2_subVal_hasAnyOpenClick_ssa_reg_60d, hasVisit_60d, log_date, stepstonede.subscription.manualunsubscribe, sub_state, soft_login_state, action_day, Rule1_subVal_hasAnyOpenClick_reg_60d, SSA_any_60d, subVal_hasVisit_60d, subVal_hasAnyLogin_reg_60d, click, login, validated_account, Rule3_subVal_hasAnyOpenClick_ssa_login_reg_60d, stepstonede.subscription.isactive, subVal_hasAnySoftLogin_reg_60d];;\\n'Aggregate [isactive#2967], [isactive#2967, sum(count(distinct 'send)) AS total_send_perUser#3463, sum(count(distinct 'total_open)) AS total_open_perUser#3466, sum(count(distinct 'total_clicks)) AS total_click_perUser#3469, sum(count(distinct registration#2792L)) AS total_registration_perUser#3472L, sum(count(distinct login#2784L)) AS total_Login_perUser#3475L, sum(count(distinct soft_login#2786L)) AS total_SoftLogin_perUser#3478L, sum(count(distinct SSA_any_60d#2782L)) AS total_ssa_perUser#3481L]\\n+- Filter (isactive#2967 && (Rule2_subVal_hasAnyOpenClick_ssa_reg_60d#2915 = 0))\\n   +- Project [user_id#2496, action_day#2495, reg_date#1, validated_account#263, considered_date#204, sub_state#273, log_date#6, login_state#284, soft_login_state#296, hasVisit_60d#2211, subVal_hasVisit_60d#2223, SSA_any_60d#2782L, login#2784L, soft_login#2786L, open#2788L, click#2790L, registration#2792L, subVal_hasAnySSA_reg_60d#2810, subVal_hasAnyLogin_reg_60d#2829, subVal_hasAnySoftLogin_reg_60d#2849, subVal_hasAnyLogin_SoftLogin_reg_60d#2870, Rule1_subVal_hasAnyOpenClick_reg_60d#2892, Rule2_subVal_hasAnyOpenClick_ssa_reg_60d#2915, Rule3_subVal_hasAnyOpenClick_ssa_login_reg_60d#2939, ... 3 more fields]\\n      +- Join LeftOuter, (cast(user_id#2496 as int) = user_id#2964)\\n         :- Project [user_id#2496, action_day#2495, reg_date#1, validated_account#263, considered_date#204, sub_state#273, log_date#6, login_state#284, soft_login_state#296, hasVisit_60d#2211, subVal_hasVisit_60d#2223, SSA_any_60d#2782L, login#2784L, soft_login#2786L, open#2788L, click#2790L, registration#2792L, subVal_hasAnySSA_reg_60d#2810, subVal_hasAnyLogin_reg_60d#2829, subVal_hasAnySoftLogin_reg_60d#2849, subVal_hasAnyLogin_SoftLogin_reg_60d#2870, Rule1_subVal_hasAnyOpenClick_reg_60d#2892, Rule2_subVal_hasAnyOpenClick_ssa_reg_60d#2915, CASE WHEN ((((((((open#2788L >= cast(1 as bigint)) || (click#2790L >= cast(1 as bigint))) || (SSA_any_60d#2782L >= cast(1 as bigint))) || (login#2784L >= cast(1 as bigint))) || (soft_login#2786L >= cast(1 as bigint))) || (registration#2792L >= cast(1 as bigint))) && (validated_account#263 > 0)) && (sub_state#273 > 0)) THEN 1 ELSE 0 END AS Rule3_subVal_hasAnyOpenClick_ssa_login_reg_60d#2939]\\n         :  +- Project [user_id#2496, action_day#2495, reg_date#1, validated_account#263, considered_date#204, sub_state#273, log_date#6, login_state#284, soft_login_state#296, hasVisit_60d#2211, subVal_hasVisit_60d#2223, SSA_any_60d#2782L, login#2784L, soft_login#2786L, open#2788L, click#2790L, registration#2792L, subVal_hasAnySSA_reg_60d#2810, subVal_hasAnyLogin_reg_60d#2829, subVal_hasAnySoftLogin_reg_60d#2849, subVal_hasAnyLogin_SoftLogin_reg_60d#2870, Rule1_subVal_hasAnyOpenClick_reg_60d#2892, CASE WHEN ((((((open#2788L >= cast(1 as bigint)) || (click#2790L >= cast(1 as bigint))) || (SSA_any_60d#2782L >= cast(1 as bigint))) || (registration#2792L >= cast(1 as bigint))) && (validated_account#263 > 0)) && (sub_state#273 > 0)) THEN 1 ELSE 0 END AS Rule2_subVal_hasAnyOpenClick_ssa_reg_60d#2915]\\n         :     +- Project [user_id#2496, action_day#2495, reg_date#1, validated_account#263, considered_date#204, sub_state#273, log_date#6, login_state#284, soft_login_state#296, hasVisit_60d#2211, subVal_hasVisit_60d#2223, SSA_any_60d#2782L, login#2784L, soft_login#2786L, open#2788L, click#2790L, registration#2792L, subVal_hasAnySSA_reg_60d#2810, subVal_hasAnyLogin_reg_60d#2829, subVal_hasAnySoftLogin_reg_60d#2849, subVal_hasAnyLogin_SoftLogin_reg_60d#2870, CASE WHEN (((((open#2788L >= cast(1 as bigint)) || (click#2790L >= cast(1 as bigint))) || (registration#2792L >= cast(1 as bigint))) && (validated_account#263 > 0)) && (sub_state#273 > 0)) THEN 1 ELSE 0 END AS Rule1_subVal_hasAnyOpenClick_reg_60d#2892]\\n         :        +- Project [user_id#2496, action_day#2495, reg_date#1, validated_account#263, considered_date#204, sub_state#273, log_date#6, login_state#284, soft_login_state#296, hasVisit_60d#2211, subVal_hasVisit_60d#2223, SSA_any_60d#2782L, login#2784L, soft_login#2786L, open#2788L, click#2790L, registration#2792L, subVal_hasAnySSA_reg_60d#2810, subVal_hasAnyLogin_reg_60d#2829, subVal_hasAnySoftLogin_reg_60d#2849, CASE WHEN (((((login#2784L >= cast(1 as bigint)) || (soft_login#2786L >= cast(1 as bigint))) || (registration#2792L >= cast(1 as bigint))) && (validated_account#263 > 0)) && (sub_state#273 > 0)) THEN 1 ELSE 0 END AS subVal_hasAnyLogin_SoftLogin_reg_60d#2870]\\n         :           +- Project [user_id#2496, action_day#2495, reg_date#1, validated_account#263, considered_date#204, sub_state#273, log_date#6, login_state#284, soft_login_state#296, hasVisit_60d#2211, subVal_hasVisit_60d#2223, SSA_any_60d#2782L, login#2784L, soft_login#2786L, open#2788L, click#2790L, registration#2792L, subVal_hasAnySSA_reg_60d#2810, subVal_hasAnyLogin_reg_60d#2829, CASE WHEN ((((soft_login_state#296 >= 1) || (registration#2792L >= cast(1 as bigint))) && (validated_account#263 > 0)) && (sub_state#273 > 0)) THEN 1 ELSE 0 END AS subVal_hasAnySoftLogin_reg_60d#2849]\\n         :              +- Project [user_id#2496, action_day#2495, reg_date#1, validated_account#263, considered_date#204, sub_state#273, log_date#6, login_state#284, soft_login_state#296, hasVisit_60d#2211, subVal_hasVisit_60d#2223, SSA_any_60d#2782L, login#2784L, soft_login#2786L, open#2788L, click#2790L, registration#2792L, subVal_hasAnySSA_reg_60d#2810, CASE WHEN ((((login_state#284 >= 1) || (registration#2792L >= cast(1 as bigint))) && (validated_account#263 > 0)) && (sub_state#273 > 0)) THEN 1 ELSE 0 END AS subVal_hasAnyLogin_reg_60d#2829]\\n         :                 +- Project [user_id#2496, action_day#2495, reg_date#1, validated_account#263, considered_date#204, sub_state#273, log_date#6, login_state#284, soft_login_state#296, hasVisit_60d#2211, subVal_hasVisit_60d#2223, SSA_any_60d#2782L, login#2784L, soft_login#2786L, open#2788L, click#2790L, registration#2792L, CASE WHEN ((((SSA_any_60d#2782L >= cast(1 as bigint)) || (registration#2792L >= cast(1 as bigint))) && (validated_account#263 > 0)) && (sub_state#273 > 0)) THEN 1 ELSE 0 END AS subVal_hasAnySSA_reg_60d#2810]\\n         :                    +- Aggregate [user_id#2496, action_day#2495, reg_date#1, validated_account#263, considered_date#204, sub_state#273, log_date#6, login_state#284, soft_login_state#296, hasVisit_60d#2211, subVal_hasVisit_60d#2223], [user_id#2496, action_day#2495, reg_date#1, validated_account#263, considered_date#204, sub_state#273, log_date#6, login_state#284, soft_login_state#296, hasVisit_60d#2211, subVal_hasVisit_60d#2223, sum(cast(CASE WHEN (((date_difference_ssa#2673 <= 60) && (date_difference_ssa#2673 >= 1)) && (any_ssa#2239 > 0)) THEN 1 ELSE 0 END as bigint)) AS SSA_any_60d#2782L, sum(cast(CASE WHEN (((date_difference_log#2699 <= 60) && (date_difference_log#2699 >= 1)) && (login_state#284 > 0)) THEN 1 ELSE 0 END as bigint)) AS login#2784L, sum(cast(CASE WHEN (((date_difference_log#2699 <= 60) && (date_difference_log#2699 >= 1)) && (soft_login_state#296 > 0)) THEN 1 ELSE 0 END as bigint)) AS soft_login#2786L, sum(cast(CASE WHEN (((date_difference_actionDay#2726 <= 60) && (date_difference_actionDay#2726 >= 1)) && (total_open#2498L > cast(0 as bigint))) THEN 1 ELSE 0 END as bigint)) AS open#2788L, sum(cast(CASE WHEN (((date_difference_actionDay#2726 <= 60) && (date_difference_actionDay#2726 >= 1)) && (total_clicks#2500L > cast(0 as bigint))) THEN 1 ELSE 0 END as bigint)) AS click#2790L, sum(cast(CASE WHEN ((date_difference_reg#2624 <= 60) && (date_difference_reg#2624 >= 1)) THEN 1 ELSE 0 END as bigint)) AS registration#2792L]\\n         :                       +- Project [user_id#2496, action_day#2495, send#2497L, total_open#2498L, unique_open#2499L, total_clicks#2500L, unique_clicks#2501L, reg_date#1, validated_account#263, considered_date#204, sub_state#273, sub_date#226, log_date#6, login_state#284, soft_login_state#296, visits_60d#2200L, hasVisit_60d#2211, subVal_hasVisit_60d#2223, ssa_date#2236, event_name#2241, listing_view#2238, any_ssa#2239, date_difference_reg#2624, date_difference_sub#2648, ... 3 more fields]\\n         :                          +- Project [user_id#2496, action_day#2495, send#2497L, total_open#2498L, unique_open#2499L, total_clicks#2500L, unique_clicks#2501L, reg_date#1, validated_account#263, considered_date#204, sub_state#273, sub_date#226, log_date#6, login_state#284, soft_login_state#296, visits_60d#2200L, hasVisit_60d#2211, subVal_hasVisit_60d#2223, ssa_date#2236, event_name#2241, listing_view#2238, any_ssa#2239, date_difference_reg#2624, date_difference_sub#2648, ... 2 more fields]\\n         :                             +- Project [user_id#2496, action_day#2495, send#2497L, total_open#2498L, unique_open#2499L, total_clicks#2500L, unique_clicks#2501L, reg_date#1, validated_account#263, considered_date#204, sub_state#273, sub_date#226, log_date#6, login_state#284, soft_login_state#296, visits_60d#2200L, hasVisit_60d#2211, subVal_hasVisit_60d#2223, ssa_date#2236, event_name#2241, listing_view#2238, any_ssa#2239, date_difference_reg#2624, date_difference_sub#2648, datediff(considered_date#204, ssa_date#2236) AS date_difference_ssa#2673]\\n         :                                +- Project [user_id#2496, action_day#2495, send#2497L, total_open#2498L, unique_open#2499L, total_clicks#2500L, unique_clicks#2501L, reg_date#1, validated_account#263, considered_date#204, sub_state#273, sub_date#226, log_date#6, login_state#284, soft_login_state#296, visits_60d#2200L, hasVisit_60d#2211, subVal_hasVisit_60d#2223, ssa_date#2236, event_name#2241, listing_view#2238, any_ssa#2239, date_difference_reg#2624, datediff(considered_date#204, sub_date#226) AS date_difference_sub#2648]\\n         :                                   +- Project [user_id#2496, action_day#2495, send#2497L, total_open#2498L, unique_open#2499L, total_clicks#2500L, unique_clicks#2501L, reg_date#1, validated_account#263, considered_date#204, sub_state#273, sub_date#226, log_date#6, login_state#284, soft_login_state#296, visits_60d#2200L, hasVisit_60d#2211, subVal_hasVisit_60d#2223, ssa_date#2236, event_name#2241, listing_view#2238, any_ssa#2239, datediff(considered_date#204, reg_date#1) AS date_difference_reg#2624]\\n         :                                      +- Project [user_id#2496, action_day#2495, send#2497L, total_open#2498L, unique_open#2499L, total_clicks#2500L, unique_clicks#2501L, reg_date#1, validated_account#263, considered_date#204, sub_state#273, sub_date#226, log_date#6, login_state#284, soft_login_state#296, visits_60d#2200L, hasVisit_60d#2211, subVal_hasVisit_60d#2223, ssa_date#2236, event_name#2241, listing_view#2238, any_ssa#2239]\\n         :                                         +- Join LeftOuter, (user_id#2496 = user_id#2237)\\n         :                                            :- Project [user_id#2496, action_day#2495, send#2497L, total_open#2498L, unique_open#2499L, total_clicks#2500L, unique_clicks#2501L, reg_date#1, validated_account#263, considered_date#204, sub_state#273, sub_date#226, log_date#6, login_state#284, soft_login_state#296, visits_60d#2200L, hasVisit_60d#2211, subVal_hasVisit_60d#2223]\\n         :                                            :  +- Join LeftOuter, (cast(user_id#2496 as int) = user_id#0)\\n         :                                            :     :- Union\\n         :                                            :     :  :- Project [action_day#2495, user_id#2496, send#2497L, total_open#2498L, unique_open#2499L, total_clicks#2500L, unique_clicks#2501L]\\n         :                                            :     :  :  +- Aggregate [to_date(concat_ws(-, cast(year#2523 as string), cast(month#2524 as string), cast(day#2525 as string)), None), user_login_id#2505], [to_date(concat_ws(-, cast(year#2523 as string), cast(month#2524 as string), cast(day#2525 as string)), None) AS action_day#2495, user_login_id#2505 AS user_id#2496, FLOOR(sum(cast(sent#2511 as double))) AS send#2497L, FLOOR(sum(cast(opened#2514 as double))) AS total_open#2498L, count(distinct CASE WHEN (cast(opened#2514 as int) > 0) THEN ditem_id#2521 END) AS unique_open#2499L, FLOOR(sum(cast(clicked#2515 as double))) AS total_clicks#2500L, count(distinct CASE WHEN (cast(clicked#2515 as int) > 0) THEN ditem_id#2521 END) AS unique_clicks#2501L]\\n         :                                            :     :  :     +- SubqueryAlias `fe`\\n         :                                            :     :  :        +- SubqueryAlias `live_raw_selligent_de_stepstone`.`flags_enriched`\\n         :                                            :     :  :           +- HiveTableRelation `live_raw_selligent_de_stepstone`.`flags_enriched`, org.apache.hadoop.hive.serde2.lazy.LazySimpleSerDe, [brand#2502, country#2503, campaign_type#2504, user_login_id#2505, date_of_action_creation#2506, delivery_date#2507, campaign_id#2508, action_id#2509, probe_id#2510, sent#2511, delivered#2512, probe_id_description#2513, opened#2514, clicked#2515, unsubscribed#2516, clicks_apply#2517, clicks_inside_content#2518, state#2519, description_of_state#2520, ditem_id#2521, ja_id#2522], [year#2523, month#2524, day#2525]\\n         :                                            :     :  +- Project [action_day#2538, cast(user_id#2539 as string) AS user_id#2573, cast(send#2540 as bigint) AS send#2574L, cast(total_open#2541 as bigint) AS total_open#2575L, cast(unique_open#2542 as bigint) AS unique_open#2576L, total_clicks#2543L, unique_clicks#2544L]\\n         :                                            :     :     +- Aggregate [to_date(concat_ws(-, cast(year#2554 as string), cast(month#2555 as string), cast(day#2556 as string)), None), userlogin_id#2558], [to_date(concat_ws(-, cast(year#2554 as string), cast(month#2555 as string), cast(day#2556 as string)), None) AS action_day#2538, userlogin_id#2558 AS user_id#2539, 0 AS send#2540, 0 AS total_open#2541, 0 AS unique_open#2542, count(1) AS total_clicks#2543L, count(distinct jaid#2549) AS unique_clicks#2544L]\\n         :                                            :     :        +- Join RightOuter, (jaid#2549 = jobuser_id#2559)\\n         :                                            :     :           :- SubqueryAlias `A`\\n         :                                            :     :           :  +- SubqueryAlias `stepstonede`.`jaclickofferid`\\n         :                                            :     :           :     +- Relation[guid#2546,channel#2547,offerid#2548,jaid#2549,nctid#2550,lang#2551,hostname#2552,datetime#2553,year#2554,month#2555,day#2556] parquet\\n         :                                            :     :           +- SubqueryAlias `B`\\n         :                                            :     :              +- SubqueryAlias `stepstonede`.`userlogin_jobuser`\\n         :                                            :     :                 +- Relation[id#2557,userlogin_id#2558,jobuser_id#2559,type#2560,item_name#2561,pbid#2562,exctpe#2563,is_automatic_name#2564] parquet\\n         :                                            :     +- Project [user_id#0, reg_date#1, validated_account#263, considered_date#204, sub_state#273, sub_date#226, log_date#6, login_state#284, soft_login_state#296, visits_60d#2200L, hasVisit_60d#2211, CASE WHEN (((visits_60d#2200L >= cast(1 as bigint)) && (validated_account#263 > 0)) && (sub_state#273 > 0)) THEN 1 ELSE 0 END AS subVal_hasVisit_60d#2223]\\n         :                                            :        +- Project [user_id#0, reg_date#1, validated_account#263, considered_date#204, sub_state#273, sub_date#226, log_date#6, login_state#284, soft_login_state#296, visits_60d#2200L, CASE WHEN (visits_60d#2200L >= cast(1 as bigint)) THEN 1 ELSE 0 END AS hasVisit_60d#2211]\\n         :                                            :           +- Aggregate [user_id#0, reg_date#1, validated_account#263, considered_date#204, sub_state#273, sub_date#226, log_date#6, login_state#284, soft_login_state#296], [user_id#0, reg_date#1, validated_account#263, considered_date#204, sub_state#273, sub_date#226, log_date#6, login_state#284, soft_login_state#296, sum(cast(CASE WHEN ((date_difference#2176 <= 60) && (date_difference#2176 >= 1)) THEN 1 ELSE 0 END as bigint)) AS visits_60d#2200L]\\n         :                                            :              +- Project [user_id#0, reg_date#1, validated_account#263, considered_date#204, sub_state#273, visit_date#318, sub_date#226, log_date#6, login_state#284, soft_login_state#296, datediff(considered_date#204, visit_date#318) AS date_difference#2176]\\n         :                                            :                 +- Project [user_id#0, reg_date#1, validated_account#263, considered_date#204, sub_state#273, visit_date#318, sub_date#226, log_date#6, login_state#284, soft_login_state#296]\\n         :                                            :                    +- Project [user_id#0, reg_date#1, validated_account#263, sub_state#273, considered_date#204, sub_date#226, log_date#6, login_state#284, soft_login_state#296, visit_date#318]\\n         :                                            :                       +- Join LeftOuter, (user_id#0 = cast(user_id#2153 as int))\\n         :                                            :                          :- Project [user_id#0, reg_date#1, validated_account#263, sub_state#273, considered_date#204, sub_date#226, log_date#6, login_state#284, soft_login_state#296]\\n         :                                            :                          :  +- Project [user_id#0, reg_date#1, AccountValidation#3, last_login#5, last_softlog#4, log_date#6, considered_date#204, sub_date#226, validated_account#263, sub_state#273, login_state#284, CASE WHEN (last_softlog#4 <= considered_date#204) THEN 1 ELSE 0 END AS soft_login_state#296]\\n         :                                            :                          :     +- Project [user_id#0, reg_date#1, AccountValidation#3, last_login#5, last_softlog#4, log_date#6, considered_date#204, sub_date#226, validated_account#263, sub_state#273, CASE WHEN (last_login#5 <= considered_date#204) THEN 1 ELSE 0 END AS login_state#284]\\n         :                                            :                          :        +- Project [user_id#0, reg_date#1, AccountValidation#3, last_login#5, last_softlog#4, log_date#6, considered_date#204, sub_date#226, validated_account#263, CASE WHEN (sub_date#226 <= considered_date#204) THEN 1 ELSE 0 END AS sub_state#273]\\n         :                                            :                          :           +- Project [user_id#0, reg_date#1, AccountValidation#3, last_login#5, last_softlog#4, log_date#6, considered_date#204, sub_date#226, CASE WHEN (AccountValidation#3 = true) THEN 1 ELSE 0 END AS validated_account#263]\\n         :                                            :                          :              +- Project [user_id#0, reg_date#1, AccountValidation#3, last_login#5, last_softlog#4, log_date#6, considered_date#204, sub_date#226]\\n         :                                            :                          :                 +- Join LeftAnti, (user_id#0 = user_id#247)\\n         :                                            :                          :                    :- Project [user_id#0, reg_date#1, AccountValidation#3, last_login#5, last_softlog#4, log_date#6, considered_date#204, sub_date#226]\\n         :                                            :                          :                    :  +- Join LeftOuter, (user_id#0 = user_id#229)\\n         :                                            :                          :                    :     :- Project [user_id#0, reg_date#1, AccountValidation#3, last_login#5, last_softlog#4, log_date#6, to_date(18421, None) AS considered_date#204]\\n         :                                            :                          :                    :     :  +- Deduplicate [reg_date#1, last_softlog#4, user_id#0, AccountValidation#3, log_date#6, last_login#5]\\n         :                                            :                          :                    :     :     +- Project [user_id#0, reg_date#1, AccountValidation#3, last_login#5, last_softlog#4, log_date#6]\\n         :                                            :                          :                    :     :        +- Sort [reg_date#1 ASC NULLS FIRST, log_date#6 ASC NULLS FIRST], true\\n         :                                            :                          :                    :     :           +- Aggregate [id#8, to_date(dcreated#21, None), passwordset#47, subscriptionid#65, to_date(subscriptiondate#68, None), isactive#67, active#36, manualunsubscribe#73, to_date(datelastsoftlogin#50, None), to_date(dlastlogin#22, None), to_date(logdatetime#79, None), logaction#78], [id#8 AS user_id#0, to_date(dcreated#21, None) AS reg_date#1, passwordset#47, subscriptionid#65, to_date(subscriptiondate#68, None) AS sub_date#2, isactive#67, active#36 AS AccountValidation#3, manualunsubscribe#73, to_date(datelastsoftlogin#50, None) AS last_softlog#4, to_date(dlastlogin#22, None) AS last_login#5, to_date(logdatetime#79, None) AS log_date#6, logaction#78, count(logdatetime#79) AS n_events#7L]\\n         :                                            :                          :                    :     :              +- Filter (cast(dcreated#21 as string) >= 2018-01-01)\\n         :                                            :                          :                    :     :                 +- Join LeftOuter, ((id#8 = userloginid#76) && NOT logaction#78 IN (IJM, autodeactivate,IJM, autoactivate))\\n         :                                            :                          :                    :     :                    :- Join LeftOuter, (id#8 = userlogin_id#66)\\n         :                                            :                          :                    :     :                    :  :- SubqueryAlias `UID`\\n         :                                            :                          :                    :     :                    :  :  +- SubqueryAlias `stepstonede`.`userlogin`\\n         :                                            :                          :                    :     :                    :  :     +- Relation[id#8,login#9,pwd#10,lang#11,email#12,emailtype#13,firstname#14,lastname#15,gender#16,ddateofbirth#17,postalcode#18,locked#19,online#20,dcreated#21,dlastlogin#22,secret_question#23,secret_answer#24,mailbox_id#25,nationality#26,streetname#27,streetnumber#28,city#29,country#30,telephone#31,... 33 more fields] parquet\\n         :                                            :                          :                    :     :                    :  +- SubqueryAlias `SUB`\\n         :                                            :                          :                    :     :                    :     +- SubqueryAlias `stepstonede`.`subscription`\\n         :                                            :                          :                    :     :                    :        +- Relation[subscriptionid#65,userlogin_id#66,isactive#67,subscriptiondate#68,dailysentcounter#69,frequency#70,preferredlanguage#71,acceptablelanguages#72,manualunsubscribe#73,testandvariant#74] parquet\\n         :                                            :                          :                    :     :                    +- SubqueryAlias `LOG`\\n         :                                            :                          :                    :     :                       +- SubqueryAlias `stepstonede`.`logmystst`\\n         :                                            :                          :                    :     :                          +- Relation[id#75,userloginid#76,jobuserid#77,logaction#78,logdatetime#79,emailold#80,emailnew#81,ipaddress#82,comment#83,channel#84,doneby#85,ref_userdomain_id#86,year#87,month#88,day#89] parquet\\n         :                                            :                          :                    :     +- Aggregate [user_id#229], [user_id#229, min(log_date#235) AS sub_date#226]\\n         :                                            :                          :                    :        +- Filter logaction#78 IN (IJM, subscription)\\n         :                                            :                          :                    :           +- Sort [reg_date#230 ASC NULLS FIRST, log_date#235 ASC NULLS FIRST], true\\n         :                                            :                          :                    :              +- Aggregate [id#8, to_date(dcreated#21, None), passwordset#47, subscriptionid#65, to_date(subscriptiondate#68, None), isactive#67, active#36, manualunsubscribe#73, to_date(datelastsoftlogin#50, None), to_date(dlastlogin#22, None), to_date(logdatetime#79, None), logaction#78], [id#8 AS user_id#229, to_date(dcreated#21, None) AS reg_date#230, passwordset#47, subscriptionid#65, to_date(subscriptiondate#68, None) AS sub_date#231, isactive#67, active#36 AS AccountValidation#232, manualunsubscribe#73, to_date(datelastsoftlogin#50, None) AS last_softlog#233, to_date(dlastlogin#22, None) AS last_login#234, to_date(logdatetime#79, None) AS log_date#235, logaction#78, count(logdatetime#79) AS n_events#236L]\\n         :                                            :                          :                    :                 +- Filter (cast(dcreated#21 as string) >= 2018-01-01)\\n         :                                            :                          :                    :                    +- Join LeftOuter, ((id#8 = userloginid#76) && NOT logaction#78 IN (IJM, autodeactivate,IJM, autoactivate))\\n         :                                            :                          :                    :                       :- Join LeftOuter, (id#8 = userlogin_id#66)\\n         :                                            :                          :                    :                       :  :- SubqueryAlias `UID`\\n         :                                            :                          :                    :                       :  :  +- SubqueryAlias `stepstonede`.`userlogin`\\n         :                                            :                          :                    :                       :  :     +- Relation[id#8,login#9,pwd#10,lang#11,email#12,emailtype#13,firstname#14,lastname#15,gender#16,ddateofbirth#17,postalcode#18,locked#19,online#20,dcreated#21,dlastlogin#22,secret_question#23,secret_answer#24,mailbox_id#25,nationality#26,streetname#27,streetnumber#28,city#29,country#30,telephone#31,... 33 more fields] parquet\\n         :                                            :                          :                    :                       :  +- SubqueryAlias `SUB`\\n         :                                            :                          :                    :                       :     +- SubqueryAlias `stepstonede`.`subscription`\\n         :                                            :                          :                    :                       :        +- Relation[subscriptionid#65,userlogin_id#66,isactive#67,subscriptiondate#68,dailysentcounter#69,frequency#70,preferredlanguage#71,acceptablelanguages#72,manualunsubscribe#73,testandvariant#74] parquet\\n         :                                            :                          :                    :                       +- SubqueryAlias `LOG`\\n         :                                            :                          :                    :                          +- SubqueryAlias `stepstonede`.`logmystst`\\n         :                                            :                          :                    :                             +- Relation[id#75,userloginid#76,jobuserid#77,logaction#78,logdatetime#79,emailold#80,emailnew#81,ipaddress#82,comment#83,channel#84,doneby#85,ref_userdomain_id#86,year#87,month#88,day#89] parquet\\n         :                                            :                          :                    +- Deduplicate [user_id#247, manualunsubscribe#73]\\n         :                                            :                          :                       +- Project [user_id#247, manualunsubscribe#73]\\n         :                                            :                          :                          +- Filter (manualunsubscribe#73 = true)\\n         :                                            :                          :                             +- Sort [reg_date#248 ASC NULLS FIRST, log_date#253 ASC NULLS FIRST], true\\n         :                                            :                          :                                +- Aggregate [id#8, to_date(dcreated#21, None), passwordset#47, subscriptionid#65, to_date(subscriptiondate#68, None), isactive#67, active#36, manualunsubscribe#73, to_date(datelastsoftlogin#50, None), to_date(dlastlogin#22, None), to_date(logdatetime#79, None), logaction#78], [id#8 AS user_id#247, to_date(dcreated#21, None) AS reg_date#248, passwordset#47, subscriptionid#65, to_date(subscriptiondate#68, None) AS sub_date#249, isactive#67, active#36 AS AccountValidation#250, manualunsubscribe#73, to_date(datelastsoftlogin#50, None) AS last_softlog#251, to_date(dlastlogin#22, None) AS last_login#252, to_date(logdatetime#79, None) AS log_date#253, logaction#78, count(logdatetime#79) AS n_events#254L]\\n         :                                            :                          :                                   +- Filter (cast(dcreated#21 as string) >= 2018-01-01)\\n         :                                            :                          :                                      +- Join LeftOuter, ((id#8 = userloginid#76) && NOT logaction#78 IN (IJM, autodeactivate,IJM, autoactivate))\\n         :                                            :                          :                                         :- Join LeftOuter, (id#8 = userlogin_id#66)\\n         :                                            :                          :                                         :  :- SubqueryAlias `UID`\\n         :                                            :                          :                                         :  :  +- SubqueryAlias `stepstonede`.`userlogin`\\n         :                                            :                          :                                         :  :     +- Relation[id#8,login#9,pwd#10,lang#11,email#12,emailtype#13,firstname#14,lastname#15,gender#16,ddateofbirth#17,postalcode#18,locked#19,online#20,dcreated#21,dlastlogin#22,secret_question#23,secret_answer#24,mailbox_id#25,nationality#26,streetname#27,streetnumber#28,city#29,country#30,telephone#31,... 33 more fields] parquet\\n         :                                            :                          :                                         :  +- SubqueryAlias `SUB`\\n         :                                            :                          :                                         :     +- SubqueryAlias `stepstonede`.`subscription`\\n         :                                            :                          :                                         :        +- Relation[subscriptionid#65,userlogin_id#66,isactive#67,subscriptiondate#68,dailysentcounter#69,frequency#70,preferredlanguage#71,acceptablelanguages#72,manualunsubscribe#73,testandvariant#74] parquet\\n         :                                            :                          :                                         +- SubqueryAlias `LOG`\\n         :                                            :                          :                                            +- SubqueryAlias `stepstonede`.`logmystst`\\n         :                                            :                          :                                               +- Relation[id#75,userloginid#76,jobuserid#77,logaction#78,logdatetime#79,emailold#80,emailnew#81,ipaddress#82,comment#83,channel#84,doneby#85,ref_userdomain_id#86,year#87,month#88,day#89] parquet\\n         :                                            :                          +- Project [new_user_id_1#2146 AS user_id#2153, visit_date#318]\\n         :                                            :                             +- Filter isnotnull(new_user_id_1#2146)\\n         :                                            :                                +- Project [user_id#413, userlogin_id#2097, user_id_hash#2119, visit_date#318, new_user_id#2140, CASE WHEN isnotnull(new_user_id#2140) THEN new_user_id#2140 ELSE CASE WHEN isnotnull(user_id_hash#2119) THEN user_id_hash#2119 END END AS new_user_id_1#2146]\\n         :                                            :                                   +- Project [user_id#413, userlogin_id#2097, user_id_hash#2119, visit_date#318, CASE WHEN isnotnull(user_id#413) THEN user_id#413 ELSE cast(CASE WHEN isnotnull(userlogin_id#2097) THEN userlogin_id#2097 END as string) END AS new_user_id#2140]\\n         :                                            :                                      +- Project [user_id#413, userlogin_id#2097, user_id_hash#2119, visit_date#318]\\n         :                                            :                                         +- Project [user_hash#414, job_agent_id#366, user_id#413, visit_date#318, userlogin_id#2097, user_id_hash#2119]\\n         :                                            :                                            +- Join LeftOuter, (user_hash#414 = user_hash#2127)\\n         :                                            :                                               :- Project [job_agent_id#366, user_id#413, user_hash#414, visit_date#318, userlogin_id#2097]\\n         :                                            :                                               :  +- Join LeftOuter, (job_agent_id#366 = job_agent_id#2095)\\n         :                                            :                                               :     :- Union\\n         :                                            :                                               :     :  :- Union\\n         :                                            :                                               :     :  :  :- Distinct\\n         :                                            :                                               :     :  :  :  +- Project [user_id#413, user_hash#414, job_agent_id#366, to_date(visit_start_time_gmt#562, None) AS visit_date#318]\\n         :                                            :                                               :     :  :  :     +- Filter ((cast(exclude_hit#330 as int) <= 0) && (year#633 = 2020))\\n         :                                            :                                               :     :  :  :        +- SubqueryAlias `presentation`.`hits_de`\\n         :                                            :                                               :     :  :  :           +- Relation[browser_id#321L,browser_name#322,code_ver#323,connection_type#324,country#325,daily_visitor#326,date_time#327,domain#328,bot#329,exclude_hit#330,first_hit_page_url#331,first_hit_pagename#332,first_hit_referrer#333,first_hit_date#334,geo_city#335,geo_country#336,geo_region#337,hit_time_gmt#338,hitid_high#339L,hitid_low#340L,homepage#341,hourly_visitor#342,language_id#343,language#344,... 291 more fields] parquet\\n         :                                            :                                               :     :  :  +- Distinct\\n         :                                            :                                               :     :  :     +- Project [user_id#728, user_hash#729, job_agent_id#681, to_date(visit_start_time_gmt#877, None) AS visit_date#319]\\n         :                                            :                                               :     :  :        +- Filter ((job_site#889 LIKE %-de && (cast(exclude_hit#645 as int) <= 0)) && (year#918 = 2020))\\n         :                                            :                                               :     :  :           +- SubqueryAlias `AA`\\n         :                                            :                                               :     :  :              +- SubqueryAlias `presentation`.`hits_android_global`\\n         :                                            :                                               :     :  :                 +- Relation[browser_id#636L,browser_name#637,code_ver#638,connection_type#639,country#640,daily_visitor#641,date_time#642,domain#643,bot#644,exclude_hit#645,first_hit_page_url#646,first_hit_pagename#647,first_hit_referrer#648,first_hit_date#649,geo_city#650,geo_country#651,geo_region#652,hit_time_gmt#653,hitid_high#654L,hitid_low#655L,homepage#656,hourly_visitor#657,language_id#658,language#659,... 261 more fields] parquet\\n         :                                            :                                               :     :  +- Distinct\\n         :                                            :                                               :     :     +- Project [user_id#1013, user_hash#1014, job_agent_id#966, to_date(visit_start_time_gmt#1162, None) AS visit_date#320]\\n         :                                            :                                               :     :        +- Filter ((job_site#1174 LIKE %-de && (cast(exclude_hit#930 as int) <= 0)) && (year#1203 = 2020))\\n         :                                            :                                               :     :           +- SubqueryAlias `AA`\\n         :                                            :                                               :     :              +- SubqueryAlias `presentation`.`hits_iphoneapp_global`\\n         :                                            :                                               :     :                 +- Relation[browser_id#921L,browser_name#922,code_ver#923,connection_type#924,country#925,daily_visitor#926,date_time#927,domain#928,bot#929,exclude_hit#930,first_hit_page_url#931,first_hit_pagename#932,first_hit_referrer#933,first_hit_date#934,geo_city#935,geo_country#936,geo_region#937,hit_time_gmt#938,hitid_high#939L,hitid_low#940L,homepage#941,hourly_visitor#942,language_id#943,language#944,... 261 more fields] parquet\\n         :                                            :                                               :     +- Distinct\\n         :                                            :                                               :        +- Project [userlogin_id#2097, jobuser_id#2098 AS job_agent_id#2095]\\n         :                                            :                                               :           +- SubqueryAlias `stepstonede`.`userlogin_jobuser`\\n         :                                            :                                               :              +- Relation[id#2096,userlogin_id#2097,jobuser_id#2098,type#2099,item_name#2100,pbid#2101,exctpe#2102,is_automatic_name#2103] parquet\\n         :                                            :                                               +- Project [user_hash#2127, user_id#2126 AS user_id_hash#2119]\\n         :                                            :                                                  +- Join RightOuter, ((user_hash#2127 = user_hash#2122) && (n_UID#2120L = cast(1 as bigint)))\\n         :                                            :                                                     :- SubqueryAlias `A`\\n         :                                            :                                                     :  +- SubqueryAlias `presentation`.`adobe_user_id_hash_de`\\n         :                                            :                                                     :     +- Relation[user_id#2126,user_hash#2127] parquet\\n         :                                            :                                                     +- SubqueryAlias `B`\\n         :                                            :                                                        +- SubqueryAlias `hash_count`\\n         :                                            :                                                           +- Aggregate [user_hash#2122], [user_hash#2122, count(distinct user_id#2121) AS n_UID#2120L]\\n         :                                            :                                                              +- SubqueryAlias `presentation`.`adobe_user_id_hash_de`\\n         :                                            :                                                                 +- Relation[user_id#2121,user_hash#2122] parquet\\n         :                                            +- Distinct\\n         :                                               +- Project [to_date(log_date#2242, None) AS ssa_date#2236, event_name#2241, tracking_my_stepstone_id#2293 AS user_id#2237, CASE WHEN (event_name#2241 = ListingView) THEN 1 ELSE 0 END AS listing_view#2238, 1 AS any_ssa#2239]\\n         :                                                  +- Filter (((year#2312 >= 2020) && (month#2313 >= 3)) && ((country#2311 = DE) && event_name#2241 IN (ListingView,Search)))\\n         :                                                     +- SubqueryAlias `presentation`.`ssa_fact`\\n         :                                                        +- Relation[session_id#2240,event_name#2241,log_date#2242,log_date_epoch#2243L,raw_json_content#2244,added_widgets#2245,algorithm#2246,analysed_query_type#2247,bot#2248,browse_city_id#2249,browse_company_id#2250,browse_function#2251,browse_region_id#2252,browse_url#2253,categories#2254,cid#2255,company_id#2256,distil#2257,fuzzy_behaviour#2258,geo_city_id#2259,geo_widget_id#2260,highlighted_listing_ids#2261,is_highlighted#2262,jobagent_id#2263,... 51 more fields] parquet\\n         +- Project [userlogin_id#2966 AS user_id#2964, subscriptiondate#2968, isactive#2967, manualunsubscribe#2973]\\n            +- Filter ((isactive#2967 && (isnull(manualunsubscribe#2973) || NOT manualunsubscribe#2973)) && (cast(subscriptiondate#2968 as string) >= 2018-01-01))\\n               +- SubqueryAlias `stepstonede`.`subscription`\\n                  +- Relation[subscriptionid#2965,userlogin_id#2966,isactive#2967,subscriptiondate#2968,dailysentcounter#2969,frequency#2970,preferredlanguage#2971,acceptablelanguages#2972,manualunsubscribe#2973,testandvariant#2974] parquet\\n\"\n",
      "\n"
     ]
    }
   ],
   "source": [
    "#Activities of groupZ against Rule2_subVal_hasAnyOpenClick_ssa_reg_60d\n",
    "simulation_visits_selligent_ssa_sub_GroupZ_df = simulation_visits_selligent_ssa_sub_df.filter((subs_df.isactive ==1) & \n",
    "                                                                                              (simulation_visits_selligent_ssa_df.Rule2_subVal_hasAnyOpenClick_ssa_reg_60d == 0)).\\\n",
    "                                                                                              groupBy('isactive').\\\n",
    "                                                                                              agg(F.sum(F.countDistinct(F.col(\"send\"))).alias(\"total_send_perUser\"),\n",
    "                                                                                                  F.sum(F.countDistinct(F.col(\"total_open\"))).alias(\"total_open_perUser\"),\n",
    "                                                                                                  F.sum(F.countDistinct(F.col(\"total_clicks\"))).alias(\"total_click_perUser\"),\n",
    "                                                                                                  F.sum(F.countDistinct(F.col(\"registration\"))).alias(\"total_registration_perUser\"),\n",
    "                                                                                                  F.sum(F.countDistinct(F.col(\"login\"))).alias(\"total_Login_perUser\"),\n",
    "                                                                                                  F.sum(F.countDistinct(F.col(\"soft_login\"))).alias(\"total_SoftLogin_perUser\"),\n",
    "                                                                                                  F.sum(F.countDistinct(F.col(\"SSA_any_60d\"))).alias(\"total_ssa_perUser\"))"
   ]
  },
  {
   "cell_type": "code",
   "execution_count": 22,
   "metadata": {},
   "outputs": [
    {
     "data": {
      "application/vnd.jupyter.widget-view+json": {
       "model_id": "5d54c6810b9e47a78902875f3436260b",
       "version_major": 2,
       "version_minor": 0
      },
      "text/plain": [
       "VBox()"
      ]
     },
     "metadata": {},
     "output_type": "display_data"
    },
    {
     "data": {
      "application/vnd.jupyter.widget-view+json": {
       "model_id": "",
       "version_major": 2,
       "version_minor": 0
      },
      "text/plain": [
       "FloatProgress(value=0.0, bar_style='info', description='Progress:', layout=Layout(height='25px', width='50%'),…"
      ]
     },
     "metadata": {},
     "output_type": "display_data"
    },
    {
     "name": "stderr",
     "output_type": "stream",
     "text": [
      "\"cannot resolve '`send`' given input columns: [subVal_hasAnyLogin_SoftLogin_reg_60d, soft_login, reg_date, open, stepstonede.subscription.subscriptiondate, subVal_hasAnySSA_reg_60d, user_id, considered_date, login_state, registration, Rule2_subVal_hasAnyOpenClick_ssa_reg_60d, hasVisit_60d, log_date, stepstonede.subscription.manualunsubscribe, sub_state, soft_login_state, action_day, Rule1_subVal_hasAnyOpenClick_reg_60d, SSA_any_60d, subVal_hasVisit_60d, subVal_hasAnyLogin_reg_60d, click, login, validated_account, Rule3_subVal_hasAnyOpenClick_ssa_login_reg_60d, stepstonede.subscription.isactive, subVal_hasAnySoftLogin_reg_60d];;\\n'Aggregate [isactive#2967], [isactive#2967, sum(count(distinct 'send)) AS total_send_perUser#3511, sum(count(distinct 'total_open)) AS total_open_perUser#3514, sum(count(distinct 'total_clicks)) AS total_click_perUser#3517, sum(count(distinct registration#2792L)) AS total_registration_perUser#3520L, sum(count(distinct login#2784L)) AS total_Login_perUser#3523L, sum(count(distinct soft_login#2786L)) AS total_SoftLogin_perUser#3526L, sum(count(distinct SSA_any_60d#2782L)) AS total_ssa_perUser#3529L]\\n+- Filter (isactive#2967 && (Rule3_subVal_hasAnyOpenClick_ssa_login_reg_60d#2939 = 0))\\n   +- Project [user_id#2496, action_day#2495, reg_date#1, validated_account#263, considered_date#204, sub_state#273, log_date#6, login_state#284, soft_login_state#296, hasVisit_60d#2211, subVal_hasVisit_60d#2223, SSA_any_60d#2782L, login#2784L, soft_login#2786L, open#2788L, click#2790L, registration#2792L, subVal_hasAnySSA_reg_60d#2810, subVal_hasAnyLogin_reg_60d#2829, subVal_hasAnySoftLogin_reg_60d#2849, subVal_hasAnyLogin_SoftLogin_reg_60d#2870, Rule1_subVal_hasAnyOpenClick_reg_60d#2892, Rule2_subVal_hasAnyOpenClick_ssa_reg_60d#2915, Rule3_subVal_hasAnyOpenClick_ssa_login_reg_60d#2939, ... 3 more fields]\\n      +- Join LeftOuter, (cast(user_id#2496 as int) = user_id#2964)\\n         :- Project [user_id#2496, action_day#2495, reg_date#1, validated_account#263, considered_date#204, sub_state#273, log_date#6, login_state#284, soft_login_state#296, hasVisit_60d#2211, subVal_hasVisit_60d#2223, SSA_any_60d#2782L, login#2784L, soft_login#2786L, open#2788L, click#2790L, registration#2792L, subVal_hasAnySSA_reg_60d#2810, subVal_hasAnyLogin_reg_60d#2829, subVal_hasAnySoftLogin_reg_60d#2849, subVal_hasAnyLogin_SoftLogin_reg_60d#2870, Rule1_subVal_hasAnyOpenClick_reg_60d#2892, Rule2_subVal_hasAnyOpenClick_ssa_reg_60d#2915, CASE WHEN ((((((((open#2788L >= cast(1 as bigint)) || (click#2790L >= cast(1 as bigint))) || (SSA_any_60d#2782L >= cast(1 as bigint))) || (login#2784L >= cast(1 as bigint))) || (soft_login#2786L >= cast(1 as bigint))) || (registration#2792L >= cast(1 as bigint))) && (validated_account#263 > 0)) && (sub_state#273 > 0)) THEN 1 ELSE 0 END AS Rule3_subVal_hasAnyOpenClick_ssa_login_reg_60d#2939]\\n         :  +- Project [user_id#2496, action_day#2495, reg_date#1, validated_account#263, considered_date#204, sub_state#273, log_date#6, login_state#284, soft_login_state#296, hasVisit_60d#2211, subVal_hasVisit_60d#2223, SSA_any_60d#2782L, login#2784L, soft_login#2786L, open#2788L, click#2790L, registration#2792L, subVal_hasAnySSA_reg_60d#2810, subVal_hasAnyLogin_reg_60d#2829, subVal_hasAnySoftLogin_reg_60d#2849, subVal_hasAnyLogin_SoftLogin_reg_60d#2870, Rule1_subVal_hasAnyOpenClick_reg_60d#2892, CASE WHEN ((((((open#2788L >= cast(1 as bigint)) || (click#2790L >= cast(1 as bigint))) || (SSA_any_60d#2782L >= cast(1 as bigint))) || (registration#2792L >= cast(1 as bigint))) && (validated_account#263 > 0)) && (sub_state#273 > 0)) THEN 1 ELSE 0 END AS Rule2_subVal_hasAnyOpenClick_ssa_reg_60d#2915]\\n         :     +- Project [user_id#2496, action_day#2495, reg_date#1, validated_account#263, considered_date#204, sub_state#273, log_date#6, login_state#284, soft_login_state#296, hasVisit_60d#2211, subVal_hasVisit_60d#2223, SSA_any_60d#2782L, login#2784L, soft_login#2786L, open#2788L, click#2790L, registration#2792L, subVal_hasAnySSA_reg_60d#2810, subVal_hasAnyLogin_reg_60d#2829, subVal_hasAnySoftLogin_reg_60d#2849, subVal_hasAnyLogin_SoftLogin_reg_60d#2870, CASE WHEN (((((open#2788L >= cast(1 as bigint)) || (click#2790L >= cast(1 as bigint))) || (registration#2792L >= cast(1 as bigint))) && (validated_account#263 > 0)) && (sub_state#273 > 0)) THEN 1 ELSE 0 END AS Rule1_subVal_hasAnyOpenClick_reg_60d#2892]\\n         :        +- Project [user_id#2496, action_day#2495, reg_date#1, validated_account#263, considered_date#204, sub_state#273, log_date#6, login_state#284, soft_login_state#296, hasVisit_60d#2211, subVal_hasVisit_60d#2223, SSA_any_60d#2782L, login#2784L, soft_login#2786L, open#2788L, click#2790L, registration#2792L, subVal_hasAnySSA_reg_60d#2810, subVal_hasAnyLogin_reg_60d#2829, subVal_hasAnySoftLogin_reg_60d#2849, CASE WHEN (((((login#2784L >= cast(1 as bigint)) || (soft_login#2786L >= cast(1 as bigint))) || (registration#2792L >= cast(1 as bigint))) && (validated_account#263 > 0)) && (sub_state#273 > 0)) THEN 1 ELSE 0 END AS subVal_hasAnyLogin_SoftLogin_reg_60d#2870]\\n         :           +- Project [user_id#2496, action_day#2495, reg_date#1, validated_account#263, considered_date#204, sub_state#273, log_date#6, login_state#284, soft_login_state#296, hasVisit_60d#2211, subVal_hasVisit_60d#2223, SSA_any_60d#2782L, login#2784L, soft_login#2786L, open#2788L, click#2790L, registration#2792L, subVal_hasAnySSA_reg_60d#2810, subVal_hasAnyLogin_reg_60d#2829, CASE WHEN ((((soft_login_state#296 >= 1) || (registration#2792L >= cast(1 as bigint))) && (validated_account#263 > 0)) && (sub_state#273 > 0)) THEN 1 ELSE 0 END AS subVal_hasAnySoftLogin_reg_60d#2849]\\n         :              +- Project [user_id#2496, action_day#2495, reg_date#1, validated_account#263, considered_date#204, sub_state#273, log_date#6, login_state#284, soft_login_state#296, hasVisit_60d#2211, subVal_hasVisit_60d#2223, SSA_any_60d#2782L, login#2784L, soft_login#2786L, open#2788L, click#2790L, registration#2792L, subVal_hasAnySSA_reg_60d#2810, CASE WHEN ((((login_state#284 >= 1) || (registration#2792L >= cast(1 as bigint))) && (validated_account#263 > 0)) && (sub_state#273 > 0)) THEN 1 ELSE 0 END AS subVal_hasAnyLogin_reg_60d#2829]\\n         :                 +- Project [user_id#2496, action_day#2495, reg_date#1, validated_account#263, considered_date#204, sub_state#273, log_date#6, login_state#284, soft_login_state#296, hasVisit_60d#2211, subVal_hasVisit_60d#2223, SSA_any_60d#2782L, login#2784L, soft_login#2786L, open#2788L, click#2790L, registration#2792L, CASE WHEN ((((SSA_any_60d#2782L >= cast(1 as bigint)) || (registration#2792L >= cast(1 as bigint))) && (validated_account#263 > 0)) && (sub_state#273 > 0)) THEN 1 ELSE 0 END AS subVal_hasAnySSA_reg_60d#2810]\\n         :                    +- Aggregate [user_id#2496, action_day#2495, reg_date#1, validated_account#263, considered_date#204, sub_state#273, log_date#6, login_state#284, soft_login_state#296, hasVisit_60d#2211, subVal_hasVisit_60d#2223], [user_id#2496, action_day#2495, reg_date#1, validated_account#263, considered_date#204, sub_state#273, log_date#6, login_state#284, soft_login_state#296, hasVisit_60d#2211, subVal_hasVisit_60d#2223, sum(cast(CASE WHEN (((date_difference_ssa#2673 <= 60) && (date_difference_ssa#2673 >= 1)) && (any_ssa#2239 > 0)) THEN 1 ELSE 0 END as bigint)) AS SSA_any_60d#2782L, sum(cast(CASE WHEN (((date_difference_log#2699 <= 60) && (date_difference_log#2699 >= 1)) && (login_state#284 > 0)) THEN 1 ELSE 0 END as bigint)) AS login#2784L, sum(cast(CASE WHEN (((date_difference_log#2699 <= 60) && (date_difference_log#2699 >= 1)) && (soft_login_state#296 > 0)) THEN 1 ELSE 0 END as bigint)) AS soft_login#2786L, sum(cast(CASE WHEN (((date_difference_actionDay#2726 <= 60) && (date_difference_actionDay#2726 >= 1)) && (total_open#2498L > cast(0 as bigint))) THEN 1 ELSE 0 END as bigint)) AS open#2788L, sum(cast(CASE WHEN (((date_difference_actionDay#2726 <= 60) && (date_difference_actionDay#2726 >= 1)) && (total_clicks#2500L > cast(0 as bigint))) THEN 1 ELSE 0 END as bigint)) AS click#2790L, sum(cast(CASE WHEN ((date_difference_reg#2624 <= 60) && (date_difference_reg#2624 >= 1)) THEN 1 ELSE 0 END as bigint)) AS registration#2792L]\\n         :                       +- Project [user_id#2496, action_day#2495, send#2497L, total_open#2498L, unique_open#2499L, total_clicks#2500L, unique_clicks#2501L, reg_date#1, validated_account#263, considered_date#204, sub_state#273, sub_date#226, log_date#6, login_state#284, soft_login_state#296, visits_60d#2200L, hasVisit_60d#2211, subVal_hasVisit_60d#2223, ssa_date#2236, event_name#2241, listing_view#2238, any_ssa#2239, date_difference_reg#2624, date_difference_sub#2648, ... 3 more fields]\\n         :                          +- Project [user_id#2496, action_day#2495, send#2497L, total_open#2498L, unique_open#2499L, total_clicks#2500L, unique_clicks#2501L, reg_date#1, validated_account#263, considered_date#204, sub_state#273, sub_date#226, log_date#6, login_state#284, soft_login_state#296, visits_60d#2200L, hasVisit_60d#2211, subVal_hasVisit_60d#2223, ssa_date#2236, event_name#2241, listing_view#2238, any_ssa#2239, date_difference_reg#2624, date_difference_sub#2648, ... 2 more fields]\\n         :                             +- Project [user_id#2496, action_day#2495, send#2497L, total_open#2498L, unique_open#2499L, total_clicks#2500L, unique_clicks#2501L, reg_date#1, validated_account#263, considered_date#204, sub_state#273, sub_date#226, log_date#6, login_state#284, soft_login_state#296, visits_60d#2200L, hasVisit_60d#2211, subVal_hasVisit_60d#2223, ssa_date#2236, event_name#2241, listing_view#2238, any_ssa#2239, date_difference_reg#2624, date_difference_sub#2648, datediff(considered_date#204, ssa_date#2236) AS date_difference_ssa#2673]\\n         :                                +- Project [user_id#2496, action_day#2495, send#2497L, total_open#2498L, unique_open#2499L, total_clicks#2500L, unique_clicks#2501L, reg_date#1, validated_account#263, considered_date#204, sub_state#273, sub_date#226, log_date#6, login_state#284, soft_login_state#296, visits_60d#2200L, hasVisit_60d#2211, subVal_hasVisit_60d#2223, ssa_date#2236, event_name#2241, listing_view#2238, any_ssa#2239, date_difference_reg#2624, datediff(considered_date#204, sub_date#226) AS date_difference_sub#2648]\\n         :                                   +- Project [user_id#2496, action_day#2495, send#2497L, total_open#2498L, unique_open#2499L, total_clicks#2500L, unique_clicks#2501L, reg_date#1, validated_account#263, considered_date#204, sub_state#273, sub_date#226, log_date#6, login_state#284, soft_login_state#296, visits_60d#2200L, hasVisit_60d#2211, subVal_hasVisit_60d#2223, ssa_date#2236, event_name#2241, listing_view#2238, any_ssa#2239, datediff(considered_date#204, reg_date#1) AS date_difference_reg#2624]\\n         :                                      +- Project [user_id#2496, action_day#2495, send#2497L, total_open#2498L, unique_open#2499L, total_clicks#2500L, unique_clicks#2501L, reg_date#1, validated_account#263, considered_date#204, sub_state#273, sub_date#226, log_date#6, login_state#284, soft_login_state#296, visits_60d#2200L, hasVisit_60d#2211, subVal_hasVisit_60d#2223, ssa_date#2236, event_name#2241, listing_view#2238, any_ssa#2239]\\n         :                                         +- Join LeftOuter, (user_id#2496 = user_id#2237)\\n         :                                            :- Project [user_id#2496, action_day#2495, send#2497L, total_open#2498L, unique_open#2499L, total_clicks#2500L, unique_clicks#2501L, reg_date#1, validated_account#263, considered_date#204, sub_state#273, sub_date#226, log_date#6, login_state#284, soft_login_state#296, visits_60d#2200L, hasVisit_60d#2211, subVal_hasVisit_60d#2223]\\n         :                                            :  +- Join LeftOuter, (cast(user_id#2496 as int) = user_id#0)\\n         :                                            :     :- Union\\n         :                                            :     :  :- Project [action_day#2495, user_id#2496, send#2497L, total_open#2498L, unique_open#2499L, total_clicks#2500L, unique_clicks#2501L]\\n         :                                            :     :  :  +- Aggregate [to_date(concat_ws(-, cast(year#2523 as string), cast(month#2524 as string), cast(day#2525 as string)), None), user_login_id#2505], [to_date(concat_ws(-, cast(year#2523 as string), cast(month#2524 as string), cast(day#2525 as string)), None) AS action_day#2495, user_login_id#2505 AS user_id#2496, FLOOR(sum(cast(sent#2511 as double))) AS send#2497L, FLOOR(sum(cast(opened#2514 as double))) AS total_open#2498L, count(distinct CASE WHEN (cast(opened#2514 as int) > 0) THEN ditem_id#2521 END) AS unique_open#2499L, FLOOR(sum(cast(clicked#2515 as double))) AS total_clicks#2500L, count(distinct CASE WHEN (cast(clicked#2515 as int) > 0) THEN ditem_id#2521 END) AS unique_clicks#2501L]\\n         :                                            :     :  :     +- SubqueryAlias `fe`\\n         :                                            :     :  :        +- SubqueryAlias `live_raw_selligent_de_stepstone`.`flags_enriched`\\n         :                                            :     :  :           +- HiveTableRelation `live_raw_selligent_de_stepstone`.`flags_enriched`, org.apache.hadoop.hive.serde2.lazy.LazySimpleSerDe, [brand#2502, country#2503, campaign_type#2504, user_login_id#2505, date_of_action_creation#2506, delivery_date#2507, campaign_id#2508, action_id#2509, probe_id#2510, sent#2511, delivered#2512, probe_id_description#2513, opened#2514, clicked#2515, unsubscribed#2516, clicks_apply#2517, clicks_inside_content#2518, state#2519, description_of_state#2520, ditem_id#2521, ja_id#2522], [year#2523, month#2524, day#2525]\\n         :                                            :     :  +- Project [action_day#2538, cast(user_id#2539 as string) AS user_id#2573, cast(send#2540 as bigint) AS send#2574L, cast(total_open#2541 as bigint) AS total_open#2575L, cast(unique_open#2542 as bigint) AS unique_open#2576L, total_clicks#2543L, unique_clicks#2544L]\\n         :                                            :     :     +- Aggregate [to_date(concat_ws(-, cast(year#2554 as string), cast(month#2555 as string), cast(day#2556 as string)), None), userlogin_id#2558], [to_date(concat_ws(-, cast(year#2554 as string), cast(month#2555 as string), cast(day#2556 as string)), None) AS action_day#2538, userlogin_id#2558 AS user_id#2539, 0 AS send#2540, 0 AS total_open#2541, 0 AS unique_open#2542, count(1) AS total_clicks#2543L, count(distinct jaid#2549) AS unique_clicks#2544L]\\n         :                                            :     :        +- Join RightOuter, (jaid#2549 = jobuser_id#2559)\\n         :                                            :     :           :- SubqueryAlias `A`\\n         :                                            :     :           :  +- SubqueryAlias `stepstonede`.`jaclickofferid`\\n         :                                            :     :           :     +- Relation[guid#2546,channel#2547,offerid#2548,jaid#2549,nctid#2550,lang#2551,hostname#2552,datetime#2553,year#2554,month#2555,day#2556] parquet\\n         :                                            :     :           +- SubqueryAlias `B`\\n         :                                            :     :              +- SubqueryAlias `stepstonede`.`userlogin_jobuser`\\n         :                                            :     :                 +- Relation[id#2557,userlogin_id#2558,jobuser_id#2559,type#2560,item_name#2561,pbid#2562,exctpe#2563,is_automatic_name#2564] parquet\\n         :                                            :     +- Project [user_id#0, reg_date#1, validated_account#263, considered_date#204, sub_state#273, sub_date#226, log_date#6, login_state#284, soft_login_state#296, visits_60d#2200L, hasVisit_60d#2211, CASE WHEN (((visits_60d#2200L >= cast(1 as bigint)) && (validated_account#263 > 0)) && (sub_state#273 > 0)) THEN 1 ELSE 0 END AS subVal_hasVisit_60d#2223]\\n         :                                            :        +- Project [user_id#0, reg_date#1, validated_account#263, considered_date#204, sub_state#273, sub_date#226, log_date#6, login_state#284, soft_login_state#296, visits_60d#2200L, CASE WHEN (visits_60d#2200L >= cast(1 as bigint)) THEN 1 ELSE 0 END AS hasVisit_60d#2211]\\n         :                                            :           +- Aggregate [user_id#0, reg_date#1, validated_account#263, considered_date#204, sub_state#273, sub_date#226, log_date#6, login_state#284, soft_login_state#296], [user_id#0, reg_date#1, validated_account#263, considered_date#204, sub_state#273, sub_date#226, log_date#6, login_state#284, soft_login_state#296, sum(cast(CASE WHEN ((date_difference#2176 <= 60) && (date_difference#2176 >= 1)) THEN 1 ELSE 0 END as bigint)) AS visits_60d#2200L]\\n         :                                            :              +- Project [user_id#0, reg_date#1, validated_account#263, considered_date#204, sub_state#273, visit_date#318, sub_date#226, log_date#6, login_state#284, soft_login_state#296, datediff(considered_date#204, visit_date#318) AS date_difference#2176]\\n         :                                            :                 +- Project [user_id#0, reg_date#1, validated_account#263, considered_date#204, sub_state#273, visit_date#318, sub_date#226, log_date#6, login_state#284, soft_login_state#296]\\n         :                                            :                    +- Project [user_id#0, reg_date#1, validated_account#263, sub_state#273, considered_date#204, sub_date#226, log_date#6, login_state#284, soft_login_state#296, visit_date#318]\\n         :                                            :                       +- Join LeftOuter, (user_id#0 = cast(user_id#2153 as int))\\n         :                                            :                          :- Project [user_id#0, reg_date#1, validated_account#263, sub_state#273, considered_date#204, sub_date#226, log_date#6, login_state#284, soft_login_state#296]\\n         :                                            :                          :  +- Project [user_id#0, reg_date#1, AccountValidation#3, last_login#5, last_softlog#4, log_date#6, considered_date#204, sub_date#226, validated_account#263, sub_state#273, login_state#284, CASE WHEN (last_softlog#4 <= considered_date#204) THEN 1 ELSE 0 END AS soft_login_state#296]\\n         :                                            :                          :     +- Project [user_id#0, reg_date#1, AccountValidation#3, last_login#5, last_softlog#4, log_date#6, considered_date#204, sub_date#226, validated_account#263, sub_state#273, CASE WHEN (last_login#5 <= considered_date#204) THEN 1 ELSE 0 END AS login_state#284]\\n         :                                            :                          :        +- Project [user_id#0, reg_date#1, AccountValidation#3, last_login#5, last_softlog#4, log_date#6, considered_date#204, sub_date#226, validated_account#263, CASE WHEN (sub_date#226 <= considered_date#204) THEN 1 ELSE 0 END AS sub_state#273]\\n         :                                            :                          :           +- Project [user_id#0, reg_date#1, AccountValidation#3, last_login#5, last_softlog#4, log_date#6, considered_date#204, sub_date#226, CASE WHEN (AccountValidation#3 = true) THEN 1 ELSE 0 END AS validated_account#263]\\n         :                                            :                          :              +- Project [user_id#0, reg_date#1, AccountValidation#3, last_login#5, last_softlog#4, log_date#6, considered_date#204, sub_date#226]\\n         :                                            :                          :                 +- Join LeftAnti, (user_id#0 = user_id#247)\\n         :                                            :                          :                    :- Project [user_id#0, reg_date#1, AccountValidation#3, last_login#5, last_softlog#4, log_date#6, considered_date#204, sub_date#226]\\n         :                                            :                          :                    :  +- Join LeftOuter, (user_id#0 = user_id#229)\\n         :                                            :                          :                    :     :- Project [user_id#0, reg_date#1, AccountValidation#3, last_login#5, last_softlog#4, log_date#6, to_date(18421, None) AS considered_date#204]\\n         :                                            :                          :                    :     :  +- Deduplicate [reg_date#1, last_softlog#4, user_id#0, AccountValidation#3, log_date#6, last_login#5]\\n         :                                            :                          :                    :     :     +- Project [user_id#0, reg_date#1, AccountValidation#3, last_login#5, last_softlog#4, log_date#6]\\n         :                                            :                          :                    :     :        +- Sort [reg_date#1 ASC NULLS FIRST, log_date#6 ASC NULLS FIRST], true\\n         :                                            :                          :                    :     :           +- Aggregate [id#8, to_date(dcreated#21, None), passwordset#47, subscriptionid#65, to_date(subscriptiondate#68, None), isactive#67, active#36, manualunsubscribe#73, to_date(datelastsoftlogin#50, None), to_date(dlastlogin#22, None), to_date(logdatetime#79, None), logaction#78], [id#8 AS user_id#0, to_date(dcreated#21, None) AS reg_date#1, passwordset#47, subscriptionid#65, to_date(subscriptiondate#68, None) AS sub_date#2, isactive#67, active#36 AS AccountValidation#3, manualunsubscribe#73, to_date(datelastsoftlogin#50, None) AS last_softlog#4, to_date(dlastlogin#22, None) AS last_login#5, to_date(logdatetime#79, None) AS log_date#6, logaction#78, count(logdatetime#79) AS n_events#7L]\\n         :                                            :                          :                    :     :              +- Filter (cast(dcreated#21 as string) >= 2018-01-01)\\n         :                                            :                          :                    :     :                 +- Join LeftOuter, ((id#8 = userloginid#76) && NOT logaction#78 IN (IJM, autodeactivate,IJM, autoactivate))\\n         :                                            :                          :                    :     :                    :- Join LeftOuter, (id#8 = userlogin_id#66)\\n         :                                            :                          :                    :     :                    :  :- SubqueryAlias `UID`\\n         :                                            :                          :                    :     :                    :  :  +- SubqueryAlias `stepstonede`.`userlogin`\\n         :                                            :                          :                    :     :                    :  :     +- Relation[id#8,login#9,pwd#10,lang#11,email#12,emailtype#13,firstname#14,lastname#15,gender#16,ddateofbirth#17,postalcode#18,locked#19,online#20,dcreated#21,dlastlogin#22,secret_question#23,secret_answer#24,mailbox_id#25,nationality#26,streetname#27,streetnumber#28,city#29,country#30,telephone#31,... 33 more fields] parquet\\n         :                                            :                          :                    :     :                    :  +- SubqueryAlias `SUB`\\n         :                                            :                          :                    :     :                    :     +- SubqueryAlias `stepstonede`.`subscription`\\n         :                                            :                          :                    :     :                    :        +- Relation[subscriptionid#65,userlogin_id#66,isactive#67,subscriptiondate#68,dailysentcounter#69,frequency#70,preferredlanguage#71,acceptablelanguages#72,manualunsubscribe#73,testandvariant#74] parquet\\n         :                                            :                          :                    :     :                    +- SubqueryAlias `LOG`\\n         :                                            :                          :                    :     :                       +- SubqueryAlias `stepstonede`.`logmystst`\\n         :                                            :                          :                    :     :                          +- Relation[id#75,userloginid#76,jobuserid#77,logaction#78,logdatetime#79,emailold#80,emailnew#81,ipaddress#82,comment#83,channel#84,doneby#85,ref_userdomain_id#86,year#87,month#88,day#89] parquet\\n         :                                            :                          :                    :     +- Aggregate [user_id#229], [user_id#229, min(log_date#235) AS sub_date#226]\\n         :                                            :                          :                    :        +- Filter logaction#78 IN (IJM, subscription)\\n         :                                            :                          :                    :           +- Sort [reg_date#230 ASC NULLS FIRST, log_date#235 ASC NULLS FIRST], true\\n         :                                            :                          :                    :              +- Aggregate [id#8, to_date(dcreated#21, None), passwordset#47, subscriptionid#65, to_date(subscriptiondate#68, None), isactive#67, active#36, manualunsubscribe#73, to_date(datelastsoftlogin#50, None), to_date(dlastlogin#22, None), to_date(logdatetime#79, None), logaction#78], [id#8 AS user_id#229, to_date(dcreated#21, None) AS reg_date#230, passwordset#47, subscriptionid#65, to_date(subscriptiondate#68, None) AS sub_date#231, isactive#67, active#36 AS AccountValidation#232, manualunsubscribe#73, to_date(datelastsoftlogin#50, None) AS last_softlog#233, to_date(dlastlogin#22, None) AS last_login#234, to_date(logdatetime#79, None) AS log_date#235, logaction#78, count(logdatetime#79) AS n_events#236L]\\n         :                                            :                          :                    :                 +- Filter (cast(dcreated#21 as string) >= 2018-01-01)\\n         :                                            :                          :                    :                    +- Join LeftOuter, ((id#8 = userloginid#76) && NOT logaction#78 IN (IJM, autodeactivate,IJM, autoactivate))\\n         :                                            :                          :                    :                       :- Join LeftOuter, (id#8 = userlogin_id#66)\\n         :                                            :                          :                    :                       :  :- SubqueryAlias `UID`\\n         :                                            :                          :                    :                       :  :  +- SubqueryAlias `stepstonede`.`userlogin`\\n         :                                            :                          :                    :                       :  :     +- Relation[id#8,login#9,pwd#10,lang#11,email#12,emailtype#13,firstname#14,lastname#15,gender#16,ddateofbirth#17,postalcode#18,locked#19,online#20,dcreated#21,dlastlogin#22,secret_question#23,secret_answer#24,mailbox_id#25,nationality#26,streetname#27,streetnumber#28,city#29,country#30,telephone#31,... 33 more fields] parquet\\n         :                                            :                          :                    :                       :  +- SubqueryAlias `SUB`\\n         :                                            :                          :                    :                       :     +- SubqueryAlias `stepstonede`.`subscription`\\n         :                                            :                          :                    :                       :        +- Relation[subscriptionid#65,userlogin_id#66,isactive#67,subscriptiondate#68,dailysentcounter#69,frequency#70,preferredlanguage#71,acceptablelanguages#72,manualunsubscribe#73,testandvariant#74] parquet\\n         :                                            :                          :                    :                       +- SubqueryAlias `LOG`\\n         :                                            :                          :                    :                          +- SubqueryAlias `stepstonede`.`logmystst`\\n         :                                            :                          :                    :                             +- Relation[id#75,userloginid#76,jobuserid#77,logaction#78,logdatetime#79,emailold#80,emailnew#81,ipaddress#82,comment#83,channel#84,doneby#85,ref_userdomain_id#86,year#87,month#88,day#89] parquet\\n         :                                            :                          :                    +- Deduplicate [user_id#247, manualunsubscribe#73]\\n         :                                            :                          :                       +- Project [user_id#247, manualunsubscribe#73]\\n         :                                            :                          :                          +- Filter (manualunsubscribe#73 = true)\\n         :                                            :                          :                             +- Sort [reg_date#248 ASC NULLS FIRST, log_date#253 ASC NULLS FIRST], true\\n         :                                            :                          :                                +- Aggregate [id#8, to_date(dcreated#21, None), passwordset#47, subscriptionid#65, to_date(subscriptiondate#68, None), isactive#67, active#36, manualunsubscribe#73, to_date(datelastsoftlogin#50, None), to_date(dlastlogin#22, None), to_date(logdatetime#79, None), logaction#78], [id#8 AS user_id#247, to_date(dcreated#21, None) AS reg_date#248, passwordset#47, subscriptionid#65, to_date(subscriptiondate#68, None) AS sub_date#249, isactive#67, active#36 AS AccountValidation#250, manualunsubscribe#73, to_date(datelastsoftlogin#50, None) AS last_softlog#251, to_date(dlastlogin#22, None) AS last_login#252, to_date(logdatetime#79, None) AS log_date#253, logaction#78, count(logdatetime#79) AS n_events#254L]\\n         :                                            :                          :                                   +- Filter (cast(dcreated#21 as string) >= 2018-01-01)\\n         :                                            :                          :                                      +- Join LeftOuter, ((id#8 = userloginid#76) && NOT logaction#78 IN (IJM, autodeactivate,IJM, autoactivate))\\n         :                                            :                          :                                         :- Join LeftOuter, (id#8 = userlogin_id#66)\\n         :                                            :                          :                                         :  :- SubqueryAlias `UID`\\n         :                                            :                          :                                         :  :  +- SubqueryAlias `stepstonede`.`userlogin`\\n         :                                            :                          :                                         :  :     +- Relation[id#8,login#9,pwd#10,lang#11,email#12,emailtype#13,firstname#14,lastname#15,gender#16,ddateofbirth#17,postalcode#18,locked#19,online#20,dcreated#21,dlastlogin#22,secret_question#23,secret_answer#24,mailbox_id#25,nationality#26,streetname#27,streetnumber#28,city#29,country#30,telephone#31,... 33 more fields] parquet\\n         :                                            :                          :                                         :  +- SubqueryAlias `SUB`\\n         :                                            :                          :                                         :     +- SubqueryAlias `stepstonede`.`subscription`\\n         :                                            :                          :                                         :        +- Relation[subscriptionid#65,userlogin_id#66,isactive#67,subscriptiondate#68,dailysentcounter#69,frequency#70,preferredlanguage#71,acceptablelanguages#72,manualunsubscribe#73,testandvariant#74] parquet\\n         :                                            :                          :                                         +- SubqueryAlias `LOG`\\n         :                                            :                          :                                            +- SubqueryAlias `stepstonede`.`logmystst`\\n         :                                            :                          :                                               +- Relation[id#75,userloginid#76,jobuserid#77,logaction#78,logdatetime#79,emailold#80,emailnew#81,ipaddress#82,comment#83,channel#84,doneby#85,ref_userdomain_id#86,year#87,month#88,day#89] parquet\\n         :                                            :                          +- Project [new_user_id_1#2146 AS user_id#2153, visit_date#318]\\n         :                                            :                             +- Filter isnotnull(new_user_id_1#2146)\\n         :                                            :                                +- Project [user_id#413, userlogin_id#2097, user_id_hash#2119, visit_date#318, new_user_id#2140, CASE WHEN isnotnull(new_user_id#2140) THEN new_user_id#2140 ELSE CASE WHEN isnotnull(user_id_hash#2119) THEN user_id_hash#2119 END END AS new_user_id_1#2146]\\n         :                                            :                                   +- Project [user_id#413, userlogin_id#2097, user_id_hash#2119, visit_date#318, CASE WHEN isnotnull(user_id#413) THEN user_id#413 ELSE cast(CASE WHEN isnotnull(userlogin_id#2097) THEN userlogin_id#2097 END as string) END AS new_user_id#2140]\\n         :                                            :                                      +- Project [user_id#413, userlogin_id#2097, user_id_hash#2119, visit_date#318]\\n         :                                            :                                         +- Project [user_hash#414, job_agent_id#366, user_id#413, visit_date#318, userlogin_id#2097, user_id_hash#2119]\\n         :                                            :                                            +- Join LeftOuter, (user_hash#414 = user_hash#2127)\\n         :                                            :                                               :- Project [job_agent_id#366, user_id#413, user_hash#414, visit_date#318, userlogin_id#2097]\\n         :                                            :                                               :  +- Join LeftOuter, (job_agent_id#366 = job_agent_id#2095)\\n         :                                            :                                               :     :- Union\\n         :                                            :                                               :     :  :- Union\\n         :                                            :                                               :     :  :  :- Distinct\\n         :                                            :                                               :     :  :  :  +- Project [user_id#413, user_hash#414, job_agent_id#366, to_date(visit_start_time_gmt#562, None) AS visit_date#318]\\n         :                                            :                                               :     :  :  :     +- Filter ((cast(exclude_hit#330 as int) <= 0) && (year#633 = 2020))\\n         :                                            :                                               :     :  :  :        +- SubqueryAlias `presentation`.`hits_de`\\n         :                                            :                                               :     :  :  :           +- Relation[browser_id#321L,browser_name#322,code_ver#323,connection_type#324,country#325,daily_visitor#326,date_time#327,domain#328,bot#329,exclude_hit#330,first_hit_page_url#331,first_hit_pagename#332,first_hit_referrer#333,first_hit_date#334,geo_city#335,geo_country#336,geo_region#337,hit_time_gmt#338,hitid_high#339L,hitid_low#340L,homepage#341,hourly_visitor#342,language_id#343,language#344,... 291 more fields] parquet\\n         :                                            :                                               :     :  :  +- Distinct\\n         :                                            :                                               :     :  :     +- Project [user_id#728, user_hash#729, job_agent_id#681, to_date(visit_start_time_gmt#877, None) AS visit_date#319]\\n         :                                            :                                               :     :  :        +- Filter ((job_site#889 LIKE %-de && (cast(exclude_hit#645 as int) <= 0)) && (year#918 = 2020))\\n         :                                            :                                               :     :  :           +- SubqueryAlias `AA`\\n         :                                            :                                               :     :  :              +- SubqueryAlias `presentation`.`hits_android_global`\\n         :                                            :                                               :     :  :                 +- Relation[browser_id#636L,browser_name#637,code_ver#638,connection_type#639,country#640,daily_visitor#641,date_time#642,domain#643,bot#644,exclude_hit#645,first_hit_page_url#646,first_hit_pagename#647,first_hit_referrer#648,first_hit_date#649,geo_city#650,geo_country#651,geo_region#652,hit_time_gmt#653,hitid_high#654L,hitid_low#655L,homepage#656,hourly_visitor#657,language_id#658,language#659,... 261 more fields] parquet\\n         :                                            :                                               :     :  +- Distinct\\n         :                                            :                                               :     :     +- Project [user_id#1013, user_hash#1014, job_agent_id#966, to_date(visit_start_time_gmt#1162, None) AS visit_date#320]\\n         :                                            :                                               :     :        +- Filter ((job_site#1174 LIKE %-de && (cast(exclude_hit#930 as int) <= 0)) && (year#1203 = 2020))\\n         :                                            :                                               :     :           +- SubqueryAlias `AA`\\n         :                                            :                                               :     :              +- SubqueryAlias `presentation`.`hits_iphoneapp_global`\\n         :                                            :                                               :     :                 +- Relation[browser_id#921L,browser_name#922,code_ver#923,connection_type#924,country#925,daily_visitor#926,date_time#927,domain#928,bot#929,exclude_hit#930,first_hit_page_url#931,first_hit_pagename#932,first_hit_referrer#933,first_hit_date#934,geo_city#935,geo_country#936,geo_region#937,hit_time_gmt#938,hitid_high#939L,hitid_low#940L,homepage#941,hourly_visitor#942,language_id#943,language#944,... 261 more fields] parquet\\n         :                                            :                                               :     +- Distinct\\n         :                                            :                                               :        +- Project [userlogin_id#2097, jobuser_id#2098 AS job_agent_id#2095]\\n         :                                            :                                               :           +- SubqueryAlias `stepstonede`.`userlogin_jobuser`\\n         :                                            :                                               :              +- Relation[id#2096,userlogin_id#2097,jobuser_id#2098,type#2099,item_name#2100,pbid#2101,exctpe#2102,is_automatic_name#2103] parquet\\n         :                                            :                                               +- Project [user_hash#2127, user_id#2126 AS user_id_hash#2119]\\n         :                                            :                                                  +- Join RightOuter, ((user_hash#2127 = user_hash#2122) && (n_UID#2120L = cast(1 as bigint)))\\n         :                                            :                                                     :- SubqueryAlias `A`\\n         :                                            :                                                     :  +- SubqueryAlias `presentation`.`adobe_user_id_hash_de`\\n         :                                            :                                                     :     +- Relation[user_id#2126,user_hash#2127] parquet\\n         :                                            :                                                     +- SubqueryAlias `B`\\n         :                                            :                                                        +- SubqueryAlias `hash_count`\\n         :                                            :                                                           +- Aggregate [user_hash#2122], [user_hash#2122, count(distinct user_id#2121) AS n_UID#2120L]\\n         :                                            :                                                              +- SubqueryAlias `presentation`.`adobe_user_id_hash_de`\\n         :                                            :                                                                 +- Relation[user_id#2121,user_hash#2122] parquet\\n         :                                            +- Distinct\\n         :                                               +- Project [to_date(log_date#2242, None) AS ssa_date#2236, event_name#2241, tracking_my_stepstone_id#2293 AS user_id#2237, CASE WHEN (event_name#2241 = ListingView) THEN 1 ELSE 0 END AS listing_view#2238, 1 AS any_ssa#2239]\\n         :                                                  +- Filter (((year#2312 >= 2020) && (month#2313 >= 3)) && ((country#2311 = DE) && event_name#2241 IN (ListingView,Search)))\\n         :                                                     +- SubqueryAlias `presentation`.`ssa_fact`\\n         :                                                        +- Relation[session_id#2240,event_name#2241,log_date#2242,log_date_epoch#2243L,raw_json_content#2244,added_widgets#2245,algorithm#2246,analysed_query_type#2247,bot#2248,browse_city_id#2249,browse_company_id#2250,browse_function#2251,browse_region_id#2252,browse_url#2253,categories#2254,cid#2255,company_id#2256,distil#2257,fuzzy_behaviour#2258,geo_city_id#2259,geo_widget_id#2260,highlighted_listing_ids#2261,is_highlighted#2262,jobagent_id#2263,... 51 more fields] parquet\\n         +- Project [userlogin_id#2966 AS user_id#2964, subscriptiondate#2968, isactive#2967, manualunsubscribe#2973]\\n            +- Filter ((isactive#2967 && (isnull(manualunsubscribe#2973) || NOT manualunsubscribe#2973)) && (cast(subscriptiondate#2968 as string) >= 2018-01-01))\\n               +- SubqueryAlias `stepstonede`.`subscription`\\n                  +- Relation[subscriptionid#2965,userlogin_id#2966,isactive#2967,subscriptiondate#2968,dailysentcounter#2969,frequency#2970,preferredlanguage#2971,acceptablelanguages#2972,manualunsubscribe#2973,testandvariant#2974] parquet\\n\"\n",
      "Traceback (most recent call last):\n",
      "  File \"/mnt/yarn/usercache/assumed-role_assume_role_DC_AWS_GC_DW_DATA_SCIENCE_BASIC_Parastoo_Ghalamchi_stepstone_com/appcache/application_1590480489834_0096/container_e03_1590480489834_0096_01_000002/pyspark.zip/pyspark/sql/group.py\", line 115, in agg\n",
      "    _to_seq(self.sql_ctx._sc, [c._jc for c in exprs[1:]]))\n",
      "  File \"/mnt/yarn/usercache/assumed-role_assume_role_DC_AWS_GC_DW_DATA_SCIENCE_BASIC_Parastoo_Ghalamchi_stepstone_com/appcache/application_1590480489834_0096/container_e03_1590480489834_0096_01_000002/py4j-0.10.7-src.zip/py4j/java_gateway.py\", line 1257, in __call__\n",
      "    answer, self.gateway_client, self.target_id, self.name)\n",
      "  File \"/mnt/yarn/usercache/assumed-role_assume_role_DC_AWS_GC_DW_DATA_SCIENCE_BASIC_Parastoo_Ghalamchi_stepstone_com/appcache/application_1590480489834_0096/container_e03_1590480489834_0096_01_000002/pyspark.zip/pyspark/sql/utils.py\", line 69, in deco\n",
      "    raise AnalysisException(s.split(': ', 1)[1], stackTrace)\n",
      "pyspark.sql.utils.AnalysisException: \"cannot resolve '`send`' given input columns: [subVal_hasAnyLogin_SoftLogin_reg_60d, soft_login, reg_date, open, stepstonede.subscription.subscriptiondate, subVal_hasAnySSA_reg_60d, user_id, considered_date, login_state, registration, Rule2_subVal_hasAnyOpenClick_ssa_reg_60d, hasVisit_60d, log_date, stepstonede.subscription.manualunsubscribe, sub_state, soft_login_state, action_day, Rule1_subVal_hasAnyOpenClick_reg_60d, SSA_any_60d, subVal_hasVisit_60d, subVal_hasAnyLogin_reg_60d, click, login, validated_account, Rule3_subVal_hasAnyOpenClick_ssa_login_reg_60d, stepstonede.subscription.isactive, subVal_hasAnySoftLogin_reg_60d];;\\n'Aggregate [isactive#2967], [isactive#2967, sum(count(distinct 'send)) AS total_send_perUser#3511, sum(count(distinct 'total_open)) AS total_open_perUser#3514, sum(count(distinct 'total_clicks)) AS total_click_perUser#3517, sum(count(distinct registration#2792L)) AS total_registration_perUser#3520L, sum(count(distinct login#2784L)) AS total_Login_perUser#3523L, sum(count(distinct soft_login#2786L)) AS total_SoftLogin_perUser#3526L, sum(count(distinct SSA_any_60d#2782L)) AS total_ssa_perUser#3529L]\\n+- Filter (isactive#2967 && (Rule3_subVal_hasAnyOpenClick_ssa_login_reg_60d#2939 = 0))\\n   +- Project [user_id#2496, action_day#2495, reg_date#1, validated_account#263, considered_date#204, sub_state#273, log_date#6, login_state#284, soft_login_state#296, hasVisit_60d#2211, subVal_hasVisit_60d#2223, SSA_any_60d#2782L, login#2784L, soft_login#2786L, open#2788L, click#2790L, registration#2792L, subVal_hasAnySSA_reg_60d#2810, subVal_hasAnyLogin_reg_60d#2829, subVal_hasAnySoftLogin_reg_60d#2849, subVal_hasAnyLogin_SoftLogin_reg_60d#2870, Rule1_subVal_hasAnyOpenClick_reg_60d#2892, Rule2_subVal_hasAnyOpenClick_ssa_reg_60d#2915, Rule3_subVal_hasAnyOpenClick_ssa_login_reg_60d#2939, ... 3 more fields]\\n      +- Join LeftOuter, (cast(user_id#2496 as int) = user_id#2964)\\n         :- Project [user_id#2496, action_day#2495, reg_date#1, validated_account#263, considered_date#204, sub_state#273, log_date#6, login_state#284, soft_login_state#296, hasVisit_60d#2211, subVal_hasVisit_60d#2223, SSA_any_60d#2782L, login#2784L, soft_login#2786L, open#2788L, click#2790L, registration#2792L, subVal_hasAnySSA_reg_60d#2810, subVal_hasAnyLogin_reg_60d#2829, subVal_hasAnySoftLogin_reg_60d#2849, subVal_hasAnyLogin_SoftLogin_reg_60d#2870, Rule1_subVal_hasAnyOpenClick_reg_60d#2892, Rule2_subVal_hasAnyOpenClick_ssa_reg_60d#2915, CASE WHEN ((((((((open#2788L >= cast(1 as bigint)) || (click#2790L >= cast(1 as bigint))) || (SSA_any_60d#2782L >= cast(1 as bigint))) || (login#2784L >= cast(1 as bigint))) || (soft_login#2786L >= cast(1 as bigint))) || (registration#2792L >= cast(1 as bigint))) && (validated_account#263 > 0)) && (sub_state#273 > 0)) THEN 1 ELSE 0 END AS Rule3_subVal_hasAnyOpenClick_ssa_login_reg_60d#2939]\\n         :  +- Project [user_id#2496, action_day#2495, reg_date#1, validated_account#263, considered_date#204, sub_state#273, log_date#6, login_state#284, soft_login_state#296, hasVisit_60d#2211, subVal_hasVisit_60d#2223, SSA_any_60d#2782L, login#2784L, soft_login#2786L, open#2788L, click#2790L, registration#2792L, subVal_hasAnySSA_reg_60d#2810, subVal_hasAnyLogin_reg_60d#2829, subVal_hasAnySoftLogin_reg_60d#2849, subVal_hasAnyLogin_SoftLogin_reg_60d#2870, Rule1_subVal_hasAnyOpenClick_reg_60d#2892, CASE WHEN ((((((open#2788L >= cast(1 as bigint)) || (click#2790L >= cast(1 as bigint))) || (SSA_any_60d#2782L >= cast(1 as bigint))) || (registration#2792L >= cast(1 as bigint))) && (validated_account#263 > 0)) && (sub_state#273 > 0)) THEN 1 ELSE 0 END AS Rule2_subVal_hasAnyOpenClick_ssa_reg_60d#2915]\\n         :     +- Project [user_id#2496, action_day#2495, reg_date#1, validated_account#263, considered_date#204, sub_state#273, log_date#6, login_state#284, soft_login_state#296, hasVisit_60d#2211, subVal_hasVisit_60d#2223, SSA_any_60d#2782L, login#2784L, soft_login#2786L, open#2788L, click#2790L, registration#2792L, subVal_hasAnySSA_reg_60d#2810, subVal_hasAnyLogin_reg_60d#2829, subVal_hasAnySoftLogin_reg_60d#2849, subVal_hasAnyLogin_SoftLogin_reg_60d#2870, CASE WHEN (((((open#2788L >= cast(1 as bigint)) || (click#2790L >= cast(1 as bigint))) || (registration#2792L >= cast(1 as bigint))) && (validated_account#263 > 0)) && (sub_state#273 > 0)) THEN 1 ELSE 0 END AS Rule1_subVal_hasAnyOpenClick_reg_60d#2892]\\n         :        +- Project [user_id#2496, action_day#2495, reg_date#1, validated_account#263, considered_date#204, sub_state#273, log_date#6, login_state#284, soft_login_state#296, hasVisit_60d#2211, subVal_hasVisit_60d#2223, SSA_any_60d#2782L, login#2784L, soft_login#2786L, open#2788L, click#2790L, registration#2792L, subVal_hasAnySSA_reg_60d#2810, subVal_hasAnyLogin_reg_60d#2829, subVal_hasAnySoftLogin_reg_60d#2849, CASE WHEN (((((login#2784L >= cast(1 as bigint)) || (soft_login#2786L >= cast(1 as bigint))) || (registration#2792L >= cast(1 as bigint))) && (validated_account#263 > 0)) && (sub_state#273 > 0)) THEN 1 ELSE 0 END AS subVal_hasAnyLogin_SoftLogin_reg_60d#2870]\\n         :           +- Project [user_id#2496, action_day#2495, reg_date#1, validated_account#263, considered_date#204, sub_state#273, log_date#6, login_state#284, soft_login_state#296, hasVisit_60d#2211, subVal_hasVisit_60d#2223, SSA_any_60d#2782L, login#2784L, soft_login#2786L, open#2788L, click#2790L, registration#2792L, subVal_hasAnySSA_reg_60d#2810, subVal_hasAnyLogin_reg_60d#2829, CASE WHEN ((((soft_login_state#296 >= 1) || (registration#2792L >= cast(1 as bigint))) && (validated_account#263 > 0)) && (sub_state#273 > 0)) THEN 1 ELSE 0 END AS subVal_hasAnySoftLogin_reg_60d#2849]\\n         :              +- Project [user_id#2496, action_day#2495, reg_date#1, validated_account#263, considered_date#204, sub_state#273, log_date#6, login_state#284, soft_login_state#296, hasVisit_60d#2211, subVal_hasVisit_60d#2223, SSA_any_60d#2782L, login#2784L, soft_login#2786L, open#2788L, click#2790L, registration#2792L, subVal_hasAnySSA_reg_60d#2810, CASE WHEN ((((login_state#284 >= 1) || (registration#2792L >= cast(1 as bigint))) && (validated_account#263 > 0)) && (sub_state#273 > 0)) THEN 1 ELSE 0 END AS subVal_hasAnyLogin_reg_60d#2829]\\n         :                 +- Project [user_id#2496, action_day#2495, reg_date#1, validated_account#263, considered_date#204, sub_state#273, log_date#6, login_state#284, soft_login_state#296, hasVisit_60d#2211, subVal_hasVisit_60d#2223, SSA_any_60d#2782L, login#2784L, soft_login#2786L, open#2788L, click#2790L, registration#2792L, CASE WHEN ((((SSA_any_60d#2782L >= cast(1 as bigint)) || (registration#2792L >= cast(1 as bigint))) && (validated_account#263 > 0)) && (sub_state#273 > 0)) THEN 1 ELSE 0 END AS subVal_hasAnySSA_reg_60d#2810]\\n         :                    +- Aggregate [user_id#2496, action_day#2495, reg_date#1, validated_account#263, considered_date#204, sub_state#273, log_date#6, login_state#284, soft_login_state#296, hasVisit_60d#2211, subVal_hasVisit_60d#2223], [user_id#2496, action_day#2495, reg_date#1, validated_account#263, considered_date#204, sub_state#273, log_date#6, login_state#284, soft_login_state#296, hasVisit_60d#2211, subVal_hasVisit_60d#2223, sum(cast(CASE WHEN (((date_difference_ssa#2673 <= 60) && (date_difference_ssa#2673 >= 1)) && (any_ssa#2239 > 0)) THEN 1 ELSE 0 END as bigint)) AS SSA_any_60d#2782L, sum(cast(CASE WHEN (((date_difference_log#2699 <= 60) && (date_difference_log#2699 >= 1)) && (login_state#284 > 0)) THEN 1 ELSE 0 END as bigint)) AS login#2784L, sum(cast(CASE WHEN (((date_difference_log#2699 <= 60) && (date_difference_log#2699 >= 1)) && (soft_login_state#296 > 0)) THEN 1 ELSE 0 END as bigint)) AS soft_login#2786L, sum(cast(CASE WHEN (((date_difference_actionDay#2726 <= 60) && (date_difference_actionDay#2726 >= 1)) && (total_open#2498L > cast(0 as bigint))) THEN 1 ELSE 0 END as bigint)) AS open#2788L, sum(cast(CASE WHEN (((date_difference_actionDay#2726 <= 60) && (date_difference_actionDay#2726 >= 1)) && (total_clicks#2500L > cast(0 as bigint))) THEN 1 ELSE 0 END as bigint)) AS click#2790L, sum(cast(CASE WHEN ((date_difference_reg#2624 <= 60) && (date_difference_reg#2624 >= 1)) THEN 1 ELSE 0 END as bigint)) AS registration#2792L]\\n         :                       +- Project [user_id#2496, action_day#2495, send#2497L, total_open#2498L, unique_open#2499L, total_clicks#2500L, unique_clicks#2501L, reg_date#1, validated_account#263, considered_date#204, sub_state#273, sub_date#226, log_date#6, login_state#284, soft_login_state#296, visits_60d#2200L, hasVisit_60d#2211, subVal_hasVisit_60d#2223, ssa_date#2236, event_name#2241, listing_view#2238, any_ssa#2239, date_difference_reg#2624, date_difference_sub#2648, ... 3 more fields]\\n         :                          +- Project [user_id#2496, action_day#2495, send#2497L, total_open#2498L, unique_open#2499L, total_clicks#2500L, unique_clicks#2501L, reg_date#1, validated_account#263, considered_date#204, sub_state#273, sub_date#226, log_date#6, login_state#284, soft_login_state#296, visits_60d#2200L, hasVisit_60d#2211, subVal_hasVisit_60d#2223, ssa_date#2236, event_name#2241, listing_view#2238, any_ssa#2239, date_difference_reg#2624, date_difference_sub#2648, ... 2 more fields]\\n         :                             +- Project [user_id#2496, action_day#2495, send#2497L, total_open#2498L, unique_open#2499L, total_clicks#2500L, unique_clicks#2501L, reg_date#1, validated_account#263, considered_date#204, sub_state#273, sub_date#226, log_date#6, login_state#284, soft_login_state#296, visits_60d#2200L, hasVisit_60d#2211, subVal_hasVisit_60d#2223, ssa_date#2236, event_name#2241, listing_view#2238, any_ssa#2239, date_difference_reg#2624, date_difference_sub#2648, datediff(considered_date#204, ssa_date#2236) AS date_difference_ssa#2673]\\n         :                                +- Project [user_id#2496, action_day#2495, send#2497L, total_open#2498L, unique_open#2499L, total_clicks#2500L, unique_clicks#2501L, reg_date#1, validated_account#263, considered_date#204, sub_state#273, sub_date#226, log_date#6, login_state#284, soft_login_state#296, visits_60d#2200L, hasVisit_60d#2211, subVal_hasVisit_60d#2223, ssa_date#2236, event_name#2241, listing_view#2238, any_ssa#2239, date_difference_reg#2624, datediff(considered_date#204, sub_date#226) AS date_difference_sub#2648]\\n         :                                   +- Project [user_id#2496, action_day#2495, send#2497L, total_open#2498L, unique_open#2499L, total_clicks#2500L, unique_clicks#2501L, reg_date#1, validated_account#263, considered_date#204, sub_state#273, sub_date#226, log_date#6, login_state#284, soft_login_state#296, visits_60d#2200L, hasVisit_60d#2211, subVal_hasVisit_60d#2223, ssa_date#2236, event_name#2241, listing_view#2238, any_ssa#2239, datediff(considered_date#204, reg_date#1) AS date_difference_reg#2624]\\n         :                                      +- Project [user_id#2496, action_day#2495, send#2497L, total_open#2498L, unique_open#2499L, total_clicks#2500L, unique_clicks#2501L, reg_date#1, validated_account#263, considered_date#204, sub_state#273, sub_date#226, log_date#6, login_state#284, soft_login_state#296, visits_60d#2200L, hasVisit_60d#2211, subVal_hasVisit_60d#2223, ssa_date#2236, event_name#2241, listing_view#2238, any_ssa#2239]\\n         :                                         +- Join LeftOuter, (user_id#2496 = user_id#2237)\\n         :                                            :- Project [user_id#2496, action_day#2495, send#2497L, total_open#2498L, unique_open#2499L, total_clicks#2500L, unique_clicks#2501L, reg_date#1, validated_account#263, considered_date#204, sub_state#273, sub_date#226, log_date#6, login_state#284, soft_login_state#296, visits_60d#2200L, hasVisit_60d#2211, subVal_hasVisit_60d#2223]\\n         :                                            :  +- Join LeftOuter, (cast(user_id#2496 as int) = user_id#0)\\n         :                                            :     :- Union\\n         :                                            :     :  :- Project [action_day#2495, user_id#2496, send#2497L, total_open#2498L, unique_open#2499L, total_clicks#2500L, unique_clicks#2501L]\\n         :                                            :     :  :  +- Aggregate [to_date(concat_ws(-, cast(year#2523 as string), cast(month#2524 as string), cast(day#2525 as string)), None), user_login_id#2505], [to_date(concat_ws(-, cast(year#2523 as string), cast(month#2524 as string), cast(day#2525 as string)), None) AS action_day#2495, user_login_id#2505 AS user_id#2496, FLOOR(sum(cast(sent#2511 as double))) AS send#2497L, FLOOR(sum(cast(opened#2514 as double))) AS total_open#2498L, count(distinct CASE WHEN (cast(opened#2514 as int) > 0) THEN ditem_id#2521 END) AS unique_open#2499L, FLOOR(sum(cast(clicked#2515 as double))) AS total_clicks#2500L, count(distinct CASE WHEN (cast(clicked#2515 as int) > 0) THEN ditem_id#2521 END) AS unique_clicks#2501L]\\n         :                                            :     :  :     +- SubqueryAlias `fe`\\n         :                                            :     :  :        +- SubqueryAlias `live_raw_selligent_de_stepstone`.`flags_enriched`\\n         :                                            :     :  :           +- HiveTableRelation `live_raw_selligent_de_stepstone`.`flags_enriched`, org.apache.hadoop.hive.serde2.lazy.LazySimpleSerDe, [brand#2502, country#2503, campaign_type#2504, user_login_id#2505, date_of_action_creation#2506, delivery_date#2507, campaign_id#2508, action_id#2509, probe_id#2510, sent#2511, delivered#2512, probe_id_description#2513, opened#2514, clicked#2515, unsubscribed#2516, clicks_apply#2517, clicks_inside_content#2518, state#2519, description_of_state#2520, ditem_id#2521, ja_id#2522], [year#2523, month#2524, day#2525]\\n         :                                            :     :  +- Project [action_day#2538, cast(user_id#2539 as string) AS user_id#2573, cast(send#2540 as bigint) AS send#2574L, cast(total_open#2541 as bigint) AS total_open#2575L, cast(unique_open#2542 as bigint) AS unique_open#2576L, total_clicks#2543L, unique_clicks#2544L]\\n         :                                            :     :     +- Aggregate [to_date(concat_ws(-, cast(year#2554 as string), cast(month#2555 as string), cast(day#2556 as string)), None), userlogin_id#2558], [to_date(concat_ws(-, cast(year#2554 as string), cast(month#2555 as string), cast(day#2556 as string)), None) AS action_day#2538, userlogin_id#2558 AS user_id#2539, 0 AS send#2540, 0 AS total_open#2541, 0 AS unique_open#2542, count(1) AS total_clicks#2543L, count(distinct jaid#2549) AS unique_clicks#2544L]\\n         :                                            :     :        +- Join RightOuter, (jaid#2549 = jobuser_id#2559)\\n         :                                            :     :           :- SubqueryAlias `A`\\n         :                                            :     :           :  +- SubqueryAlias `stepstonede`.`jaclickofferid`\\n         :                                            :     :           :     +- Relation[guid#2546,channel#2547,offerid#2548,jaid#2549,nctid#2550,lang#2551,hostname#2552,datetime#2553,year#2554,month#2555,day#2556] parquet\\n         :                                            :     :           +- SubqueryAlias `B`\\n         :                                            :     :              +- SubqueryAlias `stepstonede`.`userlogin_jobuser`\\n         :                                            :     :                 +- Relation[id#2557,userlogin_id#2558,jobuser_id#2559,type#2560,item_name#2561,pbid#2562,exctpe#2563,is_automatic_name#2564] parquet\\n         :                                            :     +- Project [user_id#0, reg_date#1, validated_account#263, considered_date#204, sub_state#273, sub_date#226, log_date#6, login_state#284, soft_login_state#296, visits_60d#2200L, hasVisit_60d#2211, CASE WHEN (((visits_60d#2200L >= cast(1 as bigint)) && (validated_account#263 > 0)) && (sub_state#273 > 0)) THEN 1 ELSE 0 END AS subVal_hasVisit_60d#2223]\\n         :                                            :        +- Project [user_id#0, reg_date#1, validated_account#263, considered_date#204, sub_state#273, sub_date#226, log_date#6, login_state#284, soft_login_state#296, visits_60d#2200L, CASE WHEN (visits_60d#2200L >= cast(1 as bigint)) THEN 1 ELSE 0 END AS hasVisit_60d#2211]\\n         :                                            :           +- Aggregate [user_id#0, reg_date#1, validated_account#263, considered_date#204, sub_state#273, sub_date#226, log_date#6, login_state#284, soft_login_state#296], [user_id#0, reg_date#1, validated_account#263, considered_date#204, sub_state#273, sub_date#226, log_date#6, login_state#284, soft_login_state#296, sum(cast(CASE WHEN ((date_difference#2176 <= 60) && (date_difference#2176 >= 1)) THEN 1 ELSE 0 END as bigint)) AS visits_60d#2200L]\\n         :                                            :              +- Project [user_id#0, reg_date#1, validated_account#263, considered_date#204, sub_state#273, visit_date#318, sub_date#226, log_date#6, login_state#284, soft_login_state#296, datediff(considered_date#204, visit_date#318) AS date_difference#2176]\\n         :                                            :                 +- Project [user_id#0, reg_date#1, validated_account#263, considered_date#204, sub_state#273, visit_date#318, sub_date#226, log_date#6, login_state#284, soft_login_state#296]\\n         :                                            :                    +- Project [user_id#0, reg_date#1, validated_account#263, sub_state#273, considered_date#204, sub_date#226, log_date#6, login_state#284, soft_login_state#296, visit_date#318]\\n         :                                            :                       +- Join LeftOuter, (user_id#0 = cast(user_id#2153 as int))\\n         :                                            :                          :- Project [user_id#0, reg_date#1, validated_account#263, sub_state#273, considered_date#204, sub_date#226, log_date#6, login_state#284, soft_login_state#296]\\n         :                                            :                          :  +- Project [user_id#0, reg_date#1, AccountValidation#3, last_login#5, last_softlog#4, log_date#6, considered_date#204, sub_date#226, validated_account#263, sub_state#273, login_state#284, CASE WHEN (last_softlog#4 <= considered_date#204) THEN 1 ELSE 0 END AS soft_login_state#296]\\n         :                                            :                          :     +- Project [user_id#0, reg_date#1, AccountValidation#3, last_login#5, last_softlog#4, log_date#6, considered_date#204, sub_date#226, validated_account#263, sub_state#273, CASE WHEN (last_login#5 <= considered_date#204) THEN 1 ELSE 0 END AS login_state#284]\\n         :                                            :                          :        +- Project [user_id#0, reg_date#1, AccountValidation#3, last_login#5, last_softlog#4, log_date#6, considered_date#204, sub_date#226, validated_account#263, CASE WHEN (sub_date#226 <= considered_date#204) THEN 1 ELSE 0 END AS sub_state#273]\\n         :                                            :                          :           +- Project [user_id#0, reg_date#1, AccountValidation#3, last_login#5, last_softlog#4, log_date#6, considered_date#204, sub_date#226, CASE WHEN (AccountValidation#3 = true) THEN 1 ELSE 0 END AS validated_account#263]\\n         :                                            :                          :              +- Project [user_id#0, reg_date#1, AccountValidation#3, last_login#5, last_softlog#4, log_date#6, considered_date#204, sub_date#226]\\n         :                                            :                          :                 +- Join LeftAnti, (user_id#0 = user_id#247)\\n         :                                            :                          :                    :- Project [user_id#0, reg_date#1, AccountValidation#3, last_login#5, last_softlog#4, log_date#6, considered_date#204, sub_date#226]\\n         :                                            :                          :                    :  +- Join LeftOuter, (user_id#0 = user_id#229)\\n         :                                            :                          :                    :     :- Project [user_id#0, reg_date#1, AccountValidation#3, last_login#5, last_softlog#4, log_date#6, to_date(18421, None) AS considered_date#204]\\n         :                                            :                          :                    :     :  +- Deduplicate [reg_date#1, last_softlog#4, user_id#0, AccountValidation#3, log_date#6, last_login#5]\\n         :                                            :                          :                    :     :     +- Project [user_id#0, reg_date#1, AccountValidation#3, last_login#5, last_softlog#4, log_date#6]\\n         :                                            :                          :                    :     :        +- Sort [reg_date#1 ASC NULLS FIRST, log_date#6 ASC NULLS FIRST], true\\n         :                                            :                          :                    :     :           +- Aggregate [id#8, to_date(dcreated#21, None), passwordset#47, subscriptionid#65, to_date(subscriptiondate#68, None), isactive#67, active#36, manualunsubscribe#73, to_date(datelastsoftlogin#50, None), to_date(dlastlogin#22, None), to_date(logdatetime#79, None), logaction#78], [id#8 AS user_id#0, to_date(dcreated#21, None) AS reg_date#1, passwordset#47, subscriptionid#65, to_date(subscriptiondate#68, None) AS sub_date#2, isactive#67, active#36 AS AccountValidation#3, manualunsubscribe#73, to_date(datelastsoftlogin#50, None) AS last_softlog#4, to_date(dlastlogin#22, None) AS last_login#5, to_date(logdatetime#79, None) AS log_date#6, logaction#78, count(logdatetime#79) AS n_events#7L]\\n         :                                            :                          :                    :     :              +- Filter (cast(dcreated#21 as string) >= 2018-01-01)\\n         :                                            :                          :                    :     :                 +- Join LeftOuter, ((id#8 = userloginid#76) && NOT logaction#78 IN (IJM, autodeactivate,IJM, autoactivate))\\n         :                                            :                          :                    :     :                    :- Join LeftOuter, (id#8 = userlogin_id#66)\\n         :                                            :                          :                    :     :                    :  :- SubqueryAlias `UID`\\n         :                                            :                          :                    :     :                    :  :  +- SubqueryAlias `stepstonede`.`userlogin`\\n         :                                            :                          :                    :     :                    :  :     +- Relation[id#8,login#9,pwd#10,lang#11,email#12,emailtype#13,firstname#14,lastname#15,gender#16,ddateofbirth#17,postalcode#18,locked#19,online#20,dcreated#21,dlastlogin#22,secret_question#23,secret_answer#24,mailbox_id#25,nationality#26,streetname#27,streetnumber#28,city#29,country#30,telephone#31,... 33 more fields] parquet\\n         :                                            :                          :                    :     :                    :  +- SubqueryAlias `SUB`\\n         :                                            :                          :                    :     :                    :     +- SubqueryAlias `stepstonede`.`subscription`\\n         :                                            :                          :                    :     :                    :        +- Relation[subscriptionid#65,userlogin_id#66,isactive#67,subscriptiondate#68,dailysentcounter#69,frequency#70,preferredlanguage#71,acceptablelanguages#72,manualunsubscribe#73,testandvariant#74] parquet\\n         :                                            :                          :                    :     :                    +- SubqueryAlias `LOG`\\n         :                                            :                          :                    :     :                       +- SubqueryAlias `stepstonede`.`logmystst`\\n         :                                            :                          :                    :     :                          +- Relation[id#75,userloginid#76,jobuserid#77,logaction#78,logdatetime#79,emailold#80,emailnew#81,ipaddress#82,comment#83,channel#84,doneby#85,ref_userdomain_id#86,year#87,month#88,day#89] parquet\\n         :                                            :                          :                    :     +- Aggregate [user_id#229], [user_id#229, min(log_date#235) AS sub_date#226]\\n         :                                            :                          :                    :        +- Filter logaction#78 IN (IJM, subscription)\\n         :                                            :                          :                    :           +- Sort [reg_date#230 ASC NULLS FIRST, log_date#235 ASC NULLS FIRST], true\\n         :                                            :                          :                    :              +- Aggregate [id#8, to_date(dcreated#21, None), passwordset#47, subscriptionid#65, to_date(subscriptiondate#68, None), isactive#67, active#36, manualunsubscribe#73, to_date(datelastsoftlogin#50, None), to_date(dlastlogin#22, None), to_date(logdatetime#79, None), logaction#78], [id#8 AS user_id#229, to_date(dcreated#21, None) AS reg_date#230, passwordset#47, subscriptionid#65, to_date(subscriptiondate#68, None) AS sub_date#231, isactive#67, active#36 AS AccountValidation#232, manualunsubscribe#73, to_date(datelastsoftlogin#50, None) AS last_softlog#233, to_date(dlastlogin#22, None) AS last_login#234, to_date(logdatetime#79, None) AS log_date#235, logaction#78, count(logdatetime#79) AS n_events#236L]\\n         :                                            :                          :                    :                 +- Filter (cast(dcreated#21 as string) >= 2018-01-01)\\n         :                                            :                          :                    :                    +- Join LeftOuter, ((id#8 = userloginid#76) && NOT logaction#78 IN (IJM, autodeactivate,IJM, autoactivate))\\n         :                                            :                          :                    :                       :- Join LeftOuter, (id#8 = userlogin_id#66)\\n         :                                            :                          :                    :                       :  :- SubqueryAlias `UID`\\n         :                                            :                          :                    :                       :  :  +- SubqueryAlias `stepstonede`.`userlogin`\\n         :                                            :                          :                    :                       :  :     +- Relation[id#8,login#9,pwd#10,lang#11,email#12,emailtype#13,firstname#14,lastname#15,gender#16,ddateofbirth#17,postalcode#18,locked#19,online#20,dcreated#21,dlastlogin#22,secret_question#23,secret_answer#24,mailbox_id#25,nationality#26,streetname#27,streetnumber#28,city#29,country#30,telephone#31,... 33 more fields] parquet\\n         :                                            :                          :                    :                       :  +- SubqueryAlias `SUB`\\n         :                                            :                          :                    :                       :     +- SubqueryAlias `stepstonede`.`subscription`\\n         :                                            :                          :                    :                       :        +- Relation[subscriptionid#65,userlogin_id#66,isactive#67,subscriptiondate#68,dailysentcounter#69,frequency#70,preferredlanguage#71,acceptablelanguages#72,manualunsubscribe#73,testandvariant#74] parquet\\n         :                                            :                          :                    :                       +- SubqueryAlias `LOG`\\n         :                                            :                          :                    :                          +- SubqueryAlias `stepstonede`.`logmystst`\\n         :                                            :                          :                    :                             +- Relation[id#75,userloginid#76,jobuserid#77,logaction#78,logdatetime#79,emailold#80,emailnew#81,ipaddress#82,comment#83,channel#84,doneby#85,ref_userdomain_id#86,year#87,month#88,day#89] parquet\\n         :                                            :                          :                    +- Deduplicate [user_id#247, manualunsubscribe#73]\\n         :                                            :                          :                       +- Project [user_id#247, manualunsubscribe#73]\\n         :                                            :                          :                          +- Filter (manualunsubscribe#73 = true)\\n         :                                            :                          :                             +- Sort [reg_date#248 ASC NULLS FIRST, log_date#253 ASC NULLS FIRST], true\\n         :                                            :                          :                                +- Aggregate [id#8, to_date(dcreated#21, None), passwordset#47, subscriptionid#65, to_date(subscriptiondate#68, None), isactive#67, active#36, manualunsubscribe#73, to_date(datelastsoftlogin#50, None), to_date(dlastlogin#22, None), to_date(logdatetime#79, None), logaction#78], [id#8 AS user_id#247, to_date(dcreated#21, None) AS reg_date#248, passwordset#47, subscriptionid#65, to_date(subscriptiondate#68, None) AS sub_date#249, isactive#67, active#36 AS AccountValidation#250, manualunsubscribe#73, to_date(datelastsoftlogin#50, None) AS last_softlog#251, to_date(dlastlogin#22, None) AS last_login#252, to_date(logdatetime#79, None) AS log_date#253, logaction#78, count(logdatetime#79) AS n_events#254L]\\n         :                                            :                          :                                   +- Filter (cast(dcreated#21 as string) >= 2018-01-01)\\n         :                                            :                          :                                      +- Join LeftOuter, ((id#8 = userloginid#76) && NOT logaction#78 IN (IJM, autodeactivate,IJM, autoactivate))\\n         :                                            :                          :                                         :- Join LeftOuter, (id#8 = userlogin_id#66)\\n         :                                            :                          :                                         :  :- SubqueryAlias `UID`\\n         :                                            :                          :                                         :  :  +- SubqueryAlias `stepstonede`.`userlogin`\\n         :                                            :                          :                                         :  :     +- Relation[id#8,login#9,pwd#10,lang#11,email#12,emailtype#13,firstname#14,lastname#15,gender#16,ddateofbirth#17,postalcode#18,locked#19,online#20,dcreated#21,dlastlogin#22,secret_question#23,secret_answer#24,mailbox_id#25,nationality#26,streetname#27,streetnumber#28,city#29,country#30,telephone#31,... 33 more fields] parquet\\n         :                                            :                          :                                         :  +- SubqueryAlias `SUB`\\n         :                                            :                          :                                         :     +- SubqueryAlias `stepstonede`.`subscription`\\n         :                                            :                          :                                         :        +- Relation[subscriptionid#65,userlogin_id#66,isactive#67,subscriptiondate#68,dailysentcounter#69,frequency#70,preferredlanguage#71,acceptablelanguages#72,manualunsubscribe#73,testandvariant#74] parquet\\n         :                                            :                          :                                         +- SubqueryAlias `LOG`\\n         :                                            :                          :                                            +- SubqueryAlias `stepstonede`.`logmystst`\\n         :                                            :                          :                                               +- Relation[id#75,userloginid#76,jobuserid#77,logaction#78,logdatetime#79,emailold#80,emailnew#81,ipaddress#82,comment#83,channel#84,doneby#85,ref_userdomain_id#86,year#87,month#88,day#89] parquet\\n         :                                            :                          +- Project [new_user_id_1#2146 AS user_id#2153, visit_date#318]\\n         :                                            :                             +- Filter isnotnull(new_user_id_1#2146)\\n         :                                            :                                +- Project [user_id#413, userlogin_id#2097, user_id_hash#2119, visit_date#318, new_user_id#2140, CASE WHEN isnotnull(new_user_id#2140) THEN new_user_id#2140 ELSE CASE WHEN isnotnull(user_id_hash#2119) THEN user_id_hash#2119 END END AS new_user_id_1#2146]\\n         :                                            :                                   +- Project [user_id#413, userlogin_id#2097, user_id_hash#2119, visit_date#318, CASE WHEN isnotnull(user_id#413) THEN user_id#413 ELSE cast(CASE WHEN isnotnull(userlogin_id#2097) THEN userlogin_id#2097 END as string) END AS new_user_id#2140]\\n         :                                            :                                      +- Project [user_id#413, userlogin_id#2097, user_id_hash#2119, visit_date#318]\\n         :                                            :                                         +- Project [user_hash#414, job_agent_id#366, user_id#413, visit_date#318, userlogin_id#2097, user_id_hash#2119]\\n         :                                            :                                            +- Join LeftOuter, (user_hash#414 = user_hash#2127)\\n         :                                            :                                               :- Project [job_agent_id#366, user_id#413, user_hash#414, visit_date#318, userlogin_id#2097]\\n         :                                            :                                               :  +- Join LeftOuter, (job_agent_id#366 = job_agent_id#2095)\\n         :                                            :                                               :     :- Union\\n         :                                            :                                               :     :  :- Union\\n         :                                            :                                               :     :  :  :- Distinct\\n         :                                            :                                               :     :  :  :  +- Project [user_id#413, user_hash#414, job_agent_id#366, to_date(visit_start_time_gmt#562, None) AS visit_date#318]\\n         :                                            :                                               :     :  :  :     +- Filter ((cast(exclude_hit#330 as int) <= 0) && (year#633 = 2020))\\n         :                                            :                                               :     :  :  :        +- SubqueryAlias `presentation`.`hits_de`\\n         :                                            :                                               :     :  :  :           +- Relation[browser_id#321L,browser_name#322,code_ver#323,connection_type#324,country#325,daily_visitor#326,date_time#327,domain#328,bot#329,exclude_hit#330,first_hit_page_url#331,first_hit_pagename#332,first_hit_referrer#333,first_hit_date#334,geo_city#335,geo_country#336,geo_region#337,hit_time_gmt#338,hitid_high#339L,hitid_low#340L,homepage#341,hourly_visitor#342,language_id#343,language#344,... 291 more fields] parquet\\n         :                                            :                                               :     :  :  +- Distinct\\n         :                                            :                                               :     :  :     +- Project [user_id#728, user_hash#729, job_agent_id#681, to_date(visit_start_time_gmt#877, None) AS visit_date#319]\\n         :                                            :                                               :     :  :        +- Filter ((job_site#889 LIKE %-de && (cast(exclude_hit#645 as int) <= 0)) && (year#918 = 2020))\\n         :                                            :                                               :     :  :           +- SubqueryAlias `AA`\\n         :                                            :                                               :     :  :              +- SubqueryAlias `presentation`.`hits_android_global`\\n         :                                            :                                               :     :  :                 +- Relation[browser_id#636L,browser_name#637,code_ver#638,connection_type#639,country#640,daily_visitor#641,date_time#642,domain#643,bot#644,exclude_hit#645,first_hit_page_url#646,first_hit_pagename#647,first_hit_referrer#648,first_hit_date#649,geo_city#650,geo_country#651,geo_region#652,hit_time_gmt#653,hitid_high#654L,hitid_low#655L,homepage#656,hourly_visitor#657,language_id#658,language#659,... 261 more fields] parquet\\n         :                                            :                                               :     :  +- Distinct\\n         :                                            :                                               :     :     +- Project [user_id#1013, user_hash#1014, job_agent_id#966, to_date(visit_start_time_gmt#1162, None) AS visit_date#320]\\n         :                                            :                                               :     :        +- Filter ((job_site#1174 LIKE %-de && (cast(exclude_hit#930 as int) <= 0)) && (year#1203 = 2020))\\n         :                                            :                                               :     :           +- SubqueryAlias `AA`\\n         :                                            :                                               :     :              +- SubqueryAlias `presentation`.`hits_iphoneapp_global`\\n         :                                            :                                               :     :                 +- Relation[browser_id#921L,browser_name#922,code_ver#923,connection_type#924,country#925,daily_visitor#926,date_time#927,domain#928,bot#929,exclude_hit#930,first_hit_page_url#931,first_hit_pagename#932,first_hit_referrer#933,first_hit_date#934,geo_city#935,geo_country#936,geo_region#937,hit_time_gmt#938,hitid_high#939L,hitid_low#940L,homepage#941,hourly_visitor#942,language_id#943,language#944,... 261 more fields] parquet\\n         :                                            :                                               :     +- Distinct\\n         :                                            :                                               :        +- Project [userlogin_id#2097, jobuser_id#2098 AS job_agent_id#2095]\\n         :                                            :                                               :           +- SubqueryAlias `stepstonede`.`userlogin_jobuser`\\n         :                                            :                                               :              +- Relation[id#2096,userlogin_id#2097,jobuser_id#2098,type#2099,item_name#2100,pbid#2101,exctpe#2102,is_automatic_name#2103] parquet\\n         :                                            :                                               +- Project [user_hash#2127, user_id#2126 AS user_id_hash#2119]\\n         :                                            :                                                  +- Join RightOuter, ((user_hash#2127 = user_hash#2122) && (n_UID#2120L = cast(1 as bigint)))\\n         :                                            :                                                     :- SubqueryAlias `A`\\n         :                                            :                                                     :  +- SubqueryAlias `presentation`.`adobe_user_id_hash_de`\\n         :                                            :                                                     :     +- Relation[user_id#2126,user_hash#2127] parquet\\n         :                                            :                                                     +- SubqueryAlias `B`\\n         :                                            :                                                        +- SubqueryAlias `hash_count`\\n         :                                            :                                                           +- Aggregate [user_hash#2122], [user_hash#2122, count(distinct user_id#2121) AS n_UID#2120L]\\n         :                                            :                                                              +- SubqueryAlias `presentation`.`adobe_user_id_hash_de`\\n         :                                            :                                                                 +- Relation[user_id#2121,user_hash#2122] parquet\\n         :                                            +- Distinct\\n         :                                               +- Project [to_date(log_date#2242, None) AS ssa_date#2236, event_name#2241, tracking_my_stepstone_id#2293 AS user_id#2237, CASE WHEN (event_name#2241 = ListingView) THEN 1 ELSE 0 END AS listing_view#2238, 1 AS any_ssa#2239]\\n         :                                                  +- Filter (((year#2312 >= 2020) && (month#2313 >= 3)) && ((country#2311 = DE) && event_name#2241 IN (ListingView,Search)))\\n         :                                                     +- SubqueryAlias `presentation`.`ssa_fact`\\n         :                                                        +- Relation[session_id#2240,event_name#2241,log_date#2242,log_date_epoch#2243L,raw_json_content#2244,added_widgets#2245,algorithm#2246,analysed_query_type#2247,bot#2248,browse_city_id#2249,browse_company_id#2250,browse_function#2251,browse_region_id#2252,browse_url#2253,categories#2254,cid#2255,company_id#2256,distil#2257,fuzzy_behaviour#2258,geo_city_id#2259,geo_widget_id#2260,highlighted_listing_ids#2261,is_highlighted#2262,jobagent_id#2263,... 51 more fields] parquet\\n         +- Project [userlogin_id#2966 AS user_id#2964, subscriptiondate#2968, isactive#2967, manualunsubscribe#2973]\\n            +- Filter ((isactive#2967 && (isnull(manualunsubscribe#2973) || NOT manualunsubscribe#2973)) && (cast(subscriptiondate#2968 as string) >= 2018-01-01))\\n               +- SubqueryAlias `stepstonede`.`subscription`\\n                  +- Relation[subscriptionid#2965,userlogin_id#2966,isactive#2967,subscriptiondate#2968,dailysentcounter#2969,frequency#2970,preferredlanguage#2971,acceptablelanguages#2972,manualunsubscribe#2973,testandvariant#2974] parquet\\n\"\n",
      "\n"
     ]
    }
   ],
   "source": [
    "#Activities of groupZ against Rule3_subVal_hasAnyOpenClick_ssa_login_reg_60d\n",
    "simulation_visits_selligent_ssa_sub_GroupZ_df = simulation_visits_selligent_ssa_sub_df.filter((subs_df.isactive ==1) & \n",
    "                                                                                              (simulation_visits_selligent_ssa_df.Rule3_subVal_hasAnyOpenClick_ssa_login_reg_60d == 0)).\\\n",
    "                                                                                              groupBy('isactive').\\\n",
    "                                                                                              agg(F.sum(F.countDistinct(F.col(\"send\"))).alias(\"total_send_perUser\"),\n",
    "                                                                                                  F.sum(F.countDistinct(F.col(\"total_open\"))).alias(\"total_open_perUser\"),\n",
    "                                                                                                  F.sum(F.countDistinct(F.col(\"total_clicks\"))).alias(\"total_click_perUser\"),\n",
    "                                                                                                  F.sum(F.countDistinct(F.col(\"registration\"))).alias(\"total_registration_perUser\"),\n",
    "                                                                                                  F.sum(F.countDistinct(F.col(\"login\"))).alias(\"total_Login_perUser\"),\n",
    "                                                                                                  F.sum(F.countDistinct(F.col(\"soft_login\"))).alias(\"total_SoftLogin_perUser\"),\n",
    "                                                                                                  F.sum(F.countDistinct(F.col(\"SSA_any_60d\"))).alias(\"total_ssa_perUser\"))"
   ]
  },
  {
   "cell_type": "code",
   "execution_count": null,
   "metadata": {},
   "outputs": [],
   "source": []
  }
 ],
 "metadata": {
  "kernelspec": {
   "display_name": "PySpark",
   "language": "",
   "name": "pysparkkernel"
  },
  "language_info": {
   "codemirror_mode": {
    "name": "python",
    "version": 2
   },
   "mimetype": "text/x-python",
   "name": "pyspark",
   "pygments_lexer": "python2"
  }
 },
 "nbformat": 4,
 "nbformat_minor": 4
}
