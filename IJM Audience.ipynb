{
 "cells": [
  {
   "cell_type": "code",
   "execution_count": 19,
   "metadata": {},
   "outputs": [
    {
     "data": {
      "application/vnd.jupyter.widget-view+json": {
       "model_id": "97b199e1fc954356b0310a1a3cd13d6f",
       "version_major": 2,
       "version_minor": 0
      },
      "text/plain": [
       "VBox()"
      ]
     },
     "metadata": {},
     "output_type": "display_data"
    },
    {
     "data": {
      "application/vnd.jupyter.widget-view+json": {
       "model_id": "",
       "version_major": 2,
       "version_minor": 0
      },
      "text/plain": [
       "FloatProgress(value=0.0, bar_style='info', description='Progress:', layout=Layout(height='25px', width='50%'),…"
      ]
     },
     "metadata": {},
     "output_type": "display_data"
    }
   ],
   "source": [
    "from pyspark.sql import types as T\n",
    "from pyspark.sql import functions as F \n",
    "# from pyspark.sql.types import IntegerType\n",
    "# from pyspark.sql.functions import first"
   ]
  },
  {
   "cell_type": "code",
   "execution_count": 20,
   "metadata": {},
   "outputs": [
    {
     "data": {
      "application/vnd.jupyter.widget-view+json": {
       "model_id": "f706bacd94734e3e88ac876f56581cd2",
       "version_major": 2,
       "version_minor": 0
      },
      "text/plain": [
       "VBox()"
      ]
     },
     "metadata": {},
     "output_type": "display_data"
    },
    {
     "data": {
      "application/vnd.jupyter.widget-view+json": {
       "model_id": "",
       "version_major": 2,
       "version_minor": 0
      },
      "text/plain": [
       "FloatProgress(value=0.0, bar_style='info', description='Progress:', layout=Layout(height='25px', width='50%'),…"
      ]
     },
     "metadata": {},
     "output_type": "display_data"
    }
   ],
   "source": [
    "# Table 1A+1B+2 \n",
    "registrations_raw = spark.sql(\"\"\"\n",
    "    select \n",
    "        UID.id as user_id\n",
    "        , to_date(dcreated) as reg_date\n",
    "        , passwordset\n",
    "        , subscriptionid\n",
    "        , to_date(subscriptiondate) as sub_date\n",
    "        , isactive\n",
    "        , manualunsubscribe\n",
    "        , to_date(logdatetime) as log_date\n",
    "        , logaction\n",
    "        , count(logdatetime) as n_events\n",
    "    from stepstonede.userlogin UID\n",
    "    left join stepstonede.subscription SUB\n",
    "    on UID.id = SUB.userlogin_id\n",
    "    left join stepstonede.logmystst LOG\n",
    "    on \n",
    "        UID.id = LOG.userloginid \n",
    "        and logaction in (\"MyStSt,AccountValidation\",\"AUM,AccountValidation\", \"IJM, subscription\", \"SIM_LastOpen\", \"IJM, autodeactivate\", \"IJM, autoactivate\", \n",
    "            \"IJM, Manual Deactivate\", \"IJM, activation\", \"IJM, unsubscription\")\n",
    "    where \n",
    "        dcreated >= '2020-01-01' \n",
    "    group by\n",
    "        UID.id \n",
    "        , reg_date\n",
    "        , passwordset\n",
    "        , subscriptionid\n",
    "        , sub_date\n",
    "        , isactive\n",
    "        , manualunsubscribe\n",
    "        , log_date\n",
    "        , logaction\n",
    "    order by reg_date, log_date\"\"\")"
   ]
  },
  {
   "cell_type": "code",
   "execution_count": 21,
   "metadata": {},
   "outputs": [
    {
     "data": {
      "application/vnd.jupyter.widget-view+json": {
       "model_id": "760b8b2df8994bbeae768d18a768d19c",
       "version_major": 2,
       "version_minor": 0
      },
      "text/plain": [
       "VBox()"
      ]
     },
     "metadata": {},
     "output_type": "display_data"
    },
    {
     "data": {
      "application/vnd.jupyter.widget-view+json": {
       "model_id": "",
       "version_major": 2,
       "version_minor": 0
      },
      "text/plain": [
       "FloatProgress(value=0.0, bar_style='info', description='Progress:', layout=Layout(height='25px', width='50%'),…"
      ]
     },
     "metadata": {},
     "output_type": "display_data"
    }
   ],
   "source": [
    "# Table 2: validated accounts\n",
    "registration_df = registrations_raw.select(\"user_id\").distinct().\\\n",
    "    join(registrations_raw.select(\"user_id\", \"reg_date\", \"logaction\", \"log_date\"). \\\n",
    "        filter(F.col(\"logaction\").isin([\"MyStSt,AccountValidation\",\"AUM,AccountValidation\"])). \\\n",
    "        groupBy(\"user_id\", \"reg_date\"). \\\n",
    "        agg(F.min(\"log_date\").alias(\"AccountValidation\")), \"user_id\", \"left\")\n"
   ]
  },
  {
   "cell_type": "code",
   "execution_count": null,
   "metadata": {},
   "outputs": [
    {
     "data": {
      "application/vnd.jupyter.widget-view+json": {
       "model_id": "012a19cef9e2437d80ef82a8cc16009f",
       "version_major": 2,
       "version_minor": 0
      },
      "text/plain": [
       "VBox()"
      ]
     },
     "metadata": {},
     "output_type": "display_data"
    },
    {
     "data": {
      "application/vnd.jupyter.widget-view+json": {
       "model_id": "137cbae80b8a41a99d3d9c28225d1aa9",
       "version_major": 2,
       "version_minor": 0
      },
      "text/plain": [
       "FloatProgress(value=0.0, bar_style='info', description='Progress:', layout=Layout(height='25px', width='50%'),…"
      ]
     },
     "metadata": {},
     "output_type": "display_data"
    }
   ],
   "source": [
    "# Table2A: Validated accounts & considered_dates\n",
    "# create DF with all dates from first day to last day per user\n",
    "# user_df =\n",
    "considered_date_df = registrations_raw.select(\"user_id\", \"reg_date\"). \\\n",
    "    distinct(). \\\n",
    "    withColumn(\"first_day\", F.to_date(F.col(\"reg_date\"))). \\\n",
    "    withColumn(\"last_day\", F.to_date(F.lit(registrations_raw.select(F.max(F.col(\"reg_date\")).alias(\"max_date\")).collect()[0][0]))). \\\n",
    "    withColumn(\"diffDays\",  F.datediff(\"last_day\", \"first_day\")). \\\n",
    "    withColumn(\"repeat\", F.expr(\"split(repeat(',', diffDays), ',')\")).\\\n",
    "    select(\"*\", F.posexplode(\"repeat\").alias(\"daycount\", \"val\")).\\\n",
    "    drop(\"repeat\", \"val\", \"diffDays\").\\\n",
    "    withColumn(\"considered_date\", F.expr(\"date_add(first_day, daycount)\")).\\\n",
    "    select(\"user_id\", \"considered_date\")\n",
    "\n",
    "registration_df.join(considered_date_df, \"user_id\", \"left\") # this is Table2A"
   ]
  },
  {
   "cell_type": "code",
   "execution_count": null,
   "metadata": {},
   "outputs": [],
   "source": [
    "# Table 2B (just started this on our call)\n",
    "registrations_raw. \\\n",
    "    filter(F.col(\"logaction\").isin([\"IJM, subscription\"])). \\\n",
    "    select(\"user_id\", \"log_date\", \"n_events\").show(10)\n"
   ]
  }
 ],
 "metadata": {
  "kernelspec": {
   "display_name": "PySpark",
   "language": "",
   "name": "pysparkkernel"
  },
  "language_info": {
   "codemirror_mode": {
    "name": "python",
    "version": 2
   },
   "mimetype": "text/x-python",
   "name": "pyspark",
   "pygments_lexer": "python2"
  }
 },
 "nbformat": 4,
 "nbformat_minor": 4
}
