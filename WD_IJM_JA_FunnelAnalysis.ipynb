{
 "cells": [
  {
   "cell_type": "code",
   "execution_count": 1,
   "metadata": {},
   "outputs": [
    {
     "data": {
      "application/vnd.jupyter.widget-view+json": {
       "model_id": "ab970ca873294e0f8455f713a8b46727",
       "version_major": 2,
       "version_minor": 0
      },
      "text/plain": [
       "VBox()"
      ]
     },
     "metadata": {},
     "output_type": "display_data"
    },
    {
     "name": "stdout",
     "output_type": "stream",
     "text": [
      "Starting Spark application\n"
     ]
    },
    {
     "data": {
      "text/html": [
       "<table>\n",
       "<tr><th>ID</th><th>YARN Application ID</th><th>Kind</th><th>State</th><th>Spark UI</th><th>Driver log</th><th>Current session?</th></tr><tr><td>463</td><td>application_1590480489834_0333</td><td>pyspark</td><td>idle</td><td><a target=\"_blank\" href=\"http://ip-10-249-19-172.gc.stepstone.com:20888/proxy/application_1590480489834_0333/\">Link</a></td><td><a target=\"_blank\" href=\"http://ip-10-249-19-54.gc.stepstone.com:8042/node/containerlogs/container_e03_1590480489834_0333_01_000001/assumed-role_STS_Access_for_DataScientist_Parastoo_Ghalamchi_stepstone_com\">Link</a></td><td>✔</td></tr></table>"
      ],
      "text/plain": [
       "<IPython.core.display.HTML object>"
      ]
     },
     "metadata": {},
     "output_type": "display_data"
    },
    {
     "data": {
      "application/vnd.jupyter.widget-view+json": {
       "model_id": "",
       "version_major": 2,
       "version_minor": 0
      },
      "text/plain": [
       "FloatProgress(value=0.0, bar_style='info', description='Progress:', layout=Layout(height='25px', width='50%'),…"
      ]
     },
     "metadata": {},
     "output_type": "display_data"
    },
    {
     "name": "stdout",
     "output_type": "stream",
     "text": [
      "SparkSession available as 'spark'.\n"
     ]
    },
    {
     "data": {
      "application/vnd.jupyter.widget-view+json": {
       "model_id": "",
       "version_major": 2,
       "version_minor": 0
      },
      "text/plain": [
       "FloatProgress(value=0.0, bar_style='info', description='Progress:', layout=Layout(height='25px', width='50%'),…"
      ]
     },
     "metadata": {},
     "output_type": "display_data"
    }
   ],
   "source": [
    "from pyspark.sql import types as T\n",
    "from pyspark.sql import functions as F \n",
    "from pyspark.sql import DataFrame\n",
    "from pyspark.sql.functions import * \n",
    "from pyspark.sql.window import Window\n",
    "import sys"
   ]
  },
  {
   "cell_type": "code",
   "execution_count": null,
   "metadata": {},
   "outputs": [],
   "source": [
    "#steps:\n",
    "# Import the open, click, visit, unsubscribe and AIT for IJM, JA and WD at user level from Selligent through Sandbox (from 01-04-2020 until today)\n",
    "# Group the user level data on campaign type\n",
    "# visualize each group's KPIs in a comparative view"
   ]
  },
  {
   "cell_type": "code",
   "execution_count": 14,
   "metadata": {},
   "outputs": [
    {
     "data": {
      "application/vnd.jupyter.widget-view+json": {
       "model_id": "9c7c0cb455e54494ba3262fc44e8b5bd",
       "version_major": 2,
       "version_minor": 0
      },
      "text/plain": [
       "VBox()"
      ]
     },
     "metadata": {},
     "output_type": "display_data"
    },
    {
     "data": {
      "application/vnd.jupyter.widget-view+json": {
       "model_id": "",
       "version_major": 2,
       "version_minor": 0
      },
      "text/plain": [
       "FloatProgress(value=0.0, bar_style='info', description='Progress:', layout=Layout(height='25px', width='50%'),…"
      ]
     },
     "metadata": {},
     "output_type": "display_data"
    }
   ],
   "source": [
    "#email data \n",
    "#######################################################################################################################\n",
    "#selligent_df includes send, open, unique_open, click, unique_click from selligent for three campaigns IJM, JA, and WD\n",
    "    # date_trunc by 'week'---> change it to daily\n",
    "    # add JA click\n",
    "    \n",
    "#test the query for 3 days:\n",
    "# selligent_df.show(5)\n",
    "\n",
    "# +----------+-------+-------------+----+----------+-----------+------------+-------------+\n",
    "# |action_day|user_id|campaign_type|send|total_open|unique_open|total_clicks|unique_clicks|\n",
    "# +----------+-------+-------------+----+----------+-----------+------------+-------------+\n",
    "# |2020-08-25|5879114|       Others|   1|         0|          0|           0|            0|\n",
    "# |2020-08-25|3635261|       Others|   1|         0|          0|           0|            0|\n",
    "# |2020-08-25|7987656|       Others|   1|         0|          0|           0|            0|\n",
    "# |2020-08-25|5963783|           JA|   6|         0|          0|           0|            0|\n",
    "# |2020-08-25|5039172|           JA|   1|         1|          1|           0|            0|\n",
    "# +----------+-------+-------------+----+----------+-----------+------------+-------------+\n",
    "\n",
    "\n",
    "\n",
    "selligent_df = spark.sql(\"\"\"\n",
    "    SELECT\n",
    "        to_date(concat_ws('-', cast(year as string), cast(month as string), cast(day as string))) as action_day,\n",
    "        user_login_id as user_id,\n",
    "        campaign_type,\n",
    "        floor(sum(sent)) as send, \n",
    "        floor(sum(opened)) as total_open,\n",
    "        count(distinct case when opened > 0 then ditem_id end) as unique_open,\n",
    "        floor(sum(clicked)) as total_clicks,\n",
    "        count(distinct case when clicked > 0 then ditem_id end) as unique_clicks\n",
    "    FROM live_raw_selligent_de_stepstone.flags_enriched fe\n",
    "    WHERE  \n",
    "        (campaign_type in ('JA', 'IJM', 'WeeklyDigest')\n",
    "        or campaign_id in (95183, 95184)) \n",
    "        and year = 2020 \n",
    "        and month = 4\n",
    "        and day >= 1\n",
    "    GROUP BY action_day, campaign_type, user_id\"\"\").\\\n",
    "    union(spark.sql(\"\"\"\n",
    "    select\n",
    "        to_date(concat_ws('-', cast(year as string), cast(month as string), cast(day as string))) as action_day,\n",
    "        userlogin_id as user_id, \n",
    "        'JA' as campaign_type,\n",
    "        0 as send,\n",
    "        0 as total_open,\n",
    "        0 as unique_open,\n",
    "        count(*) as total_clicks,\n",
    "        count(distinct jaid) as unique_clicks\n",
    "    from stepstonede.jaclickofferid A\n",
    "    right join stepstonede.userlogin_jobuser B on A.jaid = B.jobuser_id\n",
    "    WHERE \n",
    "        year = 2020 \n",
    "        and month = 4\n",
    "        and day >= 1\n",
    "    group by action_day, campaign_type, user_id\n",
    "    \"\"\"))\n",
    "\n",
    "# selligent_df.show(5)\n",
    "# +----------+-------+-------------+----+----------+-----------+------------+-------------+\n",
    "# |action_day|user_id|campaign_type|send|total_open|unique_open|total_clicks|unique_clicks|\n",
    "# +----------+-------+-------------+----+----------+-----------+------------+-------------+\n",
    "# |2020-04-28|4629718|       Others|   0|         1|          1|           0|            0|\n",
    "# |2020-04-28|7990265|          IJM|   5|         0|          0|           0|            0|\n",
    "# |2020-04-28|8470140|          IJM|   3|         0|          0|           0|            0|\n",
    "# |2020-04-28|8878126|       Others|   1|         0|          0|           0|            0|\n",
    "# |2020-04-28|8336624|       Others|   1|         1|          1|           0|            0|\n",
    "# +----------+-------+-------------+----+----------+-----------+------------+-------------+\n"
   ]
  },
  {
   "cell_type": "code",
   "execution_count": 15,
   "metadata": {},
   "outputs": [
    {
     "data": {
      "application/vnd.jupyter.widget-view+json": {
       "model_id": "293faecdd87c4de585f26bc2c5eacb9c",
       "version_major": 2,
       "version_minor": 0
      },
      "text/plain": [
       "VBox()"
      ]
     },
     "metadata": {},
     "output_type": "display_data"
    },
    {
     "data": {
      "application/vnd.jupyter.widget-view+json": {
       "model_id": "",
       "version_major": 2,
       "version_minor": 0
      },
      "text/plain": [
       "FloatProgress(value=0.0, bar_style='info', description='Progress:', layout=Layout(height='25px', width='50%'),…"
      ]
     },
     "metadata": {},
     "output_type": "display_data"
    }
   ],
   "source": [
    "#get unsubscribe data for url through presentation.hits_de\n",
    "    # Search for recognised_user_id in the table\n",
    "    # Filter on url\n",
    "###############################################################################################################################\n",
    "\n",
    "#unsubscribe data from website through presentation.hits_de, presentation.hits_android_global\n",
    "\n",
    "#notes:\n",
    "    #1.\n",
    "        #Internet irregularities, system irregularities, or the use of custom visitor IDs can rarely use \n",
    "        #the same visit_num values for different visits. Use visit_start_time_gmt when counting visits to make sure that these visits are counted.\n",
    "    #2.\n",
    "        #Count the number of rows where a value is in post_pagename or post_page_url\n",
    "        # Concatenate post_visid_high , post_visid_low , visit_num , and visit_start_time_gmt.\n",
    "        # Count the unique number of values.\n",
    "        \n",
    "        \n",
    "#1 add campaign dentifier: use post_campaign\n",
    "            # case when upper(AA.post_campaign) like 'JAJOB%' then 'JA' else\n",
    "            #             case when upper(AA.post_campaign) like 'IJM%' then 'IJM' else 'WeeklyDigest' end end as campaign_type  \n",
    "# 2. add AIT and listing view from hits_de\n",
    "# 3: take a sample of users and check if they unsubscribed from what campaigns. \n",
    "        \n",
    "\n",
    "Website_unsub_visits_df = spark.sql(\"\"\"\n",
    "    select distinct \n",
    "          user_id, \n",
    "          user_hash, \n",
    "          job_agent_id, \n",
    "          to_date(visit_start_time_gmt) as visit_date\n",
    "    from presentation.hits_de AA\n",
    "    where (AA.p35_url like '%unsub%' or AA.p35_url like '%Unsub%')\n",
    "          and exclude_hit <= 0 \n",
    "          and year = 2020\n",
    "          and month >= 4\n",
    "          and day >= 1\n",
    "\n",
    "    union all\n",
    "\n",
    "    select distinct \n",
    "          user_id, \n",
    "          user_hash, \n",
    "          job_agent_id, \n",
    "          to_date(visit_start_time_gmt) as visit_date\n",
    "    from presentation.hits_android_global AA\n",
    "    where AA.job_site like '%-de' \n",
    "          and (AA.p35_url like '%unsub%' or AA.p35_url like '%Unsub%') \n",
    "          and exclude_hit <= 0 \n",
    "          and year = 2020\n",
    "          and month >= 4\n",
    "          and day >= 1\n",
    "\n",
    "    union all\n",
    "\n",
    "    select distinct \n",
    "          user_id, \n",
    "          user_hash, \n",
    "          job_agent_id, \n",
    "          to_date(visit_start_time_gmt) as visit_date\n",
    "    from presentation.hits_iphoneapp_global AA\n",
    "    where AA.job_site like '%-de' \n",
    "          and (AA.p35_url like '%unsub%' or AA.p35_url like '%Unsub%')\n",
    "          and exclude_hit <= 0 \n",
    "          and year = 2020\n",
    "          and month >= 4\n",
    "          and day >= 1\"\"\")\n",
    "\n",
    "# Website_unsub_visits_df.show(5)\n",
    "# +-------+--------------------+------------+----------+\n",
    "# |user_id|           user_hash|job_agent_id|visit_date|\n",
    "# +-------+--------------------+------------+----------+\n",
    "# |9418255|cb64310a-cb18-4ea...|        null|2020-08-27|\n",
    "# |9339154|8dfa7aa7-c837-4ea...|        null|2020-08-23|\n",
    "# |9378525|b80ef99f-cb7c-435...|        null|2020-08-23|\n",
    "# |7410858|67692f13-4b48-4a2...|    15461012|2020-08-23|\n",
    "# |4685972|e45a9f05-34d3-4cf...|    14469011|2020-08-23|\n",
    "# +-------+--------------------+------------+----------+\n",
    "\n",
    "\n",
    "Website_unsub_visits_df = Website_unsub_visits_df.groupBy(\"user_id\", \"visit_date\"). \\\n",
    "    agg(F.countDistinct(F.col(\"user_id\")).alias(\"recipient_unsub\"))\n",
    "\n",
    "\n",
    "#agg(F.countDistinct(F.col(\"user_id\"))\n",
    "#Website_unsub_visits_df.show(5)\n",
    "\n",
    "# +-------+----------+---------------+\n",
    "# |user_id|visit_date|recipient_unsub|\n",
    "# +-------+----------+---------------+\n",
    "# |3066967|2020-08-17|              1|\n",
    "# |5751319|2020-08-21|              1|\n",
    "# |8545543|2020-08-02|              1|\n",
    "# |2224437|2020-08-09|              1|\n",
    "# |8721124|2020-08-18|              1|\n",
    "# +-------+----------+---------------+"
   ]
  },
  {
   "cell_type": "code",
   "execution_count": 26,
   "metadata": {},
   "outputs": [
    {
     "data": {
      "application/vnd.jupyter.widget-view+json": {
       "model_id": "60c695a491ea4d2bae7c7f66019f7fd8",
       "version_major": 2,
       "version_minor": 0
      },
      "text/plain": [
       "VBox()"
      ]
     },
     "metadata": {},
     "output_type": "display_data"
    },
    {
     "data": {
      "application/vnd.jupyter.widget-view+json": {
       "model_id": "",
       "version_major": 2,
       "version_minor": 0
      },
      "text/plain": [
       "FloatProgress(value=0.0, bar_style='info', description='Progress:', layout=Layout(height='25px', width='50%'),…"
      ]
     },
     "metadata": {},
     "output_type": "display_data"
    },
    {
     "name": "stdout",
     "output_type": "stream",
     "text": [
      "+-------+---------+----------+-----+\n",
      "|user_id|visit_num|visit_date|visit|\n",
      "+-------+---------+----------+-----+\n",
      "|8320707|       15|2020-08-03|    1|\n",
      "|6240646|        6|2020-06-30|    1|\n",
      "|6953249|       18|2020-08-04|    1|\n",
      "|4348184|       58|2020-07-14|    1|\n",
      "|4186578|        1|2020-07-07|    1|\n",
      "+-------+---------+----------+-----+\n",
      "only showing top 5 rows"
     ]
    }
   ],
   "source": [
    "#visit and AIT data:\n",
    "#Visits\n",
    "    #Concatenate post_visid_high , post_visid_low , visit_num , and visit_start_time_gmt .\n",
    "    #Count the unique number of values.\n",
    "\n",
    "Website_visits_df = spark.sql(\"\"\"\n",
    "    select distinct \n",
    "          user_id, \n",
    "          user_hash, \n",
    "          job_agent_id, \n",
    "          to_date(visit_start_time_gmt) as visit_date,\n",
    "          visit_num\n",
    "    from presentation.hits_de AA\n",
    "    where exclude_hit <= 0 \n",
    "          and year = 2020\n",
    "          and month >= 4\n",
    "          and day >= 1\n",
    "\n",
    "    union all\n",
    "\n",
    "    select distinct \n",
    "          user_id, \n",
    "          user_hash, \n",
    "          job_agent_id, \n",
    "          to_date(visit_start_time_gmt) as visit_date,\n",
    "          visit_num\n",
    "    from presentation.hits_android_global AA\n",
    "    where AA.job_site like '%-de' \n",
    "          and exclude_hit <= 0 \n",
    "          and year = 2020\n",
    "          and month >= 4\n",
    "          and day >= 1\n",
    "\n",
    "    union all\n",
    "\n",
    "    select distinct \n",
    "          user_id, \n",
    "          user_hash, \n",
    "          job_agent_id, \n",
    "          to_date(visit_start_time_gmt) as visit_date,\n",
    "          visit_num\n",
    "    from presentation.hits_iphoneapp_global AA\n",
    "    where AA.job_site like '%-de' \n",
    "          and exclude_hit <= 0 \n",
    "          and year = 2020\n",
    "          and month >= 4\n",
    "          and day >= 1\"\"\")\n",
    "\n",
    "#Website_visits_df.show(5)\n",
    "# +-------+--------------------+------------+----------+\n",
    "# |user_id|           user_hash|job_agent_id|visit_date|\n",
    "# +-------+--------------------+------------+----------+\n",
    "# |9418255|cb64310a-cb18-4ea...|        null|2020-08-27|\n",
    "# |9339154|8dfa7aa7-c837-4ea...|        null|2020-08-23|\n",
    "# |9378525|b80ef99f-cb7c-435...|        null|2020-08-23|\n",
    "# |7410858|67692f13-4b48-4a2...|    15461012|2020-08-23|\n",
    "# |4685972|e45a9f05-34d3-4cf...|    14469011|2020-08-23|\n",
    "# +-------+--------------------+------------+----------+\n",
    "\n",
    "\n",
    "Website_visits_df = Website_visits_df.groupBy(\"user_id\", \"visit_num\", \"visit_date\"). \\\n",
    "    agg(F.countDistinct(F.col(\"user_id\")).alias(\"visit\"))\n",
    "\n",
    " \n",
    "\n",
    "#agg(F.countDistinct(F.col(\"user_id\"))\n",
    "# Website_visits_df.show(5)\n",
    "# +-------+---------+----------+-----+\n",
    "# |user_id|visit_num|visit_date|visit|\n",
    "# +-------+---------+----------+-----+\n",
    "# |8320707|       15|2020-08-03|    1|\n",
    "# |6240646|        6|2020-06-30|    1|\n",
    "# |6953249|       18|2020-08-04|    1|\n",
    "# |4348184|       58|2020-07-14|    1|\n",
    "# |4186578|        1|2020-07-07|    1|\n",
    "# +-------+---------+----------+-----+"
   ]
  },
  {
   "cell_type": "code",
   "execution_count": 27,
   "metadata": {},
   "outputs": [
    {
     "data": {
      "application/vnd.jupyter.widget-view+json": {
       "model_id": "a00130ce2c9b4d8999df2d9de71333b9",
       "version_major": 2,
       "version_minor": 0
      },
      "text/plain": [
       "VBox()"
      ]
     },
     "metadata": {},
     "output_type": "display_data"
    },
    {
     "data": {
      "application/vnd.jupyter.widget-view+json": {
       "model_id": "",
       "version_major": 2,
       "version_minor": 0
      },
      "text/plain": [
       "FloatProgress(value=0.0, bar_style='info', description='Progress:', layout=Layout(height='25px', width='50%'),…"
      ]
     },
     "metadata": {},
     "output_type": "display_data"
    }
   ],
   "source": [
    "Website_visits_unsub_df = Website_visits_df.join(Website_unsub_visits_df, \"user_id\", \"left\").distinct()\n",
    "\n",
    "# Website_visits_unsub_df.show(5)\n",
    "# +-------+----------+-----+----------+---------------+\n",
    "# |user_id|visit_date|visit|visit_date|recipient_unsub|\n",
    "# +-------+----------+-----+----------+---------------+\n",
    "# | 100320|2020-07-21|    1|      null|           null|\n",
    "# |1005313|2020-07-20|    1|2020-06-16|              1|\n",
    "# |1005313|2020-06-02|    1|2020-06-16|              1|\n",
    "# |1005313|2020-07-06|    1|2020-06-16|              1|\n",
    "# |1005313|2020-06-09|    1|2020-06-16|              1|\n",
    "# +-------+----------+-----+----------+---------------+"
   ]
  },
  {
   "cell_type": "code",
   "execution_count": 30,
   "metadata": {},
   "outputs": [
    {
     "data": {
      "application/vnd.jupyter.widget-view+json": {
       "model_id": "bc973853ff8849a28c7d3a3650fd7991",
       "version_major": 2,
       "version_minor": 0
      },
      "text/plain": [
       "VBox()"
      ]
     },
     "metadata": {},
     "output_type": "display_data"
    },
    {
     "data": {
      "application/vnd.jupyter.widget-view+json": {
       "model_id": "",
       "version_major": 2,
       "version_minor": 0
      },
      "text/plain": [
       "FloatProgress(value=0.0, bar_style='info', description='Progress:', layout=Layout(height='25px', width='50%'),…"
      ]
     },
     "metadata": {},
     "output_type": "display_data"
    }
   ],
   "source": [
    "#join selligant and website traffic and groupby:\n",
    "\n",
    "selligant_website_recipient_df = selligent_df.join(Website_visits_unsub_df, \"user_id\", \"left\").distinct().\\\n",
    "    groupBy(\"user_id\", \"action_day\", \"recipient_unsub\", \"visit\", \"visit_num\", \"campaign_type\", \"send\", \"unique_open\", \"unique_clicks\"). \\\n",
    "    agg(F.sum(F.col(\"send\")).alias(\"recipient\"))\n",
    "\n",
    "        \n",
    "\n",
    "# selligant_website_df.show(5)\n",
    "# +-------+----------+----------+-------------+---------+\n",
    "# |user_id|action_day|visit_date|campaign_type|sum(send)|\n",
    "# +-------+----------+----------+-------------+---------+\n",
    "# |1168557|2020-04-29|2020-08-09|       Others|        0|\n",
    "# |1168557|2020-04-29|2020-08-11|       Others|        0|\n",
    "# |1168557|2020-04-09|2020-08-09|           JA|        1|\n",
    "# |1168557|2020-04-09|2020-08-11|           JA|        1|\n",
    "# |1168557|2020-04-24|2020-08-09|           JA|        1|\n",
    "# +-------+----------+----------+-------------+---------+\n"
   ]
  },
  {
   "cell_type": "code",
   "execution_count": 31,
   "metadata": {},
   "outputs": [
    {
     "data": {
      "application/vnd.jupyter.widget-view+json": {
       "model_id": "3df3647517574897b559e19a05f42595",
       "version_major": 2,
       "version_minor": 0
      },
      "text/plain": [
       "VBox()"
      ]
     },
     "metadata": {},
     "output_type": "display_data"
    },
    {
     "data": {
      "application/vnd.jupyter.widget-view+json": {
       "model_id": "",
       "version_major": 2,
       "version_minor": 0
      },
      "text/plain": [
       "FloatProgress(value=0.0, bar_style='info', description='Progress:', layout=Layout(height='25px', width='50%'),…"
      ]
     },
     "metadata": {},
     "output_type": "display_data"
    }
   ],
   "source": [
    "selligant_website_recipient_df = selligent_df.join(Website_visits_unsub_df, \"user_id\", \"left\").distinct().\\\n",
    "    groupBy(\"user_id\", \"action_day\", \"recipient_unsub\", \"visit\", \"visit_num\", \"campaign_type\", \"send\", \"unique_open\", \"unique_clicks\"). \\\n",
    "    agg(F.sum(F.col(\"unique_open\")).alias(\"recipient_unique_open\"))"
   ]
  },
  {
   "cell_type": "code",
   "execution_count": 32,
   "metadata": {},
   "outputs": [
    {
     "data": {
      "application/vnd.jupyter.widget-view+json": {
       "model_id": "2d49eb1bdcdd4977a975e7da818342be",
       "version_major": 2,
       "version_minor": 0
      },
      "text/plain": [
       "VBox()"
      ]
     },
     "metadata": {},
     "output_type": "display_data"
    },
    {
     "data": {
      "application/vnd.jupyter.widget-view+json": {
       "model_id": "",
       "version_major": 2,
       "version_minor": 0
      },
      "text/plain": [
       "FloatProgress(value=0.0, bar_style='info', description='Progress:', layout=Layout(height='25px', width='50%'),…"
      ]
     },
     "metadata": {},
     "output_type": "display_data"
    }
   ],
   "source": [
    "selligant_website_recipient_df = selligent_df.join(Website_visits_unsub_df, \"user_id\", \"left\").distinct().\\\n",
    "    groupBy(\"user_id\", \"action_day\", \"recipient_unsub\", \"visit\", \"visit_num\", \"campaign_type\", \"send\", \"unique_open\", \"unique_clicks\"). \\\n",
    "    agg(F.sum(F.col(\"unique_clicks\")).alias(\"recipient_unique_clicks\"))\n",
    "\n",
    "\n",
    "selligant_website_recipient_df.show(5)\n",
    "# +-------+----------+---------------+-----+-------------+----+-----------+-------------+-----------------------+\n",
    "# |user_id|action_day|recipient_unsub|visit|campaign_type|send|unique_open|unique_clicks|recipient_unique_clicks|\n",
    "# +-------+----------+---------------+-----+-------------+----+-----------+-------------+-----------------------+\n",
    "# |1005313|2020-04-15|              1|    1|           JA|   1|          1|            0|                      0|\n",
    "# |1005313|2020-04-01|              1|    1|           JA|   1|          1|            0|                      0|\n",
    "# |1005313|2020-04-02|              1|    1|           JA|   1|          1|            0|                      0|\n",
    "# |1005313|2020-04-11|              1|    1|           JA|   1|          1|            0|                      0|\n",
    "# |1005313|2020-04-14|              1|    1|           JA|   0|          0|            1|                     13|\n",
    "# +-------+----------+---------------+-----+-------------+----+-----------+-------------+-----------------------+\n"
   ]
  },
  {
   "cell_type": "code",
   "execution_count": 33,
   "metadata": {},
   "outputs": [
    {
     "data": {
      "application/vnd.jupyter.widget-view+json": {
       "model_id": "4387986a43c146e18b53f2ab789dd143",
       "version_major": 2,
       "version_minor": 0
      },
      "text/plain": [
       "VBox()"
      ]
     },
     "metadata": {},
     "output_type": "display_data"
    },
    {
     "data": {
      "application/vnd.jupyter.widget-view+json": {
       "model_id": "",
       "version_major": 2,
       "version_minor": 0
      },
      "text/plain": [
       "FloatProgress(value=0.0, bar_style='info', description='Progress:', layout=Layout(height='25px', width='50%'),…"
      ]
     },
     "metadata": {},
     "output_type": "display_data"
    },
    {
     "name": "stdout",
     "output_type": "stream",
     "text": [
      "+-----------------------------+--------+---------+\n",
      "|campaign_type_recipient_unsub|       1|     null|\n",
      "+-----------------------------+--------+---------+\n",
      "|                           JA|42756796|223306954|\n",
      "|                          IJM|27361828|150391758|\n",
      "|                       Others| 1939857|  8259702|\n",
      "+-----------------------------+--------+---------+"
     ]
    }
   ],
   "source": [
    "#unsubscribe per recipient for compaign groups:\n",
    "selligant_website_recipient_df.crosstab(\"campaign_type\", \"recipient_unsub\").show()\n",
    "\n",
    "\n",
    "#without filtering on campaign type:\n",
    "# +-----------------------------+-------+--------+\n",
    "# |campaign_type_recipient_unsub|      1|    null|\n",
    "# +-----------------------------+-------+--------+\n",
    "# |                           JA|2062973|26108554|\n",
    "# |                          IJM|1534735|13368049|\n",
    "# |                       Others| 252582| 2995383|\n",
    "# |                          CLC|  17833|  106056|\n",
    "# +-----------------------------+-------+--------+\n",
    "\n",
    "\n",
    "#with filtering on three campaign types\n",
    "# +-----------------------------+-------+--------+\n",
    "# |campaign_type_recipient_unsub|      1|    null|\n",
    "# +-----------------------------+-------+--------+\n",
    "# |                           JA|2062973|26108554|\n",
    "# |                          IJM|1534735|13368049|\n",
    "# |                       Others|  96310|  818056|\n",
    "# +-----------------------------+-------+--------+"
   ]
  },
  {
   "cell_type": "code",
   "execution_count": null,
   "metadata": {},
   "outputs": [],
   "source": []
  }
 ],
 "metadata": {
  "kernelspec": {
   "display_name": "PySpark",
   "language": "",
   "name": "pysparkkernel"
  },
  "language_info": {
   "codemirror_mode": {
    "name": "python",
    "version": 2
   },
   "mimetype": "text/x-python",
   "name": "pyspark",
   "pygments_lexer": "python2"
  }
 },
 "nbformat": 4,
 "nbformat_minor": 4
}
