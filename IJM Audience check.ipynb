{
 "cells": [
  {
   "cell_type": "code",
   "execution_count": 1,
   "metadata": {},
   "outputs": [
    {
     "data": {
      "application/vnd.jupyter.widget-view+json": {
       "model_id": "3024ba6bf8644aad9f8cada2dc7569e8",
       "version_major": 2,
       "version_minor": 0
      },
      "text/plain": [
       "VBox()"
      ]
     },
     "metadata": {},
     "output_type": "display_data"
    },
    {
     "name": "stdout",
     "output_type": "stream",
     "text": [
      "Starting Spark application\n"
     ]
    },
    {
     "data": {
      "text/html": [
       "<table>\n",
       "<tr><th>ID</th><th>YARN Application ID</th><th>Kind</th><th>State</th><th>Spark UI</th><th>Driver log</th><th>Current session?</th></tr><tr><td>36</td><td>application_1588279895888_0013</td><td>pyspark</td><td>idle</td><td><a target=\"_blank\" href=\"http://ip-10-249-19-252.gc.stepstone.com:20888/proxy/application_1588279895888_0013/\">Link</a></td><td><a target=\"_blank\" href=\"http://ip-10-249-19-194.gc.stepstone.com:8042/node/containerlogs/container_e02_1588279895888_0013_01_000001/assumed-role_assume_role_DC_AWS_GC_DW_DATA_SCIENCE_BASIC_ThioAl01_stepstone_com\">Link</a></td><td>✔</td></tr></table>"
      ],
      "text/plain": [
       "<IPython.core.display.HTML object>"
      ]
     },
     "metadata": {},
     "output_type": "display_data"
    },
    {
     "data": {
      "application/vnd.jupyter.widget-view+json": {
       "model_id": "",
       "version_major": 2,
       "version_minor": 0
      },
      "text/plain": [
       "FloatProgress(value=0.0, bar_style='info', description='Progress:', layout=Layout(height='25px', width='50%'),…"
      ]
     },
     "metadata": {},
     "output_type": "display_data"
    },
    {
     "name": "stdout",
     "output_type": "stream",
     "text": [
      "SparkSession available as 'spark'.\n"
     ]
    },
    {
     "data": {
      "application/vnd.jupyter.widget-view+json": {
       "model_id": "",
       "version_major": 2,
       "version_minor": 0
      },
      "text/plain": [
       "FloatProgress(value=0.0, bar_style='info', description='Progress:', layout=Layout(height='25px', width='50%'),…"
      ]
     },
     "metadata": {},
     "output_type": "display_data"
    }
   ],
   "source": [
    "from pyspark.sql import types as T\n",
    "from pyspark.sql import functions as F \n",
    "from pyspark.sql import DataFrame\n",
    "from pyspark.sql.functions import * \n",
    "from pyspark.sql.window import Window\n",
    "import sys\n",
    "\n",
    "# from pyspark.sql.types import IntegerType\n",
    "# from pyspark.sql.functions import first"
   ]
  },
  {
   "cell_type": "code",
   "execution_count": 2,
   "metadata": {},
   "outputs": [
    {
     "data": {
      "application/vnd.jupyter.widget-view+json": {
       "model_id": "b04e2b955a6b4bb0bdd894da3848ce5d",
       "version_major": 2,
       "version_minor": 0
      },
      "text/plain": [
       "VBox()"
      ]
     },
     "metadata": {},
     "output_type": "display_data"
    },
    {
     "data": {
      "application/vnd.jupyter.widget-view+json": {
       "model_id": "",
       "version_major": 2,
       "version_minor": 0
      },
      "text/plain": [
       "FloatProgress(value=0.0, bar_style='info', description='Progress:', layout=Layout(height='25px', width='50%'),…"
      ]
     },
     "metadata": {},
     "output_type": "display_data"
    }
   ],
   "source": [
    "# Table 1A+1B+2 \n",
    "registrations_raw = spark.sql(\"\"\"\n",
    "    select \n",
    "        UID.id as user_id\n",
    "        , to_date(dcreated) as reg_date\n",
    "        , passwordset\n",
    "        , subscriptionid\n",
    "        , to_date(subscriptiondate) as sub_date\n",
    "        , isactive\n",
    "        , manualunsubscribe\n",
    "        , to_date(logdatetime) as log_date\n",
    "        , logaction\n",
    "        , count(logdatetime) as n_events\n",
    "    from stepstonede.userlogin UID\n",
    "    left join stepstonede.subscription SUB\n",
    "    on UID.id = SUB.userlogin_id\n",
    "    left join stepstonede.logmystst LOG\n",
    "    on \n",
    "        UID.id = LOG.userloginid \n",
    "        and logaction in (\"MyStSt,AccountValidation\",\"AUM,AccountValidation\", \"AUM,confirmation\", \"IJM, subscription\", \"SIM_LastOpen\", \"IJM, autodeactivate\", \"IJM, autoactivate\", \n",
    "            \"IJM, Manual Deactivate\", \"IJM, activation\", \"IJM, unsubscription\", \"JA,activation\") --- added \"JA,activation\" and \"AUM,confirmation\" \n",
    "    where\n",
    "        dcreated >= '2020-01-01' \n",
    "    group by\n",
    "        UID.id \n",
    "        , reg_date\n",
    "        , passwordset\n",
    "        , subscriptionid\n",
    "        , sub_date\n",
    "        , isactive\n",
    "        , manualunsubscribe\n",
    "        , log_date\n",
    "        , logaction\n",
    "    order by reg_date, log_date\"\"\")\n",
    "\n",
    "\n",
    "#\"JA,activation\" added to logaction list"
   ]
  },
  {
   "cell_type": "code",
   "execution_count": 3,
   "metadata": {},
   "outputs": [
    {
     "data": {
      "application/vnd.jupyter.widget-view+json": {
       "model_id": "c4ba4ac7714143d28c0112b2e895e7e9",
       "version_major": 2,
       "version_minor": 0
      },
      "text/plain": [
       "VBox()"
      ]
     },
     "metadata": {},
     "output_type": "display_data"
    },
    {
     "data": {
      "application/vnd.jupyter.widget-view+json": {
       "model_id": "",
       "version_major": 2,
       "version_minor": 0
      },
      "text/plain": [
       "FloatProgress(value=0.0, bar_style='info', description='Progress:', layout=Layout(height='25px', width='50%'),…"
      ]
     },
     "metadata": {},
     "output_type": "display_data"
    },
    {
     "name": "stdout",
     "output_type": "stream",
     "text": [
      "+-------------+-----------------+---------------+--------------+-----------------+-------------------+---------------------+-------------+\n",
      "|registrations|accountactivation|IJMSubscription|IJMunsubscribe|IJMautoactivation|IJMautodeactivation|IJMManualDeactivation|IJMactivation|\n",
      "+-------------+-----------------+---------------+--------------+-----------------+-------------------+---------------------+-------------+\n",
      "|       403794|           254149|         236350|            22|            94120|              94341|                    0|            0|\n",
      "+-------------+-----------------+---------------+--------------+-----------------+-------------------+---------------------+-------------+"
     ]
    }
   ],
   "source": [
    "# New: these are the ratios i spoke about - count of distinct user id values\n",
    "registrations_raw.agg(F.countDistinct(\"user_id\").alias(\"registrations\"),\n",
    "                      F.countDistinct(F.when(F.col(\"logaction\").isin([\"MyStSt,AccountValidation\",\"AUM,AccountValidation\",\"JA, activation\",\"AUM,confirmation\"]), F.col(\"user_id\"))).alias(\"accountactivation\"),\n",
    "                      F.countDistinct(F.when(F.col(\"logaction\").isin([\"IJM, subscription\"]), F.col(\"user_id\"))).alias(\"IJMSubscription\"),\n",
    "                      F.countDistinct(F.when(F.col(\"logaction\").isin([\"IJM, unsubscription\"]), F.col(\"user_id\"))).alias(\"IJMunsubscribe\"),\n",
    "                      F.countDistinct(F.when(F.col(\"logaction\").isin([\"IJM, autoactivate\"]), F.col(\"user_id\"))).alias(\"IJMautoactivation\"),\n",
    "                      F.countDistinct(F.when(F.col(\"logaction\").isin([\"IJM, autodeactivate\"]), F.col(\"user_id\"))).alias(\"IJMautodeactivation\"),\n",
    "                      F.countDistinct(F.when(F.col(\"logaction\").isin([\"IJM, Manual Deactivate\"]), F.col(\"user_id\"))).alias(\"IJMManualDeactivation\"),\n",
    "                      F.countDistinct(F.when(F.col(\"logaction\").isin([\"IJM, activation\"]), F.col(\"user_id\"))).alias(\"IJMactivation\")).show()\n",
    "# from this we get ratios to validate:\n",
    "# - Account activations = 253000/400225 = 63% this seems to be OK\n",
    "# - IJMSubscriptions = 232952 / 400225 = this seems about right + check against subscription table\n",
    "# - IJMunsubscribe = 22 this number is much too low! This log doesnt seem to be written correctly\n",
    "# - IJMautoactivation = roughly 1/4 of registrations: seems very low\n",
    "# - IJMautodeactivation - similar magnitude as IJMautoactivation - does seem to make sense\n",
    "# - IJMactivation - does not seem to be used anymore"
   ]
  },
  {
   "cell_type": "code",
   "execution_count": 4,
   "metadata": {},
   "outputs": [
    {
     "data": {
      "application/vnd.jupyter.widget-view+json": {
       "model_id": "edfec8a0ea0c41b1a38431e8f4a22636",
       "version_major": 2,
       "version_minor": 0
      },
      "text/plain": [
       "VBox()"
      ]
     },
     "metadata": {},
     "output_type": "display_data"
    },
    {
     "data": {
      "application/vnd.jupyter.widget-view+json": {
       "model_id": "",
       "version_major": 2,
       "version_minor": 0
      },
      "text/plain": [
       "FloatProgress(value=0.0, bar_style='info', description='Progress:', layout=Layout(height='25px', width='50%'),…"
      ]
     },
     "metadata": {},
     "output_type": "display_data"
    },
    {
     "name": "stdout",
     "output_type": "stream",
     "text": [
      "+-------------+-----------------+---------------+--------------+-----------------+-------------------+---------------------+-------------+\n",
      "|registrations|accountactivation|IJMSubscription|IJMunsubscribe|IJMautoactivation|IJMautodeactivation|IJMManualDeactivation|IJMactivation|\n",
      "+-------------+-----------------+---------------+--------------+-----------------+-------------------+---------------------+-------------+\n",
      "|       403794|           254149|         236665|         41718|            94120|              94341|                    0|            0|\n",
      "+-------------+-----------------+---------------+--------------+-----------------+-------------------+---------------------+-------------+"
     ]
    }
   ],
   "source": [
    "# here with changed logic for IJM subscription and IJMunsubscribe\n",
    "registrations_raw.agg(F.countDistinct(\"user_id\").alias(\"registrations\"),\n",
    "                      F.countDistinct(F.when(F.col(\"logaction\").isin([\"MyStSt,AccountValidation\",\"AUM,AccountValidation\",\"JA, activation\",\"AUM,confirmation\"]), F.col(\"user_id\"))).alias(\"accountactivation\"),\n",
    "                      F.countDistinct(F.when(F.col(\"subscriptionid\").isNotNull(), F.col(\"user_id\"))).alias(\"IJMSubscription\"),\n",
    "                      F.countDistinct(F.when(F.col(\"manualunsubscribe\") == True, F.col(\"user_id\"))).alias(\"IJMunsubscribe\"),\n",
    "                      F.countDistinct(F.when(F.col(\"logaction\").isin([\"IJM, autoactivate\"]), F.col(\"user_id\"))).alias(\"IJMautoactivation\"),\n",
    "                      F.countDistinct(F.when(F.col(\"logaction\").isin([\"IJM, autodeactivate\"]), F.col(\"user_id\"))).alias(\"IJMautodeactivation\"),\n",
    "                      F.countDistinct(F.when(F.col(\"logaction\").isin([\"IJM, Manual Deactivate\"]), F.col(\"user_id\"))).alias(\"IJMManualDeactivation\"),\n",
    "                      F.countDistinct(F.when(F.col(\"logaction\").isin([\"IJM, activation\"]), F.col(\"user_id\"))).alias(\"IJMactivation\")).show()\n",
    "# ijm subscription yields similar number as above - so both logmystst and subscription table seem to be ok to use\n",
    "# ijm unsubscription captured in subscription table - but not sure if we can find a timestamp for this? we know from another analysis that majority of unsubscribes are done on day 1 of receiving an email, \n",
    "# so we could use subscription date as the unsubscribe date"
   ]
  },
  {
   "cell_type": "code",
   "execution_count": 5,
   "metadata": {},
   "outputs": [
    {
     "data": {
      "application/vnd.jupyter.widget-view+json": {
       "model_id": "41b0843c29314e90a2de8d26f87bb7b5",
       "version_major": 2,
       "version_minor": 0
      },
      "text/plain": [
       "VBox()"
      ]
     },
     "metadata": {},
     "output_type": "display_data"
    },
    {
     "data": {
      "application/vnd.jupyter.widget-view+json": {
       "model_id": "",
       "version_major": 2,
       "version_minor": 0
      },
      "text/plain": [
       "FloatProgress(value=0.0, bar_style='info', description='Progress:', layout=Layout(height='25px', width='50%'),…"
      ]
     },
     "metadata": {},
     "output_type": "display_data"
    }
   ],
   "source": [
    "# Conclusions:\n",
    "# we assume account validation is stored correctly in logactions [\"MyStSt,AccountValidation\",\"AUM,AccountValidation\",\"JA, activation\",\"AUM,confirmation\"]\n",
    "# we take the IJM subscription information from logactions\n",
    "# we take the IJM unsubscribe action from the subscription table and assume the unsubscribe happens on the day of the subscription\n",
    "# we include ijmautoactivation and ijmdeactivation in the analysis"
   ]
  },
  {
   "cell_type": "code",
   "execution_count": 6,
   "metadata": {},
   "outputs": [
    {
     "data": {
      "application/vnd.jupyter.widget-view+json": {
       "model_id": "f9cba3ce2e0d4e59ac159ab181d4d153",
       "version_major": 2,
       "version_minor": 0
      },
      "text/plain": [
       "VBox()"
      ]
     },
     "metadata": {},
     "output_type": "display_data"
    },
    {
     "data": {
      "application/vnd.jupyter.widget-view+json": {
       "model_id": "",
       "version_major": 2,
       "version_minor": 0
      },
      "text/plain": [
       "FloatProgress(value=0.0, bar_style='info', description='Progress:', layout=Layout(height='25px', width='50%'),…"
      ]
     },
     "metadata": {},
     "output_type": "display_data"
    }
   ],
   "source": [
    "#UPDATED!!!\n",
    "# Table 2: validated accounts\n",
    "registration_df = registrations_raw.select(\"user_id\", \"reg_date\").distinct().\\\n",
    "    join(registrations_raw.select(\"user_id\", \"logaction\", \"log_date\"). \\\n",
    "        filter(F.col(\"logaction\").isin([\"MyStSt,AccountValidation\",\"AUM,AccountValidation\",\"JA, activation\",\"AUM,confirmation\"])). \\\n",
    "        groupBy(\"user_id\"). \\\n",
    "        agg(F.min(\"log_date\").alias(\"AccountValidation\")), \"user_id\", \"left\")\n"
   ]
  },
  {
   "cell_type": "code",
   "execution_count": 7,
   "metadata": {},
   "outputs": [
    {
     "data": {
      "application/vnd.jupyter.widget-view+json": {
       "model_id": "2f4c44f9604e478f94b57c433ce84981",
       "version_major": 2,
       "version_minor": 0
      },
      "text/plain": [
       "VBox()"
      ]
     },
     "metadata": {},
     "output_type": "display_data"
    },
    {
     "data": {
      "application/vnd.jupyter.widget-view+json": {
       "model_id": "",
       "version_major": 2,
       "version_minor": 0
      },
      "text/plain": [
       "FloatProgress(value=0.0, bar_style='info', description='Progress:', layout=Layout(height='25px', width='50%'),…"
      ]
     },
     "metadata": {},
     "output_type": "display_data"
    },
    {
     "name": "stdout",
     "output_type": "stream",
     "text": [
      "+------+------------------+\n",
      "|  regs|validated_accounts|\n",
      "+------+------------------+\n",
      "|403794|            254149|\n",
      "+------+------------------+"
     ]
    }
   ],
   "source": [
    "#CHECK!\n",
    "registration_df.agg(F.countDistinct(\"user_id\").alias(\"regs\"),\n",
    "                    F.countDistinct(F.when(F.col(\"AccountValidation\").isNotNull(), F.col(\"user_id\"))).alias(\"validated_accounts\")).show()"
   ]
  },
  {
   "cell_type": "code",
   "execution_count": 8,
   "metadata": {},
   "outputs": [
    {
     "data": {
      "application/vnd.jupyter.widget-view+json": {
       "model_id": "956d4382fbef48f9904774ee3092052d",
       "version_major": 2,
       "version_minor": 0
      },
      "text/plain": [
       "VBox()"
      ]
     },
     "metadata": {},
     "output_type": "display_data"
    },
    {
     "data": {
      "application/vnd.jupyter.widget-view+json": {
       "model_id": "",
       "version_major": 2,
       "version_minor": 0
      },
      "text/plain": [
       "FloatProgress(value=0.0, bar_style='info', description='Progress:', layout=Layout(height='25px', width='50%'),…"
      ]
     },
     "metadata": {},
     "output_type": "display_data"
    }
   ],
   "source": [
    "# UPDATED!!!!\n",
    "# Table2A: Validated accounts & considered_dates\n",
    "# create DF with all dates from first day to last day per user\n",
    "# user_df =\n",
    "considered_date_df = registrations_raw.select(\"user_id\", \"reg_date\"). \\\n",
    "    distinct(). \\\n",
    "    withColumn(\"first_day\", F.to_date(F.col(\"reg_date\"))). \\\n",
    "    withColumn(\"last_day\", F.to_date(F.lit(registrations_raw.select(F.max(F.col(\"reg_date\")).alias(\"max_date\")).collect()[0][0]))). \\\n",
    "    withColumn(\"diffDays\",  F.datediff(\"last_day\", \"first_day\")). \\\n",
    "    withColumn(\"repeat\", F.expr(\"split(repeat(',', diffDays), ',')\")).\\\n",
    "    select(\"*\", F.posexplode(\"repeat\").alias(\"daycount\", \"val\")).\\\n",
    "    drop(\"repeat\", \"val\", \"diffDays\").\\\n",
    "    withColumn(\"considered_date\", F.expr(\"date_add(first_day, daycount)\")).\\\n",
    "    select(\"user_id\", \"considered_date\")\n",
    "\n",
    "validated_considered_df = registration_df.join(considered_date_df, \"user_id\", \"left\").\\\n",
    "    withColumn(\"validated_account\", F.when(F.col(\"AccountValidation\")<=F.col(\"considered_date\"), F.lit(1)).otherwise(F.lit(0))).\\\n",
    "    select(\"user_id\", \"reg_date\", \"considered_date\", \"validated_account\")\n"
   ]
  },
  {
   "cell_type": "code",
   "execution_count": 9,
   "metadata": {},
   "outputs": [
    {
     "data": {
      "application/vnd.jupyter.widget-view+json": {
       "model_id": "f556fb2911924f998a73056359ff4680",
       "version_major": 2,
       "version_minor": 0
      },
      "text/plain": [
       "VBox()"
      ]
     },
     "metadata": {},
     "output_type": "display_data"
    },
    {
     "data": {
      "application/vnd.jupyter.widget-view+json": {
       "model_id": "",
       "version_major": 2,
       "version_minor": 0
      },
      "text/plain": [
       "FloatProgress(value=0.0, bar_style='info', description='Progress:', layout=Layout(height='25px', width='50%'),…"
      ]
     },
     "metadata": {},
     "output_type": "display_data"
    },
    {
     "name": "stdout",
     "output_type": "stream",
     "text": [
      "+---------------+-----+------------------+\n",
      "|considered_date| regs|validated_accounts|\n",
      "+---------------+-----+------------------+\n",
      "|     2020-01-01| 1450|               893|\n",
      "|     2020-01-02| 4699|              3039|\n",
      "|     2020-01-03| 7957|              5358|\n",
      "|     2020-01-04|10540|              7263|\n",
      "|     2020-01-05|13566|              9407|\n",
      "|     2020-01-06|17681|             12293|\n",
      "|     2020-01-07|21822|             15321|\n",
      "|     2020-01-08|25985|             18346|\n",
      "|     2020-01-09|29518|             20959|\n",
      "|     2020-01-10|32367|             23135|\n",
      "|     2020-01-11|34610|             24830|\n",
      "|     2020-01-12|37812|             27221|\n",
      "|     2020-01-13|41954|             30307|\n",
      "|     2020-01-14|46151|             33427|\n",
      "|     2020-01-15|50003|             36267|\n",
      "|     2020-01-16|53805|             39122|\n",
      "|     2020-01-17|56681|             41234|\n",
      "|     2020-01-18|58996|             42842|\n",
      "|     2020-01-19|61879|             44897|\n",
      "|     2020-01-20|66031|             47914|\n",
      "+---------------+-----+------------------+\n",
      "only showing top 20 rows"
     ]
    }
   ],
   "source": [
    "# CHECK!\n",
    "validated_considered_df.groupBy(\"considered_date\").\\\n",
    "    agg(F.countDistinct(\"user_id\").alias(\"regs\"),\n",
    "        F.countDistinct(F.when(F.col(\"validated_account\") == 1, F.col(\"user_id\"))).alias(\"validated_accounts\")).\\\n",
    "    sort(F.col(\"considered_date\")).show(20)"
   ]
  },
  {
   "cell_type": "code",
   "execution_count": 10,
   "metadata": {},
   "outputs": [
    {
     "data": {
      "application/vnd.jupyter.widget-view+json": {
       "model_id": "a6def248d3e4443dbda3558ece38bf42",
       "version_major": 2,
       "version_minor": 0
      },
      "text/plain": [
       "VBox()"
      ]
     },
     "metadata": {},
     "output_type": "display_data"
    },
    {
     "data": {
      "application/vnd.jupyter.widget-view+json": {
       "model_id": "",
       "version_major": 2,
       "version_minor": 0
      },
      "text/plain": [
       "FloatProgress(value=0.0, bar_style='info', description='Progress:', layout=Layout(height='25px', width='50%'),…"
      ]
     },
     "metadata": {},
     "output_type": "display_data"
    }
   ],
   "source": [
    "#UPDATED!!!\n",
    "# Table2B: IJM subscription \n",
    "IJM_subscription_df = registrations_raw. \\\n",
    "    filter(F.col(\"logaction\").isin([\"IJM, subscription\"])). \\\n",
    "    select(\"user_id\", \"log_date\", \"n_events\").\\\n",
    "    withColumn(\"n_events\", F.when(F.col(\"n_events\").isNull(), F.lit(0)).otherwise(F.col(\"n_events\")))"
   ]
  },
  {
   "cell_type": "code",
   "execution_count": 11,
   "metadata": {},
   "outputs": [
    {
     "data": {
      "application/vnd.jupyter.widget-view+json": {
       "model_id": "70def0970d6c467497c986a633f99a4c",
       "version_major": 2,
       "version_minor": 0
      },
      "text/plain": [
       "VBox()"
      ]
     },
     "metadata": {},
     "output_type": "display_data"
    },
    {
     "data": {
      "application/vnd.jupyter.widget-view+json": {
       "model_id": "",
       "version_major": 2,
       "version_minor": 0
      },
      "text/plain": [
       "FloatProgress(value=0.0, bar_style='info', description='Progress:', layout=Layout(height='25px', width='50%'),…"
      ]
     },
     "metadata": {},
     "output_type": "display_data"
    }
   ],
   "source": [
    "#UPDATED!!!\n",
    "#Table3.1 (considered_subscribed_df): Join Table2a(validated_considered_df) and Table2B(IJM_subscription_df) \n",
    "#on User ID and considered_date = subscription date\n",
    "#join type: left (please confirm)\n",
    "\n",
    "#register intermidiate tables to be able to use sql\n",
    "validated_considered_df.registerTempTable(\"validated_considered_df\")\n",
    "IJM_subscription_df.registerTempTable(\"IJM_subscription_df\")\n",
    "\n",
    "#join Table2A (validated_considered_df) to Table2B (IJM_subscription_df) \n",
    "#on 'user_id' and considered_date = subscription date\n",
    "\n",
    "considered_subscribed_df1 = spark.sql(\"\"\"\n",
    "    select *\n",
    "    from validated_considered_df as df1\n",
    "    left join IJM_subscription_df as df2\n",
    "    on df1.user_id = df2.user_id\n",
    "    and df1.considered_date = df2.log_date\n",
    "    \"\"\"\n",
    ")\n",
    "\n",
    "considered_subscribed_df = considered_subscribed_df1.select(validated_considered_df.user_id,\n",
    "                                                            validated_considered_df.reg_date,\n",
    "                                                            'validated_account', \n",
    "                                                            'considered_date', \n",
    "                                                            col('n_events').alias('sub_events')).distinct()\n",
    "\n",
    "considered_subscribed_df = considered_subscribed_df.fillna({'sub_events':'0'})"
   ]
  },
  {
   "cell_type": "code",
   "execution_count": 12,
   "metadata": {},
   "outputs": [
    {
     "data": {
      "application/vnd.jupyter.widget-view+json": {
       "model_id": "0aaf49d7405440708a52d32565af6d6e",
       "version_major": 2,
       "version_minor": 0
      },
      "text/plain": [
       "VBox()"
      ]
     },
     "metadata": {},
     "output_type": "display_data"
    },
    {
     "data": {
      "application/vnd.jupyter.widget-view+json": {
       "model_id": "",
       "version_major": 2,
       "version_minor": 0
      },
      "text/plain": [
       "FloatProgress(value=0.0, bar_style='info', description='Progress:', layout=Layout(height='25px', width='50%'),…"
      ]
     },
     "metadata": {},
     "output_type": "display_data"
    },
    {
     "name": "stdout",
     "output_type": "stream",
     "text": [
      "+---------------+-----+------------------+-----------------+\n",
      "|considered_date| regs|validated_accounts|new_subscriptions|\n",
      "+---------------+-----+------------------+-----------------+\n",
      "|     2020-01-01| 1450|               893|              674|\n",
      "|     2020-01-02| 4699|              3039|             1735|\n",
      "|     2020-01-03| 7957|              5358|             1907|\n",
      "|     2020-01-04|10540|              7263|             1508|\n",
      "|     2020-01-05|13566|              9407|             1699|\n",
      "|     2020-01-06|17681|             12293|             2348|\n",
      "|     2020-01-07|21822|             15321|             2539|\n",
      "|     2020-01-08|25985|             18346|             2581|\n",
      "|     2020-01-09|29518|             20959|             2303|\n",
      "|     2020-01-10|32367|             23135|             1873|\n",
      "|     2020-01-11|34610|             24830|             1441|\n",
      "|     2020-01-12|37812|             27221|             2022|\n",
      "|     2020-01-13|41954|             30307|             2756|\n",
      "|     2020-01-14|46151|             33427|             2793|\n",
      "|     2020-01-15|50003|             36267|             2482|\n",
      "|     2020-01-16|53805|             39122|             2527|\n",
      "|     2020-01-17|56681|             41234|             1894|\n",
      "|     2020-01-18|58996|             42842|             1408|\n",
      "|     2020-01-19|61879|             44897|             1820|\n",
      "|     2020-01-20|66031|             47914|             2770|\n",
      "+---------------+-----+------------------+-----------------+\n",
      "only showing top 20 rows"
     ]
    }
   ],
   "source": [
    "# CHECK!\n",
    "considered_subscribed_df.groupBy(\"considered_date\").\\\n",
    "    agg(F.countDistinct(\"user_id\").alias(\"regs\"),\n",
    "        F.countDistinct(F.when(F.col(\"validated_account\") == 1, F.col(\"user_id\"))).alias(\"validated_accounts\"),\n",
    "        F.countDistinct(F.when(F.col(\"sub_events\") >= 1, F.col(\"user_id\"))).alias(\"new_subscriptions\")).\\\n",
    "    sort(F.col(\"considered_date\")).show(20)"
   ]
  },
  {
   "cell_type": "code",
   "execution_count": 13,
   "metadata": {},
   "outputs": [
    {
     "data": {
      "application/vnd.jupyter.widget-view+json": {
       "model_id": "30a07e6febfe4db49512889f144db092",
       "version_major": 2,
       "version_minor": 0
      },
      "text/plain": [
       "VBox()"
      ]
     },
     "metadata": {},
     "output_type": "display_data"
    },
    {
     "data": {
      "application/vnd.jupyter.widget-view+json": {
       "model_id": "",
       "version_major": 2,
       "version_minor": 0
      },
      "text/plain": [
       "FloatProgress(value=0.0, bar_style='info', description='Progress:', layout=Layout(height='25px', width='50%'),…"
      ]
     },
     "metadata": {},
     "output_type": "display_data"
    }
   ],
   "source": [
    "# UPDATED!!!\n",
    "#Table2C: (IJM_unsubscription_df)\n",
    "IJM_unsubscription_df = registrations_raw. \\\n",
    "    filter(F.col(\"manualunsubscribe\") == True). \\\n",
    "    select(\"user_id\", \"manualunsubscribe\").distinct()\n"
   ]
  },
  {
   "cell_type": "code",
   "execution_count": 14,
   "metadata": {},
   "outputs": [
    {
     "data": {
      "application/vnd.jupyter.widget-view+json": {
       "model_id": "0f82ddec25d146478cb751600e8c40b7",
       "version_major": 2,
       "version_minor": 0
      },
      "text/plain": [
       "VBox()"
      ]
     },
     "metadata": {},
     "output_type": "display_data"
    },
    {
     "data": {
      "application/vnd.jupyter.widget-view+json": {
       "model_id": "",
       "version_major": 2,
       "version_minor": 0
      },
      "text/plain": [
       "FloatProgress(value=0.0, bar_style='info', description='Progress:', layout=Layout(height='25px', width='50%'),…"
      ]
     },
     "metadata": {},
     "output_type": "display_data"
    }
   ],
   "source": [
    "# UPDATED!!! we use anti_join, since we dont have an unsubscribe timestamp, that means all users who ever unscrubscribed are removed from the data!\n",
    "#Table3.2 (considered_unsubscribed_df): Join Table3.1(considered_subscribed_df) and Table2C(IJM_unsubscription_df) \n",
    "#on User ID \n",
    "#subscribe the tables to be able to use sql to join them\n",
    "considered_subscribed_df.registerTempTable(\"considered_subscribed_df\")\n",
    "IJM_unsubscription_df.registerTempTable(\"IJM_unsubscription_df\")\n",
    "\n",
    "considered_unsubscribed_df = considered_subscribed_df.join(IJM_unsubscription_df, \"user_id\", \"left_anti\").\\\n",
    "    withColumn(\"sub_events\", F.when(F.col(\"sub_events\")>=1, F.lit(1)).otherwise(F.col(\"sub_events\"))).\\\n",
    "    select(\"user_id\", \"reg_date\", \"validated_account\", \"considered_date\", \"sub_events\")\n",
    "\n",
    "considered_unsubscribed_df = considered_unsubscribed_df.fillna({'sub_events':'0'})\n"
   ]
  },
  {
   "cell_type": "code",
   "execution_count": 15,
   "metadata": {},
   "outputs": [
    {
     "data": {
      "application/vnd.jupyter.widget-view+json": {
       "model_id": "d90ae3d5962f4c9f83df74e62aafc8b5",
       "version_major": 2,
       "version_minor": 0
      },
      "text/plain": [
       "VBox()"
      ]
     },
     "metadata": {},
     "output_type": "display_data"
    },
    {
     "data": {
      "application/vnd.jupyter.widget-view+json": {
       "model_id": "",
       "version_major": 2,
       "version_minor": 0
      },
      "text/plain": [
       "FloatProgress(value=0.0, bar_style='info', description='Progress:', layout=Layout(height='25px', width='50%'),…"
      ]
     },
     "metadata": {},
     "output_type": "display_data"
    }
   ],
   "source": [
    "# UPDATED!!!!\n",
    "#Table2D: IJM_autoactivate_df\n",
    "IJM_autoactivate_df = registrations_raw. \\\n",
    "    filter(F.col(\"logaction\").isin([\"IJM, autoactivate\"])). \\\n",
    "    select(\"user_id\", \"log_date\", \"n_events\").distinct()\n",
    "\n",
    "IJM_autoactivate_df = IJM_autoactivate_df.fillna({'n_events':'0'})\n",
    "\n",
    "#IJM_autoactivate_df.show(n=10)"
   ]
  },
  {
   "cell_type": "code",
   "execution_count": 16,
   "metadata": {},
   "outputs": [
    {
     "data": {
      "application/vnd.jupyter.widget-view+json": {
       "model_id": "eeaab24071e1422eaeabf4b6bbd5a12e",
       "version_major": 2,
       "version_minor": 0
      },
      "text/plain": [
       "VBox()"
      ]
     },
     "metadata": {},
     "output_type": "display_data"
    },
    {
     "data": {
      "application/vnd.jupyter.widget-view+json": {
       "model_id": "",
       "version_major": 2,
       "version_minor": 0
      },
      "text/plain": [
       "FloatProgress(value=0.0, bar_style='info', description='Progress:', layout=Layout(height='25px', width='50%'),…"
      ]
     },
     "metadata": {},
     "output_type": "display_data"
    }
   ],
   "source": [
    "# UPDATED!!!\n",
    "# Table3.3 (considered_autoactivated_df): Join Table3.2(considered_unsubscribed_df) and Table2D(IJM_autoactivate_df) \n",
    "# on User ID and considered_date = autoactivation date\n",
    "    \n",
    "#subscribe the tables to be able to use sql to join them\n",
    "considered_unsubscribed_df.registerTempTable(\"considered_unsubscribed_df\")\n",
    "IJM_autoactivate_df.registerTempTable(\"IJM_autoactivate_df\")\n",
    "\n",
    "considered_autoactivated_df = spark.sql(\"\"\"\n",
    "    select df1.user_id, reg_date, validated_account, considered_date, sub_events, n_events as autoactivated_events\n",
    "    from considered_unsubscribed_df as df1\n",
    "    left join IJM_autoactivate_df as df2\n",
    "    on df1.user_id = df2.user_id\n",
    "    and df1.considered_date = df2.log_date\"\"\")\n",
    "\n",
    "considered_autoactivated_df = considered_autoactivated_df.fillna({'autoactivated_events':'0'})"
   ]
  },
  {
   "cell_type": "code",
   "execution_count": 17,
   "metadata": {},
   "outputs": [
    {
     "data": {
      "application/vnd.jupyter.widget-view+json": {
       "model_id": "19c960ef665a4d4ebee4cef5bb79f870",
       "version_major": 2,
       "version_minor": 0
      },
      "text/plain": [
       "VBox()"
      ]
     },
     "metadata": {},
     "output_type": "display_data"
    },
    {
     "data": {
      "application/vnd.jupyter.widget-view+json": {
       "model_id": "",
       "version_major": 2,
       "version_minor": 0
      },
      "text/plain": [
       "FloatProgress(value=0.0, bar_style='info', description='Progress:', layout=Layout(height='25px', width='50%'),…"
      ]
     },
     "metadata": {},
     "output_type": "display_data"
    }
   ],
   "source": [
    "# UPDATED!!!\n",
    "#Table2E: IJM_autodeactivate_df\n",
    "IJM_autodeactivate_df = registrations_raw. \\\n",
    "    filter(F.col(\"logaction\").isin([\"IJM, autodeactivate\"])). \\\n",
    "    select(\"user_id\",\"log_date\", \"n_events\")\n",
    "\n",
    "IJM_autodeactivate_df = IJM_autodeactivate_df.fillna({'n_events':'0'})"
   ]
  },
  {
   "cell_type": "code",
   "execution_count": 18,
   "metadata": {},
   "outputs": [
    {
     "data": {
      "application/vnd.jupyter.widget-view+json": {
       "model_id": "c3129ace522a4b2c89d6907d29ca8d5b",
       "version_major": 2,
       "version_minor": 0
      },
      "text/plain": [
       "VBox()"
      ]
     },
     "metadata": {},
     "output_type": "display_data"
    },
    {
     "data": {
      "application/vnd.jupyter.widget-view+json": {
       "model_id": "",
       "version_major": 2,
       "version_minor": 0
      },
      "text/plain": [
       "FloatProgress(value=0.0, bar_style='info', description='Progress:', layout=Layout(height='25px', width='50%'),…"
      ]
     },
     "metadata": {},
     "output_type": "display_data"
    }
   ],
   "source": [
    "# UPDATED!!!\n",
    "# Table3.4 (considered_autodeactivated_df): Join Table3.3(considered_autoactivated_df) and Table2E(IJM_deautoactivate_df)\n",
    "# on User ID and considered_date = autodeactivate date\n",
    "# join type: left (please confirm)  \n",
    "    \n",
    "#subscribe the tables to be able to use sql to join them\n",
    "considered_autoactivated_df.registerTempTable(\"considered_autoactivated_df\")\n",
    "IJM_autodeactivate_df.registerTempTable(\"IJM_autodeactivate_df\")\n",
    "\n",
    "email_log_df = spark.sql(\"\"\"\n",
    "    select df1.user_id, reg_date, validated_account, considered_date, sub_events, autoactivated_events, n_events as autodeactivate_events\n",
    "    from considered_autoactivated_df as df1\n",
    "    left join IJM_autodeactivate_df as df2\n",
    "    on df1.user_id = df2.user_id\n",
    "    and df1.considered_date = df2.log_date\n",
    "\"\"\"\n",
    ")\n",
    "\n",
    "email_log_df = email_log_df.fillna({'autodeactivate_events':'0'})"
   ]
  },
  {
   "cell_type": "code",
   "execution_count": 19,
   "metadata": {},
   "outputs": [
    {
     "data": {
      "application/vnd.jupyter.widget-view+json": {
       "model_id": "9d0fa59322a2412fab171d83c62163be",
       "version_major": 2,
       "version_minor": 0
      },
      "text/plain": [
       "VBox()"
      ]
     },
     "metadata": {},
     "output_type": "display_data"
    },
    {
     "data": {
      "application/vnd.jupyter.widget-view+json": {
       "model_id": "",
       "version_major": 2,
       "version_minor": 0
      },
      "text/plain": [
       "FloatProgress(value=0.0, bar_style='info', description='Progress:', layout=Layout(height='25px', width='50%'),…"
      ]
     },
     "metadata": {},
     "output_type": "display_data"
    }
   ],
   "source": [
    "# UPDATED!!!\n",
    "#email_log_df: Add the cumulative sum of 'sub_sum'\n",
    "email_log_df = email_log_df.select(\"user_id\", \"reg_date\", \"considered_date\", \"validated_account\", \"sub_events\", \"autoactivated_events\", \"autodeactivate_events\"). \\\n",
    "    distinct(). \\\n",
    "    withColumn('sub_sum', F.sum(email_log_df.sub_events).over(Window.partitionBy('user_id'). \\\n",
    "        orderBy('considered_date').rowsBetween(-sys.maxsize, 0))) "
   ]
  },
  {
   "cell_type": "code",
   "execution_count": 20,
   "metadata": {},
   "outputs": [
    {
     "data": {
      "application/vnd.jupyter.widget-view+json": {
       "model_id": "21218ad14bd946a791a9dc179e921bf6",
       "version_major": 2,
       "version_minor": 0
      },
      "text/plain": [
       "VBox()"
      ]
     },
     "metadata": {},
     "output_type": "display_data"
    },
    {
     "data": {
      "application/vnd.jupyter.widget-view+json": {
       "model_id": "",
       "version_major": 2,
       "version_minor": 0
      },
      "text/plain": [
       "FloatProgress(value=0.0, bar_style='info', description='Progress:', layout=Layout(height='25px', width='50%'),…"
      ]
     },
     "metadata": {},
     "output_type": "display_data"
    }
   ],
   "source": [
    "# UPDATED!!!\n",
    "#email_log_df: Add the cumulative sum of 'autoactivated_sum'\n",
    "email_log_df = email_log_df.select(\"user_id\", \"reg_date\", \"considered_date\",\"validated_account\", \"sub_events\", \"autoactivated_events\", \"autodeactivate_events\", \"sub_sum\"). \\\n",
    "    distinct(). \\\n",
    "    withColumn('autoactivated_sum', F.sum(email_log_df.autoactivated_events).over(Window.partitionBy('user_id'). \\\n",
    "        orderBy('considered_date').rowsBetween(-sys.maxsize, 0)))"
   ]
  },
  {
   "cell_type": "code",
   "execution_count": 21,
   "metadata": {},
   "outputs": [
    {
     "data": {
      "application/vnd.jupyter.widget-view+json": {
       "model_id": "943ef48cface4ff9a5efca577a0828ca",
       "version_major": 2,
       "version_minor": 0
      },
      "text/plain": [
       "VBox()"
      ]
     },
     "metadata": {},
     "output_type": "display_data"
    },
    {
     "data": {
      "application/vnd.jupyter.widget-view+json": {
       "model_id": "",
       "version_major": 2,
       "version_minor": 0
      },
      "text/plain": [
       "FloatProgress(value=0.0, bar_style='info', description='Progress:', layout=Layout(height='25px', width='50%'),…"
      ]
     },
     "metadata": {},
     "output_type": "display_data"
    }
   ],
   "source": [
    "# UPDATED!!!\n",
    "#email_log_df: Add the cumulative sum of 'autodeactivate_sum'\n",
    "email_log_df = email_log_df.select(\"user_id\", \"reg_date\", \"considered_date\",\"validated_account\", \"sub_events\", \"autoactivated_events\", \"autodeactivate_events\", \"sub_sum\", \"autoactivated_sum\"). \\\n",
    "    distinct(). \\\n",
    "    withColumn('autodeactivate_sum', F.sum(email_log_df.autodeactivate_events).over(Window.partitionBy('user_id'). \\\n",
    "        orderBy('considered_date').rowsBetween(-sys.maxsize, 0)))\n",
    "\n",
    "#email_log_df.show(n=5)"
   ]
  },
  {
   "cell_type": "code",
   "execution_count": 22,
   "metadata": {},
   "outputs": [
    {
     "data": {
      "application/vnd.jupyter.widget-view+json": {
       "model_id": "62ea335572894c2c8ec9f57828f7e50a",
       "version_major": 2,
       "version_minor": 0
      },
      "text/plain": [
       "VBox()"
      ]
     },
     "metadata": {},
     "output_type": "display_data"
    },
    {
     "data": {
      "application/vnd.jupyter.widget-view+json": {
       "model_id": "",
       "version_major": 2,
       "version_minor": 0
      },
      "text/plain": [
       "FloatProgress(value=0.0, bar_style='info', description='Progress:', layout=Layout(height='25px', width='50%'),…"
      ]
     },
     "metadata": {},
     "output_type": "display_data"
    }
   ],
   "source": [
    "# UPDATED!!!\n",
    "email_log_df = email_log_df.withColumn(\"sub_state\", F.when(F.col(\"sub_sum\")>=1, F.lit(1)).otherwise(F.lit(0))).\\\n",
    "    withColumn('autoactivate_state', F.when((col(\"autoactivated_sum\")-col(\"autodeactivate_sum\")) <= 0,F.lit(0)).otherwise(F.lit(1)))"
   ]
  },
  {
   "cell_type": "code",
   "execution_count": 23,
   "metadata": {},
   "outputs": [
    {
     "data": {
      "application/vnd.jupyter.widget-view+json": {
       "model_id": "41641d0541b34f4f95398dd734ec1f54",
       "version_major": 2,
       "version_minor": 0
      },
      "text/plain": [
       "VBox()"
      ]
     },
     "metadata": {},
     "output_type": "display_data"
    },
    {
     "data": {
      "application/vnd.jupyter.widget-view+json": {
       "model_id": "",
       "version_major": 2,
       "version_minor": 0
      },
      "text/plain": [
       "FloatProgress(value=0.0, bar_style='info', description='Progress:', layout=Layout(height='25px', width='50%'),…"
      ]
     },
     "metadata": {},
     "output_type": "display_data"
    },
    {
     "name": "stdout",
     "output_type": "stream",
     "text": [
      "+---------------+-------------+------------------+-------------+--------------------------+-----------------------+\n",
      "|considered_date|registrations|validated_accounts|subscriptions|activated_subscriptions_v0|activated_subscriptions|\n",
      "+---------------+-------------+------------------+-------------+--------------------------+-----------------------+\n",
      "|     2020-01-01|         1260|               738|          519|                         0|                      0|\n",
      "|     2020-01-02|         4067|              2486|         1833|                         0|                      0|\n",
      "|     2020-01-03|         6823|              4361|         3262|                         0|                      0|\n",
      "|     2020-01-04|         9046|              5938|         4409|                         1|                      1|\n",
      "|     2020-01-05|        11652|              7686|         5669|                         1|                      1|\n",
      "|     2020-01-06|        15148|             10005|         7382|                         1|                      1|\n",
      "|     2020-01-07|        18647|             12438|         9255|                         2|                      2|\n",
      "|     2020-01-08|        22162|             14856|        11136|                         3|                      3|\n",
      "|     2020-01-09|        25116|             16927|        12785|                         3|                      3|\n",
      "|     2020-01-10|        27500|             18656|        14147|                         3|                      3|\n",
      "|     2020-01-11|        29362|             19995|        15177|                         3|                      3|\n",
      "|     2020-01-12|        32046|             21917|        16646|                         3|                      3|\n",
      "|     2020-01-13|        35488|             24349|        18630|                         3|                      3|\n",
      "|     2020-01-14|        39034|             26854|        20678|                         3|                      3|\n",
      "|     2020-01-15|        42314|             29130|        22490|                         3|                      3|\n",
      "|     2020-01-16|        45537|             31449|        24379|                         4|                      4|\n",
      "|     2020-01-17|        47992|             33158|        25775|                         4|                      4|\n",
      "|     2020-01-18|        49985|             34464|        26809|                         4|                      4|\n",
      "|     2020-01-19|        52432|             36127|        28146|                         4|                      4|\n",
      "|     2020-01-20|        55902|             38493|        30112|                         4|                      4|\n",
      "|     2020-01-21|        59226|             40782|        32086|                         5|                      5|\n",
      "|     2020-01-22|        62533|             43017|        33933|                         5|                      5|\n",
      "|     2020-01-23|        65713|             45159|        35657|                         6|                      6|\n",
      "|     2020-01-24|        68133|             46862|        37033|                         6|                      6|\n",
      "|     2020-01-25|        69994|             48107|        37996|                         6|                      6|\n",
      "|     2020-01-26|        72506|             49838|        39328|                         6|                      6|\n",
      "|     2020-01-27|        76073|             52233|        41245|                         7|                      7|\n",
      "|     2020-01-28|        79680|             54716|        43281|                         7|                      7|\n",
      "|     2020-01-29|        82901|             56942|        45129|                         7|                      7|\n",
      "|     2020-01-30|        85942|             59064|        46875|                         7|                      7|\n",
      "|     2020-01-31|        88243|             60707|        48202|                         7|                      7|\n",
      "|     2020-02-01|        90133|             62064|        49291|                         8|                      8|\n",
      "|     2020-02-02|        92756|             63876|        50719|                        46|                      8|\n",
      "|     2020-02-03|        96244|             66295|        52726|                       191|                      8|\n",
      "|     2020-02-04|        99635|             68752|        54754|                       365|                      9|\n",
      "|     2020-02-05|       103295|             71348|        56928|                       524|                      9|\n",
      "|     2020-02-06|       106242|             73475|        58703|                       686|                     10|\n",
      "|     2020-02-07|       108652|             75206|        60105|                       927|                     10|\n",
      "|     2020-02-08|       110455|             76491|        61065|                      1163|                     11|\n",
      "|     2020-02-09|       112823|             78164|        62339|                      1453|                     11|\n",
      "|     2020-02-10|       116053|             80431|        64213|                      1717|                     11|\n",
      "|     2020-02-11|       119675|             83013|        66384|                      1958|                     13|\n",
      "|     2020-02-12|       123009|             85396|        68421|                      2161|                     13|\n",
      "|     2020-02-13|       126981|             87746|        70408|                      2426|                     14|\n",
      "|     2020-02-14|       129633|             89354|        71718|                      2825|                     15|\n",
      "|     2020-02-15|       131753|             90612|        72695|                      3226|                     15|\n",
      "|     2020-02-16|       134650|             92321|        74046|                      3619|                     18|\n",
      "|     2020-02-17|       138713|             94724|        76040|                      4044|                     18|\n",
      "|     2020-02-18|       142753|             97068|        77984|                      4478|                     22|\n",
      "|     2020-02-19|       146518|             99386|        79941|                      4792|                     24|\n",
      "|     2020-02-20|       149985|            101479|        81680|                      5157|                     25|\n",
      "|     2020-02-21|       152631|            103049|        82987|                      5685|                     26|\n",
      "|     2020-02-22|       154590|            104280|        83975|                      6268|                     30|\n",
      "|     2020-02-23|       157360|            105949|        85300|                      6922|                     30|\n",
      "|     2020-02-24|       160904|            108105|        87088|                      7924|                     31|\n",
      "|     2020-02-25|       164798|            110371|        89046|                      8988|                     31|\n",
      "|     2020-02-26|       168569|            112575|        90903|                      9554|                     34|\n",
      "|     2020-02-27|       171843|            114576|        92591|                     10258|                     34|\n",
      "|     2020-02-28|       174364|            116176|        93892|                     11286|                     37|\n",
      "|     2020-02-29|       176464|            117429|        94928|                     12498|                     39|\n",
      "|     2020-03-01|       179411|            119176|        96378|                     13829|                     42|\n",
      "|     2020-03-02|       183424|            121473|        98302|                     15366|                     45|\n",
      "|     2020-03-03|       187735|            123927|       100403|                     16965|                     51|\n",
      "|     2020-03-04|       192097|            126404|       102538|                     18493|                     58|\n",
      "|     2020-03-05|       196142|            128731|       104504|                     20568|                     68|\n",
      "|     2020-03-06|       199266|            130509|       106009|                     26992|                     73|\n",
      "|     2020-03-07|       201570|            131775|       107029|                     30888|                     76|\n",
      "|     2020-03-08|       204394|            133387|       108376|                     32369|                     85|\n",
      "|     2020-03-09|       208559|            135751|       110422|                     33647|                     95|\n",
      "|     2020-03-10|       212940|            138158|       112560|                     34705|                    112|\n",
      "|     2020-03-11|       216616|            140339|       114473|                     35485|                    119|\n",
      "|     2020-03-12|       219749|            142166|       116079|                     36338|                    135|\n",
      "|     2020-03-13|       221762|            143397|       117136|                     37603|                    140|\n",
      "|     2020-03-14|       223254|            144271|       117858|                     39041|                    151|\n",
      "|     2020-03-15|       224919|            145280|       118704|                     40434|                    157|\n",
      "|     2020-03-16|       227014|            146453|       119742|                     41857|                    162|\n",
      "|     2020-03-17|       229147|            147672|       120794|                     42848|                    167|\n",
      "|     2020-03-18|       231289|            148912|       121864|                     43666|                    176|\n",
      "|     2020-03-19|       233413|            150159|       122973|                     44687|                    181|\n",
      "|     2020-03-20|       235020|            151117|       123808|                     46048|                    184|\n",
      "|     2020-03-21|       236545|            152046|       124521|                     47484|                    192|\n",
      "|     2020-03-22|       238129|            152970|       125287|                     48969|                    199|\n",
      "|     2020-03-23|       240625|            154418|       126545|                     50264|                    205|\n",
      "|     2020-03-24|       243182|            155821|       127732|                     51368|                    222|\n",
      "|     2020-03-25|       245883|            157301|       128972|                     52198|                    233|\n",
      "|     2020-03-26|       248527|            158740|       130208|                     53220|                    244|\n",
      "|     2020-03-27|       250747|            160029|       131326|                     54490|                    257|\n",
      "|     2020-03-28|       252544|            161050|       132201|                     55931|                    263|\n",
      "|     2020-03-29|       254790|            162285|       133246|                     57395|                    273|\n",
      "|     2020-03-30|       257909|            164008|       134805|                     58737|                    280|\n",
      "|     2020-03-31|       260766|            165565|       136207|                     59817|                    294|\n",
      "|     2020-04-01|       264614|            167432|       137978|                     60663|                    305|\n",
      "|     2020-04-02|       269048|            169367|       139853|                     61687|                    315|\n",
      "|     2020-04-03|       272464|            171032|       141443|                     63097|                    329|\n",
      "|     2020-04-04|       274819|            172181|       142530|                     64609|                    340|\n",
      "|     2020-04-05|       277439|            173470|       143711|                     66125|                    347|\n",
      "|     2020-04-06|       281465|            175300|       145498|                     67583|                    358|\n",
      "|     2020-04-07|       285425|            177156|       147296|                     68749|                    376|\n",
      "|     2020-04-08|       289168|            178991|       149030|                     69628|                    387|\n",
      "|     2020-04-09|       292202|            180495|       150448|                     70594|                    397|\n",
      "+---------------+-------------+------------------+-------------+--------------------------+-----------------------+\n",
      "only showing top 100 rows"
     ]
    }
   ],
   "source": [
    "email_log_df.groupBy(\"considered_date\").\\\n",
    "    agg(F.countDistinct(\"user_id\").alias(\"registrations\"),\n",
    "        F.countDistinct(F.when(F.col(\"validated_account\") >=1, F.col(\"user_id\"))).alias(\"validated_accounts\"),\n",
    "        F.countDistinct(F.when(F.col(\"sub_state\") >=1, F.col(\"user_id\"))).alias(\"subscriptions\"),\n",
    "        F.countDistinct(F.when(F.col(\"autoactivated_sum\") >=1, F.col(\"user_id\"))).alias(\"activated_subscriptions_v0\"),\n",
    "        F.countDistinct(F.when(F.col(\"autoactivate_state\") >=1, F.col(\"user_id\"))).alias(\"activated_subscriptions\")).\\\n",
    "    sort(\"considered_date\").show(100)"
   ]
  }
 ],
 "metadata": {
  "kernelspec": {
   "display_name": "PySpark",
   "language": "",
   "name": "pysparkkernel"
  },
  "language_info": {
   "codemirror_mode": {
    "name": "python",
    "version": 2
   },
   "mimetype": "text/x-python",
   "name": "pyspark",
   "pygments_lexer": "python2"
  }
 },
 "nbformat": 4,
 "nbformat_minor": 4
}
